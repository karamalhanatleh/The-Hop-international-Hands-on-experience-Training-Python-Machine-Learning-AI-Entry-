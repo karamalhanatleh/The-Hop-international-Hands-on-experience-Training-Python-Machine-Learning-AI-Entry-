{
 "cells": [
  {
   "cell_type": "markdown",
   "metadata": {},
   "source": [
    "# Task 1 "
   ]
  },
  {
   "cell_type": "markdown",
   "metadata": {},
   "source": [
    "## Karam Alhanatleh"
   ]
  },
  {
   "cell_type": "code",
   "execution_count": null,
   "metadata": {
    "id": "5avOcsu2vo8h"
   },
   "outputs": [],
   "source": [
    "# Question 1 :\n",
    "\n",
    "# Write Python code that will do the following : \n",
    "\n",
    "# 1- Loop on numbers from -20 to 20\n",
    "\n",
    "# 2- Print -in one line- the numbers that is positive and even\n",
    "\n",
    "# 3- Print -in one line- the numbers that is negative and odd\n"
   ]
  },
  {
   "cell_type": "markdown",
   "metadata": {},
   "source": [
    "  "
   ]
  },
  {
   "cell_type": "code",
   "execution_count": 37,
   "metadata": {
    "collapsed": true
   },
   "outputs": [
    {
     "name": "stdout",
     "output_type": "stream",
     "text": [
      "-20\n",
      "-19\n",
      "-18\n",
      "-17\n",
      "-16\n",
      "-15\n",
      "-14\n",
      "-13\n",
      "-12\n",
      "-11\n",
      "-10\n",
      "-9\n",
      "-8\n",
      "-7\n",
      "-6\n",
      "-5\n",
      "-4\n",
      "-3\n",
      "-2\n",
      "-1\n",
      "0\n",
      "1\n",
      "2\n",
      "3\n",
      "4\n",
      "5\n",
      "6\n",
      "7\n",
      "8\n",
      "9\n",
      "10\n",
      "11\n",
      "12\n",
      "13\n",
      "14\n",
      "15\n",
      "16\n",
      "17\n",
      "18\n",
      "19\n",
      "20\n"
     ]
    }
   ],
   "source": [
    "#Q1 - 1\n",
    "#Loop on numbers from -20 to 20\n",
    "\n",
    "#list range -20 to 20\n",
    "numbers = list(range(-20,21))\n",
    "\n",
    "for i in numbers:\n",
    "    print(i)"
   ]
  },
  {
   "cell_type": "code",
   "execution_count": 40,
   "metadata": {},
   "outputs": [
    {
     "name": "stdout",
     "output_type": "stream",
     "text": [
      "2 4 6 8 10 12 14 16 18 20 "
     ]
    }
   ],
   "source": [
    "#Q1 - 2\n",
    "# Print -in one line- the numbers that is positive and even\n",
    "\n",
    "#for loop to print number positive and even\n",
    "for i in numbers:\n",
    "    if i>0:   # check number positive\n",
    "        if i%2 == 0: # check number even \n",
    "            print(i,end=\" \")"
   ]
  },
  {
   "cell_type": "code",
   "execution_count": 41,
   "metadata": {
    "id": "KYd5K3JBCaX8"
   },
   "outputs": [
    {
     "name": "stdout",
     "output_type": "stream",
     "text": [
      "-19 -17 -15 -13 -11 -9 -7 -5 -3 -1 "
     ]
    }
   ],
   "source": [
    "#Q1 - 3\n",
    "# Print -in one line- the numbers that is negative and odd\n",
    "\n",
    "\n",
    "#for loop to print number negative and odd \n",
    "for i in numbers:\n",
    "    if i<0:  # check number negative\n",
    "        if i%2 != 0:    # check number odd\n",
    "            print(i,end=\" \")\n"
   ]
  },
  {
   "cell_type": "markdown",
   "metadata": {},
   "source": [
    "   "
   ]
  },
  {
   "cell_type": "markdown",
   "metadata": {},
   "source": [
    "<hr>"
   ]
  },
  {
   "cell_type": "markdown",
   "metadata": {},
   "source": [
    " "
   ]
  },
  {
   "cell_type": "code",
   "execution_count": null,
   "metadata": {
    "id": "G-uV5Q0XvWWC"
   },
   "outputs": [],
   "source": [
    "# Question 2 :\n",
    "\n",
    "# Write Python code the will output the following\n",
    "\n",
    "\n",
    "# $$\n",
    "# $$$$\n",
    "# $$$$$$\n",
    "# $$$$$$$$\n",
    "# $$$$$$$$$$"
   ]
  },
  {
   "cell_type": "code",
   "execution_count": 42,
   "metadata": {
    "scrolled": true
   },
   "outputs": [
    {
     "name": "stdout",
     "output_type": "stream",
     "text": [
      "$$\n",
      "$$$$\n",
      "$$$$$$\n",
      "$$$$$$$$\n",
      "$$$$$$$$$$\n"
     ]
    }
   ],
   "source": [
    "for i in range(2,12,2):\n",
    "    print(\"$\"*i)"
   ]
  },
  {
   "cell_type": "code",
   "execution_count": null,
   "metadata": {
    "id": "T7_XMnuauhmE"
   },
   "outputs": [],
   "source": [
    "# Question 3 :\n",
    "\n",
    "# Write Python code the will output the following\n",
    "\n",
    "# $$$$$$$$$\n",
    "# $$$$$$$\n",
    "# $$$$$\n",
    "# $$$\n",
    "# $"
   ]
  },
  {
   "cell_type": "code",
   "execution_count": 47,
   "metadata": {},
   "outputs": [
    {
     "name": "stdout",
     "output_type": "stream",
     "text": [
      "$$$$$$$$$\n",
      "$$$$$$$\n",
      "$$$$$\n",
      "$$$\n",
      "$\n"
     ]
    }
   ],
   "source": [
    "for i in range(9,0,-2):\n",
    "    print(\"$\"*i)\n"
   ]
  },
  {
   "cell_type": "code",
   "execution_count": null,
   "metadata": {
    "id": "WzAoE6erut0i"
   },
   "outputs": [],
   "source": []
  },
  {
   "cell_type": "code",
   "execution_count": null,
   "metadata": {},
   "outputs": [],
   "source": []
  }
 ],
 "metadata": {
  "colab": {
   "provenance": []
  },
  "kernelspec": {
   "display_name": "Python 3 (ipykernel)",
   "language": "python",
   "name": "python3"
  },
  "language_info": {
   "codemirror_mode": {
    "name": "ipython",
    "version": 3
   },
   "file_extension": ".py",
   "mimetype": "text/x-python",
   "name": "python",
   "nbconvert_exporter": "python",
   "pygments_lexer": "ipython3",
   "version": "3.9.13"
  }
 },
 "nbformat": 4,
 "nbformat_minor": 1
}

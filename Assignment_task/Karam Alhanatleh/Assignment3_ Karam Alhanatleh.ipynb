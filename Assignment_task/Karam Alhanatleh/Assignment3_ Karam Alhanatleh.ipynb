{
 "cells": [
  {
   "cell_type": "markdown",
   "metadata": {},
   "source": [
    "# Karam ALhanatleh"
   ]
  },
  {
   "cell_type": "markdown",
   "metadata": {
    "id": "ilDwmeL07zip"
   },
   "source": [
    "# Assignment 3"
   ]
  },
  {
   "cell_type": "raw",
   "metadata": {
    "id": "1bORl55K7bP9"
   },
   "source": [
    "dic_output = {\n",
    "\n",
    "    \"MaxValue\": {\n",
    "        \"student_name\": \"\",\n",
    "        \"value\": \"\"\n",
    "    },\n",
    "    \"MaxAvg\": {\n",
    "        \"student_name\": \"\",\n",
    "        \"value\": \"\"\n",
    "    },\n",
    "\n",
    "    \"MinValue\": {\n",
    "        \"student_name\": \"\",\n",
    "        \"value\": \"\"\n",
    "    },\n",
    "    \"MinAvg\": {\n",
    "        \"student_name\": \"\",\n",
    "        \"value\": \"\"\n",
    "    },\n",
    "\n",
    "    \"standard_deviation\": \"\",\n",
    "    \"Q1\": \"\",\n",
    "    \"Q2\": \"\",\n",
    "    \"Q3\": \"\",\n",
    "    \"IQR\": \"\"\n",
    "    \"most_freq_value\": \"\"\n",
    "\n",
    "}"
   ]
  },
  {
   "cell_type": "markdown",
   "metadata": {
    "id": "B6qg9Tmt7kLa"
   },
   "source": [
    "1. Read data.txt file\n",
    "2. Save data in dictionary where the key  is the student name and value as list of marks\n",
    "3. Don’t use built-in functions e.g. sum(), max(), min(), avg(), sort().\n",
    "4. Use math function pow() , sqrt()  \n",
    "5. Use functions to organize your code\n",
    "6. Use exceptions handling\n",
    "7. Create output dictionary file that contain the following info :  \n",
    "    7.1. maximum average with student name\n",
    "    7.2. Maximum mark with student name\n",
    "    7.3. Minimum average with student name\n",
    "    7.4. Minimum mark with student name\n",
    "    7.5. Standard deviation \n",
    "    7.6. Q1,Q2,Q3 , IQR\n",
    "    7.7. Most frequent mark \n",
    "8. Export the output dictionary as JSON file \n",
    "\n"
   ]
  },
  {
   "cell_type": "code",
   "execution_count": 5,
   "metadata": {},
   "outputs": [],
   "source": [
    "#import\n",
    "import math\n",
    "import json"
   ]
  },
  {
   "cell_type": "code",
   "execution_count": 6,
   "metadata": {},
   "outputs": [],
   "source": [
    "\n",
    "def read_file(name_file):\n",
    "    data_dict={}\n",
    "    with open(name_file, 'r') as file:\n",
    "        for lin in file:\n",
    "            f = lin.strip().split(',')\n",
    "            name=f[0]\n",
    "            marks=[]\n",
    "            for x in f[1:]:\n",
    "                marks.append(int(x))\n",
    "            data_dict[name] = marks\n",
    "    return data_dict"
   ]
  },
  {
   "cell_type": "code",
   "execution_count": 7,
   "metadata": {},
   "outputs": [
    {
     "data": {
      "text/plain": [
       "{'Ahmad': [78, 99, 88, 89, 60],\n",
       " 'Tareq': [90, 80, 95, 77, 76],\n",
       " 'Mahmoud': [90, 96, 99, 98, 100],\n",
       " 'Khaled': [50, 65, 77, 55, 87],\n",
       " 'Saba': [88, 90, 94, 77, 87]}"
      ]
     },
     "execution_count": 7,
     "metadata": {},
     "output_type": "execute_result"
    }
   ],
   "source": [
    "read_file(\"data.txt\")"
   ]
  },
  {
   "cell_type": "code",
   "execution_count": null,
   "metadata": {},
   "outputs": [],
   "source": []
  },
  {
   "cell_type": "code",
   "execution_count": null,
   "metadata": {},
   "outputs": [],
   "source": []
  },
  {
   "cell_type": "code",
   "execution_count": 8,
   "metadata": {},
   "outputs": [],
   "source": [
    "\n",
    "def calculate_statistics(data_dict):\n",
    "    # Calculate basic statistics\n",
    "    max_avg = -1\n",
    "    max_avg_name = ''\n",
    "    min_avg = math.inf\n",
    "    min_avg_name = ''\n",
    "    max_val = -1\n",
    "    max_val_name = ''\n",
    "    min_val = math.inf\n",
    "    min_val_name = ''\n",
    "    total_sum = 0\n",
    "    total_count = 0\n",
    "    freq_dict = {}\n",
    "    for name, marks in data_dict.items():\n",
    "        count = len(marks)\n",
    "        total_count =total_count+ count\n",
    "        sum_marks=sum(marks)\n",
    "        total_sum = total_sum + sum_marks\n",
    "        avg = sum_marks/count\n",
    "        if avg > max_avg:\n",
    "            max_avg = avg\n",
    "            max_avg_name = name\n",
    "        if avg < min_avg:\n",
    "            min_avg = avg\n",
    "            min_avg_name = name\n",
    "        if max(marks) > max_val:\n",
    "            max_val = max(marks)\n",
    "            max_val_name = name\n",
    "        if min(marks) < min_val:\n",
    "            min_val = min(marks)\n",
    "            min_val_name = name\n",
    "        for mark in marks:\n",
    "            if mark in freq_dict:\n",
    "                freq_dict[mark] += 1\n",
    "            else:\n",
    "                freq_dict[mark] = 1\n",
    "    \n",
    "    #   Std\n",
    "    mean = total_sum/total_count\n",
    "    sum_of_squares = 0\n",
    "    for name, marks in data_dict.items():\n",
    "        for mark in marks:\n",
    "            sum_of_squares += pow((mark - mean), 2)\n",
    "    std_dev = math.sqrt(sum_of_squares/total_count)\n",
    "    \n",
    "    # quartiles \n",
    "    sorted_marks=[]\n",
    "    for marks in data_dict.values():\n",
    "        for m in marks:\n",
    "            sorted_marks.append(m)\n",
    "    sorted_marks.sort()   \n",
    "    \n",
    "    num_marks = len(sorted_marks)\n",
    "    q1 = sorted_marks[num_marks//4]\n",
    "    q2 = sorted_marks[num_marks//2]\n",
    "    q3 = sorted_marks[3*num_marks//4]\n",
    "    iqr = q3 - q1\n",
    "    \n",
    "    # Create output dictionary\n",
    "    output_dict = {\n",
    "        \"MaxValue\": {\n",
    "            \"student_name\": max_val_name,\n",
    "            \"value\": max_val\n",
    "        },\n",
    "        \"MaxAvg\": {\n",
    "            \"student_name\": max_avg_name,\n",
    "            \"value\": max_avg\n",
    "        },\n",
    "        \"MinValue\": {\n",
    "            \"student_name\": min_val_name,\n",
    "            \"value\": min_val\n",
    "        },\n",
    "        \"MinAvg\": {\n",
    "            \"student_name\": min_avg_name,\n",
    "            \"value\": min_avg\n",
    "        },\n",
    "        \"standard_deviation\": std_dev,\n",
    "        \"Q1\": q1,\n",
    "        \"Q2\": q2,\n",
    "        \"Q3\": q3,\n",
    "        \"IQR\": iqr,\n",
    "        \"most_freq_value\": max(freq_dict, key=freq_dict.get)\n",
    "    }\n",
    "    return output_dict\n",
    "\n"
   ]
  },
  {
   "cell_type": "code",
   "execution_count": 9,
   "metadata": {},
   "outputs": [],
   "source": [
    "def save_output_file(output_dict, file_path):\n",
    "    with open(file_path, 'w') as file:\n",
    "        json.dump(output_dict, file)\n",
    "try:\n",
    "    data_dict = read_file('data.txt')\n",
    "    output_dict = calculate_statistics(data_dict)\n",
    "    save_output_file(output_dict, 'output.json')\n",
    "except Exception as e:\n",
    "    print('An error occurred:', e)"
   ]
  },
  {
   "cell_type": "code",
   "execution_count": 10,
   "metadata": {},
   "outputs": [],
   "source": [
    "import pandas as pd\n",
    "df=pd.DataFrame(output_dict)\n"
   ]
  },
  {
   "cell_type": "code",
   "execution_count": 11,
   "metadata": {},
   "outputs": [
    {
     "data": {
      "text/html": [
       "<div>\n",
       "<style scoped>\n",
       "    .dataframe tbody tr th:only-of-type {\n",
       "        vertical-align: middle;\n",
       "    }\n",
       "\n",
       "    .dataframe tbody tr th {\n",
       "        vertical-align: top;\n",
       "    }\n",
       "\n",
       "    .dataframe thead th {\n",
       "        text-align: right;\n",
       "    }\n",
       "</style>\n",
       "<table border=\"1\" class=\"dataframe\">\n",
       "  <thead>\n",
       "    <tr style=\"text-align: right;\">\n",
       "      <th></th>\n",
       "      <th>MaxValue</th>\n",
       "      <th>MaxAvg</th>\n",
       "      <th>MinValue</th>\n",
       "      <th>MinAvg</th>\n",
       "      <th>standard_deviation</th>\n",
       "      <th>Q1</th>\n",
       "      <th>Q2</th>\n",
       "      <th>Q3</th>\n",
       "      <th>IQR</th>\n",
       "      <th>most_freq_value</th>\n",
       "    </tr>\n",
       "  </thead>\n",
       "  <tbody>\n",
       "    <tr>\n",
       "      <th>student_name</th>\n",
       "      <td>Mahmoud</td>\n",
       "      <td>Mahmoud</td>\n",
       "      <td>Khaled</td>\n",
       "      <td>Khaled</td>\n",
       "      <td>13.620573</td>\n",
       "      <td>77</td>\n",
       "      <td>88</td>\n",
       "      <td>94</td>\n",
       "      <td>17</td>\n",
       "      <td>90</td>\n",
       "    </tr>\n",
       "    <tr>\n",
       "      <th>value</th>\n",
       "      <td>100</td>\n",
       "      <td>96.6</td>\n",
       "      <td>50</td>\n",
       "      <td>66.8</td>\n",
       "      <td>13.620573</td>\n",
       "      <td>77</td>\n",
       "      <td>88</td>\n",
       "      <td>94</td>\n",
       "      <td>17</td>\n",
       "      <td>90</td>\n",
       "    </tr>\n",
       "  </tbody>\n",
       "</table>\n",
       "</div>"
      ],
      "text/plain": [
       "             MaxValue   MaxAvg MinValue  MinAvg  standard_deviation  Q1  Q2  \\\n",
       "student_name  Mahmoud  Mahmoud   Khaled  Khaled           13.620573  77  88   \n",
       "value             100     96.6       50    66.8           13.620573  77  88   \n",
       "\n",
       "              Q3  IQR  most_freq_value  \n",
       "student_name  94   17               90  \n",
       "value         94   17               90  "
      ]
     },
     "execution_count": 11,
     "metadata": {},
     "output_type": "execute_result"
    }
   ],
   "source": [
    "df.head()"
   ]
  },
  {
   "cell_type": "code",
   "execution_count": null,
   "metadata": {},
   "outputs": [],
   "source": []
  },
  {
   "cell_type": "code",
   "execution_count": 8,
   "metadata": {},
   "outputs": [
    {
     "data": {
      "text/plain": [
       "{'MaxValue': {'student_name': 'Mahmoud', 'value': 100},\n",
       " 'MaxAvg': {'student_name': 'Mahmoud', 'value': 96.6},\n",
       " 'MinValue': {'student_name': 'Khaled', 'value': 50},\n",
       " 'MinAvg': {'student_name': 'Khaled', 'value': 66.8},\n",
       " 'standard_deviation': 13.620572675185135,\n",
       " 'Q1': 77,\n",
       " 'Q2': 88,\n",
       " 'Q3': 94,\n",
       " 'IQR': 17,\n",
       " 'most_freq_value': 90}"
      ]
     },
     "execution_count": 8,
     "metadata": {},
     "output_type": "execute_result"
    }
   ],
   "source": [
    "output_dict"
   ]
  },
  {
   "cell_type": "code",
   "execution_count": null,
   "metadata": {},
   "outputs": [],
   "source": []
  }
 ],
 "metadata": {
  "colab": {
   "provenance": []
  },
  "kernelspec": {
   "display_name": "Python 3 (ipykernel)",
   "language": "python",
   "name": "python3"
  },
  "language_info": {
   "codemirror_mode": {
    "name": "ipython",
    "version": 3
   },
   "file_extension": ".py",
   "mimetype": "text/x-python",
   "name": "python",
   "nbconvert_exporter": "python",
   "pygments_lexer": "ipython3",
   "version": "3.9.13"
  }
 },
 "nbformat": 4,
 "nbformat_minor": 1
}

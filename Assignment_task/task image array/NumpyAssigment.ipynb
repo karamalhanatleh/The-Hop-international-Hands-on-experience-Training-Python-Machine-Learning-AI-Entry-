{
 "cells": [
  {
   "cell_type": "markdown",
   "metadata": {
    "id": "qRDcFcsQ-8Q0"
   },
   "source": [
    "Givien the following two ndarrays \n",
    "\n",
    "Where represents the Red and Green images\n",
    "\n",
    "Try to create an images as the given in the directory \n",
    "\n",
    "note : all output array shape should be as the shape of given arrays (1000,1000,\n",
    "3)\n",
    ", use needed libraries to reach the results"
   ]
  },
  {
   "cell_type": "code",
   "execution_count": null,
   "metadata": {
    "id": "Xds1VWUA-77L"
   },
   "outputs": [],
   "source": [
    "import numpy as np"
   ]
  },
  {
   "cell_type": "code",
   "execution_count": null,
   "metadata": {
    "id": "GdxGnTq2-4cA"
   },
   "outputs": [],
   "source": [
    "shape = (1000, 1000, 3)"
   ]
  },
  {
   "cell_type": "code",
   "execution_count": null,
   "metadata": {
    "id": "lD35FZgS_ukJ"
   },
   "outputs": [],
   "source": [
    "# Red images \n",
    "\n",
    "red_arr = np.zeros(shape, dtype=np.uint8)\n",
    "red_arr[:, :, :] = [255, 0, 0]"
   ]
  },
  {
   "cell_type": "code",
   "execution_count": null,
   "metadata": {
    "id": "-nqCD3zp_0UF"
   },
   "outputs": [],
   "source": [
    "# Green images\n",
    "\n",
    "green_arr = np.zeros(shape, dtype=np.uint8)\n",
    "green_arr[:, :, :] = [0, 255, 0]"
   ]
  },
  {
   "cell_type": "code",
   "execution_count": null,
   "metadata": {
    "id": "byCySucU_3tX"
   },
   "outputs": [],
   "source": [
    "# output 1\n",
    "\n",
    "\n"
   ]
  },
  {
   "cell_type": "code",
   "execution_count": null,
   "metadata": {
    "id": "QFRKUbaSAKx0"
   },
   "outputs": [],
   "source": [
    "# output 2"
   ]
  },
  {
   "cell_type": "code",
   "execution_count": null,
   "metadata": {
    "id": "ucdu-6PFAKvy"
   },
   "outputs": [],
   "source": [
    "# output 3"
   ]
  },
  {
   "cell_type": "code",
   "execution_count": null,
   "metadata": {
    "id": "WUFwoTmIAKt6"
   },
   "outputs": [],
   "source": [
    "# output 4"
   ]
  },
  {
   "cell_type": "code",
   "execution_count": null,
   "metadata": {
    "id": "5jAnCDm4AKrx"
   },
   "outputs": [],
   "source": [
    "# output 5"
   ]
  },
  {
   "cell_type": "code",
   "execution_count": null,
   "metadata": {
    "id": "f25Ny-PlANCH"
   },
   "outputs": [],
   "source": [
    "# output 6 "
   ]
  }
 ],
 "metadata": {
  "colab": {
   "authorship_tag": "ABX9TyNxJHzLE6bowIneVh0uCwCz",
   "provenance": []
  },
  "kernelspec": {
   "display_name": "Python 3 (ipykernel)",
   "language": "python",
   "name": "python3"
  },
  "language_info": {
   "codemirror_mode": {
    "name": "ipython",
    "version": 3
   },
   "file_extension": ".py",
   "mimetype": "text/x-python",
   "name": "python",
   "nbconvert_exporter": "python",
   "pygments_lexer": "ipython3",
   "version": "3.9.13"
  }
 },
 "nbformat": 4,
 "nbformat_minor": 1
}

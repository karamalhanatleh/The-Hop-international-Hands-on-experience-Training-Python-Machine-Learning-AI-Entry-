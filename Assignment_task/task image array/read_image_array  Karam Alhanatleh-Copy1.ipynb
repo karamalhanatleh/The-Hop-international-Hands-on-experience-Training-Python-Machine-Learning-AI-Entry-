{
 "cells": [
  {
   "cell_type": "markdown",
   "id": "f581c21a",
   "metadata": {},
   "source": [
    "# Karam Alhanatleh"
   ]
  },
  {
   "cell_type": "markdown",
   "id": "d5cc8c4c",
   "metadata": {},
   "source": [
    "# read_image_array"
   ]
  },
  {
   "cell_type": "code",
   "execution_count": 2,
   "id": "7fbee58f",
   "metadata": {},
   "outputs": [],
   "source": [
    "#import\n",
    "import matplotlib.pyplot as plt\n",
    "import numpy as np\n",
    "from PIL import Image\n"
   ]
  },
  {
   "cell_type": "code",
   "execution_count": null,
   "id": "90283658",
   "metadata": {},
   "outputs": [],
   "source": []
  },
  {
   "cell_type": "code",
   "execution_count": 3,
   "id": "cc7f2939",
   "metadata": {},
   "outputs": [],
   "source": [
    "shape = (1000, 1000, 3)"
   ]
  },
  {
   "cell_type": "code",
   "execution_count": 4,
   "id": "40f78c43",
   "metadata": {},
   "outputs": [],
   "source": [
    "## output 1\n",
    "\n",
    "# Define the red and green images\n",
    "import numpy as np\n",
    "red = np.zeros(shape, dtype=np.uint8)\n",
    "red[:, :, 0] = 255  # set red channel to 255\n",
    "\n",
    "green = np.zeros(shape, dtype=np.uint8)\n",
    "green[:, :, 1] = 255  # set green channel to 255\n",
    "\n",
    "#  combined image by stacking \n",
    "combined = np.vstack((red, green))\n",
    "\n",
    "# Save the combined image to a file\n",
    "Image.fromarray(combined).save('output/output__1.png')"
   ]
  },
  {
   "cell_type": "code",
   "execution_count": null,
   "id": "8ca543e2",
   "metadata": {},
   "outputs": [],
   "source": []
  },
  {
   "cell_type": "code",
   "execution_count": 7,
   "id": "45480de9",
   "metadata": {},
   "outputs": [],
   "source": [
    "## output 2\n",
    "\n",
    "# Define the red and green images\n",
    "red = np.zeros(shape, dtype=np.uint8)\n",
    "red[:, :, 0] = 255  # set red channel to 255\n",
    "\n",
    "green = np.zeros(shape, dtype=np.uint8)\n",
    "green[:, :, 1] = 255  # set green channel to 255\n",
    "\n",
    "#  combined image by stacking \n",
    "combined = np.hstack((red, green))\n",
    "\n",
    "# Save\n",
    "Image.fromarray(combined).save('output/output__2.png')"
   ]
  },
  {
   "cell_type": "code",
   "execution_count": null,
   "id": "8853207f",
   "metadata": {},
   "outputs": [],
   "source": []
  },
  {
   "cell_type": "code",
   "execution_count": 14,
   "id": "d0011bb9",
   "metadata": {},
   "outputs": [],
   "source": [
    "## output 3\n",
    "\n",
    "# Define the red and green images\n",
    "red = np.zeros(shape, dtype=np.uint8)\n",
    "red[:, :, 0] = 255  # set red channel to 255\n",
    "\n",
    "green = np.zeros(shape, dtype=np.uint8)\n",
    "green[:, :, 1] = 255  # set green channel to 255\n",
    "\n",
    "#  combined image by hstack  \n",
    "combined = np.hstack((red, green))\n",
    "combined_2 = np.hstack((green, red))\n",
    "\n",
    "#  combined  2 image  by vstack  \n",
    "\n",
    "combined_all = np.vstack((combined,combined_2))\n",
    "\n",
    "# Save \n",
    "Image.fromarray(combined_all).save('output/output__3.png')"
   ]
  },
  {
   "cell_type": "code",
   "execution_count": null,
   "id": "f9a1d6dc",
   "metadata": {},
   "outputs": [],
   "source": []
  },
  {
   "cell_type": "code",
   "execution_count": 8,
   "id": "696b8004",
   "metadata": {},
   "outputs": [],
   "source": [
    "## output 4\n",
    "\n",
    "#  red and green images\n",
    "red = np.zeros(shape, dtype=np.uint8)\n",
    "red[:, :, 0] = 255  # set red  to 255\n",
    "\n",
    "green = np.zeros(shape, dtype=np.uint8)\n",
    "green[:, :, 1] = 255  # set green  to 255\n",
    "\n",
    "#   combined image by vstack\n",
    "combined = np.vstack((red, green)*5)\n",
    "\n",
    "# Save\n",
    "Image.fromarray(combined).save('output/output__4.png')"
   ]
  },
  {
   "cell_type": "code",
   "execution_count": null,
   "id": "927d2a6c",
   "metadata": {},
   "outputs": [],
   "source": []
  },
  {
   "cell_type": "code",
   "execution_count": 16,
   "id": "afc7a0c2",
   "metadata": {},
   "outputs": [],
   "source": [
    "## output 5\n",
    "\n",
    "#  red and green images\n",
    "\n",
    "red = np.zeros(shape, dtype=np.uint8)\n",
    "red[:, :, 0] = 255  # set red  to 255\n",
    "\n",
    "green = np.zeros(shape, dtype=np.uint8)\n",
    "green[:, :, 1] = 255  # set green  to 255\n",
    "\n",
    "#  the combined image by hstack\n",
    "combined = np.hstack((red, green)*5)\n",
    "\n",
    "# Save \n",
    "Image.fromarray(combined).save('output/output__5.png')"
   ]
  },
  {
   "cell_type": "code",
   "execution_count": 9,
   "id": "9ec0b8f1",
   "metadata": {},
   "outputs": [],
   "source": [
    "## output 6\n",
    "\n",
    "\n",
    "# Create an empty image\n",
    "img = np.zeros(shape , dtype=np.uint8)\n",
    "\n",
    "#  colors for the red and green squares\n",
    "red_color = np.array([255, 0, 0], dtype=np.uint8)\n",
    "green_color = np.array([0, 255, 0], dtype=np.uint8)\n",
    "\n",
    "# Loop in square in the image\n",
    "#If it is even, the pixel is set to the red color, and if it is odd, it is set to the green color\n",
    "for i in range(shape[0]):\n",
    "    for j in range(shape[1]):\n",
    "        if (i // 100 + j // 100) % 2 == 0:\n",
    "            img[i, j] = red_color\n",
    "        else:\n",
    "            img[i, j] = green_color\n",
    "\n",
    "# Save the image to a file\n",
    "Image.fromarray(img).save('output/output__6.png')\n"
   ]
  },
  {
   "cell_type": "code",
   "execution_count": null,
   "id": "f4f5581c",
   "metadata": {},
   "outputs": [],
   "source": []
  },
  {
   "cell_type": "code",
   "execution_count": null,
   "id": "41a5ce5b",
   "metadata": {},
   "outputs": [],
   "source": []
  }
 ],
 "metadata": {
  "kernelspec": {
   "display_name": "Python 3 (ipykernel)",
   "language": "python",
   "name": "python3"
  },
  "language_info": {
   "codemirror_mode": {
    "name": "ipython",
    "version": 3
   },
   "file_extension": ".py",
   "mimetype": "text/x-python",
   "name": "python",
   "nbconvert_exporter": "python",
   "pygments_lexer": "ipython3",
   "version": "3.9.13"
  }
 },
 "nbformat": 4,
 "nbformat_minor": 5
}

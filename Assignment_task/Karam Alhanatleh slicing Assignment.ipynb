{
 "cells": [
  {
   "cell_type": "markdown",
   "metadata": {},
   "source": [
    "# Karam ALhanatleh"
   ]
  },
  {
   "cell_type": "markdown",
   "metadata": {
    "id": "O2nqmYlZyBSA"
   },
   "source": [
    "# slicing Assignment"
   ]
  },
  {
   "cell_type": "markdown",
   "metadata": {
    "id": "LKQYe0CGvNB3"
   },
   "source": [
    "# If you have the list that contains paths of image files\n"
   ]
  },
  {
   "cell_type": "code",
   "execution_count": 1,
   "metadata": {
    "id": "ShfXH031sheP"
   },
   "outputs": [],
   "source": [
    "# list of imag\n",
    "list_paths = [\"C:/user/documnets/images/python/5.jpeg\", \n",
    "        \"C:/user/documnets/images/python/33.png\",\n",
    "        \"C:/user/documnets/images/python/3.jpeg\", \n",
    "        \"C:/user/documnets/images/python/48.png\", \n",
    "        \"C:/user/documnets/images/python/53.jpeg\", \n",
    "        \"C:/user/documnets/images/python/61.jpeg\", \n",
    "        \"C:/user/documnets/images/python/6.png\", \n",
    "        \"C:/user/documnets/images/python/74.jpeg\", \n",
    "        \"C:/user/documnets/images/python/8.jpeg\", \n",
    "        \"C:/user/documnets/images/python/19.jpeg\"]\n"
   ]
  },
  {
   "cell_type": "markdown",
   "metadata": {
    "id": "WMahNw7AvQSZ"
   },
   "source": [
    "# Q1- Select first five paths from a list"
   ]
  },
  {
   "cell_type": "code",
   "execution_count": null,
   "metadata": {
    "id": "1gwdCAwjveRI"
   },
   "outputs": [],
   "source": [
    "# Q1 solution :\n",
    "list_paths[:5]"
   ]
  },
  {
   "cell_type": "markdown",
   "metadata": {
    "id": "YSrVmrsKvfE_"
   },
   "source": [
    "#Q2- Select last 3 paths from the list"
   ]
  },
  {
   "cell_type": "code",
   "execution_count": null,
   "metadata": {
    "id": "QZ7x8g3Bvfim"
   },
   "outputs": [],
   "source": [
    "# Q2 solution : \n",
    "list_paths[-3:]"
   ]
  },
  {
   "cell_type": "markdown",
   "metadata": {
    "id": "PIq4Vb2zviDP"
   },
   "source": [
    "#Q3- Select the third path in a list and split it on '/'"
   ]
  },
  {
   "cell_type": "code",
   "execution_count": null,
   "metadata": {
    "id": "HxVZuwQZvgSP"
   },
   "outputs": [],
   "source": [
    "# Q3 solution :\n",
    "list_paths[3].split(\"/\")"
   ]
  },
  {
   "cell_type": "markdown",
   "metadata": {
    "id": "l1r9sarNvigU"
   },
   "source": [
    "#Q4- In one line write a Python code to:\n",
    "\n",
    "1.  access to folder name 'images'\n",
    "2.  acess to file extension 'jpeg' or 'png'\n"
   ]
  },
  {
   "cell_type": "code",
   "execution_count": null,
   "metadata": {
    "id": "SXYG0l4SvgXd"
   },
   "outputs": [],
   "source": [
    "# Q4.1 solution : \n",
    "images_folder = [p for p in list_paths if '/images/' in p]\n",
    "images_folder"
   ]
  },
  {
   "cell_type": "code",
   "execution_count": null,
   "metadata": {
    "id": "2Z3ajsswxkIP"
   },
   "outputs": [],
   "source": [
    "# Q4.2 solution :\n",
    "list_paths[0].split(\"/\")[-1].split('.')[1]"
   ]
  },
  {
   "cell_type": "markdown",
   "metadata": {
    "id": "vDpRv7oqvjXG"
   },
   "source": [
    "#Q5- If you have two lists, loop on all paths in a list and add \"jpeg\" images in the first list and \"png\" images in the second list"
   ]
  },
  {
   "cell_type": "code",
   "execution_count": null,
   "metadata": {
    "id": "0SZur5NSvgaH"
   },
   "outputs": [],
   "source": [
    "# Q5 solution : \n",
    "list_jpeg=[]\n",
    "list_png=[]\n",
    "\n",
    "for img in list_paths:\n",
    "    if img[-3:]==\"png\":\n",
    "        list_pnggg.append(img)\n",
    "    if img[-4]==\"jpng\":\n",
    "        list_jpeggg.append(img)"
   ]
  },
  {
   "cell_type": "code",
   "execution_count": null,
   "metadata": {},
   "outputs": [],
   "source": []
  },
  {
   "cell_type": "markdown",
   "metadata": {
    "id": "3YTU_sMOz9rW"
   },
   "source": [
    "**Challenge your self 🤩**"
   ]
  },
  {
   "cell_type": "markdown",
   "metadata": {
    "id": "ioGyoT9evj5b"
   },
   "source": [
    "# Q6- Create a new list that contains all images paths but in ascending order regardless of image type \n",
    "\n",
    "☕ **Take into consideration that the names of the images are a numbers**"
   ]
  },
  {
   "cell_type": "code",
   "execution_count": 2,
   "metadata": {
    "id": "sYV71wZlvgck"
   },
   "outputs": [
    {
     "name": "stdout",
     "output_type": "stream",
     "text": [
      "[('C:/user/documnets/images/python/3.jpeg', 3), ('C:/user/documnets/images/python/5.jpeg', 5), ('C:/user/documnets/images/python/6.png', 6), ('C:/user/documnets/images/python/8.jpeg', 8), ('C:/user/documnets/images/python/19.jpeg', 19), ('C:/user/documnets/images/python/33.png', 33), ('C:/user/documnets/images/python/48.png', 48), ('C:/user/documnets/images/python/53.jpeg', 53), ('C:/user/documnets/images/python/61.jpeg', 61), ('C:/user/documnets/images/python/74.jpeg', 74)]\n"
     ]
    }
   ],
   "source": [
    "# Q6 solution: \n",
    "sorted_paths={}\n",
    "for i in range(len(list_paths)):\n",
    "    sorted_paths[list_paths[i]]= int(list_paths[i].split(\"/\")[-1].split(\".\")[0])\n",
    "    \n",
    "    \n",
    "print(sorted(sorted_paths.items(), key=lambda kv:\n",
    "             (kv[1])))"
   ]
  },
  {
   "cell_type": "code",
   "execution_count": null,
   "metadata": {
    "id": "FsJD5WaMvgfe"
   },
   "outputs": [],
   "source": []
  },
  {
   "cell_type": "code",
   "execution_count": null,
   "metadata": {},
   "outputs": [],
   "source": []
  },
  {
   "cell_type": "code",
   "execution_count": null,
   "metadata": {},
   "outputs": [],
   "source": []
  },
  {
   "cell_type": "code",
   "execution_count": null,
   "metadata": {},
   "outputs": [],
   "source": []
  },
  {
   "cell_type": "code",
   "execution_count": null,
   "metadata": {},
   "outputs": [],
   "source": []
  },
  {
   "cell_type": "code",
   "execution_count": null,
   "metadata": {},
   "outputs": [],
   "source": []
  },
  {
   "cell_type": "code",
   "execution_count": null,
   "metadata": {},
   "outputs": [],
   "source": []
  }
 ],
 "metadata": {
  "colab": {
   "authorship_tag": "ABX9TyNeIuynsI1VZr6U37OkXu2g",
   "provenance": []
  },
  "kernelspec": {
   "display_name": "Python 3 (ipykernel)",
   "language": "python",
   "name": "python3"
  },
  "language_info": {
   "codemirror_mode": {
    "name": "ipython",
    "version": 3
   },
   "file_extension": ".py",
   "mimetype": "text/x-python",
   "name": "python",
   "nbconvert_exporter": "python",
   "pygments_lexer": "ipython3",
   "version": "3.9.13"
  }
 },
 "nbformat": 4,
 "nbformat_minor": 1
}

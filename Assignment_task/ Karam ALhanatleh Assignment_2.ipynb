{
 "cells": [
  {
   "cell_type": "markdown",
   "metadata": {},
   "source": [
    "# Karam ALhanatleh"
   ]
  },
  {
   "cell_type": "code",
   "execution_count": 19,
   "metadata": {
    "id": "EZy13tt1TrX0"
   },
   "outputs": [
    {
     "data": {
      "text/plain": [
       "7"
      ]
     },
     "execution_count": 19,
     "metadata": {},
     "output_type": "execute_result"
    }
   ],
   "source": [
    "# Question 1 : \n",
    "# print number of ocurences for \"A\" character\n",
    "s = \"AAAVVDDEGAFASDFAA\" \n",
    "s.count(\"A\")"
   ]
  },
  {
   "cell_type": "code",
   "execution_count": 20,
   "metadata": {
    "id": "Q4BqwLx7jRPz"
   },
   "outputs": [
    {
     "data": {
      "text/plain": [
       "'C:/Folder1/Folder2/data.csv'"
      ]
     },
     "execution_count": 20,
     "metadata": {},
     "output_type": "execute_result"
    }
   ],
   "source": [
    "# Question 2 : \n",
    "# If you have a csv file in the following source path\n",
    "src = \"C:/Folder1/Folder2/Folder3/data.csv\"\n",
    "\n",
    "dst = \"C:/Folder1/Folder2/\"\n",
    "# and you want to move data.csv file from Folder3 to Folder2\n",
    "# create a destination path where the new path for csv file become to \"C:/Folder1/Folder2/data.csv\"\n",
    "# dst = ??\n",
    "path=src.split('/')[:-2]\n",
    "fi_name=src.split('/')[-1]\n",
    "dst=\"/\".join(path)+'/'+fi_name\n",
    "dst"
   ]
  },
  {
   "cell_type": "code",
   "execution_count": 21,
   "metadata": {},
   "outputs": [
    {
     "data": {
      "text/plain": [
       "'C:/Folder1/Folder2/data.csv'"
      ]
     },
     "execution_count": 21,
     "metadata": {},
     "output_type": "execute_result"
    }
   ],
   "source": [
    "#  another solution\n",
    "def dis_file(dirc):\n",
    "    path=dirc.split('/')[:-2]\n",
    "    fi_name=dirc.split('/')[-1]\n",
    "    dst=\"/\".join(path)+'/'+fi_name\n",
    "    return dst\n",
    "dis_file(src)"
   ]
  },
  {
   "cell_type": "code",
   "execution_count": null,
   "metadata": {},
   "outputs": [],
   "source": []
  },
  {
   "cell_type": "code",
   "execution_count": 22,
   "metadata": {
    "id": "W-0OVUivqDXE"
   },
   "outputs": [
    {
     "data": {
      "text/plain": [
       "\"\\nnew_paragraph = re.sub(r'[0-9]|\\n|\\\\s ', '', paragraph)\\nlen_word={}\\nfor w in new_paragraph.split(' '):\\n    if len(w)>1:\\n        print(w, '\\tlength\\t:',len(w))\\n        len_word[w]=len(w)\\n        \""
      ]
     },
     "execution_count": 22,
     "metadata": {},
     "output_type": "execute_result"
    }
   ],
   "source": [
    "# Question 3 :\n",
    "# If you have the following paragraph \n",
    "# 1- Find the longest word and it's length\n",
    "# 2- Remove/Clean all numbers \n",
    "import re\n",
    "paragraph = \"\"\"Ronaldo still has one more year left to run on the contract\n",
    "               he signed with United in August 2021 and there is an option for that deal to be extended by a further 12 months.\n",
    "               The 37 year old has not taken part in any form of pre season training with United this \n",
    "               summer due to personal reasons Jul 18, 2022\"\"\"\n",
    "\"\"\"\n",
    "new_paragraph = re.sub(r'[0-9]|\\n|\\s ', '', paragraph)\n",
    "len_word={}\n",
    "for w in new_paragraph.split(' '):\n",
    "    if len(w)>1:\n",
    "        print(w, '\\tlength\\t:',len(w))\n",
    "        len_word[w]=len(w)\n",
    "        \"\"\""
   ]
  },
  {
   "cell_type": "code",
   "execution_count": null,
   "metadata": {},
   "outputs": [],
   "source": []
  },
  {
   "cell_type": "code",
   "execution_count": null,
   "metadata": {},
   "outputs": [],
   "source": []
  },
  {
   "cell_type": "code",
   "execution_count": 24,
   "metadata": {
    "id": "rbZ7htsExZg6"
   },
   "outputs": [],
   "source": [
    "# Question 4\n",
    "# if you have the following list \n",
    "nums = [1,2,4,5,5,5,7,5,7,4,2,4]\n",
    "\n",
    "# 1- Remove redundant numbers in list without using set()\n",
    "new_num=[]\n",
    "for n in nums:\n",
    "    if n not in new_num:\n",
    "        new_num.append(n)\n",
    "        \n",
    "# 2- Remove redundant numbers in-place ( modify on nums list )\n",
    "for num in nums:\n",
    "    while nums.count(num) > 1:\n",
    "        nums.remove(num)"
   ]
  },
  {
   "cell_type": "code",
   "execution_count": null,
   "metadata": {},
   "outputs": [],
   "source": []
  },
  {
   "cell_type": "code",
   "execution_count": null,
   "metadata": {},
   "outputs": [],
   "source": []
  },
  {
   "cell_type": "code",
   "execution_count": 51,
   "metadata": {
    "id": "h5IjSRAMCX1J"
   },
   "outputs": [
    {
     "name": "stdout",
     "output_type": "stream",
     "text": [
      "[1, 5, 6, 8]\n"
     ]
    }
   ],
   "source": [
    "# Question 5 \n",
    "# If you have the following two lists \n",
    "l1 = [1,1,3,5,6,7,8,9,9]\n",
    "l2 = [1,2,4,5,6,8]\n",
    "\n",
    "# print out set of intersected items\n",
    "# output : [1,5,6,8]\n",
    "output = set(l1) & set(l2)\n",
    "print(sorted(output))"
   ]
  },
  {
   "cell_type": "code",
   "execution_count": null,
   "metadata": {},
   "outputs": [],
   "source": []
  },
  {
   "cell_type": "code",
   "execution_count": 26,
   "metadata": {
    "id": "OblBObGwI8Vi"
   },
   "outputs": [],
   "source": [
    "# Question 6\n",
    "# If you have the following list\n",
    "\n",
    "L = ['A', ['BB', ['CCC', 'DDD'], 'EE', (\"IIII\", \"JJJJ\", (\"KKKKK\", \"LLLLL\")), 'FF'], 'G', 'H']\n",
    "\n",
    "# Write python code to extract the following items from list\n",
    "\n",
    "# 1- BB\n",
    "l1=L[1][0]\n",
    "\n",
    "# 2- G\n",
    "l2 = L[-2]\n",
    "\n",
    "# 3- CCC\n",
    "l3=L[1][1][0]\n",
    "\n",
    "# 4- ['CCC', 'DDD']\n",
    "l4=L[1][1]\n",
    "\n",
    "# 5- IIII\n",
    "l5=L[1][3][0]\n",
    "\n",
    "# 6- LLLLL\n",
    "l6=L[1][3][2][1]\n",
    "\n",
    "\n",
    "# 7- (\"IIII\", \"JJJJ\", (\"KKKKK\", \"LLLLL\"))\n",
    "l7=L[1][3]\n",
    "\n",
    "\n",
    "# 8- ['CCC', 'DDD'], 'EE'\n",
    "l8=L[1][1:3]\n",
    "\n",
    "\n",
    "# 9- [['CCC', 'DDD'], (\"IIII\", \"JJJJ\", (\"KKKKK\", \"LLLLL\"))]\n",
    "l9=L[1][1:-1]\n"
   ]
  },
  {
   "cell_type": "code",
   "execution_count": null,
   "metadata": {
    "id": "OmKrGb_yKFAB"
   },
   "outputs": [],
   "source": []
  },
  {
   "cell_type": "code",
   "execution_count": null,
   "metadata": {},
   "outputs": [],
   "source": []
  },
  {
   "cell_type": "code",
   "execution_count": 41,
   "metadata": {
    "id": "SoficaD8-IN4"
   },
   "outputs": [],
   "source": [
    "# Question 7\n",
    "\n",
    "# If you have the following list\n",
    "\n",
    "# Write python code to to extract the following items from list\n",
    "\n",
    "\n",
    "\n",
    "\n",
    "listData = [\n",
    "\n",
    "    {\"A\": [\n",
    "        {\"1\": \"a\"},\n",
    "        {\"2\": \"aa\"},\n",
    "        {\"3\": \"aaa\"},\n",
    "        {\"3\": \"aaaa\"}\n",
    "    ]\n",
    "    },\n",
    "\n",
    "    {\"B\": [\n",
    "        {\"1\": \"b\"},\n",
    "        {\"2\": \"bb\"},\n",
    "        {\"3\": \"bbb\"},\n",
    "        {\"4\": \"bbbb\"}\n",
    "    ]\n",
    "    }\n",
    "\n",
    "    ,\n",
    "\n",
    "    {\"C\": [\n",
    "        {\"1\": \"c\"},\n",
    "        {\"2\": \"cc\"},\n",
    "        {\"3\": \"ccc\"},\n",
    "        {\"4\": \"cccc\"}\n",
    "    ]\n",
    "    },\n",
    "    {\"info\": {\n",
    "        \"country\": \"Jordan\",\n",
    "        \"city\": \"Amman\",\n",
    "        \"phoneNo\": [\n",
    "            \"+962111111111\",\n",
    "            \"02123456\",\n",
    "            \"12343456\"\n",
    "        ],\n",
    "\n",
    "        \"address\": {\n",
    "            \"address1\": \"Jordan-Amman-str1\",\n",
    "            \"address2\": \"Jordan-Irbid-str5\"\n",
    "        }}\n",
    "\n",
    "    }\n",
    "\n",
    "]\n"
   ]
  },
  {
   "cell_type": "code",
   "execution_count": null,
   "metadata": {},
   "outputs": [],
   "source": []
  },
  {
   "cell_type": "code",
   "execution_count": null,
   "metadata": {},
   "outputs": [],
   "source": []
  },
  {
   "cell_type": "code",
   "execution_count": 49,
   "metadata": {},
   "outputs": [
    {
     "name": "stdout",
     "output_type": "stream",
     "text": [
      "[['A'], ['B'], ['C']]\n",
      "\n",
      "dict_values(['bbbb'])\n",
      "\n",
      "[{'1': 'c'}, {'2': 'cc'}, {'3': 'ccc'}]\n",
      "\n",
      "Amman\n",
      "\n",
      "12343456\n",
      "\n",
      "['+962111111111', '02123456']\n",
      "\n",
      "Jordan-Irbid-str5\n",
      "\n"
     ]
    }
   ],
   "source": [
    "# 1- ['A', 'B', 'C']\n",
    "q7_1=[]\n",
    "for i in range(3):\n",
    "    q7_1.append(list(listData[i].keys()))\n",
    "\n",
    "    \n",
    "# 2- 'bbbb'\n",
    "q7_2 =list(listData[1].values())[0][-1].values()\n",
    "\n",
    "# 3- [{'1': 'c'}, {'2': 'cc'}, {'3': 'ccc'}]\n",
    "q7_3=[]\n",
    "for i in range(3):\n",
    "    q7_3.append(listData[2][\"C\"][i])\n",
    "                                \n",
    "                                \n",
    "                                \n",
    "# 4- 'Amman'\n",
    "q7_4=list(listData[3].values())[0]['city']\n",
    "\n",
    "\n",
    "# 5- '12343456'\n",
    "q7_5=list(listData[3].values())[0]['phoneNo'][-1]\n",
    "\n",
    "\n",
    "# 6- ['+962111111111', '02123456']\n",
    "q7_6=list(listData[3].values())[0]['phoneNo'][:-1]\n",
    "\n",
    "# 7- 'Jordan-Irbid-str5'\n",
    "q7_7=list(listData[3].values())[0]['address']['address2']\n",
    "\n",
    "print(q7_1,end=\"\\n\\n\")\n",
    "print(q7_2,end=\"\\n\\n\")\n",
    "print(q7_3,end=\"\\n\\n\")\n",
    "print(q7_4,end=\"\\n\\n\")\n",
    "print(q7_5,end=\"\\n\\n\")\n",
    "print(q7_6,end=\"\\n\\n\")\n",
    "print(q7_7,end=\"\\n\\n\")\n"
   ]
  },
  {
   "cell_type": "code",
   "execution_count": null,
   "metadata": {},
   "outputs": [],
   "source": []
  },
  {
   "cell_type": "code",
   "execution_count": null,
   "metadata": {},
   "outputs": [],
   "source": []
  },
  {
   "cell_type": "code",
   "execution_count": 37,
   "metadata": {
    "id": "jP1ZWnghLzIF"
   },
   "outputs": [],
   "source": [
    "# Question 8\n",
    "# for the following dictionary : \n",
    "\n",
    "\n",
    "# Extract the following info : \n",
    "\n",
    "\n",
    "dictPatientsData = {\n",
    "  \"timelines\": [\n",
    "    {\n",
    "      \"date\": \"2022-08-07T00:00:00\",\n",
    "      \"doctorName\": \"Dr Mahmoud\",\n",
    "      \"doctorId\": 101034,\n",
    "      \"encounterNumber\": 10443,\n",
    "      \"doctorImage\": \"medical-icon-registration\",\n",
    "      \"projectID\": 70,\n",
    "      \"projectName\": \"WebEMR UAT Hospital\",\n",
    "      \"clinicId\": 1,\n",
    "      \"clinicName\": \"INTERNAL MEDICINE CLINIC\",\n",
    "      \"timeLineEvents\": [\n",
    "        {\n",
    "          \"eventId\": 1,\n",
    "          \"iconClass\": \"fa fa-lg fa-stethoscope\",\n",
    "          \"colorClass\": \"bg-green\",\n",
    "          \"toolTip\": \"OPD Consultation detail\",\n",
    "          \"isDisabled\": False,\n",
    "          \"consulations\": [\n",
    "            {\n",
    "              \"dispalyName\": \"Episode\",\n",
    "              \"doctorID\": 101034,\n",
    "              \"patientID\": 123456,\n",
    "              \"doctorName\": \"Dr Mahmoud Hammouri\",\n",
    "              \"appointmentNo\": 10443,\n",
    "              \"episodeID\": 220011080,\n",
    "              \"admissionNo\": 0,\n",
    "              \"appointmentDate\": \"2022-08-07T00:00:00\",\n",
    "              \"episodeDate\": \"2022-08-07T00:00:00\"\n",
    "            }\n",
    "          ]\n",
    "        }\n",
    "      ]\n",
    "    },\n",
    "    {\n",
    "      \"date\": \"2022-07-31T00:00:00\",\n",
    "      \"doctorName\": \"Dr Mahmoud\",\n",
    "      \"doctorId\": 101044,\n",
    "      \"encounterNumber\": 10424,\n",
    "      \"doctorImage\": \"medical-icon-registration\",\n",
    "      \"projectID\": 70,\n",
    "      \"projectName\": \"WebEMR UAT Hospital\",\n",
    "      \"clinicId\": 31,\n",
    "      \"clinicName\": \"PSYCHIATRY\",\n",
    "      \"timeLineEvents\": [\n",
    "        {\n",
    "          \"eventId\": 1,\n",
    "          \"iconClass\": \"fa fa-lg fa-stethoscope\",\n",
    "          \"colorClass\": \"bg-green\",\n",
    "          \"toolTip\": \"OPD Consultation detail\",\n",
    "          \"isDisabled\": False,\n",
    "          \"consulations\": [\n",
    "            {\n",
    "              \"dispalyName\": \"Episode\",\n",
    "              \"doctorID\": 101044,\n",
    "              \"patientID\": 123456,\n",
    "              \"doctorName\": \"Dr Mahmoud\",\n",
    "              \"appointmentNo\": 10424,\n",
    "              \"episodeID\": 220011072,\n",
    "              \"admissionNo\": 0,\n",
    "              \"appointmentDate\": \"2022-07-31T00:00:00\",\n",
    "              \"episodeDate\": \"2022-07-31T00:00:00\"\n",
    "            }\n",
    "          ]\n",
    "        }\n",
    "      ]\n",
    "    },\n",
    "    {\n",
    "      \"date\": \"2022-07-28T00:00:00\",\n",
    "      \"doctorName\": \"Dr Bahaa\",\n",
    "      \"doctorId\": 101044,\n",
    "      \"encounterNumber\": 10423,\n",
    "      \"doctorImage\": \"medical-icon-registration\",\n",
    "      \"projectID\": 70,\n",
    "      \"projectName\": \"WebEMR UAT Hospital\",\n",
    "      \"clinicId\": 31,\n",
    "      \"clinicName\": \"PSYCHIATRY\",\n",
    "      \"timeLineEvents\": [\n",
    "        {\n",
    "          \"eventId\": 1,\n",
    "          \"iconClass\": \"fa fa-lg fa-stethoscope\",\n",
    "          \"colorClass\": \"bg-green\",\n",
    "          \"toolTip\": \"OPD Consultation detail\",\n",
    "          \"isDisabled\": False,\n",
    "          \"consulations\": [\n",
    "            {\n",
    "              \"dispalyName\": \"Episode\",\n",
    "              \"doctorID\": 101044,\n",
    "              \"patientID\": 123456,\n",
    "              \"doctorName\": \"Dr Bahaa\",\n",
    "              \"appointmentNo\": 10423,\n",
    "              \"episodeID\": 220011072,\n",
    "              \"admissionNo\": 0,\n",
    "              \"appointmentDate\": \"2022-07-28T00:00:00\",\n",
    "              \"episodeDate\": \"2022-07-28T00:00:00\"\n",
    "            }\n",
    "          ]\n",
    "        }\n",
    "      ]\n",
    "    },\n",
    "    {\n",
    "      \"date\": \"2022-06-02T00:00:00\",\n",
    "      \"doctorName\": \"Dr Mahmoud\",\n",
    "      \"doctorId\": 101034,\n",
    "      \"encounterNumber\": 10057,\n",
    "      \"doctorImage\": \"medical-icon-registration\",\n",
    "      \"projectID\": 70,\n",
    "      \"projectName\": \"WebEMR UAT Hospital\",\n",
    "      \"clinicId\": 1,\n",
    "      \"clinicName\": \"INTERNAL MEDICINE CLINIC\",\n",
    "      \"timeLineEvents\": [\n",
    "        {\n",
    "          \"eventId\": 1,\n",
    "          \"iconClass\": \"fa fa-lg fa-stethoscope\",\n",
    "          \"colorClass\": \"bg-green\",\n",
    "          \"toolTip\": \"OPD Consultation detail\",\n",
    "          \"isDisabled\": False,\n",
    "          \"consulations\": [\n",
    "            {\n",
    "              \"dispalyName\": \"Episode\",\n",
    "              \"doctorID\": 101034,\n",
    "              \"patientID\": 123456,\n",
    "              \"doctorName\": \"Dr Mahmoud\",\n",
    "              \"appointmentNo\": 10057,\n",
    "              \"episodeID\": 220011057,\n",
    "              \"admissionNo\": 0,\n",
    "              \"appointmentDate\": \"2022-06-02T00:00:00\",\n",
    "              \"episodeDate\": \"2022-06-02T00:00:00\"\n",
    "            }\n",
    "          ]\n",
    "        }\n",
    "      ]\n",
    "    }\n",
    "  ]\n",
    "}\n",
    "\n",
    "# 8.1 \n",
    "# ['date', 'doctorName', 'doctorId', 'encounterNumber', 'doctorImage']\n",
    "\n",
    "q8_1=list(dictPatientsData['timelines'][0])[:5]\n",
    "\n",
    "# 8.2\n",
    "# Dr Mahmoud Hammouri\n",
    "q8_2=dictPatientsData['timelines'][0]['timeLineEvents'][0]['consulations'][0]['doctorName']\n"
   ]
  },
  {
   "cell_type": "code",
   "execution_count": null,
   "metadata": {
    "id": "cv7Bw1_sL8Sv"
   },
   "outputs": [],
   "source": []
  },
  {
   "cell_type": "code",
   "execution_count": null,
   "metadata": {},
   "outputs": [],
   "source": []
  },
  {
   "cell_type": "code",
   "execution_count": null,
   "metadata": {},
   "outputs": [],
   "source": []
  }
 ],
 "metadata": {
  "colab": {
   "provenance": []
  },
  "kernelspec": {
   "display_name": "Python 3 (ipykernel)",
   "language": "python",
   "name": "python3"
  },
  "language_info": {
   "codemirror_mode": {
    "name": "ipython",
    "version": 3
   },
   "file_extension": ".py",
   "mimetype": "text/x-python",
   "name": "python",
   "nbconvert_exporter": "python",
   "pygments_lexer": "ipython3",
   "version": "3.9.13"
  }
 },
 "nbformat": 4,
 "nbformat_minor": 1
}

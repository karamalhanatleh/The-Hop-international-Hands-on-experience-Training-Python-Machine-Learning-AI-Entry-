{
 "cells": [
  {
   "cell_type": "code",
   "execution_count": null,
   "id": "032fc3a4",
   "metadata": {},
   "outputs": [],
   "source": []
  },
  {
   "cell_type": "code",
   "execution_count": 1,
   "id": "f7f874f7",
   "metadata": {},
   "outputs": [
    {
     "data": {
      "text/plain": [
       "[1, 2, 3, 4, 5, 6, 7, 8, 9, 10]"
      ]
     },
     "execution_count": 1,
     "metadata": {},
     "output_type": "execute_result"
    }
   ],
   "source": [
    "num=[i for i in range(1,11)]\n",
    "num"
   ]
  },
  {
   "cell_type": "code",
   "execution_count": 2,
   "id": "240876e6",
   "metadata": {},
   "outputs": [],
   "source": [
    "num.append('11')"
   ]
  },
  {
   "cell_type": "code",
   "execution_count": 3,
   "id": "99019955",
   "metadata": {},
   "outputs": [
    {
     "data": {
      "text/plain": [
       "[1, 2, 3, 4, 5, 6, 7, 8, 9, 10, '11']"
      ]
     },
     "execution_count": 3,
     "metadata": {},
     "output_type": "execute_result"
    }
   ],
   "source": [
    "num"
   ]
  },
  {
   "cell_type": "code",
   "execution_count": 4,
   "id": "262f9201",
   "metadata": {},
   "outputs": [],
   "source": [
    "num[10]=11"
   ]
  },
  {
   "cell_type": "code",
   "execution_count": 5,
   "id": "8ed655fc",
   "metadata": {},
   "outputs": [
    {
     "data": {
      "text/plain": [
       "[1, 2, 3, 4, 5, 6, 7, 8, 9, 10, 11]"
      ]
     },
     "execution_count": 5,
     "metadata": {},
     "output_type": "execute_result"
    }
   ],
   "source": [
    "num"
   ]
  },
  {
   "cell_type": "code",
   "execution_count": 8,
   "id": "e6a613c7",
   "metadata": {},
   "outputs": [],
   "source": [
    "num[:3]=['1','2','3']"
   ]
  },
  {
   "cell_type": "code",
   "execution_count": 9,
   "id": "46a2722f",
   "metadata": {},
   "outputs": [
    {
     "data": {
      "text/plain": [
       "['1', '2', '3', 4, 5, 6, 7, 8, 9, 10, 11]"
      ]
     },
     "execution_count": 9,
     "metadata": {},
     "output_type": "execute_result"
    }
   ],
   "source": [
    "num"
   ]
  },
  {
   "cell_type": "code",
   "execution_count": 12,
   "id": "de7e74d7",
   "metadata": {},
   "outputs": [],
   "source": [
    "nums=list(range(1,12))"
   ]
  },
  {
   "cell_type": "code",
   "execution_count": 14,
   "id": "d4aecc99",
   "metadata": {},
   "outputs": [],
   "source": [
    "nums[:3]=['1','2','3','4','5']"
   ]
  },
  {
   "cell_type": "code",
   "execution_count": 15,
   "id": "bc212ca0",
   "metadata": {},
   "outputs": [
    {
     "data": {
      "text/plain": [
       "['1', '2', '3', '4', '5', 4, 5, 6, 7, 8, 9, 10, 11]"
      ]
     },
     "execution_count": 15,
     "metadata": {},
     "output_type": "execute_result"
    }
   ],
   "source": [
    "nums"
   ]
  },
  {
   "cell_type": "code",
   "execution_count": 16,
   "id": "c6c94d6e",
   "metadata": {},
   "outputs": [],
   "source": [
    "nums[:5]=['1','2','3','4','5']"
   ]
  },
  {
   "cell_type": "code",
   "execution_count": 17,
   "id": "b6b9c7b8",
   "metadata": {},
   "outputs": [
    {
     "data": {
      "text/plain": [
       "['1', '2', '3', '4', '5', 4, 5, 6, 7, 8, 9, 10, 11]"
      ]
     },
     "execution_count": 17,
     "metadata": {},
     "output_type": "execute_result"
    }
   ],
   "source": [
    "nums"
   ]
  },
  {
   "cell_type": "code",
   "execution_count": 18,
   "id": "2040e41e",
   "metadata": {},
   "outputs": [],
   "source": [
    "nums.remove(11)"
   ]
  },
  {
   "cell_type": "code",
   "execution_count": 19,
   "id": "5e246f7e",
   "metadata": {},
   "outputs": [
    {
     "data": {
      "text/plain": [
       "['1', '2', '3', '4', '5', 4, 5, 6, 7, 8, 9, 10]"
      ]
     },
     "execution_count": 19,
     "metadata": {},
     "output_type": "execute_result"
    }
   ],
   "source": [
    "nums"
   ]
  },
  {
   "cell_type": "code",
   "execution_count": 20,
   "id": "a50b05da",
   "metadata": {},
   "outputs": [],
   "source": [
    "del nums[-1]"
   ]
  },
  {
   "cell_type": "code",
   "execution_count": 21,
   "id": "d3dcc38e",
   "metadata": {},
   "outputs": [
    {
     "data": {
      "text/plain": [
       "['1', '2', '3', '4', '5', 4, 5, 6, 7, 8, 9]"
      ]
     },
     "execution_count": 21,
     "metadata": {},
     "output_type": "execute_result"
    }
   ],
   "source": [
    "nums"
   ]
  },
  {
   "cell_type": "code",
   "execution_count": 22,
   "id": "90ef25f2",
   "metadata": {},
   "outputs": [
    {
     "data": {
      "text/plain": [
       "['4', '5', 4, 5, 6, 7, 8, 9]"
      ]
     },
     "execution_count": 22,
     "metadata": {},
     "output_type": "execute_result"
    }
   ],
   "source": [
    "del nums[:3]\n",
    "nums"
   ]
  },
  {
   "cell_type": "code",
   "execution_count": null,
   "id": "573278f3",
   "metadata": {},
   "outputs": [],
   "source": []
  },
  {
   "cell_type": "code",
   "execution_count": 26,
   "id": "612e346a",
   "metadata": {},
   "outputs": [],
   "source": [
    "nums=['4','5',6,7,8,9]"
   ]
  },
  {
   "cell_type": "code",
   "execution_count": 27,
   "id": "1cc11de5",
   "metadata": {},
   "outputs": [],
   "source": [
    "nums.extend([5,5,5])"
   ]
  },
  {
   "cell_type": "code",
   "execution_count": 28,
   "id": "a19b234d",
   "metadata": {},
   "outputs": [
    {
     "data": {
      "text/plain": [
       "['4', '5', 6, 7, 8, 9, 5, 5, 5]"
      ]
     },
     "execution_count": 28,
     "metadata": {},
     "output_type": "execute_result"
    }
   ],
   "source": [
    "nums"
   ]
  },
  {
   "cell_type": "code",
   "execution_count": 29,
   "id": "00f5c6f4",
   "metadata": {},
   "outputs": [
    {
     "data": {
      "text/plain": [
       "1"
      ]
     },
     "execution_count": 29,
     "metadata": {},
     "output_type": "execute_result"
    }
   ],
   "source": [
    "nums.count('5')"
   ]
  },
  {
   "cell_type": "code",
   "execution_count": 30,
   "id": "44bd8997",
   "metadata": {},
   "outputs": [
    {
     "data": {
      "text/plain": [
       "6"
      ]
     },
     "execution_count": 30,
     "metadata": {},
     "output_type": "execute_result"
    }
   ],
   "source": [
    "nums.index(5)"
   ]
  },
  {
   "cell_type": "code",
   "execution_count": 31,
   "id": "fec49742",
   "metadata": {},
   "outputs": [],
   "source": [
    "nums.insert(4,100)"
   ]
  },
  {
   "cell_type": "code",
   "execution_count": 33,
   "id": "09ef92b0",
   "metadata": {},
   "outputs": [
    {
     "data": {
      "text/plain": [
       "['4', '5', 6, 7, 100, 8, 9, 5, 5, 5]"
      ]
     },
     "execution_count": 33,
     "metadata": {},
     "output_type": "execute_result"
    }
   ],
   "source": [
    "nums"
   ]
  },
  {
   "cell_type": "code",
   "execution_count": 35,
   "id": "12f39b76",
   "metadata": {},
   "outputs": [
    {
     "data": {
      "text/plain": [
       "8"
      ]
     },
     "execution_count": 35,
     "metadata": {},
     "output_type": "execute_result"
    }
   ],
   "source": [
    "q= nums.pop(-4)\n",
    "q"
   ]
  },
  {
   "cell_type": "code",
   "execution_count": null,
   "id": "c139d042",
   "metadata": {},
   "outputs": [],
   "source": []
  },
  {
   "cell_type": "code",
   "execution_count": 50,
   "id": "6027466d",
   "metadata": {},
   "outputs": [],
   "source": [
    "nums=[100,88,1001,8,7,6,5,5,5]"
   ]
  },
  {
   "cell_type": "code",
   "execution_count": 37,
   "id": "389378f8",
   "metadata": {},
   "outputs": [],
   "source": [
    "nums.sort(reverse=True)"
   ]
  },
  {
   "cell_type": "code",
   "execution_count": 38,
   "id": "b2384064",
   "metadata": {},
   "outputs": [
    {
     "data": {
      "text/plain": [
       "[1001, 100, 88, 8, 7, 6, 5, 5, 5]"
      ]
     },
     "execution_count": 38,
     "metadata": {},
     "output_type": "execute_result"
    }
   ],
   "source": [
    "nums"
   ]
  },
  {
   "cell_type": "code",
   "execution_count": 42,
   "id": "1fb469d9",
   "metadata": {},
   "outputs": [
    {
     "data": {
      "text/plain": [
       "True"
      ]
     },
     "execution_count": 42,
     "metadata": {},
     "output_type": "execute_result"
    }
   ],
   "source": [
    "'a'<\"z\""
   ]
  },
  {
   "cell_type": "code",
   "execution_count": 43,
   "id": "44583495",
   "metadata": {},
   "outputs": [],
   "source": [
    "L=['Four','two','One',\"three\",\"Five\"]"
   ]
  },
  {
   "cell_type": "code",
   "execution_count": 44,
   "id": "6b582da1",
   "metadata": {},
   "outputs": [],
   "source": [
    "L.sort()"
   ]
  },
  {
   "cell_type": "code",
   "execution_count": 45,
   "id": "a93082e7",
   "metadata": {},
   "outputs": [
    {
     "data": {
      "text/plain": [
       "['Five', 'Four', 'One', 'three', 'two']"
      ]
     },
     "execution_count": 45,
     "metadata": {},
     "output_type": "execute_result"
    }
   ],
   "source": [
    "L"
   ]
  },
  {
   "cell_type": "code",
   "execution_count": 51,
   "id": "4edadc7f",
   "metadata": {},
   "outputs": [
    {
     "data": {
      "text/plain": [
       "[5, 5, 5, 6, 7, 8, 88, 100, 1001]"
      ]
     },
     "execution_count": 51,
     "metadata": {},
     "output_type": "execute_result"
    }
   ],
   "source": [
    "sorted(nums)"
   ]
  },
  {
   "cell_type": "code",
   "execution_count": 52,
   "id": "e2a870b3",
   "metadata": {},
   "outputs": [
    {
     "data": {
      "text/plain": [
       "[100, 88, 1001, 8, 7, 6, 5, 5, 5]"
      ]
     },
     "execution_count": 52,
     "metadata": {},
     "output_type": "execute_result"
    }
   ],
   "source": [
    "nums"
   ]
  },
  {
   "cell_type": "code",
   "execution_count": 53,
   "id": "06e3e495",
   "metadata": {},
   "outputs": [
    {
     "data": {
      "text/plain": [
       "[5, 5, 5, 6, 7, 8, 88, 100, 1001]"
      ]
     },
     "execution_count": 53,
     "metadata": {},
     "output_type": "execute_result"
    }
   ],
   "source": [
    "sorted_nums= sorted(nums)\n",
    "sorted_nums"
   ]
  },
  {
   "cell_type": "code",
   "execution_count": 47,
   "id": "bcf869ca",
   "metadata": {},
   "outputs": [],
   "source": [
    "sorted_nums=nums.sort()"
   ]
  },
  {
   "cell_type": "code",
   "execution_count": 48,
   "id": "bc7a11ad",
   "metadata": {},
   "outputs": [],
   "source": [
    "sorted_nums"
   ]
  },
  {
   "cell_type": "code",
   "execution_count": 49,
   "id": "6092ae16",
   "metadata": {},
   "outputs": [
    {
     "data": {
      "text/plain": [
       "[5, 5, 5, 6, 7, 8, 88, 100, 1001]"
      ]
     },
     "execution_count": 49,
     "metadata": {},
     "output_type": "execute_result"
    }
   ],
   "source": [
    "nums"
   ]
  },
  {
   "cell_type": "code",
   "execution_count": null,
   "id": "8b6d3b97",
   "metadata": {},
   "outputs": [],
   "source": []
  }
 ],
 "metadata": {
  "kernelspec": {
   "display_name": "Python 3 (ipykernel)",
   "language": "python",
   "name": "python3"
  },
  "language_info": {
   "codemirror_mode": {
    "name": "ipython",
    "version": 3
   },
   "file_extension": ".py",
   "mimetype": "text/x-python",
   "name": "python",
   "nbconvert_exporter": "python",
   "pygments_lexer": "ipython3",
   "version": "3.9.13"
  }
 },
 "nbformat": 4,
 "nbformat_minor": 5
}

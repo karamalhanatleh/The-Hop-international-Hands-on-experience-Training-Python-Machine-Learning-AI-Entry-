{
 "cells": [
  {
   "cell_type": "markdown",
   "metadata": {
    "id": "TML49MAghvbr"
   },
   "source": [
    "## **Basic Syntax**"
   ]
  },
  {
   "cell_type": "code",
   "execution_count": null,
   "metadata": {
    "colab": {
     "base_uri": "https://localhost:8080/"
    },
    "id": "GWGxJHB2fsqt",
    "outputId": "e57990d5-cb9d-4c6f-cae5-eec2538eae4b"
   },
   "outputs": [
    {
     "name": "stdout",
     "output_type": "stream",
     "text": [
      "Welcome to Machine Learning Course\n"
     ]
    }
   ],
   "source": [
    "print('Welcome to Machine Learning Course')"
   ]
  },
  {
   "cell_type": "code",
   "execution_count": null,
   "metadata": {
    "colab": {
     "base_uri": "https://localhost:8080/"
    },
    "id": "8jdRqgFvjt26",
    "outputId": "f6b4c328-5e90-4714-efe6-e9cf7d8ae4cf"
   },
   "outputs": [
    {
     "name": "stdout",
     "output_type": "stream",
     "text": [
      "Welcome to Machine Learning Course Welcome to Machine Learning Course   Welcome to Machine Learning Course Welcome to Machine Learning Course\n"
     ]
    }
   ],
   "source": [
    "print(\"Welcome to Machine Learning Course\\\n",
    " Welcome to Machine Learning Course \\\n",
    "  Welcome to Machine Learning Course Welcome to Machine Learning Course\")"
   ]
  },
  {
   "cell_type": "code",
   "execution_count": null,
   "metadata": {
    "colab": {
     "base_uri": "https://localhost:8080/"
    },
    "id": "AFNoXslggn3V",
    "outputId": "bbdea354-2876-4621-a0fc-0bddfcffbbef"
   },
   "outputs": [
    {
     "name": "stdout",
     "output_type": "stream",
     "text": [
      "Welcome \t to Machine Learning Course \n",
      "  Hello everyone\n"
     ]
    }
   ],
   "source": [
    "print(\"Welcome  \\t to Machine Learning Course \\n  Hello everyone\")"
   ]
  },
  {
   "cell_type": "code",
   "execution_count": null,
   "metadata": {
    "colab": {
     "base_uri": "https://localhost:8080/"
    },
    "id": "muSTLtZygedX",
    "outputId": "bec12a33-0c73-4ed0-b10d-c8f5f5aa666a"
   },
   "outputs": [
    {
     "name": "stdout",
     "output_type": "stream",
     "text": [
      " Welcome to Machine Learning Course\n",
      "        Hello everyone \n",
      "\n",
      "        Mahmmoud\n",
      "        \n",
      "        \n"
     ]
    }
   ],
   "source": [
    "print(\"\"\" Welcome to Machine Learning Course\n",
    "        Hello everyone \n",
    "\n",
    "        Mahmmoud\n",
    "        \n",
    "        \"\"\"\n",
    "        )"
   ]
  },
  {
   "cell_type": "code",
   "execution_count": null,
   "metadata": {
    "colab": {
     "base_uri": "https://localhost:8080/"
    },
    "id": "hPMZpfm_bHlA",
    "outputId": "a2d8ca1f-ccf1-41a6-c4c4-7eb9cf1e0d54"
   },
   "outputs": [
    {
     "name": "stdout",
     "output_type": "stream",
     "text": [
      "Welcome to Machine Learning Course\n"
     ]
    }
   ],
   "source": [
    "print(\"Welcome\", \"to\", \"Machine\", \"Learning\", \"Course\")"
   ]
  },
  {
   "cell_type": "code",
   "execution_count": null,
   "metadata": {
    "colab": {
     "base_uri": "https://localhost:8080/"
    },
    "id": "JfXERtNBhdUl",
    "outputId": "d8f26922-eb2c-4848-b200-4fe407f58bb8"
   },
   "outputs": [
    {
     "name": "stdout",
     "output_type": "stream",
     "text": [
      "Welcome to Machine Learning Course\n"
     ]
    }
   ],
   "source": [
    "print(\"Welcome\", \"to\", \"Machine\", \"Learning\", \"Course\", sep=\" \")"
   ]
  },
  {
   "cell_type": "code",
   "execution_count": null,
   "metadata": {
    "colab": {
     "base_uri": "https://localhost:8080/"
    },
    "id": "lB5hvdeA6KGZ",
    "outputId": "2a7f68e7-d2bb-49ea-e7d1-7f0562d5fff7"
   },
   "outputs": [
    {
     "name": "stdout",
     "output_type": "stream",
     "text": [
      "Welcome#to#Machine#Learning#Course\n"
     ]
    }
   ],
   "source": [
    "print(\"Welcome\", \"to\", \"Machine\", \"Learning\", \"Course\", sep=\"#\")"
   ]
  },
  {
   "cell_type": "code",
   "execution_count": null,
   "metadata": {
    "colab": {
     "base_uri": "https://localhost:8080/"
    },
    "id": "Y_TCu9Z0oCXM",
    "outputId": "23dc91d1-2514-4006-c608-a363f51570d2"
   },
   "outputs": [
    {
     "name": "stdout",
     "output_type": "stream",
     "text": [
      "WelcometoMachineLearningCourse\n"
     ]
    }
   ],
   "source": [
    "print(\"Welcome\"+ \"to\"+ \"Machine\"+ \"Learning\"+ \"Course\")"
   ]
  },
  {
   "cell_type": "code",
   "execution_count": null,
   "metadata": {
    "colab": {
     "base_uri": "https://localhost:8080/"
    },
    "id": "RDJRUoO3spQr",
    "outputId": "8a3e8d54-0aa3-470a-a2f9-95429165037c"
   },
   "outputs": [
    {
     "name": "stdout",
     "output_type": "stream",
     "text": [
      "WelcometoMachineLearningCourse TEST\n"
     ]
    }
   ],
   "source": [
    "print(\"Welcome\"+ \"to\"+ \"Machine\"+ \"Learning\"+ \"Course\", \"TEST\")"
   ]
  },
  {
   "cell_type": "code",
   "execution_count": null,
   "metadata": {
    "colab": {
     "base_uri": "https://localhost:8080/"
    },
    "id": "OcYLlaw7hojy",
    "outputId": "0b36f2b2-8820-4199-a37b-18d46f7903ff"
   },
   "outputs": [
    {
     "name": "stdout",
     "output_type": "stream",
     "text": [
      "WelcometoMachineLearningCourse-TEST\n"
     ]
    }
   ],
   "source": [
    "print(\"Welcome\"+ \"to\"+ \"Machine\"+ \"Learning\"+ \"Course\", \"TEST\", sep=\"-\")"
   ]
  },
  {
   "cell_type": "code",
   "execution_count": null,
   "metadata": {
    "colab": {
     "base_uri": "https://localhost:8080/"
    },
    "id": "Utis2DAS8Hji",
    "outputId": "b3035cf3-eae7-4f18-d5cd-148ff01a86bc"
   },
   "outputs": [
    {
     "name": "stdout",
     "output_type": "stream",
     "text": [
      "WelcometoMachineLearningCourse\n",
      "WelcometoMachineLearningCourse\n",
      "WelcometoMachineLearningCourse\n"
     ]
    }
   ],
   "source": [
    "print(\"Welcome\"+ \"to\"+ \"Machine\"+ \"Learning\"+ \"Course\")\n",
    "print(\"Welcome\"+ \"to\"+ \"Machine\"+ \"Learning\"+ \"Course\")\n",
    "print(\"Welcome\"+ \"to\"+ \"Machine\"+ \"Learning\"+ \"Course\")"
   ]
  },
  {
   "cell_type": "code",
   "execution_count": null,
   "metadata": {
    "colab": {
     "base_uri": "https://localhost:8080/"
    },
    "id": "T9YWDvYAt84j",
    "outputId": "096f1ab3-249a-4378-e415-09a193cfb62c"
   },
   "outputs": [
    {
     "name": "stdout",
     "output_type": "stream",
     "text": [
      "WelcometoMachineLearningCourse\n",
      "WelcometoMachineLearningCourse\n",
      "WelcometoMachineLearningCourse\n"
     ]
    }
   ],
   "source": [
    "print(\"Welcome\"+ \"to\"+ \"Machine\"+ \"Learning\"+ \"Course\", end=\"\\n\")\n",
    "print(\"Welcome\"+ \"to\"+ \"Machine\"+ \"Learning\"+ \"Course\", end=\"\\n\")\n",
    "print(\"Welcome\"+ \"to\"+ \"Machine\"+ \"Learning\"+ \"Course\")"
   ]
  },
  {
   "cell_type": "code",
   "execution_count": null,
   "metadata": {
    "colab": {
     "base_uri": "https://localhost:8080/"
    },
    "id": "miOcF143tiuL",
    "outputId": "855e62a4-97ec-446e-d652-a622f0ffc470"
   },
   "outputs": [
    {
     "name": "stdout",
     "output_type": "stream",
     "text": [
      "WelcometoMachineLearningCourse  WelcometoMachineLearningCourse\n"
     ]
    }
   ],
   "source": [
    "print(\"Welcome\"+ \"to\"+ \"Machine\"+ \"Learning\"+ \"Course\", end=\"  \")\n",
    "print(\"Welcome\"+ \"to\"+ \"Machine\"+ \"Learning\"+ \"Course\")"
   ]
  },
  {
   "cell_type": "code",
   "execution_count": null,
   "metadata": {
    "id": "h6094IYmt7bE"
   },
   "outputs": [],
   "source": []
  },
  {
   "cell_type": "code",
   "execution_count": null,
   "metadata": {
    "colab": {
     "base_uri": "https://localhost:8080/"
    },
    "id": "Gf2xUaP3trrX",
    "outputId": "fa0fc4e5-1f1a-4581-d585-7229ae6e7ad1"
   },
   "outputs": [
    {
     "name": "stdout",
     "output_type": "stream",
     "text": [
      "WelcometoMachineLearningCourse_WelcometoMachineLearningCourse\n"
     ]
    }
   ],
   "source": [
    "print(\"Welcome\"+ \"to\"+ \"Machine\"+ \"Learning\"+ \"Course\", end=\"_\")\n",
    "print(\"Welcome\"+ \"to\"+ \"Machine\"+ \"Learning\"+ \"Course\")"
   ]
  },
  {
   "cell_type": "code",
   "execution_count": null,
   "metadata": {
    "colab": {
     "base_uri": "https://localhost:8080/"
    },
    "id": "nLP2y6qroCTp",
    "outputId": "eafe716d-d137-45b6-87c0-5eac23c6d045"
   },
   "outputs": [
    {
     "name": "stdout",
     "output_type": "stream",
     "text": [
      "WelcometoMachineLearningCourse WelcometoMachineLearningCourse\n",
      "\n",
      "WelcometoMachineLearningCourse#WelcometoMachineLearningCourse\n"
     ]
    }
   ],
   "source": [
    "print(\"Welcome\"+ \"to\"+ \"Machine\"+ \"Learning\"+ \"Course\",end=\" \")\n",
    "print(\"Welcome\"+ \"to\"+ \"Machine\"+ \"Learning\"+ \"Course\", end=\"\\n\\n\")\n",
    "print(\"Welcome\"+ \"to\"+ \"Machine\"+ \"Learning\"+ \"Course\", end=\"#\")\n",
    "print(\"Welcome\"+ \"to\"+ \"Machine\"+ \"Learning\"+ \"Course\")"
   ]
  },
  {
   "cell_type": "code",
   "execution_count": null,
   "metadata": {
    "id": "TA_G2d3R8QJE"
   },
   "outputs": [],
   "source": []
  },
  {
   "cell_type": "code",
   "execution_count": null,
   "metadata": {
    "colab": {
     "base_uri": "https://localhost:8080/",
     "height": 53
    },
    "id": "xkOifT4_u5xf",
    "outputId": "b8316c17-c88d-444f-8c4c-3eeb099f9cfa"
   },
   "outputs": [
    {
     "name": "stdout",
     "output_type": "stream",
     "text": [
      "56\n"
     ]
    },
    {
     "data": {
      "application/vnd.google.colaboratory.intrinsic+json": {
       "type": "string"
      },
      "text/plain": [
       "'56'"
      ]
     },
     "execution_count": 17,
     "metadata": {},
     "output_type": "execute_result"
    }
   ],
   "source": [
    "input()"
   ]
  },
  {
   "cell_type": "code",
   "execution_count": null,
   "metadata": {
    "colab": {
     "base_uri": "https://localhost:8080/",
     "height": 53
    },
    "id": "tRZqWgkxYmBH",
    "outputId": "a3c26ea3-e22f-4575-f819-8fa719e2e75d"
   },
   "outputs": [
    {
     "name": "stdout",
     "output_type": "stream",
     "text": [
      "Enter you name : Mahmoud\n"
     ]
    },
    {
     "data": {
      "application/vnd.google.colaboratory.intrinsic+json": {
       "type": "string"
      },
      "text/plain": [
       "'Mahmoud'"
      ]
     },
     "execution_count": 18,
     "metadata": {},
     "output_type": "execute_result"
    }
   ],
   "source": [
    "input('Enter you name : ')"
   ]
  },
  {
   "cell_type": "code",
   "execution_count": null,
   "metadata": {
    "colab": {
     "base_uri": "https://localhost:8080/",
     "height": 53
    },
    "id": "HXFgT8Y4Y3EU",
    "outputId": "9e438904-e7c8-4ba1-c1c5-c7f0363eb782"
   },
   "outputs": [
    {
     "name": "stdout",
     "output_type": "stream",
     "text": [
      "Enter you age : 25\n"
     ]
    },
    {
     "data": {
      "application/vnd.google.colaboratory.intrinsic+json": {
       "type": "string"
      },
      "text/plain": [
       "'25'"
      ]
     },
     "execution_count": 19,
     "metadata": {},
     "output_type": "execute_result"
    }
   ],
   "source": [
    "input(\"Enter you age : \")"
   ]
  },
  {
   "cell_type": "markdown",
   "metadata": {
    "id": "A1EkQLIPiaeK"
   },
   "source": [
    "# **Comment**"
   ]
  },
  {
   "cell_type": "code",
   "execution_count": null,
   "metadata": {
    "colab": {
     "base_uri": "https://localhost:8080/",
     "height": 53
    },
    "id": "gKIFOvgGwBD3",
    "outputId": "ad5de87e-3c87-488e-e1e5-78487e8a4512"
   },
   "outputs": [
    {
     "name": "stdout",
     "output_type": "stream",
     "text": [
      "25\n"
     ]
    },
    {
     "data": {
      "application/vnd.google.colaboratory.intrinsic+json": {
       "type": "string"
      },
      "text/plain": [
       "'25'"
      ]
     },
     "execution_count": 20,
     "metadata": {},
     "output_type": "execute_result"
    }
   ],
   "source": [
    "# This input for age \n",
    "input()"
   ]
  },
  {
   "cell_type": "code",
   "execution_count": null,
   "metadata": {
    "id": "esdk9qzmoCRN"
   },
   "outputs": [],
   "source": [
    "# print(\"Hi\")"
   ]
  },
  {
   "cell_type": "code",
   "execution_count": null,
   "metadata": {
    "colab": {
     "base_uri": "https://localhost:8080/"
    },
    "id": "2fLpUj5Uwb1z",
    "outputId": "5669ee3d-db37-4c38-ea30-d09ede0b028d"
   },
   "outputs": [
    {
     "name": "stdout",
     "output_type": "stream",
     "text": [
      "recieve data\n"
     ]
    }
   ],
   "source": [
    "\n",
    "\"\"\"This code will do the follwing \n",
    "\n",
    "1- Recieve data\n",
    "2- process data\n",
    "3- save data into database \n",
    "\"\"\"\n",
    "\n",
    "\n",
    "print(\"recieve data\")"
   ]
  },
  {
   "cell_type": "code",
   "execution_count": null,
   "metadata": {
    "id": "l8qqC84Beguo"
   },
   "outputs": [],
   "source": [
    "\"\"\"\n",
    "counter = 0 \n",
    "print()\n",
    "if counter == 0 : \n",
    "  print(True)\n",
    "else :\n",
    "  print(False)\n",
    "\"\"\""
   ]
  },
  {
   "cell_type": "markdown",
   "metadata": {
    "id": "jshBYlV3uT_i"
   },
   "source": [
    "![comments meme.jpeg](data:image/jpeg;base64,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)"
   ]
  },
  {
   "cell_type": "markdown",
   "metadata": {
    "id": "S3Kk4rEMs8fR"
   },
   "source": [
    "# **Variables**"
   ]
  },
  {
   "cell_type": "code",
   "execution_count": null,
   "metadata": {
    "id": "jH3ZjWgIZh1T"
   },
   "outputs": [],
   "source": [
    "x = 10\n",
    "X = 20"
   ]
  },
  {
   "cell_type": "code",
   "execution_count": null,
   "metadata": {
    "colab": {
     "base_uri": "https://localhost:8080/"
    },
    "id": "I6iocKQEzSIH",
    "outputId": "131d5d34-57ba-444c-8d30-4a3ae14003c6"
   },
   "outputs": [
    {
     "data": {
      "text/plain": [
       "10"
      ]
     },
     "execution_count": 24,
     "metadata": {},
     "output_type": "execute_result"
    }
   ],
   "source": [
    "x"
   ]
  },
  {
   "cell_type": "code",
   "execution_count": null,
   "metadata": {
    "colab": {
     "base_uri": "https://localhost:8080/"
    },
    "id": "MxT2v2RBd8h1",
    "outputId": "90faf3dd-5cec-4619-e7f4-492927fc5372"
   },
   "outputs": [
    {
     "name": "stdout",
     "output_type": "stream",
     "text": [
      "20\n"
     ]
    }
   ],
   "source": [
    "print(X)"
   ]
  },
  {
   "cell_type": "code",
   "execution_count": null,
   "metadata": {
    "id": "SxtWWzAEtCcy"
   },
   "outputs": [],
   "source": [
    "y = z = f= 50"
   ]
  },
  {
   "cell_type": "code",
   "execution_count": null,
   "metadata": {
    "id": "pH6aHVEr7Oap"
   },
   "outputs": [],
   "source": [
    "a= 70\n",
    "b=\"80\"\n",
    "c=90.0"
   ]
  },
  {
   "cell_type": "code",
   "execution_count": null,
   "metadata": {
    "id": "IJQZYBZztOgf"
   },
   "outputs": [],
   "source": [
    "a,b,c = 70, \"80\", 90.0"
   ]
  },
  {
   "cell_type": "code",
   "execution_count": null,
   "metadata": {
    "colab": {
     "base_uri": "https://localhost:8080/"
    },
    "id": "LCFBJpxb7nnx",
    "outputId": "317c3c55-146d-4092-921b-9d5fef4b9f13"
   },
   "outputs": [
    {
     "data": {
      "text/plain": [
       "80"
      ]
     },
     "execution_count": 35,
     "metadata": {},
     "output_type": "execute_result"
    }
   ],
   "source": [
    "int(b)"
   ]
  },
  {
   "cell_type": "code",
   "execution_count": null,
   "metadata": {
    "colab": {
     "base_uri": "https://localhost:8080/",
     "height": 35
    },
    "id": "7XVf3mEDp3C1",
    "outputId": "3387a639-25e9-4ac3-e81d-64bd6a62b403"
   },
   "outputs": [
    {
     "data": {
      "application/vnd.google.colaboratory.intrinsic+json": {
       "type": "string"
      },
      "text/plain": [
       "'80'"
      ]
     },
     "execution_count": 36,
     "metadata": {},
     "output_type": "execute_result"
    }
   ],
   "source": [
    "b"
   ]
  },
  {
   "cell_type": "code",
   "execution_count": null,
   "metadata": {
    "id": "AQbeKpsatf_X"
   },
   "outputs": [],
   "source": [
    "int_b = int(b) # Convert data type from str to int"
   ]
  },
  {
   "cell_type": "code",
   "execution_count": null,
   "metadata": {
    "colab": {
     "base_uri": "https://localhost:8080/"
    },
    "id": "7uCqzW4pqGSQ",
    "outputId": "3f0b13a0-c683-4c93-e88c-c524a048422d"
   },
   "outputs": [
    {
     "data": {
      "text/plain": [
       "str"
      ]
     },
     "execution_count": 38,
     "metadata": {},
     "output_type": "execute_result"
    }
   ],
   "source": [
    "type(b)"
   ]
  },
  {
   "cell_type": "code",
   "execution_count": null,
   "metadata": {
    "colab": {
     "base_uri": "https://localhost:8080/"
    },
    "id": "sw9xCPSYeXob",
    "outputId": "3dd1e098-aad4-4a96-95cb-98c3a84b1c05"
   },
   "outputs": [
    {
     "data": {
      "text/plain": [
       "int"
      ]
     },
     "execution_count": 39,
     "metadata": {},
     "output_type": "execute_result"
    }
   ],
   "source": [
    "type(int_b)"
   ]
  },
  {
   "cell_type": "code",
   "execution_count": null,
   "metadata": {
    "colab": {
     "base_uri": "https://localhost:8080/"
    },
    "id": "lYZVFwnl0Cti",
    "outputId": "75486fb9-142a-425b-ce92-9f6a76b3712c"
   },
   "outputs": [
    {
     "data": {
      "text/plain": [
       "float"
      ]
     },
     "execution_count": 34,
     "metadata": {},
     "output_type": "execute_result"
    }
   ],
   "source": [
    "type(c)"
   ]
  },
  {
   "cell_type": "code",
   "execution_count": null,
   "metadata": {
    "id": "Lj_wFZGOezdy"
   },
   "outputs": [],
   "source": [
    "d = \"60.9\""
   ]
  },
  {
   "cell_type": "code",
   "execution_count": null,
   "metadata": {
    "colab": {
     "base_uri": "https://localhost:8080/"
    },
    "id": "AccxgVql8uTa",
    "outputId": "7316fa43-8b7f-4a00-c595-fe85bd77070c"
   },
   "outputs": [
    {
     "data": {
      "text/plain": [
       "60.9"
      ]
     },
     "execution_count": 49,
     "metadata": {},
     "output_type": "execute_result"
    }
   ],
   "source": [
    "float(d)"
   ]
  },
  {
   "cell_type": "code",
   "execution_count": null,
   "metadata": {
    "colab": {
     "base_uri": "https://localhost:8080/"
    },
    "id": "R26Sr-FQ-vCD",
    "outputId": "679e71f8-b0fa-4374-e704-ff7c38450853"
   },
   "outputs": [
    {
     "name": "stdout",
     "output_type": "stream",
     "text": [
      "60.9\n"
     ]
    }
   ],
   "source": [
    "print(float(d))"
   ]
  },
  {
   "cell_type": "code",
   "execution_count": null,
   "metadata": {
    "colab": {
     "base_uri": "https://localhost:8080/"
    },
    "id": "UovsbIE4e3UA",
    "outputId": "56bfd2cf-f60d-477b-975c-da7e73550262"
   },
   "outputs": [
    {
     "data": {
      "text/plain": [
       "60"
      ]
     },
     "execution_count": 50,
     "metadata": {},
     "output_type": "execute_result"
    }
   ],
   "source": [
    "int(float(d))"
   ]
  },
  {
   "cell_type": "code",
   "execution_count": null,
   "metadata": {
    "id": "qjBxYjRpZ701"
   },
   "outputs": [],
   "source": [
    "# Error\n",
    "int(\"50.0\")"
   ]
  },
  {
   "cell_type": "code",
   "execution_count": null,
   "metadata": {
    "colab": {
     "base_uri": "https://localhost:8080/",
     "height": 187
    },
    "id": "AJYFr1ZlZ7n5",
    "outputId": "25f15d93-ef21-401b-8e16-901f8c381118"
   },
   "outputs": [
    {
     "ename": "ValueError",
     "evalue": "ignored",
     "output_type": "error",
     "traceback": [
      "\u001b[0;31m---------------------------------------------------------------------------\u001b[0m",
      "\u001b[0;31mValueError\u001b[0m                                Traceback (most recent call last)",
      "\u001b[0;32m<ipython-input-46-51274d23fa28>\u001b[0m in \u001b[0;36m<module>\u001b[0;34m\u001b[0m\n\u001b[1;32m      1\u001b[0m \u001b[0;31m# Error\u001b[0m\u001b[0;34m\u001b[0m\u001b[0;34m\u001b[0m\u001b[0;34m\u001b[0m\u001b[0m\n\u001b[0;32m----> 2\u001b[0;31m \u001b[0mfloat\u001b[0m\u001b[0;34m(\u001b[0m\u001b[0;34m\"50a\"\u001b[0m\u001b[0;34m)\u001b[0m\u001b[0;34m\u001b[0m\u001b[0;34m\u001b[0m\u001b[0m\n\u001b[0m",
      "\u001b[0;31mValueError\u001b[0m: could not convert string to float: '50a'"
     ]
    }
   ],
   "source": [
    "# Error\n",
    "float(\"50a\")"
   ]
  },
  {
   "cell_type": "code",
   "execution_count": null,
   "metadata": {
    "colab": {
     "base_uri": "https://localhost:8080/"
    },
    "id": "lJGfzdnWZn6o",
    "outputId": "ec0faa3d-345e-41bc-bf79-6e24c9b67460"
   },
   "outputs": [
    {
     "data": {
      "text/plain": [
       "50"
      ]
     },
     "execution_count": 47,
     "metadata": {},
     "output_type": "execute_result"
    }
   ],
   "source": [
    "int(float(\"50.0\"))"
   ]
  },
  {
   "cell_type": "code",
   "execution_count": null,
   "metadata": {
    "colab": {
     "base_uri": "https://localhost:8080/"
    },
    "id": "a6srLcXXENRE",
    "outputId": "4fa19dc0-dc1f-433b-fe47-cde2eb0ff5cb"
   },
   "outputs": [
    {
     "data": {
      "text/plain": [
       "5.0"
      ]
     },
     "execution_count": 48,
     "metadata": {},
     "output_type": "execute_result"
    }
   ],
   "source": [
    "float(5)"
   ]
  },
  {
   "cell_type": "markdown",
   "metadata": {
    "id": "tQ010WDVcZvO"
   },
   "source": [
    "# **Operators**"
   ]
  },
  {
   "cell_type": "code",
   "execution_count": null,
   "metadata": {
    "id": "zhiWfJwHci3Y"
   },
   "outputs": [],
   "source": [
    "# Arithmetic Operators ( + , - , * , / , % , ** , // )\n",
    "print(\"Addition\", \"7 + 3 = \", 7 + 3)\n",
    "print(\"Subtraction\", \"7 - 3 = \", 7 - 3)\n",
    "print(\"Multiplication\", \"7 * 3 = \", 7 * 3)\n",
    "print(\"division\", \"7 / 3 = \", 7 / 3)\n",
    "print(\"Modulus\", \"7 % 3 = \", 7 % 3)\n",
    "print(\"Exponentiation\", \"7 ** 3 = \", 7 ** 3)\n",
    "print(\"Floor division\", \"7 // 3 = \", 7 // 3)\n"
   ]
  },
  {
   "cell_type": "code",
   "execution_count": null,
   "metadata": {
    "id": "JdeYfTs8eIHt"
   },
   "outputs": [],
   "source": [
    "# Comparison (Relational) Operators ( == , != , > , < , <= , >= )\n",
    "print(\"Equal\", \"7 == 3 : \", 7 == 3)\n",
    "print(\"Not Equal\", \"7 != 3 : \", 7 != 3)\n",
    "print(\"Greater\", \"7 > 3 : \", 7 > 3)\n",
    "print(\"Less\", \"7 < 3 : \", 7 < 3)\n",
    "print(\"Greater or Equal\", \"7 >= 3 : \", 7 >= 3)\n",
    "print(\"Less or Equal\", \"7 <= 3 : \", 7 <= 3)\n"
   ]
  },
  {
   "cell_type": "code",
   "execution_count": null,
   "metadata": {
    "id": "IkZM8bQC9_q5"
   },
   "outputs": [],
   "source": [
    "v1 = 5\n",
    "print(\"v1 = \",v1)"
   ]
  },
  {
   "cell_type": "code",
   "execution_count": null,
   "metadata": {
    "id": "QXZpDnwA9_ot"
   },
   "outputs": [],
   "source": [
    "# v1+=4\n",
    "\n",
    "v1 = v1 + 4 \n",
    "print(\"v1+=4 = \",v1)"
   ]
  },
  {
   "cell_type": "code",
   "execution_count": null,
   "metadata": {
    "id": "Mp8qg4LI9_kc"
   },
   "outputs": [],
   "source": [
    "v1-=4\n",
    "print(\"v1-=4 = \",v1)"
   ]
  },
  {
   "cell_type": "code",
   "execution_count": null,
   "metadata": {
    "id": "SvX4MGwF9_iN"
   },
   "outputs": [],
   "source": [
    "v1*=3\n",
    "print(\"v1*=3 = \",v1)"
   ]
  },
  {
   "cell_type": "code",
   "execution_count": null,
   "metadata": {
    "id": "yfTpwfGW-ZF9"
   },
   "outputs": [],
   "source": [
    "v1/=2\n",
    "print(\"v1/=2 = \",v1)"
   ]
  },
  {
   "cell_type": "code",
   "execution_count": null,
   "metadata": {
    "id": "XPLZKEzl-ZBU"
   },
   "outputs": [],
   "source": [
    "v1%=2\n",
    "print(\"v1%=2 = \",v1)"
   ]
  },
  {
   "cell_type": "code",
   "execution_count": null,
   "metadata": {
    "id": "f8jjvUQY-m4d"
   },
   "outputs": [],
   "source": [
    "v1**=3\n",
    "print(\"v1**=2 = \",v1)"
   ]
  },
  {
   "cell_type": "code",
   "execution_count": null,
   "metadata": {
    "id": "GieRiUFG-pQh"
   },
   "outputs": [],
   "source": [
    "v1//=3\n",
    "print(\"v1//=3 = \",v1)"
   ]
  },
  {
   "cell_type": "code",
   "execution_count": null,
   "metadata": {
    "id": "JKirqmX1fHsW"
   },
   "outputs": [],
   "source": [
    "# Assignment Operators ( = , += , -+ , *= , /= , %= , ** , //= )\n",
    "\n",
    "# Assigning\n",
    "v1 = 5\n",
    "print(\"v1 = \",v1)\n",
    "\n",
    "\n",
    "v1+=4\n",
    "print(\"v1+=4 = \",v1)\n",
    "\n",
    "v1-=4\n",
    "print(\"v1-=4 = \",v1)\n",
    "\n",
    "v1*=3\n",
    "print(\"v1*=3 = \",v1)\n",
    "\n",
    "v1/=2\n",
    "print(\"v1/=2 = \",v1)\n",
    "\n",
    "v1%=2\n",
    "print(\"v1%=2 = \",v1)\n",
    "\n",
    "v1**=3\n",
    "print(\"v1**=2 = \",v1)\n",
    "\n",
    "v1//=3\n",
    "print(\"v1//=3 = \",v1)\n"
   ]
  },
  {
   "cell_type": "code",
   "execution_count": null,
   "metadata": {
    "id": "FQIjY6LLgwC7"
   },
   "outputs": [],
   "source": [
    "# Logical Operators ( not , and , or )\n",
    "print(\"================= AND =================\")\n",
    "print(\"True and True : \", True and True)\n",
    "print(\"True and False : \", True and False)\n",
    "print(\"False and True : \", False and True)\n",
    "print(\"False and False : \", False and False)\n",
    "\n",
    "print(\"================= OR =================\")\n",
    "print(\"True or True : \", True or True)\n",
    "print(\"True or False : \", True or False)\n",
    "print(\"False or True : \", False or True)\n",
    "print(\"False or False : \", False or False)\n",
    "\n",
    "print(\"================= NOT =================\")\n",
    "print(\"not True : \", not True)\n",
    "print(\"not False : \", not False)\n",
    "\n"
   ]
  },
  {
   "cell_type": "code",
   "execution_count": null,
   "metadata": {
    "id": "arptuCgOiaCt"
   },
   "outputs": [],
   "source": [
    "True and (not False and True)\n",
    "\n",
    "\n",
    "# True and (True and True)\n",
    "\n",
    "# True and True \n",
    "\n",
    "# True"
   ]
  },
  {
   "cell_type": "code",
   "execution_count": null,
   "metadata": {
    "id": "YovUvJJ0_2oC"
   },
   "outputs": [],
   "source": []
  },
  {
   "cell_type": "code",
   "execution_count": null,
   "metadata": {
    "id": "czYboDDEhktA"
   },
   "outputs": [],
   "source": [
    "# What is the output ???\n",
    "not True or (True and False or True) and False  "
   ]
  },
  {
   "cell_type": "code",
   "execution_count": null,
   "metadata": {
    "id": "HhnX8gFhB43l"
   },
   "outputs": [],
   "source": [
    "not True or (False or True) and False  \n",
    "\n",
    "not True or True and False  \n",
    "\n",
    "False or True and False\n",
    "\n",
    "False or False\n",
    "\n",
    "False\n"
   ]
  },
  {
   "cell_type": "code",
   "execution_count": null,
   "metadata": {
    "id": "EqXb46XQwM2s"
   },
   "outputs": [],
   "source": [
    "not True and not False ( False or True or True )"
   ]
  },
  {
   "cell_type": "code",
   "execution_count": null,
   "metadata": {
    "id": "0WU8OR6NIv1q"
   },
   "outputs": [],
   "source": [
    "not True and not False and True\n",
    "\n",
    "False and True and True \n",
    "\n",
    "False"
   ]
  },
  {
   "cell_type": "code",
   "execution_count": null,
   "metadata": {
    "id": "-u2PMl9KIway"
   },
   "outputs": [],
   "source": [
    "not not True"
   ]
  },
  {
   "cell_type": "code",
   "execution_count": null,
   "metadata": {
    "id": "BD1ZHKAUJQYX"
   },
   "outputs": [],
   "source": [
    "True or False and False or True "
   ]
  },
  {
   "cell_type": "code",
   "execution_count": null,
   "metadata": {
    "id": "cLq438oRJQWe"
   },
   "outputs": [],
   "source": [
    "True or True and not False or (True and not False)"
   ]
  },
  {
   "cell_type": "code",
   "execution_count": null,
   "metadata": {
    "id": "O0NDvCYNJQN1"
   },
   "outputs": [],
   "source": []
  },
  {
   "cell_type": "code",
   "execution_count": null,
   "metadata": {
    "id": "uZ2yN4GOJQL9"
   },
   "outputs": [],
   "source": []
  },
  {
   "cell_type": "code",
   "execution_count": null,
   "metadata": {
    "id": "KhD_YBbFipFE"
   },
   "outputs": [],
   "source": [
    "# Bitwise Operators (& , | , ^ , ~ , << , >> )"
   ]
  },
  {
   "cell_type": "code",
   "execution_count": null,
   "metadata": {
    "id": "AxiE_V49PJBL"
   },
   "outputs": [],
   "source": [
    "bin(16)"
   ]
  },
  {
   "cell_type": "code",
   "execution_count": null,
   "metadata": {
    "id": "VVKaXkl7PWuS"
   },
   "outputs": [],
   "source": [
    "int(0b1110)"
   ]
  },
  {
   "cell_type": "code",
   "execution_count": null,
   "metadata": {
    "id": "xHpnGHYDyj3t"
   },
   "outputs": [],
   "source": [
    "60 & 13 "
   ]
  },
  {
   "cell_type": "code",
   "execution_count": null,
   "metadata": {
    "id": "9JeejL1CCHMr"
   },
   "outputs": [],
   "source": [
    "a = 60            # 60 = 00111100 \n",
    "b = 13            # 13 = 00001101 "
   ]
  },
  {
   "cell_type": "code",
   "execution_count": null,
   "metadata": {
    "id": "RDJtha6ACJln"
   },
   "outputs": [],
   "source": [
    "# AND & \n",
    "# 60 & 13\n",
    "# \n",
    "# a = 60 = 0 0 1 1 1 1 0 0  &\n",
    "# b = 13 = 0 0 0 0 1 1 0 1\n",
    "# a&b    = 0 0 0 0 1 1 0 0\n",
    "\n",
    "print(bin(a), \"   \", a)\n",
    "print(bin(b), \"   \", b)\n",
    "print(bin(a&b), \"   \", a&b)"
   ]
  },
  {
   "cell_type": "code",
   "execution_count": null,
   "metadata": {
    "id": "oqzQpee_CJrY"
   },
   "outputs": [],
   "source": [
    "# OR |\n",
    "\n",
    "# a   = 0 0 1 1 1 1 0 0\n",
    "# b   = 0 0 0 0 1 1 0 1\n",
    "# a|b = 0 0 1 1 1 1 0 1\n",
    "\n",
    "print(bin(a), \"   \", a)\n",
    "print(bin(b), \"   \", b)\n",
    "print(bin(a|b), \"   \", a|b)"
   ]
  },
  {
   "cell_type": "code",
   "execution_count": null,
   "metadata": {
    "id": "NCMGWMTizJv1"
   },
   "outputs": [],
   "source": [
    "a | b"
   ]
  },
  {
   "cell_type": "code",
   "execution_count": null,
   "metadata": {
    "id": "O0PivZ18CJ66"
   },
   "outputs": [],
   "source": [
    "# XOR ^\n",
    "# 1 xor 0  => 1\n",
    "# 1 xor 1 => 0\n",
    "# 0 xor 0 => 0\n",
    "\n",
    "\n",
    "# a   = 0 0 1 1 1 1 0 0 \n",
    "# b   = 0 0 0 0 1 1 0 1\n",
    "# a^b = 0 0 1 1 0 0 0 1\n",
    "\n",
    "print(bin(a), \"   \", a)\n",
    "print(bin(b), \"   \", b)\n",
    "print(bin(a^b), \"   \", a^b)"
   ]
  },
  {
   "cell_type": "code",
   "execution_count": null,
   "metadata": {
    "id": "vgzifEZXDHF1"
   },
   "outputs": [],
   "source": [
    "# NOT ~\n",
    "# ~a = -(a+1)\n",
    "\n",
    "# a   = 00111100\n",
    "# ~a  = -(00111100 + 1)\n",
    "# ~a  = -(00111101)\n",
    "\n",
    "print(bin(a), \"   \", a)\n",
    "print(bin(~a), \"   \", ~a)"
   ]
  },
  {
   "cell_type": "code",
   "execution_count": null,
   "metadata": {
    "id": "xnGs5tdSFWdU"
   },
   "outputs": [],
   "source": [
    "print(~a)"
   ]
  },
  {
   "cell_type": "code",
   "execution_count": null,
   "metadata": {
    "id": "vroTTjHhEbbN"
   },
   "outputs": [],
   "source": [
    "~ 50"
   ]
  },
  {
   "cell_type": "code",
   "execution_count": null,
   "metadata": {
    "id": "bQ2rEpCQ3d-Q"
   },
   "outputs": [],
   "source": [
    "~ -3"
   ]
  },
  {
   "cell_type": "code",
   "execution_count": null,
   "metadata": {
    "id": "kbloveDMznQy"
   },
   "outputs": [],
   "source": [
    "~-2\n",
    "\n",
    "# -( -2 + 1 )\n",
    "# -(-1)\n",
    "# 1 "
   ]
  },
  {
   "cell_type": "code",
   "execution_count": null,
   "metadata": {
    "id": "DfYHK8b5QNj_"
   },
   "outputs": [],
   "source": [
    "~ -31\n",
    "# ~ -31 = - (-31 +1 )\n",
    "# -( -30 )\n",
    "# 30"
   ]
  },
  {
   "cell_type": "code",
   "execution_count": null,
   "metadata": {
    "id": "EbQSN62sDG8I"
   },
   "outputs": [],
   "source": [
    "# Apply not for b\n",
    "\n",
    "# b   = 00001101\n",
    "# ~b  = -(00001101 + 1)\n",
    "# ~b  = -(0000001110)\n",
    "\n",
    "print(bin(b), \"   \", b)\n",
    "print(bin(~b), \"   \", ~b)"
   ]
  },
  {
   "cell_type": "code",
   "execution_count": null,
   "metadata": {
    "id": "9S5z67iGGofh"
   },
   "outputs": [],
   "source": [
    "a << 2"
   ]
  },
  {
   "cell_type": "code",
   "execution_count": null,
   "metadata": {
    "id": "iNk3O7y8DG4l"
   },
   "outputs": [],
   "source": [
    "# Lisft Shift <<\n",
    "\n",
    "# a << 4 = a * 2^4\n",
    "\n",
    "# a << 5 = a * 2^5\n",
    "\n",
    "# a << 2 = a * 2^2\n",
    "# 60 * 2^2\n",
    "# 60 * 4 \n",
    "# 240\n",
    "\n",
    "# 00111100 << 2 \n",
    "# 0011110000\n",
    "\n",
    "# 00111100 << 4 \n",
    "# 001111000000\n",
    "\n",
    "print(bin(a), \"   \", a)\n",
    "print(bin(a<<2), \"   \", a<<2)"
   ]
  },
  {
   "cell_type": "code",
   "execution_count": null,
   "metadata": {
    "id": "GRsWeSX0F4sY"
   },
   "outputs": [],
   "source": [
    "a << 5\n",
    "\n",
    "# 60 * 2 ^ 5"
   ]
  },
  {
   "cell_type": "code",
   "execution_count": null,
   "metadata": {
    "id": "IPVQiuLU5SRM"
   },
   "outputs": [],
   "source": [
    "6 << 9\n",
    "\n",
    "# 6 * 2 ^9"
   ]
  },
  {
   "cell_type": "code",
   "execution_count": null,
   "metadata": {
    "id": "AQC3z4a_R1vs"
   },
   "outputs": [],
   "source": [
    "bin(13)"
   ]
  },
  {
   "cell_type": "code",
   "execution_count": null,
   "metadata": {
    "id": "IRPZ7BfkDG2o"
   },
   "outputs": [],
   "source": [
    "# Apply lift shift for b \n",
    "# b << 4 = b * 2^4\n",
    "\n",
    "#13 * 2 ^ 4 \n",
    "# 13 * 16\n",
    "# 208\n",
    "\n",
    "# 1101 << 4\n",
    "# 11010000\n",
    "\n",
    "print(bin(b))\n",
    "print(bin(b<<4), \"  \", b << 4) \n"
   ]
  },
  {
   "cell_type": "code",
   "execution_count": null,
   "metadata": {
    "id": "mRTNJjUlHOvK"
   },
   "outputs": [],
   "source": [
    "a >> 2"
   ]
  },
  {
   "cell_type": "code",
   "execution_count": null,
   "metadata": {
    "id": "AHs36K38GZos"
   },
   "outputs": [],
   "source": [
    "# Right Shift >>\n",
    "# a >> 2 = a / 2^2 \n",
    "# 60 / 2^2\n",
    "# 60 / 4 \n",
    "# 15\n",
    "\n",
    "# 00111100 >> 2 \n",
    "# 001111\n",
    "\n",
    "print(bin(a), \"   \", a)\n",
    "print(bin(a>>2), \"   \", a>>2)"
   ]
  },
  {
   "cell_type": "code",
   "execution_count": null,
   "metadata": {
    "id": "o69aSRCuGZlS"
   },
   "outputs": [],
   "source": [
    "# Apply Right shift for b \n",
    "# b >> 2 = b / 2^2 \n",
    "# 13 / 4\n",
    "# 3\n",
    "\n",
    "# 1101 >> 2\n",
    "# 11\n",
    "print(bin(b), \"   \", b)\n",
    "print(bin(b>>2), \"   \", b>>2)"
   ]
  },
  {
   "cell_type": "code",
   "execution_count": null,
   "metadata": {
    "id": "bXRlj9CuS0yK"
   },
   "outputs": [],
   "source": [
    "64 >> 5\n",
    "\n",
    "# 64 / 2 ^ 5 \n",
    "# 64 / 32\n",
    "# 2\n"
   ]
  },
  {
   "cell_type": "code",
   "execution_count": null,
   "metadata": {
    "id": "ttAdicmBIFQV"
   },
   "outputs": [],
   "source": [
    "64 >> 4\n",
    " # 64 / 2^4"
   ]
  },
  {
   "cell_type": "code",
   "execution_count": null,
   "metadata": {
    "id": "lOpiYJu86EQQ"
   },
   "outputs": [],
   "source": [
    "bin(6)"
   ]
  },
  {
   "cell_type": "code",
   "execution_count": null,
   "metadata": {
    "id": "AOPIJp8T54n2"
   },
   "outputs": [],
   "source": [
    "6 >> 9\n",
    "\n",
    "# 6 / 2 ^9\n",
    "# 0.000\n",
    "\n",
    "# 110 >> 9 \n",
    "# 0 "
   ]
  },
  {
   "cell_type": "code",
   "execution_count": null,
   "metadata": {
    "id": "vdZ0rCVfIFNy"
   },
   "outputs": [],
   "source": [
    "64 << 4\n",
    "\n",
    "# 64 * 2 ^ 4 \n",
    "# 64 * 16"
   ]
  },
  {
   "cell_type": "markdown",
   "metadata": {
    "id": "2FT5bbEPaLYa"
   },
   "source": [
    "# **IF**"
   ]
  },
  {
   "cell_type": "code",
   "execution_count": null,
   "metadata": {
    "id": "fWqj8IXG42XT"
   },
   "outputs": [],
   "source": [
    "studentGPA = input(\"Enter student GPA : \")"
   ]
  },
  {
   "cell_type": "code",
   "execution_count": null,
   "metadata": {
    "id": "cMp9Hti_JeqJ"
   },
   "outputs": [],
   "source": [
    "type(studentGPA)"
   ]
  },
  {
   "cell_type": "code",
   "execution_count": null,
   "metadata": {
    "id": "O_Jv48CtJreA"
   },
   "outputs": [],
   "source": [
    "studentGPA"
   ]
  },
  {
   "cell_type": "code",
   "execution_count": null,
   "metadata": {
    "id": "ncqJBdKq47Hw"
   },
   "outputs": [],
   "source": [
    "studentGPA = int(studentGPA)"
   ]
  },
  {
   "cell_type": "code",
   "execution_count": null,
   "metadata": {
    "id": "nhLFKZYpKL4A"
   },
   "outputs": [],
   "source": [
    "# Blloean expression\n",
    "studentGPA > 100"
   ]
  },
  {
   "cell_type": "code",
   "execution_count": null,
   "metadata": {
    "id": "zm3VvvNhX6gq"
   },
   "outputs": [],
   "source": [
    "# Enter student GPA\n",
    "# Convert input into integer value\n",
    "studentGPA = int(input(\"Enter student GPA : \"))\n",
    "\n",
    "if studentGPA > 100 :\n",
    "  print() \n",
    "  print(\"Invalid\")\n",
    "\n",
    "elif studentGPA >= 84:\n",
    "  print(\"Exellent Degree\")\n",
    "\n",
    "elif studentGPA < 84 and studentGPA >= 77:\n",
    "  print(\"Very Good Degree\")\n",
    "\n",
    "elif studentGPA < 77 and studentGPA >= 65:\n",
    "  print(\"Good Degree\")\n",
    "\n",
    "elif studentGPA < 65 and studentGPA >= 61:\n",
    "  print(\"Accepted Degree\")\n",
    "  \n",
    "else :\n",
    "  print(\"Fail\")\n"
   ]
  },
  {
   "cell_type": "code",
   "execution_count": null,
   "metadata": {
    "id": "45YK7OQ8LWOG"
   },
   "outputs": [],
   "source": [
    "# Write a program to input a number and check whether a number is positive or negative.\n",
    "\n",
    "number = int(input(\"enter a number : \"))\n",
    "\n",
    "if number == 0 :\n",
    "  print(\"zero\")\n",
    "\n",
    "elif number > 0 :\n",
    "  print(\"positive\")\n",
    "\n",
    "else :\n",
    "  print(\"negative\")"
   ]
  },
  {
   "cell_type": "code",
   "execution_count": null,
   "metadata": {
    "id": "BvqG1Kh1zAy0"
   },
   "outputs": [],
   "source": []
  },
  {
   "cell_type": "code",
   "execution_count": null,
   "metadata": {
    "id": "j-eM6ANly8gM"
   },
   "outputs": [],
   "source": [
    "number = int(input(\"Enter a number : \"))\n",
    "\n",
    "if number > 0 :\n",
    "  print(\"positive\")\n",
    "  print(\"positive\")\n",
    "\n",
    "print(\"asdf\")\n",
    "\n",
    "if number >= 0:\n",
    "  print(\"Zero\")\n",
    "\n",
    "else : \n",
    "  print(\"negative\")\n",
    "\n",
    "print(\"Continuo\")"
   ]
  },
  {
   "cell_type": "markdown",
   "metadata": {
    "id": "7G6ErmX5aUbe"
   },
   "source": [
    "# **LOOP**"
   ]
  },
  {
   "cell_type": "code",
   "execution_count": null,
   "metadata": {
    "id": "d-8fKDiV9Jxc"
   },
   "outputs": [],
   "source": [
    "\"#-\" * 10"
   ]
  },
  {
   "cell_type": "code",
   "execution_count": null,
   "metadata": {
    "id": "0jMcH1ZyaSG2"
   },
   "outputs": [],
   "source": [
    "# Wile Loop \n",
    "\n",
    "i = 10\n",
    "\n",
    "while i != 10 :\n",
    "  \n",
    "  if i == 4 :\n",
    "    break\n",
    "  \n",
    "  print(\"*\" * i)\n",
    "  i -= 1"
   ]
  },
  {
   "cell_type": "code",
   "execution_count": null,
   "metadata": {
    "id": "WRB5vMrVYLFM"
   },
   "outputs": [],
   "source": [
    "# Range built-in function\n",
    "list(range(10))"
   ]
  },
  {
   "cell_type": "code",
   "execution_count": null,
   "metadata": {
    "id": "RJIyudQHbTw4"
   },
   "outputs": [],
   "source": [
    "5 in range(10)"
   ]
  },
  {
   "cell_type": "code",
   "execution_count": null,
   "metadata": {
    "id": "1lXzm-mxTiQG"
   },
   "outputs": [],
   "source": [
    "5 not in range(10)"
   ]
  },
  {
   "cell_type": "code",
   "execution_count": null,
   "metadata": {
    "id": "rjDuWhZqEBrp"
   },
   "outputs": [],
   "source": [
    "10 in range(10)"
   ]
  },
  {
   "cell_type": "code",
   "execution_count": null,
   "metadata": {
    "id": "yR-cJhQUYK2J"
   },
   "outputs": [],
   "source": [
    "# Foor Loop\n",
    "\n",
    "# [0, 1, 2, 3, 4, 5, 6, 7, 8, 9]\n",
    " \n",
    "for num in range(10):\n",
    "  print(num, end = ' ')\n",
    "\n",
    "# num = 9\n",
    "# output : 0 1 2 3 4 5 6 7 8 9\n",
    "# is num is the last item ? True -> exit for else-> continuo \n",
    "\n",
    "\n",
    "print()\n",
    "print(\"Finish\")"
   ]
  },
  {
   "cell_type": "code",
   "execution_count": null,
   "metadata": {
    "id": "gvCa_-OpVHdh"
   },
   "outputs": [],
   "source": [
    "# Foor Loop\n",
    "\n",
    "\n",
    "list_char =[\"a\", \"b\", \"c\", \"d\", \"e\", \"f\", \"g\", \"h\", \"i\", \"j\"]\n",
    " \n",
    "for char in list_char:\n",
    "  \n",
    "  print(char, end = ' ')\n",
    "\n",
    "\n",
    "# char = j\n",
    "# output : a b c d e f g h i  j \n",
    "# char is a last item in a sequence ? True => exit loop , False => cont.\n",
    "\n",
    "\n",
    "print()\n",
    "print(\"Finish\")"
   ]
  },
  {
   "cell_type": "code",
   "execution_count": null,
   "metadata": {
    "id": "w0Li6aJHHCti"
   },
   "outputs": [],
   "source": [
    "list(range(5))"
   ]
  },
  {
   "cell_type": "code",
   "execution_count": null,
   "metadata": {
    "id": "XuasU00D-3Qh"
   },
   "outputs": [],
   "source": [
    "# Range Function\n",
    "\n",
    "# range(start_index, end_index, num_steps)\n",
    "\n",
    "list(range(0,10,1))"
   ]
  },
  {
   "cell_type": "code",
   "execution_count": null,
   "metadata": {
    "id": "9tkEi5oIWpLC"
   },
   "outputs": [],
   "source": [
    "list(range(1,10,1))"
   ]
  },
  {
   "cell_type": "code",
   "execution_count": null,
   "metadata": {
    "id": "EkA2Hvzt-dM_"
   },
   "outputs": [],
   "source": [
    "list(range(1,10,2))"
   ]
  },
  {
   "cell_type": "code",
   "execution_count": null,
   "metadata": {
    "id": "DbOhXr0EWxyP"
   },
   "outputs": [],
   "source": [
    "list(range(2,10,2))"
   ]
  },
  {
   "cell_type": "code",
   "execution_count": null,
   "metadata": {
    "id": "NvFBnFHFZVo1"
   },
   "outputs": [],
   "source": [
    "list(range(10,0, -1))"
   ]
  },
  {
   "cell_type": "code",
   "execution_count": null,
   "metadata": {
    "id": "kJz0kWZeHtN4"
   },
   "outputs": [],
   "source": [
    "list(range(50, 39, -1))"
   ]
  },
  {
   "cell_type": "markdown",
   "metadata": {
    "id": "EDfjLiMRZtiQ"
   },
   "source": [
    "# **Numbers**"
   ]
  },
  {
   "cell_type": "code",
   "execution_count": null,
   "metadata": {
    "id": "NgIRPdShbM2d"
   },
   "outputs": [],
   "source": [
    "import math"
   ]
  },
  {
   "cell_type": "code",
   "execution_count": null,
   "metadata": {
    "id": "8RMW8PkqZtES"
   },
   "outputs": [],
   "source": [
    "n = -5\n",
    "m = 6.5\n",
    "x = 10"
   ]
  },
  {
   "cell_type": "code",
   "execution_count": null,
   "metadata": {
    "id": "RshsbHP1ZtA6"
   },
   "outputs": [],
   "source": [
    "print(abs(n)) # abs : return absolute value\n",
    "print(math.ceil(m)) # The ceiling of m: the smallest integer not less than m\n",
    "print(math.floor(m)) # The floor of m: the largest integer not greater than m.\n",
    "print(math.exp(x)) # returns exponential of x: e^x\n",
    "print(round(4.667, 2)) # value rounded to n digits from the decimal point"
   ]
  },
  {
   "cell_type": "code",
   "execution_count": null,
   "metadata": {
    "id": "bYrhVOtIfMaK"
   },
   "outputs": [],
   "source": [
    "math.exp(5)\n",
    "# math.e ** 5"
   ]
  },
  {
   "cell_type": "code",
   "execution_count": null,
   "metadata": {
    "id": "3XsmJQKeZ5WA"
   },
   "outputs": [],
   "source": [
    "math.e ** 5"
   ]
  },
  {
   "cell_type": "code",
   "execution_count": null,
   "metadata": {
    "id": "GlhT-JqmA6ep"
   },
   "outputs": [],
   "source": [
    "math.ceil(9.1)"
   ]
  },
  {
   "cell_type": "code",
   "execution_count": null,
   "metadata": {
    "id": "NAtxwApBYzzk"
   },
   "outputs": [],
   "source": [
    "math.ceil(9.0)"
   ]
  },
  {
   "cell_type": "code",
   "execution_count": null,
   "metadata": {
    "id": "FWqXuF2HA6UU"
   },
   "outputs": [],
   "source": [
    "abs(-6.5)"
   ]
  },
  {
   "cell_type": "code",
   "execution_count": null,
   "metadata": {
    "id": "IDww-fEsZfJu"
   },
   "outputs": [],
   "source": [
    "math.ceil(3.0001)"
   ]
  },
  {
   "cell_type": "code",
   "execution_count": null,
   "metadata": {
    "id": "oF04c8GQZQsP"
   },
   "outputs": [],
   "source": [
    "math.floor(3.99)"
   ]
  },
  {
   "cell_type": "code",
   "execution_count": null,
   "metadata": {
    "id": "dUpmCUuAA2EJ"
   },
   "outputs": [],
   "source": [
    "print(round(4.657, 1))"
   ]
  },
  {
   "cell_type": "markdown",
   "metadata": {
    "id": "3HPBLKPFdBou"
   },
   "source": [
    "#**String**"
   ]
  },
  {
   "cell_type": "code",
   "execution_count": null,
   "metadata": {
    "id": "x7u6mU9rc_JX"
   },
   "outputs": [],
   "source": [
    "s1 = \"Mahmoud\"\n",
    "listColors1 = \"Red,Green,Blue \"\n",
    "listColors2 = \"White,Black,Gray\""
   ]
  },
  {
   "cell_type": "code",
   "execution_count": null,
   "metadata": {
    "id": "DCH_LVDEhq4Z"
   },
   "outputs": [],
   "source": [
    "#  0   1   2   3   4   5   6\n",
    "#  M   a   h   m   o   u   d\n",
    "# -7  -6  -5  -4  -3  -2  -1 "
   ]
  },
  {
   "cell_type": "code",
   "execution_count": null,
   "metadata": {
    "id": "-b9k2XmwNJy_"
   },
   "outputs": [],
   "source": [
    "# slicing : [ start_index : end_index : num_steps ]\n",
    "# if num_steps with negative value move backward if num_setps with positive value move forward\n",
    "# if start index > end index => return ''"
   ]
  },
  {
   "cell_type": "code",
   "execution_count": null,
   "metadata": {
    "id": "zbSsU6aKS7eP"
   },
   "outputs": [],
   "source": [
    "# \"Mahmoud\"\n",
    "s1[0: 3 : 1]"
   ]
  },
  {
   "cell_type": "code",
   "execution_count": null,
   "metadata": {
    "id": "RZVSCJr8MZ8_"
   },
   "outputs": [],
   "source": [
    "s1[ : 4 ]"
   ]
  },
  {
   "cell_type": "code",
   "execution_count": null,
   "metadata": {
    "id": "-vllj_PLMlp3"
   },
   "outputs": [],
   "source": [
    "s1[4 : ]"
   ]
  },
  {
   "cell_type": "code",
   "execution_count": null,
   "metadata": {
    "id": "wQ_hpZPqild9"
   },
   "outputs": [],
   "source": [
    "s1[-5: :-1]"
   ]
  },
  {
   "cell_type": "code",
   "execution_count": null,
   "metadata": {
    "id": "5pptWTQpgD32"
   },
   "outputs": [],
   "source": [
    "s1[2: : -1]"
   ]
  },
  {
   "cell_type": "code",
   "execution_count": null,
   "metadata": {
    "id": "cxOA-fSCiyKD"
   },
   "outputs": [],
   "source": [
    "s1[5 : : -2]"
   ]
  },
  {
   "cell_type": "code",
   "execution_count": null,
   "metadata": {
    "id": "do_RBapCyUci"
   },
   "outputs": [],
   "source": []
  },
  {
   "cell_type": "code",
   "execution_count": null,
   "metadata": {
    "id": "YLO7-Wjl35c-"
   },
   "outputs": [],
   "source": [
    "# Question : \n",
    "# ========================\n",
    "# If s = \"Aa1Bb2Cc3Dd4Ee5Ff5Gg6\"\n",
    "\n",
    "# Write Python to make\n",
    "\n",
    "# sUpper = 'ABCDEFG'\n",
    "# sLower = 'abcdefg'\n",
    "# sNumbers = '1234556'"
   ]
  },
  {
   "cell_type": "code",
   "execution_count": null,
   "metadata": {
    "id": "4GjUMFTV35aP"
   },
   "outputs": [],
   "source": [
    "s = \"Aa1Bb2Cc3Dd4Ee5Ff5Gg6\""
   ]
  },
  {
   "cell_type": "code",
   "execution_count": null,
   "metadata": {
    "id": "toSDl_s1N4B4"
   },
   "outputs": [],
   "source": [
    "# sUpper = 'ABCDEFG'\n",
    "s[0: : 3]"
   ]
  },
  {
   "cell_type": "code",
   "execution_count": null,
   "metadata": {
    "id": "fUelk7oVN5FB"
   },
   "outputs": [],
   "source": [
    "s[1 : : 3]"
   ]
  },
  {
   "cell_type": "code",
   "execution_count": null,
   "metadata": {
    "id": "7rjeLIZ8N5wU"
   },
   "outputs": [],
   "source": [
    "s[2::3]"
   ]
  },
  {
   "cell_type": "code",
   "execution_count": null,
   "metadata": {
    "id": "RzJjz-eoN52F"
   },
   "outputs": [],
   "source": [
    "s[-1 :: -3]"
   ]
  },
  {
   "cell_type": "code",
   "execution_count": null,
   "metadata": {
    "id": "DWaXVoYoPD2Q"
   },
   "outputs": [],
   "source": [
    "s[-2 ::-3]"
   ]
  },
  {
   "cell_type": "code",
   "execution_count": null,
   "metadata": {
    "id": "JbFhmstIPDdX"
   },
   "outputs": [],
   "source": []
  },
  {
   "cell_type": "code",
   "execution_count": null,
   "metadata": {
    "id": "RoG099yFPe5R"
   },
   "outputs": [],
   "source": []
  },
  {
   "cell_type": "code",
   "execution_count": null,
   "metadata": {
    "id": "laCMMVJDzq5u"
   },
   "outputs": [],
   "source": [
    "sUpper = \"\"\n",
    "sLower = \"\"\n",
    "sNumber = \"\"\n",
    "for i in s :\n",
    "  if i >= \"A\" and i <= \"Z\":\n",
    "    sUpper += i # sUpper = sUpper + i \n",
    "\n",
    "  if i >= \"a\" and i <= \"z\" :\n",
    "    sLower += i\n",
    "  \n",
    "  if i>= \"0\" and i <= \"9\" :\n",
    "    sNumber += i\n",
    "\n",
    "print(sUpper)\n",
    "print(sLower)\n",
    "print(sNumber)"
   ]
  },
  {
   "cell_type": "code",
   "execution_count": null,
   "metadata": {
    "id": "xzh0HxVAGfVd"
   },
   "outputs": [],
   "source": [
    "sUpper = s[0 : : 3]\n",
    "sLower = s[1 : : 3]\n",
    "sNumber = s[2 : : 3]\n",
    "\n",
    "print(sUpper)\n",
    "print(sLower)\n",
    "print(sNumber)"
   ]
  },
  {
   "cell_type": "code",
   "execution_count": null,
   "metadata": {
    "id": "FiccpvUt0aro"
   },
   "outputs": [],
   "source": [
    "listColors1"
   ]
  },
  {
   "cell_type": "code",
   "execution_count": null,
   "metadata": {
    "id": "SMGDRg0A0fE1"
   },
   "outputs": [],
   "source": [
    "listColors2"
   ]
  },
  {
   "cell_type": "markdown",
   "metadata": {
    "id": "5V3205LOpiTx"
   },
   "source": [
    "**Concatination**"
   ]
  },
  {
   "cell_type": "code",
   "execution_count": null,
   "metadata": {
    "id": "gvrb7lDLdPA8"
   },
   "outputs": [],
   "source": [
    "# Concatination\n",
    "\n",
    "listColors1 + \",\" + listColors2"
   ]
  },
  {
   "cell_type": "markdown",
   "metadata": {
    "id": "NWCWM58rpnvP"
   },
   "source": [
    "**Sequence(string) length**"
   ]
  },
  {
   "cell_type": "code",
   "execution_count": null,
   "metadata": {
    "id": "bFvwPIDTQGyR"
   },
   "outputs": [],
   "source": [
    "# get length of string\n",
    "\n",
    "len(listColors1)"
   ]
  },
  {
   "cell_type": "code",
   "execution_count": null,
   "metadata": {
    "id": "-8MFDn3nfAbf"
   },
   "outputs": [],
   "source": [
    "print(listColors1)\n",
    "print(len(listColors1))"
   ]
  },
  {
   "cell_type": "markdown",
   "metadata": {
    "id": "ctkarEOgptLQ"
   },
   "source": [
    "**strip**"
   ]
  },
  {
   "cell_type": "code",
   "execution_count": null,
   "metadata": {
    "id": "mC0KVziyIZch"
   },
   "outputs": [],
   "source": [
    "# Strip the string\n",
    "\n",
    "print(\" Mahmoud\")\n",
    "print(\" Mahmoud\".strip())"
   ]
  },
  {
   "cell_type": "code",
   "execution_count": null,
   "metadata": {
    "id": "ysaYILu2auvJ"
   },
   "outputs": [],
   "source": [
    "print(\"          Mah    moud       \".strip())"
   ]
  },
  {
   "cell_type": "code",
   "execution_count": null,
   "metadata": {
    "id": "mwcOUAJTfAPf"
   },
   "outputs": [],
   "source": [
    "print(listColors1.strip())\n",
    "print(len(listColors1.strip()))"
   ]
  },
  {
   "cell_type": "markdown",
   "metadata": {
    "id": "5xEF6-Ez99M0"
   },
   "source": [
    "**Replace**"
   ]
  },
  {
   "cell_type": "code",
   "execution_count": null,
   "metadata": {
    "id": "E-W9Hr9n-EsG"
   },
   "outputs": [],
   "source": [
    "listColors1"
   ]
  },
  {
   "cell_type": "code",
   "execution_count": null,
   "metadata": {
    "id": "VM7kVqXufhjw"
   },
   "outputs": [],
   "source": [
    "# Replace Character with another \n",
    "\n",
    "listColors1.replace(',', \" \")"
   ]
  },
  {
   "cell_type": "code",
   "execution_count": null,
   "metadata": {
    "id": "We9ZTvQZJWqv"
   },
   "outputs": [],
   "source": [
    "listColors1"
   ]
  },
  {
   "cell_type": "code",
   "execution_count": null,
   "metadata": {
    "id": "Wp6gwwHw-WtS"
   },
   "outputs": [],
   "source": [
    "\"Sunday,Monday,Tuseday,\".replace(',', '-')"
   ]
  },
  {
   "cell_type": "code",
   "execution_count": null,
   "metadata": {
    "id": "Ee1kawDASfZA"
   },
   "outputs": [],
   "source": [
    "\"Sunday,Monday,Tuseday,\".replace(',', ' ').strip().replace(\" \", \"-\")"
   ]
  },
  {
   "cell_type": "code",
   "execution_count": null,
   "metadata": {
    "id": "76SrooZpSJEi"
   },
   "outputs": [],
   "source": [
    "\"Sunday,Monday,Tuseday,\".replace(',', '-')[:-1]"
   ]
  },
  {
   "cell_type": "code",
   "execution_count": null,
   "metadata": {
    "id": "c5K7CSJJdp7o"
   },
   "outputs": [],
   "source": [
    "name = \"Safa'a\""
   ]
  },
  {
   "cell_type": "code",
   "execution_count": null,
   "metadata": {
    "id": "Cr-q6TKndptA"
   },
   "outputs": [],
   "source": [
    "print(name[:-2])\n",
    "print(name[1:])"
   ]
  },
  {
   "cell_type": "code",
   "execution_count": null,
   "metadata": {
    "id": "2VrT9VPweYGX"
   },
   "outputs": [],
   "source": [
    "\"Sunday,Monday,Tuseday,\".replace(',', '-')[:-1]"
   ]
  },
  {
   "cell_type": "code",
   "execution_count": null,
   "metadata": {
    "id": "N273HL0mepcl"
   },
   "outputs": [],
   "source": [
    "# Sun - Mon - Tuse -"
   ]
  },
  {
   "cell_type": "code",
   "execution_count": null,
   "metadata": {
    "id": "5Y2ouqsBepZv"
   },
   "outputs": [],
   "source": [
    "\"Sunday,Monday,Tuseday,\".replace(\"day,\", \" - \")"
   ]
  },
  {
   "cell_type": "code",
   "execution_count": null,
   "metadata": {
    "id": "uuFXbTjnepXK"
   },
   "outputs": [],
   "source": [
    "\"Sunday,Monday,Tuseday,\".replace(\"day,\", \" - \")[:-3]"
   ]
  },
  {
   "cell_type": "code",
   "execution_count": null,
   "metadata": {
    "id": "Rzp6ynWIepUe"
   },
   "outputs": [],
   "source": [
    "\"Sunday,Monday,Tuseday,day,day,day,day,day,\".replace(\"a\", \" - \")[:-3]"
   ]
  },
  {
   "cell_type": "code",
   "execution_count": null,
   "metadata": {
    "id": "XLevQE9WepR-"
   },
   "outputs": [],
   "source": []
  },
  {
   "cell_type": "code",
   "execution_count": null,
   "metadata": {
    "id": "nHCHyJ8-DBco"
   },
   "outputs": [],
   "source": [
    "listColors1"
   ]
  },
  {
   "cell_type": "markdown",
   "metadata": {
    "id": "vYrdrAP8nbRd"
   },
   "source": [
    "**Find**"
   ]
  },
  {
   "cell_type": "code",
   "execution_count": null,
   "metadata": {
    "id": "bRlBcjk7fhgF"
   },
   "outputs": [],
   "source": [
    "# Find Function\n",
    "# Return first index if there is a matching\n",
    "# Return -1 if there is no matching\n",
    "\n",
    "listColors1.find(\"Green\")"
   ]
  },
  {
   "cell_type": "code",
   "execution_count": null,
   "metadata": {
    "id": "SKdx24AanAQX"
   },
   "outputs": [],
   "source": [
    "\"Red, Green,Blue\".find(\"Green\")"
   ]
  },
  {
   "cell_type": "code",
   "execution_count": null,
   "metadata": {
    "id": "D-lwsH3Sg3jk"
   },
   "outputs": [],
   "source": [
    "\"Red, Green,Blue\".find(\"green\")"
   ]
  },
  {
   "cell_type": "code",
   "execution_count": null,
   "metadata": {
    "id": "mRzwW6Tem0a7"
   },
   "outputs": [],
   "source": [
    "listColors2"
   ]
  },
  {
   "cell_type": "code",
   "execution_count": null,
   "metadata": {
    "id": "vLnpM-wRfheH"
   },
   "outputs": [],
   "source": [
    "listColors2.find(\"Black\")"
   ]
  },
  {
   "cell_type": "code",
   "execution_count": null,
   "metadata": {
    "id": "AC32-UZam4s4"
   },
   "outputs": [],
   "source": [
    "listColors1.find(\"Black\")"
   ]
  },
  {
   "cell_type": "markdown",
   "metadata": {
    "id": "bbQ3KLLYnnFJ"
   },
   "source": [
    "**split**"
   ]
  },
  {
   "cell_type": "code",
   "execution_count": null,
   "metadata": {
    "id": "hnvJTHjZbiu-"
   },
   "outputs": [],
   "source": [
    "# Split Function\n",
    "# split() : return list\n",
    "\n",
    "print(listColors1) \n",
    "print(listColors1.split())\n",
    "print(listColors1.split(' ')) "
   ]
  },
  {
   "cell_type": "code",
   "execution_count": null,
   "metadata": {
    "id": "RCEnjNJAMZwn"
   },
   "outputs": [],
   "source": [
    "ss = \"Red Green Blue\""
   ]
  },
  {
   "cell_type": "code",
   "execution_count": null,
   "metadata": {
    "id": "AoxAiG_eMEKC"
   },
   "outputs": [],
   "source": [
    "print(ss.split())"
   ]
  },
  {
   "cell_type": "code",
   "execution_count": null,
   "metadata": {
    "id": "zz9qmE8aok8B"
   },
   "outputs": [],
   "source": [
    "listColors1"
   ]
  },
  {
   "cell_type": "code",
   "execution_count": null,
   "metadata": {
    "id": "a5pz6NeHbwoJ"
   },
   "outputs": [],
   "source": [
    "listColors1.split(',') # split on ','"
   ]
  },
  {
   "cell_type": "code",
   "execution_count": null,
   "metadata": {
    "id": "rWOj6ijRiLrn"
   },
   "outputs": [],
   "source": [
    "\"Sunday,Monday,Tuseday,\".split(\",\")"
   ]
  },
  {
   "cell_type": "code",
   "execution_count": null,
   "metadata": {
    "id": "_or-hLhyiLpP"
   },
   "outputs": [],
   "source": [
    "\"Sunday,Monday,Tuseday,\"[:-1].split(\",\")"
   ]
  },
  {
   "cell_type": "code",
   "execution_count": null,
   "metadata": {
    "id": "SNBmONAmjSWc"
   },
   "outputs": [],
   "source": [
    "\"Sunday,Monday,Tuseday,\".split(\"day,\")"
   ]
  },
  {
   "cell_type": "code",
   "execution_count": null,
   "metadata": {
    "id": "P1iM6FxSjvmC"
   },
   "outputs": [],
   "source": [
    "\"Sun$day,Mon$day,Tuse$day,\".split(\"$\")"
   ]
  },
  {
   "cell_type": "code",
   "execution_count": null,
   "metadata": {
    "id": "0Mw1wKWWiLmn"
   },
   "outputs": [],
   "source": [
    "# [\"Sun\", \"Mon\", \"Tuse\"]"
   ]
  },
  {
   "cell_type": "code",
   "execution_count": null,
   "metadata": {
    "id": "2BWqI1bdiLkB"
   },
   "outputs": [],
   "source": []
  },
  {
   "cell_type": "code",
   "execution_count": null,
   "metadata": {
    "id": "psUbgTXufhYL"
   },
   "outputs": [],
   "source": [
    "print(listColors1, \"    type : \", type(listColors1))\n",
    "print(listColors1.split(','), \"    type : \", type(listColors1.split(','))) # split the string on ',' return the list"
   ]
  },
  {
   "cell_type": "markdown",
   "metadata": {
    "id": "F_MHxiiInvTG"
   },
   "source": [
    "**join**"
   ]
  },
  {
   "cell_type": "code",
   "execution_count": null,
   "metadata": {
    "id": "Uo9JwUqKg9aP"
   },
   "outputs": [],
   "source": [
    "# Join \n",
    "\n",
    "# split on ','\n",
    "l = listColors1.split(',')\n",
    "print(l)\n",
    "# join list items using * character \n",
    "# Join function recieve only sequence of items \n",
    "print(\"_\".join(l)) \n",
    "\n",
    "# ['Red', 'Green', 'Blue ']\n",
    "# Red_Green_Blue"
   ]
  },
  {
   "cell_type": "code",
   "execution_count": null,
   "metadata": {
    "id": "f-6nZopEHmi1"
   },
   "outputs": [],
   "source": [
    "# ['Red', 'Green', 'Blue ']\n",
    "# \"_\".join(['Red', 'Green', 'Blue '])\n",
    "# Red_Green_Blue "
   ]
  },
  {
   "cell_type": "code",
   "execution_count": null,
   "metadata": {
    "id": "ToGGEjSbqIGN"
   },
   "outputs": [],
   "source": [
    "# split input : string , output : list\n",
    "# join  input : list , output : string"
   ]
  },
  {
   "cell_type": "code",
   "execution_count": null,
   "metadata": {
    "id": "5kl2gAZ0K6Eg"
   },
   "outputs": [],
   "source": [
    "type(\",\".join(l))"
   ]
  },
  {
   "cell_type": "code",
   "execution_count": null,
   "metadata": {
    "id": "wbk-H4GPF25-"
   },
   "outputs": [],
   "source": [
    "sTest = \"Mahmoud Hammouri, Aseel Ajarmeh, Nawras abu Ali, Nemer Salameh\""
   ]
  },
  {
   "cell_type": "code",
   "execution_count": null,
   "metadata": {
    "id": "SQODgfm9F23y"
   },
   "outputs": [],
   "source": [
    "sTest.split(\",\")"
   ]
  },
  {
   "cell_type": "code",
   "execution_count": null,
   "metadata": {
    "id": "LpTT8GMfGPLR"
   },
   "outputs": [],
   "source": [
    "\"_\".join(sTest.split(\",\"))"
   ]
  },
  {
   "cell_type": "code",
   "execution_count": null,
   "metadata": {
    "id": "_lnxOk2NGPI_"
   },
   "outputs": [],
   "source": []
  },
  {
   "cell_type": "markdown",
   "metadata": {
    "id": "Lc9GU0yr2cG7"
   },
   "source": [
    "#**List**\n"
   ]
  },
  {
   "cell_type": "code",
   "execution_count": null,
   "metadata": {
    "id": "ZuRCmXLW2bVs"
   },
   "outputs": [],
   "source": [
    "# Create lists\n",
    "\n",
    "nums = [1,2,3,4,5,6,7,8,9,10] # integer values\n",
    "fruits = [\"Apple\", \"Orange\", \"Banana\", \"Blueberry\"] # string values\n",
    "data = [\"Mahmoud\", 25, \"CIS\", 83.1] # int, string, float values"
   ]
  },
  {
   "cell_type": "code",
   "execution_count": null,
   "metadata": {
    "id": "hhzRaSOfrO3I"
   },
   "outputs": [],
   "source": [
    "fruits[1]"
   ]
  },
  {
   "cell_type": "code",
   "execution_count": null,
   "metadata": {
    "id": "hsuDZitC2bMH"
   },
   "outputs": [],
   "source": [
    "# Access to list elements \n",
    "print(nums[0])\n",
    "print(nums[3:8:2])\n",
    "print(nums[3:-1])\n",
    "print(nums[3:])\n",
    "print(nums[-3: -1])"
   ]
  },
  {
   "cell_type": "code",
   "execution_count": null,
   "metadata": {
    "id": "4UckbEps4vL-"
   },
   "outputs": [],
   "source": [
    "# Add element to the list\n",
    "nums.append(\"11\")\n",
    "print(nums)"
   ]
  },
  {
   "cell_type": "code",
   "execution_count": null,
   "metadata": {
    "id": "FUw8nmlo5ZTp"
   },
   "outputs": [],
   "source": [
    "# Concate two lists\n",
    "[1,3,\"5\",7] + [2,\"4\",6,8]"
   ]
  },
  {
   "cell_type": "code",
   "execution_count": null,
   "metadata": {
    "id": "eibah5MG5m0L"
   },
   "outputs": [],
   "source": [
    "# Extend \n",
    "\n",
    "temp = [1,3,5,7]\n",
    "temp.extend([2,4,6,8])\n",
    "print(temp)\n",
    "\n",
    "# [1,3,5,7, 2,4,6,8] \n"
   ]
  },
  {
   "cell_type": "code",
   "execution_count": null,
   "metadata": {
    "id": "gu1-RilbcieA"
   },
   "outputs": [],
   "source": [
    "# Try to append list \n",
    "q = [1,3,5,7]\n",
    "q.append([1,3,5,7])"
   ]
  },
  {
   "cell_type": "code",
   "execution_count": null,
   "metadata": {
    "id": "fE_UVgbVcq79"
   },
   "outputs": [],
   "source": [
    "q"
   ]
  },
  {
   "cell_type": "code",
   "execution_count": null,
   "metadata": {
    "id": "DRujfUQqRMFn"
   },
   "outputs": [],
   "source": [
    "nums[10]"
   ]
  },
  {
   "cell_type": "code",
   "execution_count": null,
   "metadata": {
    "id": "Cvn_TUvO6DUs"
   },
   "outputs": [],
   "source": [
    "# Update list elements\n",
    "nums[10]= 11 # Update single element\n",
    "print(nums)"
   ]
  },
  {
   "cell_type": "code",
   "execution_count": null,
   "metadata": {
    "id": "4LgXF7iUS5zy"
   },
   "outputs": [],
   "source": [
    "nums = [1, 2, 3, 4, 5, 6, 7, 8, 9, 10, 11]\n",
    "print(nums)"
   ]
  },
  {
   "cell_type": "code",
   "execution_count": null,
   "metadata": {
    "id": "5-IftYrNR-9K"
   },
   "outputs": [],
   "source": [
    "nums[:3]"
   ]
  },
  {
   "cell_type": "code",
   "execution_count": null,
   "metadata": {
    "id": "GaUXY82JRVpx"
   },
   "outputs": [],
   "source": [
    "nums[:3] = [\"1\", \"2\", \"3\"] # Update multiple elements\n",
    "print(nums)"
   ]
  },
  {
   "cell_type": "code",
   "execution_count": null,
   "metadata": {
    "id": "Vw_zpbc5Re1n"
   },
   "outputs": [],
   "source": [
    "nums[:3]"
   ]
  },
  {
   "cell_type": "code",
   "execution_count": null,
   "metadata": {
    "id": "FWSC_wpQS93p"
   },
   "outputs": [],
   "source": [
    "nums = [1, 2, 3, 4, 5, 6, 7, 8, 9, 10, 11]\n",
    "print(nums)"
   ]
  },
  {
   "cell_type": "code",
   "execution_count": null,
   "metadata": {
    "id": "OWix3WAMTAuB"
   },
   "outputs": [],
   "source": [
    "nums[:3] = [\"1\", \"2\", \"3\", \"4\", \"5\"] # Update multiple elements\n",
    "print(nums)"
   ]
  },
  {
   "cell_type": "code",
   "execution_count": null,
   "metadata": {
    "id": "0X7gMSsXwK7d"
   },
   "outputs": [],
   "source": []
  },
  {
   "cell_type": "code",
   "execution_count": null,
   "metadata": {
    "id": "-CQMbqUySdIi"
   },
   "outputs": [],
   "source": [
    "nums = [1, 2, 3, 4, 5, 6, 7, 8, 9, 10, 11]\n",
    "print(nums)"
   ]
  },
  {
   "cell_type": "code",
   "execution_count": null,
   "metadata": {
    "id": "gl1JQMbtReIG"
   },
   "outputs": [],
   "source": [
    "nums[:5] = [\"1\", \"2\", \"3\", \"4\", \"5\"] # Update multiple elements\n",
    "print(nums)"
   ]
  },
  {
   "cell_type": "code",
   "execution_count": null,
   "metadata": {
    "id": "SQcT3MNEW6Xr"
   },
   "outputs": [],
   "source": [
    "# Delete elements from lists\n",
    "nums.remove(11) # Delete element by value\n",
    "print(nums)"
   ]
  },
  {
   "cell_type": "code",
   "execution_count": null,
   "metadata": {
    "id": "Ps10F-BS6DRK"
   },
   "outputs": [],
   "source": [
    "del nums[-1] # Delete by index\n",
    "print(nums)"
   ]
  },
  {
   "cell_type": "code",
   "execution_count": null,
   "metadata": {
    "id": "2_vIKKF4XCee"
   },
   "outputs": [],
   "source": [
    "del nums[:3] # delete multiple elements using slicing \n",
    "print(nums)"
   ]
  },
  {
   "cell_type": "code",
   "execution_count": null,
   "metadata": {
    "id": "X5jgEwQVFBAI"
   },
   "outputs": [],
   "source": [
    "print(\"list Length : \", len(nums))"
   ]
  },
  {
   "cell_type": "code",
   "execution_count": null,
   "metadata": {
    "id": "VdKMoiXUFA8T"
   },
   "outputs": [],
   "source": [
    "nums.extend([5,5,5])\n",
    "print(nums)"
   ]
  },
  {
   "cell_type": "code",
   "execution_count": null,
   "metadata": {
    "id": "72uOqhIZHrR3"
   },
   "outputs": [],
   "source": [
    "nums"
   ]
  },
  {
   "cell_type": "code",
   "execution_count": null,
   "metadata": {
    "id": "83AEimOJXatz"
   },
   "outputs": [],
   "source": [
    "# Count \n",
    "print(\"Number of occurrences for 5  : \" , nums.count(\"5\"))"
   ]
  },
  {
   "cell_type": "code",
   "execution_count": null,
   "metadata": {
    "id": "mRNz7fe3vTvT"
   },
   "outputs": [],
   "source": [
    "print(\"Number of occurrences for 5  : \" , nums.count(5))"
   ]
  },
  {
   "cell_type": "code",
   "execution_count": null,
   "metadata": {
    "id": "0EqaxDiTXq72"
   },
   "outputs": [],
   "source": [
    "# Index\n",
    "print(\"Index for 5 value is \" , nums.index(5))"
   ]
  },
  {
   "cell_type": "code",
   "execution_count": null,
   "metadata": {
    "id": "MzeTaylUYDln"
   },
   "outputs": [],
   "source": [
    "nums"
   ]
  },
  {
   "cell_type": "code",
   "execution_count": null,
   "metadata": {
    "id": "WKCqmg43X1iI"
   },
   "outputs": [],
   "source": [
    "# Insert by index\n",
    "nums.insert(4,100)\n",
    "print(\"Insert value at 4th index \" , \"nums => \", end = ' ')\n",
    "print(nums)"
   ]
  },
  {
   "cell_type": "code",
   "execution_count": null,
   "metadata": {
    "id": "Z-FSxhP-UUzM"
   },
   "outputs": [],
   "source": [
    "# nums.insert(1000)\n",
    "# print(nums)"
   ]
  },
  {
   "cell_type": "code",
   "execution_count": null,
   "metadata": {
    "id": "ZLxuUU66Ygbu"
   },
   "outputs": [],
   "source": [
    "nums = ['4', '5', 6, 7, 100, 8, 9, 5, 5, 5]"
   ]
  },
  {
   "cell_type": "code",
   "execution_count": null,
   "metadata": {
    "id": "uh7hglkoYI3I"
   },
   "outputs": [],
   "source": [
    "# Pop\n",
    "# remove and return value\n",
    "p = nums.pop(-4)\n",
    "\n",
    "print(\"Pop last element \", \"nums => \", nums)"
   ]
  },
  {
   "cell_type": "code",
   "execution_count": null,
   "metadata": {
    "id": "RL3Qf-33Yawe"
   },
   "outputs": [],
   "source": [
    "p"
   ]
  },
  {
   "cell_type": "code",
   "execution_count": null,
   "metadata": {
    "id": "rMyae2glYx8O"
   },
   "outputs": [],
   "source": [
    "# Reverse \n",
    "print(\"Reverse list items : \", end = ' ')\n",
    "nums.reverse()\n",
    "print(nums)"
   ]
  },
  {
   "cell_type": "code",
   "execution_count": null,
   "metadata": {
    "id": "NpenfYXUFVZy"
   },
   "outputs": [],
   "source": [
    "\n",
    "# Sort functions\n",
    "# sort() method sorts the original list in-place\n",
    "\n",
    "print(\"Sort list items : \", end = ' ')\n",
    "nums = [100,88,1001, 8, 7, 6, 5, 5, 5]\n",
    "\n",
    "nums.sort() # Sort list values from lower to higher \n",
    "print(nums)"
   ]
  },
  {
   "cell_type": "code",
   "execution_count": null,
   "metadata": {
    "id": "LQQh_2MCTR5E"
   },
   "outputs": [],
   "source": [
    "# Sort list values from higher to lower\n",
    "nums = [100,88,1001, 8, 7, 6, 5, 5, 5]\n",
    "nums.sort(reverse=True)\n",
    "print(nums)"
   ]
  },
  {
   "cell_type": "code",
   "execution_count": null,
   "metadata": {
    "id": "oFtGviTyzCc0"
   },
   "outputs": [],
   "source": [
    "# Define list of strings \n",
    "L=[\"Four\",\"two\",\"One\",\"three\",\"Five\"]\n",
    "\n",
    "# sorts the string elements alphabetically\n",
    "# A < Z < a < z\n",
    "\n",
    "L.sort()\n",
    "print(L)"
   ]
  },
  {
   "cell_type": "code",
   "execution_count": null,
   "metadata": {
    "id": "sQSg6HzzzC-9"
   },
   "outputs": [],
   "source": [
    "# Question : \n",
    "# What is the difference between nums.sort() and sorted(nums)\n",
    "\n",
    "\n",
    "nums = [100,88,1001, 8, 7, 6, 5, 5, 5]\n",
    "print(\"sorted nums : \", sorted(nums))\n",
    "\n",
    "print(\"nums : \" , nums)\n",
    "nums.sort()\n",
    "print(\"nums : \",nums)"
   ]
  },
  {
   "cell_type": "code",
   "execution_count": null,
   "metadata": {
    "id": "7VR_sirfxZZi"
   },
   "outputs": [],
   "source": [
    "nums = [100,88,1001, 8, 7, 6, 5, 5, 5]"
   ]
  },
  {
   "cell_type": "code",
   "execution_count": null,
   "metadata": {
    "id": "VUGoUlbkxZVk"
   },
   "outputs": [],
   "source": [
    "nums"
   ]
  },
  {
   "cell_type": "code",
   "execution_count": null,
   "metadata": {
    "id": "7X7I8wYayPdK"
   },
   "outputs": [],
   "source": [
    "nums.sort()"
   ]
  },
  {
   "cell_type": "code",
   "execution_count": null,
   "metadata": {
    "id": "CSmiBTllyPaT"
   },
   "outputs": [],
   "source": [
    "nums"
   ]
  },
  {
   "cell_type": "code",
   "execution_count": null,
   "metadata": {
    "id": "FncIRzoNyPWm"
   },
   "outputs": [],
   "source": [
    "nums = [100,88,1001, 8, 7, 6, 5, 5, 5]"
   ]
  },
  {
   "cell_type": "code",
   "execution_count": null,
   "metadata": {
    "id": "NLxnJhKeyPUI"
   },
   "outputs": [],
   "source": [
    "nums"
   ]
  },
  {
   "cell_type": "code",
   "execution_count": null,
   "metadata": {
    "id": "n2sECJLYxZTV"
   },
   "outputs": [],
   "source": [
    "sorted(nums)"
   ]
  },
  {
   "cell_type": "code",
   "execution_count": null,
   "metadata": {
    "id": "5DrwQfk2xYyZ"
   },
   "outputs": [],
   "source": [
    "nums"
   ]
  },
  {
   "cell_type": "code",
   "execution_count": null,
   "metadata": {
    "id": "jHS8iz97ygW7"
   },
   "outputs": [],
   "source": []
  },
  {
   "cell_type": "code",
   "execution_count": null,
   "metadata": {
    "id": "narXnuRmygNt"
   },
   "outputs": [],
   "source": []
  },
  {
   "cell_type": "code",
   "execution_count": null,
   "metadata": {
    "id": "dtkVHzzeZU4M"
   },
   "outputs": [],
   "source": [
    "# Task\n",
    "# Print the file name and extention for the following path\n",
    "path = \"C:\\\\MLCourse\\\\Python\\\\Assignement\\\\data.txt\"\n",
    "# Solution : "
   ]
  },
  {
   "cell_type": "code",
   "execution_count": null,
   "metadata": {
    "id": "n5Ti-he2aAFp"
   },
   "outputs": [],
   "source": [
    "path.split(\"\\\\\")"
   ]
  },
  {
   "cell_type": "code",
   "execution_count": null,
   "metadata": {
    "id": "q341FvUJZ_rk"
   },
   "outputs": [],
   "source": [
    "path.split(\"\\\\\")[-1]"
   ]
  },
  {
   "cell_type": "code",
   "execution_count": null,
   "metadata": {
    "id": "hWPX7YSHZ_OI"
   },
   "outputs": [],
   "source": [
    "path.split(\"\\\\\")[-1].split(\".\")"
   ]
  },
  {
   "cell_type": "code",
   "execution_count": null,
   "metadata": {
    "id": "P1qXy7MsY8Bm"
   },
   "outputs": [],
   "source": [
    "path.split(\"\\\\\")[-1].split(\".\")[0]"
   ]
  },
  {
   "cell_type": "code",
   "execution_count": null,
   "metadata": {
    "id": "WA0XXDVCY7yn"
   },
   "outputs": [],
   "source": [
    "path.split(\"\\\\\")[-1].split(\".\")[-1]"
   ]
  },
  {
   "cell_type": "code",
   "execution_count": null,
   "metadata": {
    "id": "UGdTQSISY7h3"
   },
   "outputs": [],
   "source": []
  },
  {
   "cell_type": "code",
   "execution_count": null,
   "metadata": {
    "id": "GXSMPnUFd61D"
   },
   "outputs": [],
   "source": [
    "path.split(\"\\\\\")[-1].split(\".\")"
   ]
  },
  {
   "cell_type": "code",
   "execution_count": null,
   "metadata": {
    "id": "wqG_frEwcS0-"
   },
   "outputs": [],
   "source": [
    "#1 - split on '\\\\'\n",
    "path.split(\"\\\\\")\n",
    "# 2- access to the last element\n",
    "path.split(\"\\\\\")[-1]\n",
    "\n",
    "# 3- split on '.'\n",
    "path.split(\"\\\\\")[-1].split(\".\")\n",
    "\n",
    "# 4- save the output in varibles\n",
    "fileName, extention = path.split(\"\\\\\")[-1].split(\".\")"
   ]
  },
  {
   "cell_type": "code",
   "execution_count": null,
   "metadata": {
    "id": "sng4RNun3Tyy"
   },
   "outputs": [],
   "source": [
    "fileName = path.split(\"\\\\\")[-1].split(\".\")[0]\n",
    "extention = path.split(\"\\\\\")[-1].split(\".\")[-1]"
   ]
  },
  {
   "cell_type": "code",
   "execution_count": null,
   "metadata": {
    "id": "aWRwI11_c9zG"
   },
   "outputs": [],
   "source": [
    "print(fileName)\n",
    "print(extention)"
   ]
  },
  {
   "cell_type": "code",
   "execution_count": null,
   "metadata": {
    "id": "Xob6g144da_f"
   },
   "outputs": [],
   "source": [
    "# Task\n",
    "# Print the file name and extention for the following path\n",
    "path = \"C:\\\\MLCourse\\\\Python\\\\Assignement\\\\data.h.file.png\""
   ]
  },
  {
   "cell_type": "code",
   "execution_count": null,
   "metadata": {
    "id": "Be3cJ9MSda0F"
   },
   "outputs": [],
   "source": [
    "path.split('\\\\')"
   ]
  },
  {
   "cell_type": "code",
   "execution_count": null,
   "metadata": {
    "id": "fj7zvDnrdplq"
   },
   "outputs": [],
   "source": [
    "path.split('\\\\')[-1]"
   ]
  },
  {
   "cell_type": "code",
   "execution_count": null,
   "metadata": {
    "id": "DWVy3VnKdpdd"
   },
   "outputs": [],
   "source": [
    "path.split('\\\\')[-1].split(\".\")"
   ]
  },
  {
   "cell_type": "code",
   "execution_count": null,
   "metadata": {
    "id": "XDpx4et8dpVY"
   },
   "outputs": [],
   "source": [
    "\".\".join(path.split('\\\\')[-1].split(\".\")[:-1])"
   ]
  },
  {
   "cell_type": "code",
   "execution_count": null,
   "metadata": {
    "id": "xczpdRqieR_4"
   },
   "outputs": [],
   "source": [
    "path.split('\\\\')[-1].split(\".\")[-1]"
   ]
  },
  {
   "cell_type": "code",
   "execution_count": null,
   "metadata": {
    "id": "qMGkSbbeg9Uv"
   },
   "outputs": [],
   "source": [
    "\n",
    "\n",
    "# path.split('\\\\')\n",
    "# Solution : "
   ]
  },
  {
   "cell_type": "code",
   "execution_count": null,
   "metadata": {
    "id": "biAmoMIG1fCA"
   },
   "outputs": [],
   "source": [
    "\".\".join(path.split(\"\\\\\")[-1].split(\".\")[:-1])"
   ]
  },
  {
   "cell_type": "code",
   "execution_count": null,
   "metadata": {
    "id": "pF8La-iy12DL"
   },
   "outputs": [],
   "source": [
    "path.split(\"\\\\\")[-1].split(\".\")[-1]"
   ]
  },
  {
   "cell_type": "code",
   "execution_count": null,
   "metadata": {
    "id": "6nORArSvbfpA"
   },
   "outputs": [],
   "source": [
    "fileName = \".\".join(path.split(\"\\\\\")[-1].split(\".\")[:-1])\n",
    "fileExtention = path.split(\"\\\\\")[-1].split(\".\")[-1]"
   ]
  },
  {
   "cell_type": "code",
   "execution_count": null,
   "metadata": {
    "id": "KAIulBG95FPx"
   },
   "outputs": [],
   "source": [
    "print(\"file name : \" ,fileName)\n",
    "print(\"file extention\" , extention)"
   ]
  },
  {
   "cell_type": "code",
   "execution_count": null,
   "metadata": {
    "id": "968c0FqmYMQg"
   },
   "outputs": [],
   "source": [
    "ll = [ 1,2, 3,4 , [4,4,4,4], 5,6]"
   ]
  },
  {
   "cell_type": "code",
   "execution_count": null,
   "metadata": {
    "id": "6xMB3N4GMHLU"
   },
   "outputs": [],
   "source": [
    "ll[4][2]"
   ]
  },
  {
   "cell_type": "code",
   "execution_count": null,
   "metadata": {
    "id": "ctv9v0U0MY1w"
   },
   "outputs": [],
   "source": []
  },
  {
   "cell_type": "code",
   "execution_count": null,
   "metadata": {
    "id": "wbkpZbheMYu1"
   },
   "outputs": [],
   "source": []
  },
  {
   "cell_type": "code",
   "execution_count": null,
   "metadata": {
    "id": "na9OXqvoMYor"
   },
   "outputs": [],
   "source": []
  },
  {
   "cell_type": "markdown",
   "metadata": {
    "id": "4PZY1kWNJfhr"
   },
   "source": [
    "#**Tuples**"
   ]
  },
  {
   "cell_type": "code",
   "execution_count": null,
   "metadata": {
    "id": "UgV_WldIiU8p"
   },
   "outputs": [],
   "source": [
    "# Create tuple by add comma-seperated-values in ( )\n",
    "colors = (\"Red\", \"Orange\", \"Black\", \"White\", \"Blue\", \"Green\", \"Green\")"
   ]
  },
  {
   "cell_type": "code",
   "execution_count": null,
   "metadata": {
    "id": "bWh4l9oyS6Hd"
   },
   "outputs": [],
   "source": [
    "# Create tuple using \"tuple\" keyword and but comma-seperated-values in a list\n",
    "colors = tuple([\"Red\", \"Orange\", \"Black\", \"White\", \"Blue\", \"Green\", \"Green\"])"
   ]
  },
  {
   "cell_type": "code",
   "execution_count": null,
   "metadata": {
    "id": "nMBlBoSbJe31"
   },
   "outputs": [],
   "source": [
    "# Access tuple data\n",
    "print(colors[1]) # using index\n",
    "print(colors[:3]) # using slicing\n"
   ]
  },
  {
   "cell_type": "code",
   "execution_count": null,
   "metadata": {
    "id": "DAAvAqgvQ5-o"
   },
   "outputs": [],
   "source": [
    "# get number ot items in tuple by length function\n",
    "len(colors)"
   ]
  },
  {
   "cell_type": "code",
   "execution_count": null,
   "metadata": {
    "id": "lcQdWnZzgtK7"
   },
   "outputs": [],
   "source": [
    "# Concatination \n",
    "(1,2,3) + (4,5,6)"
   ]
  },
  {
   "cell_type": "code",
   "execution_count": null,
   "metadata": {
    "id": "LoqDFit-gyNw"
   },
   "outputs": [],
   "source": [
    "# Repetition \n",
    "(1,2,3) * 3"
   ]
  },
  {
   "cell_type": "code",
   "execution_count": null,
   "metadata": {
    "id": "FcaKxoW0RIiZ"
   },
   "outputs": [],
   "source": [
    "# Update value in tuple\n",
    "\n",
    "# What's the output ?????\n",
    "# colors[0]=\"B\""
   ]
  },
  {
   "cell_type": "code",
   "execution_count": null,
   "metadata": {
    "id": "ZfASVojkazI5"
   },
   "outputs": [],
   "source": [
    "colors"
   ]
  },
  {
   "cell_type": "code",
   "execution_count": null,
   "metadata": {
    "id": "BqV6mkCLQ761"
   },
   "outputs": [],
   "source": [
    "# order = A-z \n",
    "print(min(colors))\n",
    "print(max(colors))"
   ]
  },
  {
   "cell_type": "code",
   "execution_count": null,
   "metadata": {
    "id": "4UG2z7nzfo8z"
   },
   "outputs": [],
   "source": [
    "# what is the output ???\n",
    "min(\"Z\",\"a\")"
   ]
  },
  {
   "cell_type": "code",
   "execution_count": null,
   "metadata": {
    "id": "_itQcF9PhIs1"
   },
   "outputs": [],
   "source": [
    "# what is the output ???\n",
    "min(\"BB\", \"BA\")"
   ]
  },
  {
   "cell_type": "code",
   "execution_count": null,
   "metadata": {
    "id": "ws1DgcmYRXKR"
   },
   "outputs": [],
   "source": [
    "# Return number of repetitions for specified value \n",
    "colors.count(\"Green\")"
   ]
  },
  {
   "cell_type": "markdown",
   "metadata": {
    "id": "Ull0ku1eRdJf"
   },
   "source": [
    "# **Set**"
   ]
  },
  {
   "cell_type": "code",
   "execution_count": null,
   "metadata": {
    "id": "bAM50xTuRfFZ"
   },
   "outputs": [],
   "source": [
    "# Create tuple using \"set\" keyword and but comma-seperated-values in a list\n",
    "setColors1 =  set([\"Red\", \"Orange\", \"Black\", \"White\", \"Blue\", \"Green\", \"Green\"]) # Create by pass 1 itterable argument "
   ]
  },
  {
   "cell_type": "code",
   "execution_count": null,
   "metadata": {
    "id": "5Cwo_5RtrbxG"
   },
   "outputs": [],
   "source": [
    "# Create tuple by add comma-seperated-values in { } \n",
    "setColors2 = {\"Red\", \"Orange\", \"Black\", \"White\", \"Blue\", \"Green\"}"
   ]
  },
  {
   "cell_type": "code",
   "execution_count": null,
   "metadata": {
    "id": "i4G6M70ARqJI"
   },
   "outputs": [],
   "source": [
    "setColors1"
   ]
  },
  {
   "cell_type": "code",
   "execution_count": null,
   "metadata": {
    "id": "5yyv5RChSCdK"
   },
   "outputs": [],
   "source": [
    "setColors2"
   ]
  },
  {
   "cell_type": "code",
   "execution_count": null,
   "metadata": {
    "id": "tHhWM4PjSJjF"
   },
   "outputs": [],
   "source": [
    "print([1,1,2,3,4,7,7,5,6,6,6], \" length : \", len([1,1,2,3,4,7,7,5,6,6,6]))\n",
    "print(set([1,1,2,3,4,7,7,5,6,6,6]), \" length : \",len(set([1,1,2,3,4,7,7,5,6,6,6])))"
   ]
  },
  {
   "cell_type": "code",
   "execution_count": null,
   "metadata": {
    "id": "kDwhPoRE5ecX"
   },
   "outputs": [],
   "source": [
    "set([1,1,2,3,4,7,7,5,6,6,6])"
   ]
  },
  {
   "cell_type": "code",
   "execution_count": null,
   "metadata": {
    "id": "4OQYuziFJhHp"
   },
   "outputs": [],
   "source": [
    "setColors1.add(\"Gray\")"
   ]
  },
  {
   "cell_type": "code",
   "execution_count": null,
   "metadata": {
    "id": "8AyAYEjQJnrD"
   },
   "outputs": [],
   "source": [
    "setColors1"
   ]
  },
  {
   "cell_type": "code",
   "execution_count": null,
   "metadata": {
    "id": "rB5KzYGlJqvt"
   },
   "outputs": [],
   "source": [
    "set_1 = setColors1.copy()"
   ]
  },
  {
   "cell_type": "code",
   "execution_count": null,
   "metadata": {
    "id": "BcO_Z0rCJqko"
   },
   "outputs": [],
   "source": [
    "set_1"
   ]
  },
  {
   "cell_type": "code",
   "execution_count": null,
   "metadata": {
    "id": "Dcar7HSQJ2UA"
   },
   "outputs": [],
   "source": [
    "s = set_1.pop()\n",
    "print(set_1)\n",
    "print(s)"
   ]
  },
  {
   "cell_type": "code",
   "execution_count": null,
   "metadata": {
    "id": "Is9j5eLtJ1VY"
   },
   "outputs": [],
   "source": [
    "set_1"
   ]
  },
  {
   "cell_type": "code",
   "execution_count": null,
   "metadata": {
    "id": "3m49EVl_KFQC"
   },
   "outputs": [],
   "source": [
    "set_1.clear()"
   ]
  },
  {
   "cell_type": "code",
   "execution_count": null,
   "metadata": {
    "id": "mocFjrLxKXgo"
   },
   "outputs": [],
   "source": [
    "set_1"
   ]
  },
  {
   "cell_type": "code",
   "execution_count": null,
   "metadata": {
    "id": "CPtTF8yILX6v"
   },
   "outputs": [],
   "source": []
  },
  {
   "cell_type": "markdown",
   "metadata": {
    "id": "ftX2JUpCKjCf"
   },
   "source": [
    "# **Dictionary**"
   ]
  },
  {
   "cell_type": "code",
   "execution_count": null,
   "metadata": {
    "id": "E-Drp5tTWPzk"
   },
   "outputs": [],
   "source": [
    "# Create dictionary using \"dict\" keyword\n",
    "d1 = dict()\n",
    "\n",
    "d1[\"1\"] = 1\n",
    "d1[\"2\"] = 2\n",
    "d1[\"3\"] = 3\n",
    "\n",
    "# string , number, tuple "
   ]
  },
  {
   "cell_type": "code",
   "execution_count": null,
   "metadata": {
    "id": "zsT31_LAR2B1"
   },
   "outputs": [],
   "source": [
    "d3 = {  1: \"one\", 2 : \"two\" }"
   ]
  },
  {
   "cell_type": "code",
   "execution_count": null,
   "metadata": {
    "id": "1HEm1jZDf63h"
   },
   "outputs": [],
   "source": [
    "# d1[\"1\"], d1[\"2\"], d1[\"3\"] = 4,5,6"
   ]
  },
  {
   "cell_type": "code",
   "execution_count": null,
   "metadata": {
    "id": "GbU6rzY2ruwk"
   },
   "outputs": [],
   "source": [
    "# # Create dictionary by add \"key\" : value in { } \n",
    "d2 = { \"3\" : 3.0, \"4\": 4, \"5\":5 }"
   ]
  },
  {
   "cell_type": "code",
   "execution_count": null,
   "metadata": {
    "id": "kvhleZs_gGAD"
   },
   "outputs": [],
   "source": [
    "d2"
   ]
  },
  {
   "cell_type": "code",
   "execution_count": null,
   "metadata": {
    "id": "_cclo1w9WQq3"
   },
   "outputs": [],
   "source": [
    "sData = {\n",
    "         \"name\" : \"Mahmoud\",\n",
    "         \"age\": 25,\n",
    "         \"gpa\":83.1,\n",
    "         \"marks\": [100, 89, 79, 95, 99]\n",
    "         }"
   ]
  },
  {
   "cell_type": "code",
   "execution_count": null,
   "metadata": {
    "id": "eerF0cNSfyxz"
   },
   "outputs": [],
   "source": [
    "sData"
   ]
  },
  {
   "cell_type": "code",
   "execution_count": null,
   "metadata": {
    "id": "FmNxoPzCXAkN"
   },
   "outputs": [],
   "source": [
    "# Access element by key\n",
    "print(sData[\"name\"])\n",
    "print(sData[\"marks\"])"
   ]
  },
  {
   "cell_type": "code",
   "execution_count": null,
   "metadata": {
    "id": "MRfxEeJ8g4Qo"
   },
   "outputs": [],
   "source": [
    "sData.items()"
   ]
  },
  {
   "cell_type": "code",
   "execution_count": null,
   "metadata": {
    "id": "H_eYjlalWBXd"
   },
   "outputs": [],
   "source": [
    "list(sData.items())"
   ]
  },
  {
   "cell_type": "code",
   "execution_count": null,
   "metadata": {
    "id": "yyHW9CBDgXtp"
   },
   "outputs": [],
   "source": [
    "print(\"Dictionary key and values in tuple as pairs : \", sData.items(), end=\"\\n\\n\")"
   ]
  },
  {
   "cell_type": "code",
   "execution_count": null,
   "metadata": {
    "id": "WU9zCE_DglEa"
   },
   "outputs": [],
   "source": [
    "print(\"Dictionary values : \" , sData.values(), end=\"\\n\\n\")"
   ]
  },
  {
   "cell_type": "code",
   "execution_count": null,
   "metadata": {
    "id": "4zOn62JT4O80"
   },
   "outputs": [],
   "source": [
    "list(sData.values())"
   ]
  },
  {
   "cell_type": "code",
   "execution_count": null,
   "metadata": {
    "id": "xaWV2eapWU-2"
   },
   "outputs": [],
   "source": [
    "print(\"Dictionary keys : \",sData.keys(), end=\"\\n\\n\")"
   ]
  },
  {
   "cell_type": "code",
   "execution_count": null,
   "metadata": {
    "id": "Y0F5wzNU39Qg"
   },
   "outputs": [],
   "source": [
    "list(sData.keys())"
   ]
  },
  {
   "cell_type": "code",
   "execution_count": null,
   "metadata": {
    "id": "AlnWswgF4zMW"
   },
   "outputs": [],
   "source": [
    "# cheack if key name in dictionary keys\n",
    "\"name\" in sData.keys()"
   ]
  },
  {
   "cell_type": "code",
   "execution_count": null,
   "metadata": {
    "id": "rB9wLFI3WvGl"
   },
   "outputs": [],
   "source": [
    "\"Name\" in sData.keys()"
   ]
  },
  {
   "cell_type": "code",
   "execution_count": null,
   "metadata": {
    "id": "SPzzgETvgrMg"
   },
   "outputs": [],
   "source": [
    "sData[\"name\"]"
   ]
  },
  {
   "cell_type": "code",
   "execution_count": null,
   "metadata": {
    "id": "J1d94QNvh2rb"
   },
   "outputs": [],
   "source": [
    "sData.get(\"name\")"
   ]
  },
  {
   "cell_type": "code",
   "execution_count": null,
   "metadata": {
    "id": "gjxpyY-QXIfe"
   },
   "outputs": [],
   "source": [
    "\"weight\" in sData.keys()"
   ]
  },
  {
   "cell_type": "code",
   "execution_count": null,
   "metadata": {
    "id": "yc2S3YHoYK_d"
   },
   "outputs": [],
   "source": [
    "# sData[\"weight\"]"
   ]
  },
  {
   "cell_type": "code",
   "execution_count": null,
   "metadata": {
    "id": "WTXB5mHwYSNT"
   },
   "outputs": [],
   "source": [
    "if \"weight\" in sData.keys():\n",
    "  print(sData[\"weight\"])\n",
    "else :\n",
    "  print(\"Not exist\")"
   ]
  },
  {
   "cell_type": "code",
   "execution_count": null,
   "metadata": {
    "id": "fUh6x7y0Ymbq"
   },
   "outputs": [],
   "source": [
    "print(sData.get(\"weight\"))"
   ]
  },
  {
   "cell_type": "code",
   "execution_count": null,
   "metadata": {
    "id": "sskqMwPiYs-d"
   },
   "outputs": [],
   "source": [
    "sData.get(\"weight\", 80)"
   ]
  },
  {
   "cell_type": "code",
   "execution_count": null,
   "metadata": {
    "id": "exniKECbZr5h"
   },
   "outputs": [],
   "source": [
    "# use get to return the value if key exist or default value if key not exist\n",
    "print(sData.get(\"name\"))\n",
    "print(sData.get(\"weight\"))\n",
    "print(sData.get(\"weight\", 90.5))"
   ]
  },
  {
   "cell_type": "code",
   "execution_count": null,
   "metadata": {
    "id": "_q0JKsV75_MV"
   },
   "outputs": [],
   "source": [
    "print(sData.get(\"height\", 180))"
   ]
  },
  {
   "cell_type": "code",
   "execution_count": null,
   "metadata": {
    "id": "nDt7Rn5vXTVG"
   },
   "outputs": [],
   "source": [
    "# Add element in dictionary\n",
    "sData[\"Weight\"] = 85\n",
    "print(sData)"
   ]
  },
  {
   "cell_type": "code",
   "execution_count": null,
   "metadata": {
    "id": "rxSLqbQ8XTRu"
   },
   "outputs": [],
   "source": [
    "# Update data in dictionary\n",
    "sData[\"Weight\"] = 86\n",
    "print(sData)"
   ]
  },
  {
   "cell_type": "code",
   "execution_count": null,
   "metadata": {
    "id": "hspoXHkk6-h3"
   },
   "outputs": [],
   "source": [
    "sData[\"highet\"] = 180\n",
    "print(sData)"
   ]
  },
  {
   "cell_type": "code",
   "execution_count": null,
   "metadata": {
    "id": "UtwrLQU17HVT"
   },
   "outputs": [],
   "source": [
    "sData[\"highet\"] = 170"
   ]
  },
  {
   "cell_type": "code",
   "execution_count": null,
   "metadata": {
    "id": "DuY1VukAXvou"
   },
   "outputs": [],
   "source": [
    "# Delete element from dictionary\n",
    "del sData[\"Weight\"]\n",
    "print(sData)"
   ]
  },
  {
   "cell_type": "code",
   "execution_count": null,
   "metadata": {
    "id": "4M4E9ckW7XRV"
   },
   "outputs": [],
   "source": [
    "del sData[\"highet\"]"
   ]
  },
  {
   "cell_type": "code",
   "execution_count": null,
   "metadata": {
    "id": "gRG65vez7d3C"
   },
   "outputs": [],
   "source": [
    "sData"
   ]
  },
  {
   "cell_type": "code",
   "execution_count": null,
   "metadata": {
    "id": "49aeTZr0X68r"
   },
   "outputs": [],
   "source": [
    "# Copy dictionary\n",
    "sDataCopy = sData.copy()\n",
    "print(sDataCopy)"
   ]
  },
  {
   "cell_type": "code",
   "execution_count": null,
   "metadata": {
    "id": "BPeRAjlvU_T2"
   },
   "outputs": [],
   "source": [
    "print(sDataCopy)"
   ]
  },
  {
   "cell_type": "code",
   "execution_count": null,
   "metadata": {
    "id": "oBEnrNvXYzLn"
   },
   "outputs": [],
   "source": [
    "sDataCopy2 = sData\n",
    "print(sDataCopy2)"
   ]
  },
  {
   "cell_type": "code",
   "execution_count": null,
   "metadata": {
    "id": "DP_nQxHIV0tK"
   },
   "outputs": [],
   "source": [
    "print(sData)\n",
    "print(sDataCopy2)\n"
   ]
  },
  {
   "cell_type": "code",
   "execution_count": null,
   "metadata": {
    "id": "UheMNwIKWLkT"
   },
   "outputs": [],
   "source": [
    "sDataCopy2[\"name\"] = \"Ahmad\""
   ]
  },
  {
   "cell_type": "code",
   "execution_count": null,
   "metadata": {
    "id": "cbra-_aMWMFF"
   },
   "outputs": [],
   "source": [
    "print(sData)\n",
    "print(sDataCopy2)\n"
   ]
  },
  {
   "cell_type": "code",
   "execution_count": null,
   "metadata": {
    "id": "7hHAVFxWWSLE"
   },
   "outputs": [],
   "source": [
    "sData[\"name\"] = \"Khaled\""
   ]
  },
  {
   "cell_type": "code",
   "execution_count": null,
   "metadata": {
    "id": "6MDzv9u-WV1c"
   },
   "outputs": [],
   "source": [
    "print(sData)\n",
    "print(sDataCopy2)"
   ]
  },
  {
   "cell_type": "code",
   "execution_count": null,
   "metadata": {
    "id": "W3jv731tYr34"
   },
   "outputs": [],
   "source": [
    "sDataCopy2[\"name\"] = \"Ahmad\"\n",
    "\n",
    "print(\"Copy 1 \",sDataCopy)\n",
    "print(\"Copy 2 \",sDataCopy2)\n",
    "print(\"Original \",sData)"
   ]
  },
  {
   "cell_type": "code",
   "execution_count": null,
   "metadata": {
    "id": "_MeZIP1K8Jgk"
   },
   "outputs": [],
   "source": [
    "sData[\"age\"] =30\n",
    "\n",
    "print(\"Copy 1 \",sDataCopy)\n",
    "print(\"Copy 2 \",sDataCopy2)\n",
    "print(\"Original \",sData)"
   ]
  },
  {
   "cell_type": "code",
   "execution_count": null,
   "metadata": {
    "id": "O_5t10jaky8k"
   },
   "outputs": [],
   "source": [
    "# d1 = {\"1\": 1, \"2\" : 2}\n",
    "# dCopy1 = d1.copy()\n",
    "# dCopy1 = {\"1\": 1, \"2\" : 2}\n",
    "\n",
    "# dCopy2 = d1 = {\"1\": 1, \"2\" : 2}"
   ]
  },
  {
   "cell_type": "code",
   "execution_count": null,
   "metadata": {
    "id": "jfjh2hVxZVcv"
   },
   "outputs": [],
   "source": [
    "# Clear dictionary items \n",
    "# Delete keys and values from dictionary and return empty dictionary\n",
    "# Do not remove dictionary from memory\n",
    "sDataCopy.clear()\n",
    "print(sDataCopy)"
   ]
  },
  {
   "cell_type": "code",
   "execution_count": null,
   "metadata": {
    "id": "jnC_Q8pElsYo"
   },
   "outputs": [],
   "source": [
    "# Delete dictionary from memory\n",
    "del sDataCopy "
   ]
  },
  {
   "cell_type": "code",
   "execution_count": null,
   "metadata": {
    "id": "4ztYMf0N94Sl"
   },
   "outputs": [],
   "source": [
    "# print(sDataCopy)"
   ]
  },
  {
   "cell_type": "code",
   "execution_count": null,
   "metadata": {
    "id": "oO2UW97wluAg"
   },
   "outputs": [],
   "source": [
    "d1"
   ]
  },
  {
   "cell_type": "code",
   "execution_count": null,
   "metadata": {
    "id": "YmqvUQ4Y-Xtc"
   },
   "outputs": [],
   "source": [
    "d2"
   ]
  },
  {
   "cell_type": "code",
   "execution_count": null,
   "metadata": {
    "id": "X4PV2iyjAnog"
   },
   "outputs": [],
   "source": [
    "#  {'1': 1, '2': 2, '3': 3} update {'3': 3.0, '4': 4, '5': 5}\n",
    "# {'1': 1, '2': 2, '3': 3.0, '4': 4, '5': 5}"
   ]
  },
  {
   "cell_type": "code",
   "execution_count": null,
   "metadata": {
    "id": "2Yl2S4Q5Zf2_"
   },
   "outputs": [],
   "source": [
    "# Add keys and values from dictionary to another\n",
    "print(\"d1 : \" ,d1)\n",
    "print(\"d2 : \" ,d2)\n",
    "\n",
    "d1.update(d2)\n",
    "print(\"Updated d1 : \", d1)"
   ]
  },
  {
   "cell_type": "code",
   "execution_count": null,
   "metadata": {
    "id": "H1-T2pW2-nPY"
   },
   "outputs": [],
   "source": [
    "d1.update({\"6\" : 6 , \"7\" : 7})"
   ]
  },
  {
   "cell_type": "code",
   "execution_count": null,
   "metadata": {
    "id": "lOkn8hwB-wSZ"
   },
   "outputs": [],
   "source": [
    "print(d1)"
   ]
  },
  {
   "cell_type": "code",
   "execution_count": null,
   "metadata": {
    "id": "l_uzmwXjZHGT"
   },
   "outputs": [],
   "source": [
    "d1.update({\"2\" : \"two\", \"6\":6.5, \"8\":8})\n",
    "print(d1)"
   ]
  },
  {
   "cell_type": "code",
   "execution_count": null,
   "metadata": {
    "id": "eIo_VcKnZFxl"
   },
   "outputs": [],
   "source": [
    "d1.update({ 2 : \"three\"})\n",
    "print(d1)"
   ]
  },
  {
   "cell_type": "code",
   "execution_count": null,
   "metadata": {
    "id": "J3ed9rr-ZrLX"
   },
   "outputs": [],
   "source": [
    "d1.update({\"two\" : 2 , \"Two\" : 2})\n",
    "print(d1)"
   ]
  },
  {
   "cell_type": "code",
   "execution_count": null,
   "metadata": {
    "id": "8mhRyO9sg3JT"
   },
   "outputs": [],
   "source": [
    "d1"
   ]
  },
  {
   "cell_type": "code",
   "execution_count": null,
   "metadata": {
    "id": "gAsnn_3ogkvW"
   },
   "outputs": [],
   "source": [
    "d1.update({\"two\" : 2 , \"two\" : 3})\n",
    "print(d1)"
   ]
  },
  {
   "cell_type": "code",
   "execution_count": null,
   "metadata": {
    "id": "GrRiTXRTaKhT"
   },
   "outputs": [],
   "source": [
    "d1"
   ]
  },
  {
   "cell_type": "code",
   "execution_count": null,
   "metadata": {
    "id": "MhEYcvNEbM8W"
   },
   "outputs": [],
   "source": [
    "# Crate dictionary with tuple as key\n",
    "dict_ = {\n",
    "         (1,2) : [\"Mahmoud\", \"Ahmad\", \"Hamza\"], \n",
    "         (3,4) : [\"Muna\", \"Rama\"]\n",
    "         }"
   ]
  },
  {
   "cell_type": "code",
   "execution_count": null,
   "metadata": {
    "id": "neArui7Jcu8H"
   },
   "outputs": [],
   "source": [
    "dict_[(1,2)]"
   ]
  },
  {
   "cell_type": "code",
   "execution_count": null,
   "metadata": {
    "id": "3pjKiYrq_yzb"
   },
   "outputs": [],
   "source": [
    "# dict_[(1,3)]"
   ]
  },
  {
   "cell_type": "code",
   "execution_count": null,
   "metadata": {
    "id": "L4pgaY9EQUTp"
   },
   "outputs": [],
   "source": [
    "# Create list of dictionaries of data\n",
    "studentData =    [\n",
    "    \n",
    "     {\"name\" : \"Mahmoud\",\n",
    "      \"age\": 25,\n",
    "      \"gpa\":83.1,\n",
    "      \"marks\": [100, 89, 79, 95, 99] } \n",
    "      \n",
    "      ,\n",
    "      \n",
    "     {\"name\" : \"Ahmad\",\n",
    "      \"age\": 30,\n",
    "      \"gpa\":93.3,\n",
    "      \"marks\": [99, 89, 79, 95, 77]}\n",
    "      \n",
    "      ,\n",
    "      \n",
    "     {\"name\" : \"Susu\",\n",
    "      \"age\": 20,\n",
    "      \"gpa\":87.0,\n",
    "      \"marks\": [80, 89, 79, 75, 99]} \n",
    "     \n",
    "    ]\n"
   ]
  },
  {
   "cell_type": "code",
   "execution_count": null,
   "metadata": {
    "id": "ANG3D6fjrdBB"
   },
   "outputs": [],
   "source": []
  },
  {
   "cell_type": "code",
   "execution_count": null,
   "metadata": {
    "id": "64_3sly2JpLx"
   },
   "outputs": [],
   "source": [
    "# Access to items (dictionary) in the list using index\n",
    "# Returned object is dictionary\n",
    "studentData[0]"
   ]
  },
  {
   "cell_type": "code",
   "execution_count": null,
   "metadata": {
    "id": "eNx8I9bs_rSp"
   },
   "outputs": [],
   "source": [
    "# Access the element in dictionary by \"key name\"\n",
    "# In the following code :\n",
    "# 1- Access to the first element in the list  => studentData[0]\n",
    "# 2- Access to the name value by \"name\" key =>  studentData[0][\"name\"]\n",
    "studentData[0][\"name\"]"
   ]
  },
  {
   "cell_type": "code",
   "execution_count": null,
   "metadata": {
    "id": "sQjw8V1ndcbq"
   },
   "outputs": [],
   "source": [
    "studentData[1][\"name\"]"
   ]
  },
  {
   "cell_type": "code",
   "execution_count": null,
   "metadata": {
    "id": "wcqSdWzjAeXw"
   },
   "outputs": [],
   "source": [
    "# Task :\n",
    "# Write Python code to access to the gpa value for second dictionary in the list\n",
    "\n",
    "studentData[1][\"gpa\"]"
   ]
  },
  {
   "cell_type": "code",
   "execution_count": null,
   "metadata": {
    "id": "kddtVq-aFl44"
   },
   "outputs": [],
   "source": [
    "# Access to mark list in the last dictionary in studentData list \n",
    " # Return list of marks"
   ]
  },
  {
   "cell_type": "code",
   "execution_count": null,
   "metadata": {
    "id": "7z_Bsw2Mc0XC"
   },
   "outputs": [],
   "source": [
    "studentData[-1][\"marks\"]"
   ]
  },
  {
   "cell_type": "code",
   "execution_count": null,
   "metadata": {
    "id": "ziaX9cEcd-wL"
   },
   "outputs": [],
   "source": []
  },
  {
   "cell_type": "code",
   "execution_count": null,
   "metadata": {
    "id": "cvgLsWoXA6yt"
   },
   "outputs": [],
   "source": [
    "# Access to the first 3 marks in the last dictionary in studentData list \n",
    "\n",
    "studentData[-1][\"marks\"][0:3]"
   ]
  },
  {
   "cell_type": "code",
   "execution_count": null,
   "metadata": {
    "id": "Q8z4sZy3BRNN"
   },
   "outputs": [],
   "source": [
    "# Task\n",
    "# Write Python code to access to the last 3 marks in the first dictionary in studentData list \n",
    "\n",
    "studentData[0][\"marks\"][-3:]"
   ]
  },
  {
   "cell_type": "code",
   "execution_count": null,
   "metadata": {
    "id": "_JjH1NGkBYNW"
   },
   "outputs": [],
   "source": [
    "studentData"
   ]
  },
  {
   "cell_type": "code",
   "execution_count": null,
   "metadata": {
    "id": "XJNbTxyeU1Js"
   },
   "outputs": [],
   "source": [
    "# Print all names in the studentData\n",
    "# Solution 1\n",
    "\n",
    "for d in studentData:\n",
    "  print(d.get(\"name\"))"
   ]
  },
  {
   "cell_type": "code",
   "execution_count": null,
   "metadata": {
    "id": "YQhZSmCblrXi"
   },
   "outputs": [],
   "source": [
    "counter = 1\n",
    "for d in studentData:\n",
    "  print(counter, \"- \", d[\"name\"] )\n",
    "  counter+=1"
   ]
  },
  {
   "cell_type": "code",
   "execution_count": null,
   "metadata": {
    "id": "FyDJseCGlrUO"
   },
   "outputs": [],
   "source": [
    "for i in range(1, len(studentData) + 1):\n",
    "  print(i, \"- \", studentData[i-1][\"name\"])\n"
   ]
  },
  {
   "cell_type": "code",
   "execution_count": null,
   "metadata": {
    "id": "eDujTx6YlrKg"
   },
   "outputs": [],
   "source": []
  },
  {
   "cell_type": "code",
   "execution_count": null,
   "metadata": {
    "id": "vAhOx-wWgiBL"
   },
   "outputs": [],
   "source": []
  },
  {
   "cell_type": "code",
   "execution_count": null,
   "metadata": {
    "colab": {
     "base_uri": "https://localhost:8080/"
    },
    "id": "E1pcuJzECG6V",
    "outputId": "67971f8c-b4c9-46d1-eaf3-ad8aa9663155"
   },
   "outputs": [
    {
     "name": "stdout",
     "output_type": "stream",
     "text": [
      "1  :  Mahmoud\n",
      "2  :  Ahmad\n",
      "3  :  Susu\n"
     ]
    }
   ],
   "source": [
    "# Solution 2\n",
    "# Print dictionary number in the list followed by name value\n",
    "for i in range(len(studentData)) :\n",
    "  print(i+1 , \" : \",studentData[i][\"name\"]) # Print index + 1 and name value in each dictionary in the list\n",
    "  # print(idx+1, \" : \", studentData[idx].get(\"name\")) # using get\n",
    "  "
   ]
  },
  {
   "cell_type": "code",
   "execution_count": null,
   "metadata": {
    "colab": {
     "base_uri": "https://localhost:8080/"
    },
    "id": "onbsiDHgESED",
    "outputId": "704498a6-5b22-4740-90f9-ed1324a0a1c3"
   },
   "outputs": [
    {
     "data": {
      "text/plain": [
       "[(0, 'Mahmoud'), (1, 'Ahmad'), (2, 'Salem')]"
      ]
     },
     "execution_count": 3,
     "metadata": {},
     "output_type": "execute_result"
    }
   ],
   "source": [
    "list(enumerate([\"Mahmoud\", \"Ahmad\", \"Salem\"]))\n",
    "# (0, Mahmoud) , (1, Ahmad), (2, Salem)|"
   ]
  },
  {
   "cell_type": "code",
   "execution_count": null,
   "metadata": {
    "id": "b1wJo8fADsEO"
   },
   "outputs": [],
   "source": [
    "list(enumerate(studentData))"
   ]
  },
  {
   "cell_type": "code",
   "execution_count": null,
   "metadata": {
    "id": "2xq858SkELK2"
   },
   "outputs": [],
   "source": [
    "studentData[0]"
   ]
  },
  {
   "cell_type": "code",
   "execution_count": null,
   "metadata": {
    "id": "Rzb9dfYXCiKl"
   },
   "outputs": [],
   "source": [
    "# Solutution 3\n",
    "# Print dictionary number in the list followed by GPA value\n",
    "# Using enumerate \n",
    "\n",
    "for idx, d in enumerate(studentData):\n",
    "  print(idx +1, \" -\", d.get(\"name\", \"Ahmad Ali\"))"
   ]
  },
  {
   "cell_type": "code",
   "execution_count": null,
   "metadata": {
    "id": "rOHTgsNVC9NG"
   },
   "outputs": [],
   "source": [
    "# Task\n",
    "# For each dictionary in the list print student name followed by gpa\n",
    "\n",
    "for d in studentData:\n",
    "  print(d.get(\"name\"), \"   \", d.get(\"gpa\"))"
   ]
  },
  {
   "cell_type": "code",
   "execution_count": null,
   "metadata": {
    "id": "hhOWIJqcjo6Y"
   },
   "outputs": [],
   "source": []
  },
  {
   "cell_type": "code",
   "execution_count": null,
   "metadata": {
    "id": "lsf8o5qoGCSe"
   },
   "outputs": [],
   "source": [
    "# Update all name values in dictionary with new input value\n",
    "\n",
    "for d in studentData:\n",
    "  d[\"name\"] = input(\"Add name : \")"
   ]
  },
  {
   "cell_type": "code",
   "execution_count": null,
   "metadata": {
    "colab": {
     "base_uri": "https://localhost:8080/"
    },
    "id": "aVZYATBwuU5T",
    "outputId": "45cc82a2-8ecc-4d2a-97f9-48e271f6348c"
   },
   "outputs": [
    {
     "data": {
      "text/plain": [
       "[{'name': 'Mahmoud', 'age': 25, 'gpa': 83.1, 'marks': [100, 89, 79, 95, 99]},\n",
       " {'name': 'Ahmad', 'age': 30, 'gpa': 93.3, 'marks': [99, 89, 79, 95, 77]},\n",
       " {'name': 'Susu', 'age': 20, 'gpa': 87.0, 'marks': [80, 89, 79, 75, 99]}]"
      ]
     },
     "execution_count": 74,
     "metadata": {},
     "output_type": "execute_result"
    }
   ],
   "source": [
    "studentData"
   ]
  },
  {
   "cell_type": "code",
   "execution_count": null,
   "metadata": {
    "colab": {
     "base_uri": "https://localhost:8080/"
    },
    "id": "vhqwV1pOcwq2",
    "outputId": "8fc71784-b0ad-4dbc-9cdb-987f3359f59c"
   },
   "outputs": [
    {
     "name": "stdout",
     "output_type": "stream",
     "text": [
      "Mahmoud\n",
      "Ahmad\n",
      "Susu\n"
     ]
    }
   ],
   "source": [
    "for d in studentData :\n",
    "  print(d[\"name\"])\n",
    "\n",
    "# d : {'name': 'Susu', 'age': 20, 'gpa': 87.0, 'marks': [80, 89, 79, 75, 99]}\n",
    "# d[\"name\"] : 'Susu'\n",
    "\n",
    "# Mahmoud \n",
    "# Ahmad\n",
    "# Susu"
   ]
  },
  {
   "cell_type": "code",
   "execution_count": null,
   "metadata": {
    "id": "4rRv3oClvaeo"
   },
   "outputs": [],
   "source": []
  },
  {
   "cell_type": "code",
   "execution_count": null,
   "metadata": {
    "id": "DNrJ4FKrJS1f"
   },
   "outputs": [],
   "source": [
    "# Update gpa value for Mahmoud student in dictionary with new input value\n",
    "\n",
    "for d in studentData:\n",
    "  if d[\"name\"]==\"Ahmad\":\n",
    "    d[\"gpa\"] = float(input())\n"
   ]
  },
  {
   "cell_type": "code",
   "execution_count": null,
   "metadata": {
    "id": "7kNel0eCv18h"
   },
   "outputs": [],
   "source": []
  },
  {
   "cell_type": "code",
   "execution_count": null,
   "metadata": {
    "colab": {
     "base_uri": "https://localhost:8080/",
     "height": 35
    },
    "id": "h-MwyyJSqL5c",
    "outputId": "95b9d2fa-4eab-420b-fb32-f6c0914e2aa0"
   },
   "outputs": [
    {
     "data": {
      "application/vnd.google.colaboratory.intrinsic+json": {
       "type": "string"
      },
      "text/plain": [
       "'gpa'"
      ]
     },
     "execution_count": 9,
     "metadata": {},
     "output_type": "execute_result"
    }
   ],
   "source": [
    "# Access to keys in the dictionary by index\n",
    "# 1- Access to any dictionary in the list.  e.g. first dictionary\n",
    "\n",
    "studentData[0]\n",
    "\n",
    "# 2- Access to the keys in the dictionary\n",
    "studentData[0].keys()\n",
    "\n",
    "# 3- Casting return value to the list\n",
    "list(studentData[0].keys())\n",
    "\n",
    "# Access to element of the list of keys by index\n",
    "list(studentData[0].keys())[-2]"
   ]
  },
  {
   "cell_type": "code",
   "execution_count": null,
   "metadata": {
    "colab": {
     "base_uri": "https://localhost:8080/"
    },
    "id": "BRjIs99Ec3u_",
    "outputId": "17783d44-cf1f-426d-ade6-df9053cdd691"
   },
   "outputs": [
    {
     "data": {
      "text/plain": [
       "['name', 'age', 'gpa']"
      ]
     },
     "execution_count": 10,
     "metadata": {},
     "output_type": "execute_result"
    }
   ],
   "source": [
    "list(studentData[0].keys())[:3]"
   ]
  },
  {
   "cell_type": "code",
   "execution_count": null,
   "metadata": {
    "colab": {
     "base_uri": "https://localhost:8080/"
    },
    "id": "T3yRApTHdF4b",
    "outputId": "83f9aa4b-5c27-4af5-9aa4-04c49b8ea3e3"
   },
   "outputs": [
    {
     "data": {
      "text/plain": [
       "['name', 'gpa']"
      ]
     },
     "execution_count": 11,
     "metadata": {},
     "output_type": "execute_result"
    }
   ],
   "source": [
    "list(studentData[0].keys())[::2]"
   ]
  },
  {
   "cell_type": "code",
   "execution_count": null,
   "metadata": {
    "colab": {
     "base_uri": "https://localhost:8080/"
    },
    "id": "BX3dkYJSBVRU",
    "outputId": "0bed0802-235e-40b9-b9f0-ccc60443a02f"
   },
   "outputs": [
    {
     "data": {
      "text/plain": [
       "{'name': 'Mahmoud', 'age': 25, 'gpa': 83.1, 'marks': [100, 89, 79, 95, 99]}"
      ]
     },
     "execution_count": 12,
     "metadata": {},
     "output_type": "execute_result"
    }
   ],
   "source": [
    "studentData[0]"
   ]
  },
  {
   "cell_type": "code",
   "execution_count": null,
   "metadata": {
    "colab": {
     "base_uri": "https://localhost:8080/"
    },
    "id": "2lMTOFhbBexo",
    "outputId": "6aba7f0c-cbe8-4919-d0a1-9b10105335a9"
   },
   "outputs": [
    {
     "data": {
      "text/plain": [
       "dict_items([('name', 'Mahmoud'), ('age', 25), ('gpa', 83.1), ('marks', [100, 89, 79, 95, 99])])"
      ]
     },
     "execution_count": 13,
     "metadata": {},
     "output_type": "execute_result"
    }
   ],
   "source": [
    "studentData[0].items()"
   ]
  },
  {
   "cell_type": "code",
   "execution_count": null,
   "metadata": {
    "colab": {
     "base_uri": "https://localhost:8080/"
    },
    "id": "74asQlgeCxuP",
    "outputId": "2a449785-fad4-4f70-def6-80bdbd5b2d13"
   },
   "outputs": [
    {
     "name": "stdout",
     "output_type": "stream",
     "text": [
      "name    Ahmad\n",
      "age    30\n",
      "gpa    93.3\n",
      "marks    [99, 89, 79, 95, 77]\n"
     ]
    }
   ],
   "source": [
    "for k, v in studentData[1].items():\n",
    "  print(k, \"  \", v)"
   ]
  },
  {
   "cell_type": "code",
   "execution_count": null,
   "metadata": {
    "colab": {
     "base_uri": "https://localhost:8080/"
    },
    "id": "D5A0jiXYvYH4",
    "outputId": "be00f883-21cd-4835-fd9a-7284f9b88428"
   },
   "outputs": [
    {
     "name": "stdout",
     "output_type": "stream",
     "text": [
      "name    Mahmoud\n",
      "age    25\n",
      "gpa    83.1\n",
      "marks    [100, 89, 79, 95, 99]\n",
      "===============\n",
      "name    Ahmad\n",
      "age    30\n",
      "gpa    93.3\n",
      "marks    [99, 89, 79, 95, 77]\n",
      "===============\n",
      "name    Susu\n",
      "age    20\n",
      "gpa    87.0\n",
      "marks    [80, 89, 79, 75, 99]\n",
      "===============\n"
     ]
    }
   ],
   "source": [
    "# Print keys and values for all dictionaries in the list\n",
    "# Use dict.items() \n",
    "\n",
    "for d in studentData:\n",
    "  for k, v in d.items():\n",
    "    print(k, \"  \", v)\n",
    "  \n",
    "  print(\"=\" * 15)"
   ]
  },
  {
   "cell_type": "code",
   "execution_count": null,
   "metadata": {
    "colab": {
     "base_uri": "https://localhost:8080/"
    },
    "id": "01Qan8ZSG9vm",
    "outputId": "2170f88b-03ed-472e-e58d-40ec1a40f129"
   },
   "outputs": [
    {
     "name": "stdout",
     "output_type": "stream",
     "text": [
      "None\n",
      "None\n",
      "None\n",
      "[83.1, 93.3, 87.0]\n"
     ]
    }
   ],
   "source": [
    "# Create and print list of all gpa values\n",
    "\n",
    "list_gpa = []\n",
    "\n",
    "for d in studentData:\n",
    "  list_gpa.append(d[\"gpa\"])\n",
    "\n",
    "print(list_gpa)"
   ]
  },
  {
   "cell_type": "code",
   "execution_count": null,
   "metadata": {
    "colab": {
     "base_uri": "https://localhost:8080/"
    },
    "id": "ZQE_FKZGHrZr",
    "outputId": "f29a200c-024a-4aa7-8085-7b1fbb0e238f"
   },
   "outputs": [
    {
     "name": "stdout",
     "output_type": "stream",
     "text": [
      "[]\n"
     ]
    }
   ],
   "source": [
    "# Task :\n",
    "# Create and print list that obtain all mark values in all dictionaries\n",
    "\n",
    "list_all_marks = []\n",
    "\n",
    "for d in studentData:\n",
    "  list_all_marks + d[\"marks\"]\n",
    "  # list_all_marks.append(d[\"marks\"])\n",
    "print(list_all_marks)"
   ]
  },
  {
   "cell_type": "markdown",
   "metadata": {
    "id": "wC9NujObcFk3"
   },
   "source": [
    "# **Functions**"
   ]
  },
  {
   "cell_type": "code",
   "execution_count": null,
   "metadata": {
    "id": "G0R7_he_dJz1"
   },
   "outputs": [],
   "source": [
    "# Create function with 1 argument\n",
    "def getStudentAge(sName):\n",
    "  \n",
    "  studentsAges = {\n",
    "   \"mahmoud\" : 25,\n",
    "   \"ahmad\" : 22,\n",
    "   \"khaled\" : 28,\n",
    "   \"rula\" : 25,\n",
    "   }\n",
    "   \n",
    "  if sName in studentsAges.keys():\n",
    "     return studentsAges[sName]\n",
    "  \n",
    "  return \"student is not exist\"\n",
    "  \n"
   ]
  },
  {
   "cell_type": "code",
   "execution_count": null,
   "metadata": {
    "colab": {
     "base_uri": "https://localhost:8080/"
    },
    "id": "aiEAu8LPfm9g",
    "outputId": "8913212e-fbdf-49c8-f7c0-0a1757e9ea36"
   },
   "outputs": [
    {
     "name": "stdout",
     "output_type": "stream",
     "text": [
      "25\n"
     ]
    }
   ],
   "source": [
    "print(getStudentAge(sName = 'mahmoud'))"
   ]
  },
  {
   "cell_type": "code",
   "execution_count": null,
   "metadata": {
    "colab": {
     "base_uri": "https://localhost:8080/"
    },
    "id": "JCbxS7Atfs8i",
    "outputId": "6ad58198-75e6-4bdf-f103-62431789253d"
   },
   "outputs": [
    {
     "name": "stdout",
     "output_type": "stream",
     "text": [
      "student is not exist\n"
     ]
    }
   ],
   "source": [
    "print(getStudentAge(sName = 'ali'))"
   ]
  },
  {
   "cell_type": "code",
   "execution_count": null,
   "metadata": {
    "id": "k0578AnMksa4"
   },
   "outputs": [],
   "source": [
    "# Create function with multiple arguments in one line\n",
    "def getFullName(fName, mName, lName):  return \"_\".join([fName, mName, lName])\n",
    "   "
   ]
  },
  {
   "cell_type": "code",
   "execution_count": null,
   "metadata": {
    "colab": {
     "base_uri": "https://localhost:8080/",
     "height": 35
    },
    "id": "s2wz3l61f5ON",
    "outputId": "4c6aee8f-b87d-4cca-aaaf-37d7750d4c5c"
   },
   "outputs": [
    {
     "data": {
      "application/vnd.google.colaboratory.intrinsic+json": {
       "type": "string"
      },
      "text/plain": [
       "'Mahmoud_Haroun_Hamouri'"
      ]
     },
     "execution_count": 33,
     "metadata": {},
     "output_type": "execute_result"
    }
   ],
   "source": [
    "getFullName(fName = \"Mahmoud\", mName = \"Haroun\", lName = \"Hamouri\")"
   ]
  },
  {
   "cell_type": "code",
   "execution_count": null,
   "metadata": {
    "id": "wLb55tWwik3V"
   },
   "outputs": [],
   "source": [
    "def addValueToList(l) : \n",
    "  l.append(\"PYTHON\")\n",
    "  print(l)"
   ]
  },
  {
   "cell_type": "code",
   "execution_count": null,
   "metadata": {
    "id": "LLOvm-KpjaM3"
   },
   "outputs": [],
   "source": [
    "programmingLanguages = [\"Java\", \"C++\", \"Ruby\", \"Php\"]"
   ]
  },
  {
   "cell_type": "code",
   "execution_count": null,
   "metadata": {
    "colab": {
     "base_uri": "https://localhost:8080/"
    },
    "id": "MAYPjMvdjq9U",
    "outputId": "8df7532a-295b-4869-eb88-aebb50341d9d"
   },
   "outputs": [
    {
     "name": "stdout",
     "output_type": "stream",
     "text": [
      "['Java', 'C++', 'Ruby', 'Php']\n",
      "['Java', 'C++', 'Ruby', 'Php', 'PYTHON']\n"
     ]
    }
   ],
   "source": [
    "print(programmingLanguages)\n",
    "addValueToList(l=programmingLanguages) # Call by reference\n",
    "print(programmingLanguages)"
   ]
  },
  {
   "cell_type": "code",
   "execution_count": null,
   "metadata": {
    "id": "gHnAn_3NRLaw"
   },
   "outputs": [],
   "source": [
    "def setV(x) :\n",
    "  x =5\n",
    "  return x "
   ]
  },
  {
   "cell_type": "code",
   "execution_count": null,
   "metadata": {
    "id": "xrnA6BUbvWCE"
   },
   "outputs": [],
   "source": [
    "u = 7"
   ]
  },
  {
   "cell_type": "code",
   "execution_count": null,
   "metadata": {
    "colab": {
     "base_uri": "https://localhost:8080/"
    },
    "id": "5FjP7UPDvO7W",
    "outputId": "5bb75047-357a-4ff6-a124-1ce1e7e3e774"
   },
   "outputs": [
    {
     "name": "stdout",
     "output_type": "stream",
     "text": [
      "7\n"
     ]
    }
   ],
   "source": [
    "setV(u)\n",
    "print(u)"
   ]
  },
  {
   "cell_type": "code",
   "execution_count": null,
   "metadata": {
    "colab": {
     "base_uri": "https://localhost:8080/"
    },
    "id": "mdRN9odFvNoN",
    "outputId": "8446b354-ce50-4427-fc80-9134a5c8d0b3"
   },
   "outputs": [
    {
     "name": "stdout",
     "output_type": "stream",
     "text": [
      "7\n",
      "5\n"
     ]
    }
   ],
   "source": [
    "print(u)\n",
    "u = setV(u)\n",
    "print(u)"
   ]
  },
  {
   "cell_type": "code",
   "execution_count": null,
   "metadata": {
    "id": "siwRKRDokHG0"
   },
   "outputs": [],
   "source": [
    "del programmingLanguages[-1]"
   ]
  },
  {
   "cell_type": "code",
   "execution_count": null,
   "metadata": {
    "colab": {
     "base_uri": "https://localhost:8080/"
    },
    "id": "KA7YfPlTpqLE",
    "outputId": "48cddd3e-1918-42ee-b423-2032d4fd18f1"
   },
   "outputs": [
    {
     "data": {
      "text/plain": [
       "['Java', 'C++', 'Ruby', 'Php']"
      ]
     },
     "execution_count": 45,
     "metadata": {},
     "output_type": "execute_result"
    }
   ],
   "source": [
    "programmingLanguages"
   ]
  },
  {
   "cell_type": "code",
   "execution_count": null,
   "metadata": {
    "colab": {
     "base_uri": "https://localhost:8080/"
    },
    "id": "sFNnvgNdkAA-",
    "outputId": "8ab53f54-c39a-404c-d44e-a72cbc8cd008"
   },
   "outputs": [
    {
     "name": "stdout",
     "output_type": "stream",
     "text": [
      "['Java', 'C++', 'Ruby', 'Php']\n",
      "['Java', 'C++', 'Ruby', 'Php', 'PYTHON']\n",
      "['Java', 'C++', 'Ruby', 'Php']\n"
     ]
    }
   ],
   "source": [
    "print(programmingLanguages)\n",
    "addValueToList(l=programmingLanguages.copy()) # Call by value\n",
    "print(programmingLanguages)"
   ]
  },
  {
   "cell_type": "code",
   "execution_count": null,
   "metadata": {
    "id": "2JPkTqamkJU6"
   },
   "outputs": [],
   "source": [
    "# What did you notice ????"
   ]
  },
  {
   "cell_type": "code",
   "execution_count": null,
   "metadata": {
    "id": "c3eqEi5-kT4g"
   },
   "outputs": [],
   "source": [
    "# Create function where arguments with default value\n",
    "def powNum(num, p=2):\n",
    "  val= num\n",
    "  while p !=1:\n",
    "    val *= num\n",
    "    p -= 1\n",
    "\n",
    "  return val"
   ]
  },
  {
   "cell_type": "code",
   "execution_count": null,
   "metadata": {
    "colab": {
     "base_uri": "https://localhost:8080/"
    },
    "id": "FBhsj4uWkT1N",
    "outputId": "a953d2c9-e4b3-438d-a201-943d5039c5f4"
   },
   "outputs": [
    {
     "name": "stdout",
     "output_type": "stream",
     "text": [
      "256\n"
     ]
    }
   ],
   "source": [
    "print(powNum(4, 4))"
   ]
  },
  {
   "cell_type": "code",
   "execution_count": null,
   "metadata": {
    "colab": {
     "base_uri": "https://localhost:8080/"
    },
    "id": "H0RIN07-SrMy",
    "outputId": "eb33072e-b728-4a25-eb4b-0a49359853a3"
   },
   "outputs": [
    {
     "name": "stdout",
     "output_type": "stream",
     "text": [
      "256\n"
     ]
    }
   ],
   "source": [
    "print(powNum(num=4, p=4))"
   ]
  },
  {
   "cell_type": "code",
   "execution_count": null,
   "metadata": {
    "colab": {
     "base_uri": "https://localhost:8080/"
    },
    "id": "OA1AYOlXrGZr",
    "outputId": "ffa44b4d-a26f-4e69-ae4f-30a58cd46885"
   },
   "outputs": [
    {
     "name": "stdout",
     "output_type": "stream",
     "text": [
      "16\n"
     ]
    }
   ],
   "source": [
    "print(powNum(num=4))"
   ]
  },
  {
   "cell_type": "code",
   "execution_count": null,
   "metadata": {
    "id": "kG-bMm6EmtIk"
   },
   "outputs": [],
   "source": [
    "# Crate function with variable-length argument \n",
    "def getAverage(*values):\n",
    "  sum = 0\n",
    "  count = 0\n",
    "  for v in values:\n",
    "    sum+=v\n",
    "    count+=1\n",
    "\n",
    "  return sum/count\n"
   ]
  },
  {
   "cell_type": "code",
   "execution_count": null,
   "metadata": {
    "colab": {
     "base_uri": "https://localhost:8080/"
    },
    "id": "Y6k_4Ofnnx4A",
    "outputId": "9b4234c6-0ee5-4931-f334-8932db5c4e4a"
   },
   "outputs": [
    {
     "name": "stdout",
     "output_type": "stream",
     "text": [
      "4.5\n"
     ]
    }
   ],
   "source": [
    "print(getAverage(2,3,4,5,6,7))"
   ]
  },
  {
   "cell_type": "code",
   "execution_count": null,
   "metadata": {
    "colab": {
     "base_uri": "https://localhost:8080/"
    },
    "id": "ITKq5sRvUcSZ",
    "outputId": "cbf80baa-305f-40c2-8878-ae7b4479cb31"
   },
   "outputs": [
    {
     "name": "stdout",
     "output_type": "stream",
     "text": [
      "6.5\n"
     ]
    }
   ],
   "source": [
    "print(getAverage(2,3,4,5,6,7, 8,9,10,11))"
   ]
  },
  {
   "cell_type": "code",
   "execution_count": null,
   "metadata": {
    "id": "Tu7nqVtInzac"
   },
   "outputs": [],
   "source": [
    "# Lambda (Anonymous Function)\n",
    "\n",
    "lFun = lambda n1, n2 : n1+n2"
   ]
  },
  {
   "cell_type": "code",
   "execution_count": null,
   "metadata": {
    "colab": {
     "base_uri": "https://localhost:8080/"
    },
    "id": "VVT0zq6momAD",
    "outputId": "e96763ae-4c79-4d9e-8651-ee674dcfd99f"
   },
   "outputs": [
    {
     "data": {
      "text/plain": [
       "7"
      ]
     },
     "execution_count": 56,
     "metadata": {},
     "output_type": "execute_result"
    }
   ],
   "source": [
    "lFun(3,4)"
   ]
  },
  {
   "cell_type": "code",
   "execution_count": null,
   "metadata": {
    "id": "eGJaiXzWoqpu"
   },
   "outputs": [],
   "source": [
    "# Nested function\n",
    "def outerFun():\n",
    "  \n",
    "  def innerFun():\n",
    "    return \"inner function\"\n",
    "\n",
    "  return innerFun()\n"
   ]
  },
  {
   "cell_type": "code",
   "execution_count": null,
   "metadata": {
    "colab": {
     "base_uri": "https://localhost:8080/",
     "height": 35
    },
    "id": "_e9JSbwc8VJm",
    "outputId": "bf3267c7-e811-4ea3-82bf-f1616ba22912"
   },
   "outputs": [
    {
     "data": {
      "application/vnd.google.colaboratory.intrinsic+json": {
       "type": "string"
      },
      "text/plain": [
       "'inner function'"
      ]
     },
     "execution_count": 58,
     "metadata": {},
     "output_type": "execute_result"
    }
   ],
   "source": [
    "outerFun()"
   ]
  },
  {
   "cell_type": "code",
   "execution_count": null,
   "metadata": {
    "id": "sHqsLLcCTzLi"
   },
   "outputs": [],
   "source": [
    "def num1(x):\n",
    "   def num2(y):\n",
    "      return x * y\n",
    "   return num2\n",
    "\n",
    "res = num1(10)\n",
    "\n",
    "print(res(5))\n"
   ]
  },
  {
   "cell_type": "code",
   "execution_count": null,
   "metadata": {
    "colab": {
     "base_uri": "https://localhost:8080/"
    },
    "id": "Cg61We3eUTfW",
    "outputId": "6ccb69c2-22c7-4723-b74b-39a8b878dc2f"
   },
   "outputs": [
    {
     "name": "stdout",
     "output_type": "stream",
     "text": [
      "50\n"
     ]
    }
   ],
   "source": [
    "res = num1(10)\n",
    "\n",
    "print(res)\n"
   ]
  },
  {
   "cell_type": "code",
   "execution_count": null,
   "metadata": {
    "colab": {
     "base_uri": "https://localhost:8080/"
    },
    "id": "bHb_dNycU4uJ",
    "outputId": "e25957af-f2a9-428e-cd47-9761431f84d2"
   },
   "outputs": [
    {
     "name": "stdout",
     "output_type": "stream",
     "text": [
      "24 36\n"
     ]
    }
   ],
   "source": [
    "def operationals(x):\n",
    "    def sum(y):\n",
    "      return x+y\n",
    "    def mul(y):\n",
    "       return x*y\n",
    "    return sum , mul\n",
    "\n",
    "s, res=operationals(12)\n",
    "print(s(12),res(3))\n"
   ]
  },
  {
   "cell_type": "code",
   "execution_count": null,
   "metadata": {
    "id": "6cRQVusXVUTe"
   },
   "outputs": [],
   "source": []
  }
 ],
 "metadata": {
  "colab": {
   "collapsed_sections": [
    "TML49MAghvbr",
    "A1EkQLIPiaeK",
    "S3Kk4rEMs8fR",
    "tQ010WDVcZvO",
    "2FT5bbEPaLYa",
    "7G6ErmX5aUbe",
    "EDfjLiMRZtiQ",
    "Lc9GU0yr2cG7",
    "4PZY1kWNJfhr",
    "Ull0ku1eRdJf",
    "ftX2JUpCKjCf",
    "wC9NujObcFk3"
   ],
   "provenance": [],
   "toc_visible": true
  },
  "kernelspec": {
   "display_name": "Python 3 (ipykernel)",
   "language": "python",
   "name": "python3"
  },
  "language_info": {
   "codemirror_mode": {
    "name": "ipython",
    "version": 3
   },
   "file_extension": ".py",
   "mimetype": "text/x-python",
   "name": "python",
   "nbconvert_exporter": "python",
   "pygments_lexer": "ipython3",
   "version": "3.9.13"
  }
 },
 "nbformat": 4,
 "nbformat_minor": 1
}

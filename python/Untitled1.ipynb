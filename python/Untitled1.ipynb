{
 "cells": [
  {
   "cell_type": "code",
   "execution_count": 1,
   "id": "d5123d6e",
   "metadata": {},
   "outputs": [],
   "source": [
    "import numpy as np"
   ]
  },
  {
   "cell_type": "code",
   "execution_count": 15,
   "id": "51be2fed",
   "metadata": {},
   "outputs": [],
   "source": [
    "import numpy as np\n",
    "from PIL import Image\n",
    "\n",
    "# تعيين الأبعاد واللون الأساسي للصورة\n",
    "width, height = 500, 200\n",
    "color = (255, 255, 255) # اللون الأبيض\n"
   ]
  },
  {
   "cell_type": "code",
   "execution_count": 16,
   "id": "83ecf014",
   "metadata": {},
   "outputs": [],
   "source": [
    "cor= np.stack([[255,0,0],[0,255,0]])"
   ]
  },
  {
   "cell_type": "code",
   "execution_count": 19,
   "id": "f0156c5b",
   "metadata": {},
   "outputs": [],
   "source": [
    "# إنشاء مصفوفة للصورة\n",
    "img = np.zeros((height, width, 3), dtype=np.uint8)\n",
    "img[:, :] = color\n",
    "\n",
    "# حفظ الصورة\n",
    "Image.fromarray(img).save('image.png')"
   ]
  },
  {
   "cell_type": "code",
   "execution_count": null,
   "id": "60e5dc55",
   "metadata": {},
   "outputs": [],
   "source": [
    "\n"
   ]
  }
 ],
 "metadata": {
  "kernelspec": {
   "display_name": "Python 3 (ipykernel)",
   "language": "python",
   "name": "python3"
  },
  "language_info": {
   "codemirror_mode": {
    "name": "ipython",
    "version": 3
   },
   "file_extension": ".py",
   "mimetype": "text/x-python",
   "name": "python",
   "nbconvert_exporter": "python",
   "pygments_lexer": "ipython3",
   "version": "3.9.13"
  }
 },
 "nbformat": 4,
 "nbformat_minor": 5
}

{
 "cells": [
  {
   "cell_type": "code",
   "execution_count": 1,
   "id": "17d511d2",
   "metadata": {},
   "outputs": [],
   "source": [
    "name=\"Mahmoud\""
   ]
  },
  {
   "cell_type": "code",
   "execution_count": 2,
   "id": "8dd14a63",
   "metadata": {},
   "outputs": [
    {
     "data": {
      "text/plain": [
       "'uomh'"
      ]
     },
     "execution_count": 2,
     "metadata": {},
     "output_type": "execute_result"
    }
   ],
   "source": [
    "name[-2:-6:-1]"
   ]
  },
  {
   "cell_type": "code",
   "execution_count": 3,
   "id": "b1de84f8",
   "metadata": {},
   "outputs": [],
   "source": [
    "s1=name"
   ]
  },
  {
   "cell_type": "code",
   "execution_count": 4,
   "id": "5b703044",
   "metadata": {},
   "outputs": [
    {
     "data": {
      "text/plain": [
       "'Mahmoud'"
      ]
     },
     "execution_count": 4,
     "metadata": {},
     "output_type": "execute_result"
    }
   ],
   "source": [
    "s1"
   ]
  },
  {
   "cell_type": "code",
   "execution_count": 5,
   "id": "9ba6f2f4",
   "metadata": {},
   "outputs": [
    {
     "data": {
      "text/plain": [
       "'Mahm'"
      ]
     },
     "execution_count": 5,
     "metadata": {},
     "output_type": "execute_result"
    }
   ],
   "source": [
    "s1[:4]"
   ]
  },
  {
   "cell_type": "code",
   "execution_count": 6,
   "id": "254717bc",
   "metadata": {},
   "outputs": [
    {
     "data": {
      "text/plain": [
       "'oud'"
      ]
     },
     "execution_count": 6,
     "metadata": {},
     "output_type": "execute_result"
    }
   ],
   "source": [
    "s1[4:]"
   ]
  },
  {
   "cell_type": "code",
   "execution_count": 7,
   "id": "67f1b55f",
   "metadata": {},
   "outputs": [
    {
     "data": {
      "text/plain": [
       "'haM'"
      ]
     },
     "execution_count": 7,
     "metadata": {},
     "output_type": "execute_result"
    }
   ],
   "source": [
    "s1[-5::-1]"
   ]
  },
  {
   "cell_type": "code",
   "execution_count": 9,
   "id": "67fa160a",
   "metadata": {},
   "outputs": [
    {
     "data": {
      "text/plain": [
       "'uma'"
      ]
     },
     "execution_count": 9,
     "metadata": {},
     "output_type": "execute_result"
    }
   ],
   "source": [
    "s1[5::-2]"
   ]
  },
  {
   "cell_type": "code",
   "execution_count": 10,
   "id": "4f1a1408",
   "metadata": {},
   "outputs": [],
   "source": [
    "a=\"aaAA\""
   ]
  },
  {
   "cell_type": "code",
   "execution_count": 12,
   "id": "0e9cb503",
   "metadata": {},
   "outputs": [
    {
     "data": {
      "text/plain": [
       "True"
      ]
     },
     "execution_count": 12,
     "metadata": {},
     "output_type": "execute_result"
    }
   ],
   "source": [
    "'a'.islower()"
   ]
  },
  {
   "cell_type": "code",
   "execution_count": 13,
   "id": "2fe5d8af",
   "metadata": {},
   "outputs": [
    {
     "data": {
      "text/plain": [
       "True"
      ]
     },
     "execution_count": 13,
     "metadata": {},
     "output_type": "execute_result"
    }
   ],
   "source": [
    "\"A\".isupper()"
   ]
  },
  {
   "cell_type": "code",
   "execution_count": 61,
   "id": "0522e9be",
   "metadata": {},
   "outputs": [],
   "source": [
    "ss=\"Aa1Bb2Cc3Dd4\"\n",
    "upper=[]\n",
    "lower=[]\n",
    "number=[]\n",
    "for i in range(len(ss)):\n",
    "    if ss[i].islower():\n",
    "        lower.append(ss[i])\n",
    "    elif ss[i].isupper():\n",
    "        upper.append(ss[i])\n",
    "        \n",
    "    else:\n",
    "        number.append(ss[i])\n",
    "upper=\" \".join(upper)\n",
    "lower=\" \".join(lower)\n",
    "number=\" \".join(number)\n"
   ]
  },
  {
   "cell_type": "code",
   "execution_count": 72,
   "id": "30c4b0e9",
   "metadata": {},
   "outputs": [],
   "source": [
    "string=\"Aa1Bb2Cc3Dd4\"\n",
    "def clas_d(ss):\n",
    "    upper=[]\n",
    "    lower=[]\n",
    "    number=[]\n",
    "    for i in range(len(ss)):\n",
    "        if ss[i].islower():\n",
    "            lower.append(ss[i])\n",
    "        elif ss[i].isupper():\n",
    "            upper.append(ss[i])\n",
    "\n",
    "        else:\n",
    "            number.append(ss[i])\n",
    "    upper=\" \".join(upper)\n",
    "    lower=\" \".join(lower)\n",
    "    number=\" \".join(number)\n",
    "    print(\"upper:\",upper)\n",
    "    print(\"lower:\",lower)\n",
    "    print(\"number:\",number)\n",
    "\n",
    "clas_d(string)"
   ]
  },
  {
   "cell_type": "code",
   "execution_count": 73,
   "id": "a422f9df",
   "metadata": {},
   "outputs": [
    {
     "name": "stdout",
     "output_type": "stream",
     "text": [
      "upper: A B C D\n",
      "lower: a b c d\n",
      "number: 1 2 3 4\n"
     ]
    }
   ],
   "source": []
  },
  {
   "cell_type": "code",
   "execution_count": null,
   "id": "afe05692",
   "metadata": {},
   "outputs": [],
   "source": []
  },
  {
   "cell_type": "code",
   "execution_count": null,
   "id": "023fbb02",
   "metadata": {},
   "outputs": [],
   "source": []
  }
 ],
 "metadata": {
  "kernelspec": {
   "display_name": "Python 3 (ipykernel)",
   "language": "python",
   "name": "python3"
  },
  "language_info": {
   "codemirror_mode": {
    "name": "ipython",
    "version": 3
   },
   "file_extension": ".py",
   "mimetype": "text/x-python",
   "name": "python",
   "nbconvert_exporter": "python",
   "pygments_lexer": "ipython3",
   "version": "3.9.13"
  }
 },
 "nbformat": 4,
 "nbformat_minor": 5
}

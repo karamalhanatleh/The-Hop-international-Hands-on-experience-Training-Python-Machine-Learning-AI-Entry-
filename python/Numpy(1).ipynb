{
 "cells": [
  {
   "cell_type": "markdown",
   "metadata": {
    "id": "F-jbttI9S15A"
   },
   "source": [
    "**NumPy**"
   ]
  },
  {
   "cell_type": "markdown",
   "metadata": {
    "id": "qEy-n8jzJpsb"
   },
   "source": [
    "# Create ndarray"
   ]
  },
  {
   "cell_type": "code",
   "execution_count": 1,
   "metadata": {
    "id": "XP8xpI6NYEFD"
   },
   "outputs": [],
   "source": [
    "import numpy as np "
   ]
  },
  {
   "cell_type": "code",
   "execution_count": 2,
   "metadata": {
    "id": "cnXxMvM-SmdX"
   },
   "outputs": [],
   "source": [
    "# Create 0D ndarray by pass list \n",
    "arr0d = np.array([5])"
   ]
  },
  {
   "cell_type": "code",
   "execution_count": 3,
   "metadata": {
    "id": "AF-EEC8RKAtx"
   },
   "outputs": [
    {
     "data": {
      "text/plain": [
       "array([5])"
      ]
     },
     "execution_count": 3,
     "metadata": {},
     "output_type": "execute_result"
    }
   ],
   "source": [
    "arr0d"
   ]
  },
  {
   "cell_type": "code",
   "execution_count": 4,
   "metadata": {
    "id": "bzJk3pajKAqG"
   },
   "outputs": [
    {
     "data": {
      "text/plain": [
       "dtype('int32')"
      ]
     },
     "execution_count": 4,
     "metadata": {},
     "output_type": "execute_result"
    }
   ],
   "source": [
    "arr0d.dtype"
   ]
  },
  {
   "cell_type": "code",
   "execution_count": 5,
   "metadata": {
    "id": "sHzYBDW2KAnN"
   },
   "outputs": [],
   "source": [
    "# Create 1D array\n",
    "arr1d = np.array([1,2,3,4,5])"
   ]
  },
  {
   "cell_type": "code",
   "execution_count": 6,
   "metadata": {
    "id": "2iP3e67bKakF"
   },
   "outputs": [
    {
     "name": "stdout",
     "output_type": "stream",
     "text": [
      "[1 2 3 4 5]\n",
      "int32\n"
     ]
    }
   ],
   "source": [
    "print(arr1d)\n",
    "print(arr1d.dtype)"
   ]
  },
  {
   "cell_type": "code",
   "execution_count": 7,
   "metadata": {
    "id": "mLp_AN3iKZtz"
   },
   "outputs": [],
   "source": [
    "arr1d = np.array([1,2,3,4,5.0])"
   ]
  },
  {
   "cell_type": "code",
   "execution_count": 8,
   "metadata": {
    "id": "ZO4Ro91qKj6Q"
   },
   "outputs": [
    {
     "name": "stdout",
     "output_type": "stream",
     "text": [
      "[1. 2. 3. 4. 5.]\n",
      "float64\n"
     ]
    }
   ],
   "source": [
    "print(arr1d)\n",
    "print(arr1d.dtype)"
   ]
  },
  {
   "cell_type": "code",
   "execution_count": 9,
   "metadata": {
    "id": "N-fXZ46mKj20"
   },
   "outputs": [],
   "source": [
    "arr1d = np.array([1,2,3,\"4\",5.0])"
   ]
  },
  {
   "cell_type": "code",
   "execution_count": 10,
   "metadata": {
    "id": "TdE3jDE0Kj1G"
   },
   "outputs": [
    {
     "name": "stdout",
     "output_type": "stream",
     "text": [
      "['1' '2' '3' '4' '5.0']\n",
      "<U32\n"
     ]
    }
   ],
   "source": [
    "print(arr1d)\n",
    "print(arr1d.dtype)"
   ]
  },
  {
   "cell_type": "code",
   "execution_count": 11,
   "metadata": {
    "id": "IA233fPVKjy_"
   },
   "outputs": [],
   "source": [
    "# Create 2D ndarray with data type\n",
    "\n",
    "arr2d = np.array( [ [0,1,2,3,4], [5,6,7,8,9] ] )"
   ]
  },
  {
   "cell_type": "code",
   "execution_count": 12,
   "metadata": {
    "id": "O-LpL-sAKjse"
   },
   "outputs": [
    {
     "name": "stdout",
     "output_type": "stream",
     "text": [
      "[[0 1 2 3 4]\n",
      " [5 6 7 8 9]]\n",
      "int32\n"
     ]
    }
   ],
   "source": [
    "print(arr2d)\n",
    "print(arr2d.dtype)"
   ]
  },
  {
   "cell_type": "code",
   "execution_count": 13,
   "metadata": {
    "id": "sy5e_GPLL5Zr"
   },
   "outputs": [
    {
     "name": "stdout",
     "output_type": "stream",
     "text": [
      "data type :  int8\n",
      "array :  [[0 1 2 3 4]\n",
      " [5 6 7 8 9]]\n"
     ]
    }
   ],
   "source": [
    "arr2d = np.array([[0,1,2,3,4,], [5,6,7,8,9]], dtype = 'i1') # np.int8,  np.int64 np.intc\n",
    "print(\"data type : \" , arr2d.dtype)\n",
    "print(\"array : \", arr2d)"
   ]
  },
  {
   "cell_type": "code",
   "execution_count": 14,
   "metadata": {
    "id": "ULAxS0rsqtkY"
   },
   "outputs": [
    {
     "name": "stdout",
     "output_type": "stream",
     "text": [
      "data type :  int8\n",
      "array :  [[   0    1    2    3    4]\n",
      " [   5    6    7  126 -127]]\n"
     ]
    }
   ],
   "source": [
    "# -128  - 127   int8\n",
    "\n",
    "#  _  _ -128 -127 -126 -125 -124 ... 0 ... 123 124 125  126    127 _ _ _ \n",
    "#   128  129  130                                       -130  -129 \n",
    "\n",
    "arr2d = np.array([[0,1,2,3,4,], [5,6,7,-130, 129]], dtype = 'i1')\n",
    "print(\"data type : \" , arr2d.dtype)\n",
    "print(\"array : \", arr2d)"
   ]
  },
  {
   "cell_type": "code",
   "execution_count": 15,
   "metadata": {
    "id": "q7k7AeZ3VC2o"
   },
   "outputs": [],
   "source": [
    "#  0 to 255 "
   ]
  },
  {
   "cell_type": "code",
   "execution_count": 16,
   "metadata": {
    "id": "GH1k2EVuKjpA"
   },
   "outputs": [
    {
     "name": "stdout",
     "output_type": "stream",
     "text": [
      "data type :  uint8\n",
      "array :  [[0 1 2 3 4]\n",
      " [5 6 7 8 9]]\n"
     ]
    }
   ],
   "source": [
    "# Unsigned Integer data-type\n",
    "\n",
    "arr2d = np.array([[0,1,2,3,4,], [5,6,7,8,9]], dtype = 'u1')\n",
    "print(\"data type : \" , arr2d.dtype)\n",
    "print(\"array : \", arr2d)"
   ]
  },
  {
   "cell_type": "code",
   "execution_count": 17,
   "metadata": {
    "id": "5FS3b9iEKjmw"
   },
   "outputs": [
    {
     "name": "stdout",
     "output_type": "stream",
     "text": [
      "data type :  uint8\n",
      "array :  [[  0   1   2   3   4]\n",
      " [  5   6   7 255  14]]\n"
     ]
    }
   ],
   "source": [
    "arr2d = np.array([[0,1,2,3,4,], [5,6,7,-1,270]], dtype = 'u1') # 256, 260\n",
    "print(\"data type : \" , arr2d.dtype)\n",
    "print(\"array : \", arr2d)"
   ]
  },
  {
   "cell_type": "code",
   "execution_count": 18,
   "metadata": {
    "id": "ga17ee0aMn48"
   },
   "outputs": [],
   "source": [
    "# What did you noticed ?????"
   ]
  },
  {
   "cell_type": "code",
   "execution_count": 19,
   "metadata": {
    "id": "Mw-FD2NxMn1S"
   },
   "outputs": [
    {
     "name": "stdout",
     "output_type": "stream",
     "text": [
      "data type :  <U3\n",
      "array :  [['0' '1' '2' '3' '4']\n",
      " ['5' '6' '7' '8' '255']]\n"
     ]
    }
   ],
   "source": [
    "# Convert data from Integer into String\n",
    "\n",
    "arr2d = np.array([[0,1,2,3,4,], [5,6,7,8,255]], dtype = 'U') # Unicode String\n",
    "print(\"data type : \" , arr2d.dtype)\n",
    "print(\"array : \", arr2d)"
   ]
  },
  {
   "cell_type": "code",
   "execution_count": 20,
   "metadata": {
    "id": "2bw5aegSMnzP"
   },
   "outputs": [
    {
     "name": "stdout",
     "output_type": "stream",
     "text": [
      "[10 20 30 40 50]\n",
      "int16\n"
     ]
    }
   ],
   "source": [
    "# Convert data from string into int16\n",
    "\n",
    "tempArr = np.array([\"10\", \"20\", \"30\", \"40\", \"50\"], dtype=np.int16)\n",
    "print(tempArr)\n",
    "print(tempArr.dtype)"
   ]
  },
  {
   "cell_type": "code",
   "execution_count": 21,
   "metadata": {
    "id": "tLO14DMIMnxU"
   },
   "outputs": [
    {
     "name": "stdout",
     "output_type": "stream",
     "text": [
      "[10. 20. 30. 40. 50.]\n",
      "float16\n"
     ]
    }
   ],
   "source": [
    "# Convert data from string into float16\n",
    "\n",
    "tempArr = np.array([\"10\", \"20\", \"30\", \"40\", \"50\"], dtype='f2')\n",
    "print(tempArr)\n",
    "print(tempArr.dtype)"
   ]
  },
  {
   "cell_type": "code",
   "execution_count": 22,
   "metadata": {
    "id": "HNAA2B5_Kjkf"
   },
   "outputs": [
    {
     "ename": "ValueError",
     "evalue": "invalid literal for int() with base 10: '50_w'",
     "output_type": "error",
     "traceback": [
      "\u001b[1;31m---------------------------------------------------------------------------\u001b[0m",
      "\u001b[1;31mValueError\u001b[0m                                Traceback (most recent call last)",
      "\u001b[1;32m~\\AppData\\Local\\Temp\\ipykernel_8056\\2234887348.py\u001b[0m in \u001b[0;36m<module>\u001b[1;34m\u001b[0m\n\u001b[0;32m      1\u001b[0m \u001b[1;31m# #Convert from string into unsigned integer\u001b[0m\u001b[1;33m\u001b[0m\u001b[1;33m\u001b[0m\u001b[0m\n\u001b[0;32m      2\u001b[0m \u001b[1;33m\u001b[0m\u001b[0m\n\u001b[1;32m----> 3\u001b[1;33m \u001b[0mtempArr\u001b[0m \u001b[1;33m=\u001b[0m \u001b[0mnp\u001b[0m\u001b[1;33m.\u001b[0m\u001b[0marray\u001b[0m\u001b[1;33m(\u001b[0m\u001b[1;33m[\u001b[0m\u001b[1;34m\"10\"\u001b[0m\u001b[1;33m,\u001b[0m \u001b[1;34m\"20\"\u001b[0m\u001b[1;33m,\u001b[0m \u001b[1;34m\"30\"\u001b[0m\u001b[1;33m,\u001b[0m \u001b[1;34m\"40\"\u001b[0m\u001b[1;33m,\u001b[0m \u001b[1;34m\"50_w\"\u001b[0m\u001b[1;33m]\u001b[0m\u001b[1;33m,\u001b[0m \u001b[0mdtype\u001b[0m\u001b[1;33m=\u001b[0m\u001b[0mnp\u001b[0m\u001b[1;33m.\u001b[0m\u001b[0muint16\u001b[0m\u001b[1;33m)\u001b[0m\u001b[1;33m\u001b[0m\u001b[1;33m\u001b[0m\u001b[0m\n\u001b[0m\u001b[0;32m      4\u001b[0m \u001b[0mprint\u001b[0m\u001b[1;33m(\u001b[0m\u001b[0mtempArr\u001b[0m\u001b[1;33m)\u001b[0m\u001b[1;33m\u001b[0m\u001b[1;33m\u001b[0m\u001b[0m\n\u001b[0;32m      5\u001b[0m \u001b[0mprint\u001b[0m\u001b[1;33m(\u001b[0m\u001b[0mtempArr\u001b[0m\u001b[1;33m.\u001b[0m\u001b[0mdtype\u001b[0m\u001b[1;33m)\u001b[0m\u001b[1;33m\u001b[0m\u001b[1;33m\u001b[0m\u001b[0m\n",
      "\u001b[1;31mValueError\u001b[0m: invalid literal for int() with base 10: '50_w'"
     ]
    }
   ],
   "source": [
    "# #Convert from string into unsigned integer \n",
    "\n",
    "tempArr = np.array([\"10\", \"20\", \"30\", \"40\", \"50_w\"], dtype=np.uint16)\n",
    "print(tempArr)\n",
    "print(tempArr.dtype)"
   ]
  },
  {
   "cell_type": "code",
   "execution_count": null,
   "metadata": {
    "id": "EqBDAZYtNQko"
   },
   "outputs": [],
   "source": [
    "# If a type is given in which elements can't be casted then NumPy will raise a ValueError."
   ]
  },
  {
   "cell_type": "code",
   "execution_count": null,
   "metadata": {
    "id": "mVELDC1r3aMO"
   },
   "outputs": [],
   "source": [
    "tempArr = np.array([\"10\", \"20\", \"30\", \"40\", \"50_0\"], dtype=np.uint16)\n",
    "print(tempArr)\n",
    "print(tempArr.dtype)"
   ]
  },
  {
   "cell_type": "code",
   "execution_count": null,
   "metadata": {
    "id": "IZqwbO7yT1pB"
   },
   "outputs": [],
   "source": [
    "x=1000_000_000\n",
    "print(x)\n",
    "\n",
    "n=1000000\n",
    "print(f\"{n:_}\")\n"
   ]
  },
  {
   "cell_type": "markdown",
   "metadata": {
    "id": "kTBHDPI0SALv"
   },
   "source": [
    "# Array Creation Routines"
   ]
  },
  {
   "cell_type": "markdown",
   "metadata": {
    "id": "7TsCC95xSUzK"
   },
   "source": [
    "**numpy.empty**"
   ]
  },
  {
   "cell_type": "code",
   "execution_count": null,
   "metadata": {
    "id": "xeDUIG8m5-Q0"
   },
   "outputs": [],
   "source": [
    "import numpy as np"
   ]
  },
  {
   "cell_type": "code",
   "execution_count": null,
   "metadata": {
    "id": "aZMAFqk-OqH_"
   },
   "outputs": [],
   "source": [
    "# np.empty(shape, dtype)\n",
    "# It creates an uninitialized array of specified shape and dtype.\n",
    "# The elements in an array show random values as they are not initialized.\n",
    "\n",
    "np.empty(shape=(3,8), dtype= np.int16) "
   ]
  },
  {
   "cell_type": "code",
   "execution_count": null,
   "metadata": {
    "id": "C1Z9voin4QVz"
   },
   "outputs": [],
   "source": [
    "np.empty(shape=(3,8), dtype= np.uint8) "
   ]
  },
  {
   "cell_type": "markdown",
   "metadata": {
    "id": "q9oo6UwgTCc9"
   },
   "source": [
    "**numpy.zeros**"
   ]
  },
  {
   "cell_type": "code",
   "execution_count": null,
   "metadata": {
    "id": "JNNqzrRIOqEh"
   },
   "outputs": [],
   "source": [
    "# np.zeros\n",
    "# Returns a new array of specified size, filled with zeros.\n",
    "# Default dtype is float \n",
    "\n",
    "np.zeros(5) "
   ]
  },
  {
   "cell_type": "code",
   "execution_count": null,
   "metadata": {
    "id": "fLB-XT3nSyFG"
   },
   "outputs": [],
   "source": [
    "np.zeros(shape=(5,5)) "
   ]
  },
  {
   "cell_type": "markdown",
   "metadata": {
    "id": "Cz9wNIQQVEsg"
   },
   "source": [
    "**numpy.ones**"
   ]
  },
  {
   "cell_type": "code",
   "execution_count": null,
   "metadata": {
    "id": "eT3CZgUjSyBo"
   },
   "outputs": [],
   "source": [
    "# np.ones\n",
    "# Returns a new array of specified size and type, filled with ones.\n",
    "# Default dtype is float \n",
    "np.ones(shape = 5)"
   ]
  },
  {
   "cell_type": "code",
   "execution_count": null,
   "metadata": {
    "id": "0VLVUGE9Sx89"
   },
   "outputs": [],
   "source": [
    "np.ones(shape = (4, 5))"
   ]
  },
  {
   "cell_type": "markdown",
   "metadata": {
    "id": "s-yaKlbfVv-D"
   },
   "source": [
    "# NumPy - Array Attributes"
   ]
  },
  {
   "cell_type": "markdown",
   "metadata": {
    "id": "Wu5AgtuMV8h3"
   },
   "source": [
    "**ndarray.shape**"
   ]
  },
  {
   "cell_type": "code",
   "execution_count": null,
   "metadata": {
    "colab": {
     "base_uri": "https://localhost:8080/"
    },
    "executionInfo": {
     "elapsed": 336,
     "status": "ok",
     "timestamp": 1678290589857,
     "user": {
      "displayName": "mahmoud h Hammouri",
      "userId": "00357087390749530798"
     },
     "user_tz": -180
    },
    "id": "c4WcllpG6YCF",
    "outputId": "186efae0-b025-45f0-df56-7af86147ec97"
   },
   "outputs": [],
   "source": [
    "arr = np.array([1,2,3,4])\n",
    "\n",
    "print(arr)\n",
    "print(arr.shape)"
   ]
  },
  {
   "cell_type": "code",
   "execution_count": null,
   "metadata": {
    "executionInfo": {
     "elapsed": 4,
     "status": "ok",
     "timestamp": 1678290491666,
     "user": {
      "displayName": "mahmoud h Hammouri",
      "userId": "00357087390749530798"
     },
     "user_tz": -180
    },
    "id": "VvmatDmkSx7H"
   },
   "outputs": [],
   "source": [
    "arr = np.array([[1,2,3,4], [5,6,7,8]])"
   ]
  },
  {
   "cell_type": "code",
   "execution_count": null,
   "metadata": {
    "colab": {
     "base_uri": "https://localhost:8080/"
    },
    "executionInfo": {
     "elapsed": 11,
     "status": "ok",
     "timestamp": 1678290492022,
     "user": {
      "displayName": "mahmoud h Hammouri",
      "userId": "00357087390749530798"
     },
     "user_tz": -180
    },
    "id": "VRvPv_qjWiB7",
    "outputId": "0ee52631-8482-40be-cb8b-2e6a314b6981"
   },
   "outputs": [],
   "source": [
    "arr"
   ]
  },
  {
   "cell_type": "code",
   "execution_count": null,
   "metadata": {
    "colab": {
     "base_uri": "https://localhost:8080/"
    },
    "executionInfo": {
     "elapsed": 3,
     "status": "ok",
     "timestamp": 1678290492824,
     "user": {
      "displayName": "mahmoud h Hammouri",
      "userId": "00357087390749530798"
     },
     "user_tz": -180
    },
    "id": "JM5RQ6a6WGPf",
    "outputId": "f5a2c320-6d8d-435e-e067-13279760930a"
   },
   "outputs": [],
   "source": [
    "# This array attribute returns a tuple consisting of array dimensions\n",
    "arr.shape"
   ]
  },
  {
   "cell_type": "code",
   "execution_count": null,
   "metadata": {
    "id": "r2bPdy4iWIxR"
   },
   "outputs": [],
   "source": [
    "# ndarray.shape can be used to reshape the array.\n",
    "arr.shape = (4,2)"
   ]
  },
  {
   "cell_type": "code",
   "execution_count": null,
   "metadata": {
    "id": "V9A4Bp-RWfp5"
   },
   "outputs": [],
   "source": [
    "print(arr)\n",
    "print(arr.shape)"
   ]
  },
  {
   "cell_type": "markdown",
   "metadata": {
    "id": "K3exjnKGXNdH"
   },
   "source": [
    "numpy.arang(srart, end, steps)"
   ]
  },
  {
   "cell_type": "code",
   "execution_count": null,
   "metadata": {
    "colab": {
     "base_uri": "https://localhost:8080/"
    },
    "executionInfo": {
     "elapsed": 26,
     "status": "ok",
     "timestamp": 1678290821874,
     "user": {
      "displayName": "mahmoud h Hammouri",
      "userId": "00357087390749530798"
     },
     "user_tz": -180
    },
    "id": "BYa8QBmAWgSf",
    "outputId": "1d3dd056-2e25-4eb9-c2a5-cb3c3a88de3c"
   },
   "outputs": [],
   "source": [
    "a = np.arange(0,10)\n",
    "print(a)\n",
    "print(a.shape)"
   ]
  },
  {
   "cell_type": "code",
   "execution_count": null,
   "metadata": {
    "colab": {
     "base_uri": "https://localhost:8080/"
    },
    "executionInfo": {
     "elapsed": 24,
     "status": "ok",
     "timestamp": 1678290821874,
     "user": {
      "displayName": "mahmoud h Hammouri",
      "userId": "00357087390749530798"
     },
     "user_tz": -180
    },
    "id": "G91h_q4lYFmX",
    "outputId": "08abc849-be67-450c-ae1d-e4f39012e096"
   },
   "outputs": [],
   "source": [
    "a.shape = (2,5)\n",
    "print(a)"
   ]
  },
  {
   "cell_type": "code",
   "execution_count": null,
   "metadata": {
    "executionInfo": {
     "elapsed": 20,
     "status": "ok",
     "timestamp": 1678290821874,
     "user": {
      "displayName": "mahmoud h Hammouri",
      "userId": "00357087390749530798"
     },
     "user_tz": -180
    },
    "id": "ws4lebl1YFgh"
   },
   "outputs": [],
   "source": [
    "a.shape = (10,)"
   ]
  },
  {
   "cell_type": "code",
   "execution_count": null,
   "metadata": {
    "colab": {
     "base_uri": "https://localhost:8080/"
    },
    "executionInfo": {
     "elapsed": 20,
     "status": "ok",
     "timestamp": 1678290821875,
     "user": {
      "displayName": "mahmoud h Hammouri",
      "userId": "00357087390749530798"
     },
     "user_tz": -180
    },
    "id": "rfR3VZRgYb8e",
    "outputId": "93e2432a-a0c8-4690-c5e5-cb4b7b321d7b"
   },
   "outputs": [],
   "source": [
    "a"
   ]
  },
  {
   "cell_type": "code",
   "execution_count": null,
   "metadata": {
    "colab": {
     "base_uri": "https://localhost:8080/"
    },
    "executionInfo": {
     "elapsed": 13,
     "status": "ok",
     "timestamp": 1678290821875,
     "user": {
      "displayName": "mahmoud h Hammouri",
      "userId": "00357087390749530798"
     },
     "user_tz": -180
    },
    "id": "f4Ve4M7GYdxc",
    "outputId": "4265b0f3-b1c7-445b-df39-d85da97ca5c0"
   },
   "outputs": [],
   "source": [
    "a = np.arange(0,24)\n",
    "print(\"array : \",a)\n",
    "print(\"shape : \" ,a.shape)\n"
   ]
  },
  {
   "cell_type": "code",
   "execution_count": null,
   "metadata": {
    "colab": {
     "base_uri": "https://localhost:8080/"
    },
    "executionInfo": {
     "elapsed": 11,
     "status": "ok",
     "timestamp": 1678290821876,
     "user": {
      "displayName": "mahmoud h Hammouri",
      "userId": "00357087390749530798"
     },
     "user_tz": -180
    },
    "id": "GxiA0-wrsgsr",
    "outputId": "8b98493a-f3a5-4a1d-ef62-1020542e7c67"
   },
   "outputs": [],
   "source": [
    "print(\"reshap array into 2D\")\n",
    "a.shape = (8,3) #(4,6) # (2,12)\n",
    "print(\"reshap array: \\n\" ,a)"
   ]
  },
  {
   "cell_type": "code",
   "execution_count": null,
   "metadata": {
    "executionInfo": {
     "elapsed": 8,
     "status": "ok",
     "timestamp": 1678290822209,
     "user": {
      "displayName": "mahmoud h Hammouri",
      "userId": "00357087390749530798"
     },
     "user_tz": -180
    },
    "id": "jH0oePVJ3Ld3"
   },
   "outputs": [],
   "source": [
    "# [ 0  0  0 ] 1X3\n",
    "\n",
    "# [[ 0  0  0 ]\n",
    "#  [ 0  0  0 ] ] 2X3\n",
    "\n",
    "\n",
    "# [ [ 0  0  0 ]\n",
    "#   [ 0  0  0 ]\n",
    "#   [ 0  0  0 ] ] 3X3\n",
    "\n",
    "\n",
    "# [ [ [ 0  0  0 ]\n",
    "#     [ 0  0  0 ]\n",
    "#     [ 0  0  0 ] ] \n",
    "#                   \n",
    "#    [[ 1  1  1 ]\n",
    "#     [ 1  1  1 ]      number of arrays X number of rows X numver of columns\n",
    "#     [ 1  1  1 ] ] ]          2        X         3      X         3     \n",
    "#                   \n",
    "#                   \n",
    "\n"
   ]
  },
  {
   "cell_type": "code",
   "execution_count": null,
   "metadata": {
    "colab": {
     "base_uri": "https://localhost:8080/"
    },
    "executionInfo": {
     "elapsed": 7,
     "status": "ok",
     "timestamp": 1678290822209,
     "user": {
      "displayName": "mahmoud h Hammouri",
      "userId": "00357087390749530798"
     },
     "user_tz": -180
    },
    "id": "XLgESaeja5pG",
    "outputId": "94c6bb23-09ce-40a5-b8fb-03bfc56a7b5a"
   },
   "outputs": [],
   "source": [
    "print(\"reshap array into 3D\")\n",
    "a.shape = (2,4,3)\n",
    "print(\"reshap array: \\n\" ,a)"
   ]
  },
  {
   "cell_type": "code",
   "execution_count": null,
   "metadata": {
    "colab": {
     "base_uri": "https://localhost:8080/"
    },
    "executionInfo": {
     "elapsed": 7,
     "status": "ok",
     "timestamp": 1678290822210,
     "user": {
      "displayName": "mahmoud h Hammouri",
      "userId": "00357087390749530798"
     },
     "user_tz": -180
    },
    "id": "EOZ53K2QY4J0",
    "outputId": "45999ddd-926c-410b-825d-7319f149b79f"
   },
   "outputs": [],
   "source": [
    "\n",
    "\n",
    "print(\"\\n return into the original shape\")\n",
    "a.shape = (24,)\n",
    "print(a)"
   ]
  },
  {
   "cell_type": "markdown",
   "metadata": {
    "id": "CXamrPudXoRQ"
   },
   "source": [
    "numpy.itemsize"
   ]
  },
  {
   "cell_type": "code",
   "execution_count": null,
   "metadata": {
    "colab": {
     "base_uri": "https://localhost:8080/"
    },
    "executionInfo": {
     "elapsed": 439,
     "status": "ok",
     "timestamp": 1678290825305,
     "user": {
      "displayName": "mahmoud h Hammouri",
      "userId": "00357087390749530798"
     },
     "user_tz": -180
    },
    "id": "nG5stj08W9Ci",
    "outputId": "9fbe99cd-dbf3-4a47-83d1-de02997b645b"
   },
   "outputs": [],
   "source": [
    "# This array attribute returns the length of each element of array in bytes.\n",
    "arr.itemsize"
   ]
  },
  {
   "cell_type": "markdown",
   "metadata": {
    "id": "BGhE9a-_6tix"
   },
   "source": [
    "# Numpy Array Indexing and Slicing \n"
   ]
  },
  {
   "cell_type": "markdown",
   "metadata": {
    "id": "z7_WDFtWYRGr"
   },
   "source": [
    "Integer Slicing"
   ]
  },
  {
   "cell_type": "code",
   "execution_count": null,
   "metadata": {
    "executionInfo": {
     "elapsed": 443,
     "status": "ok",
     "timestamp": 1678290851897,
     "user": {
      "displayName": "mahmoud h Hammouri",
      "userId": "00357087390749530798"
     },
     "user_tz": -180
    },
    "id": "N3twzpXvW88r"
   },
   "outputs": [],
   "source": [
    "arr = np.arange(25)"
   ]
  },
  {
   "cell_type": "code",
   "execution_count": null,
   "metadata": {
    "colab": {
     "base_uri": "https://localhost:8080/"
    },
    "executionInfo": {
     "elapsed": 7,
     "status": "ok",
     "timestamp": 1678290852361,
     "user": {
      "displayName": "mahmoud h Hammouri",
      "userId": "00357087390749530798"
     },
     "user_tz": -180
    },
    "id": "7bebS3a37fh1",
    "outputId": "f4330c65-6995-4f1e-d4fb-86af0221c34d"
   },
   "outputs": [],
   "source": [
    "arr"
   ]
  },
  {
   "cell_type": "code",
   "execution_count": null,
   "metadata": {
    "colab": {
     "base_uri": "https://localhost:8080/"
    },
    "executionInfo": {
     "elapsed": 341,
     "status": "ok",
     "timestamp": 1678290904204,
     "user": {
      "displayName": "mahmoud h Hammouri",
      "userId": "00357087390749530798"
     },
     "user_tz": -180
    },
    "id": "aWInAjR37gzr",
    "outputId": "5de186df-d411-4f03-96b3-b05c2354b427"
   },
   "outputs": [],
   "source": [
    "arr[10]"
   ]
  },
  {
   "cell_type": "code",
   "execution_count": null,
   "metadata": {
    "colab": {
     "base_uri": "https://localhost:8080/"
    },
    "executionInfo": {
     "elapsed": 310,
     "status": "ok",
     "timestamp": 1678290933485,
     "user": {
      "displayName": "mahmoud h Hammouri",
      "userId": "00357087390749530798"
     },
     "user_tz": -180
    },
    "id": "MeeoyRub7wWl",
    "outputId": "1f1dcf45-3ce6-4851-cecb-29e37c7ac341"
   },
   "outputs": [],
   "source": [
    "arr[2:11]"
   ]
  },
  {
   "cell_type": "code",
   "execution_count": null,
   "metadata": {
    "colab": {
     "base_uri": "https://localhost:8080/"
    },
    "executionInfo": {
     "elapsed": 13,
     "status": "ok",
     "timestamp": 1678290961126,
     "user": {
      "displayName": "mahmoud h Hammouri",
      "userId": "00357087390749530798"
     },
     "user_tz": -180
    },
    "id": "HeeZsqW672K8",
    "outputId": "185e3f29-5eea-4486-a781-cfeb1d4c8777"
   },
   "outputs": [],
   "source": [
    "arr[2:11:2]"
   ]
  },
  {
   "cell_type": "code",
   "execution_count": null,
   "metadata": {
    "executionInfo": {
     "elapsed": 368,
     "status": "ok",
     "timestamp": 1678290990818,
     "user": {
      "displayName": "mahmoud h Hammouri",
      "userId": "00357087390749530798"
     },
     "user_tz": -180
    },
    "id": "_q8eiTC_CnNH"
   },
   "outputs": [],
   "source": [
    "arr = arr.reshape(5,5)"
   ]
  },
  {
   "cell_type": "code",
   "execution_count": null,
   "metadata": {
    "colab": {
     "base_uri": "https://localhost:8080/"
    },
    "executionInfo": {
     "elapsed": 6,
     "status": "ok",
     "timestamp": 1678290992637,
     "user": {
      "displayName": "mahmoud h Hammouri",
      "userId": "00357087390749530798"
     },
     "user_tz": -180
    },
    "id": "MGgtsBdLCnKx",
    "outputId": "9c202dc0-c2fd-410f-d7a6-b556bf5c60de"
   },
   "outputs": [],
   "source": [
    "arr"
   ]
  },
  {
   "cell_type": "code",
   "execution_count": null,
   "metadata": {
    "colab": {
     "base_uri": "https://localhost:8080/"
    },
    "executionInfo": {
     "elapsed": 333,
     "status": "ok",
     "timestamp": 1678291021940,
     "user": {
      "displayName": "mahmoud h Hammouri",
      "userId": "00357087390749530798"
     },
     "user_tz": -180
    },
    "id": "f2FK9q0QCnI4",
    "outputId": "094cd0f2-2bbd-434c-af3d-9a66bcbbb9f4"
   },
   "outputs": [],
   "source": [
    "arr[0][1]"
   ]
  },
  {
   "cell_type": "code",
   "execution_count": null,
   "metadata": {
    "colab": {
     "base_uri": "https://localhost:8080/"
    },
    "executionInfo": {
     "elapsed": 333,
     "status": "ok",
     "timestamp": 1678291042826,
     "user": {
      "displayName": "mahmoud h Hammouri",
      "userId": "00357087390749530798"
     },
     "user_tz": -180
    },
    "id": "Gw57s05WCnGu",
    "outputId": "571c6c8e-6956-42c8-f7a0-bd4232922759"
   },
   "outputs": [],
   "source": [
    "arr[0,1]"
   ]
  },
  {
   "cell_type": "code",
   "execution_count": null,
   "metadata": {
    "colab": {
     "base_uri": "https://localhost:8080/"
    },
    "executionInfo": {
     "elapsed": 343,
     "status": "ok",
     "timestamp": 1678291063607,
     "user": {
      "displayName": "mahmoud h Hammouri",
      "userId": "00357087390749530798"
     },
     "user_tz": -180
    },
    "id": "1yp1sp8KfZA6",
    "outputId": "a0b18e04-aadd-408a-d19c-0017101f173b"
   },
   "outputs": [],
   "source": [
    "arr[0, 4]"
   ]
  },
  {
   "cell_type": "code",
   "execution_count": null,
   "metadata": {
    "colab": {
     "base_uri": "https://localhost:8080/"
    },
    "executionInfo": {
     "elapsed": 340,
     "status": "ok",
     "timestamp": 1678291086276,
     "user": {
      "displayName": "mahmoud h Hammouri",
      "userId": "00357087390749530798"
     },
     "user_tz": -180
    },
    "id": "_7xZs22-H26a",
    "outputId": "70eb1135-65b1-4635-8147-3b1103a439e3"
   },
   "outputs": [],
   "source": [
    "print(\"number of dimensions : \" ,arr.ndim)\n",
    "print(\"shape of the array : \", arr.shape)"
   ]
  },
  {
   "cell_type": "code",
   "execution_count": null,
   "metadata": {
    "colab": {
     "base_uri": "https://localhost:8080/"
    },
    "executionInfo": {
     "elapsed": 742,
     "status": "ok",
     "timestamp": 1678291173941,
     "user": {
      "displayName": "mahmoud h Hammouri",
      "userId": "00357087390749530798"
     },
     "user_tz": -180
    },
    "id": "i44VvU5Z8u2K",
    "outputId": "45809496-8fc8-4ca2-e12f-8c144dcfd6b0"
   },
   "outputs": [],
   "source": [
    "arr"
   ]
  },
  {
   "cell_type": "code",
   "execution_count": null,
   "metadata": {
    "colab": {
     "base_uri": "https://localhost:8080/"
    },
    "executionInfo": {
     "elapsed": 352,
     "status": "ok",
     "timestamp": 1678291249794,
     "user": {
      "displayName": "mahmoud h Hammouri",
      "userId": "00357087390749530798"
     },
     "user_tz": -180
    },
    "id": "n7sHvT6K8uy0",
    "outputId": "6c9c85fe-4597-49e3-c29e-8e80d4bc41b3"
   },
   "outputs": [],
   "source": [
    "arr[ 0 , 1:4]"
   ]
  },
  {
   "cell_type": "code",
   "execution_count": null,
   "metadata": {
    "colab": {
     "base_uri": "https://localhost:8080/"
    },
    "executionInfo": {
     "elapsed": 13,
     "status": "ok",
     "timestamp": 1678291346745,
     "user": {
      "displayName": "mahmoud h Hammouri",
      "userId": "00357087390749530798"
     },
     "user_tz": -180
    },
    "id": "5vhiEZkq9Yp0",
    "outputId": "5c1db0f2-bc37-40ab-8c14-5993b1e20d7c"
   },
   "outputs": [],
   "source": [
    "arr[0:2]"
   ]
  },
  {
   "cell_type": "code",
   "execution_count": null,
   "metadata": {
    "colab": {
     "base_uri": "https://localhost:8080/"
    },
    "executionInfo": {
     "elapsed": 6,
     "status": "ok",
     "timestamp": 1678291325106,
     "user": {
      "displayName": "mahmoud h Hammouri",
      "userId": "00357087390749530798"
     },
     "user_tz": -180
    },
    "id": "RVMFurxQ8uw0",
    "outputId": "fd2561d1-805a-4c61-8872-a7cd6b34cd80"
   },
   "outputs": [],
   "source": [
    "arr[0:2, 1:4]"
   ]
  },
  {
   "cell_type": "code",
   "execution_count": null,
   "metadata": {
    "id": "NTsRyVFH9eOW"
   },
   "outputs": [],
   "source": []
  },
  {
   "cell_type": "code",
   "execution_count": null,
   "metadata": {
    "id": "B-yuUslqH9JM"
   },
   "outputs": [],
   "source": [
    "# we have 3 dimensions\n",
    "# arr[ first dimension , second dimension , third dimension] |or| arr[first dimension][second dimension][third dimension]\n",
    "# for each dimension start : end : steps"
   ]
  },
  {
   "cell_type": "code",
   "execution_count": null,
   "metadata": {
    "executionInfo": {
     "elapsed": 330,
     "status": "ok",
     "timestamp": 1678291433979,
     "user": {
      "displayName": "mahmoud h Hammouri",
      "userId": "00357087390749530798"
     },
     "user_tz": -180
    },
    "id": "JJ1yUq3zgRBU"
   },
   "outputs": [],
   "source": [
    "arr = np.arange(27).reshape(3,3,3)"
   ]
  },
  {
   "cell_type": "code",
   "execution_count": null,
   "metadata": {
    "colab": {
     "base_uri": "https://localhost:8080/"
    },
    "executionInfo": {
     "elapsed": 866,
     "status": "ok",
     "timestamp": 1678291439896,
     "user": {
      "displayName": "mahmoud h Hammouri",
      "userId": "00357087390749530798"
     },
     "user_tz": -180
    },
    "id": "UK86XJhH9wPY",
    "outputId": "3d5fb855-327d-4267-bfdd-eb2d102d8d15"
   },
   "outputs": [],
   "source": [
    "arr"
   ]
  },
  {
   "cell_type": "code",
   "execution_count": null,
   "metadata": {
    "colab": {
     "base_uri": "https://localhost:8080/"
    },
    "executionInfo": {
     "elapsed": 7,
     "status": "ok",
     "timestamp": 1678291477312,
     "user": {
      "displayName": "mahmoud h Hammouri",
      "userId": "00357087390749530798"
     },
     "user_tz": -180
    },
    "id": "IhpzeHVX937l",
    "outputId": "c0dc0fa8-4764-4017-b391-ff3ff531d23d"
   },
   "outputs": [],
   "source": [
    "arr[0]"
   ]
  },
  {
   "cell_type": "code",
   "execution_count": null,
   "metadata": {
    "colab": {
     "base_uri": "https://localhost:8080/"
    },
    "executionInfo": {
     "elapsed": 398,
     "status": "ok",
     "timestamp": 1678291500629,
     "user": {
      "displayName": "mahmoud h Hammouri",
      "userId": "00357087390749530798"
     },
     "user_tz": -180
    },
    "id": "x0eJyF0i9-e3",
    "outputId": "35240420-1ad2-4b57-cf5a-6112a85f3c5b"
   },
   "outputs": [],
   "source": [
    "arr[1]"
   ]
  },
  {
   "cell_type": "code",
   "execution_count": null,
   "metadata": {
    "colab": {
     "base_uri": "https://localhost:8080/"
    },
    "executionInfo": {
     "elapsed": 328,
     "status": "ok",
     "timestamp": 1678291583103,
     "user": {
      "displayName": "mahmoud h Hammouri",
      "userId": "00357087390749530798"
     },
     "user_tz": -180
    },
    "id": "Bt3islX09-bR",
    "outputId": "72426f5c-7add-46a8-a2ec-268ccc1830e5"
   },
   "outputs": [],
   "source": [
    "arr[1, 2, 1]"
   ]
  },
  {
   "cell_type": "code",
   "execution_count": null,
   "metadata": {
    "id": "lgUscB5d9-ZV"
   },
   "outputs": [],
   "source": []
  },
  {
   "cell_type": "code",
   "execution_count": null,
   "metadata": {
    "colab": {
     "base_uri": "https://localhost:8080/"
    },
    "executionInfo": {
     "elapsed": 302,
     "status": "ok",
     "timestamp": 1678291610693,
     "user": {
      "displayName": "mahmoud h Hammouri",
      "userId": "00357087390749530798"
     },
     "user_tz": -180
    },
    "id": "WEMKbr6eCm-I",
    "outputId": "89a5f189-2c9c-4515-c57b-360664696c9b"
   },
   "outputs": [],
   "source": [
    "# Access to the 4 value in array\n",
    "\n",
    "print(arr[0][1][1])\n",
    "\n",
    "# another solution\n",
    "\n",
    "print(arr[0 , 1 , 1])"
   ]
  },
  {
   "cell_type": "code",
   "execution_count": null,
   "metadata": {
    "colab": {
     "base_uri": "https://localhost:8080/"
    },
    "executionInfo": {
     "elapsed": 7,
     "status": "ok",
     "timestamp": 1678291623080,
     "user": {
      "displayName": "mahmoud h Hammouri",
      "userId": "00357087390749530798"
     },
     "user_tz": -180
    },
    "id": "mRq5LQFwhuLv",
    "outputId": "1466da89-1c0e-4d59-e888-64765c61537c"
   },
   "outputs": [],
   "source": [
    "arr"
   ]
  },
  {
   "cell_type": "code",
   "execution_count": null,
   "metadata": {
    "colab": {
     "base_uri": "https://localhost:8080/"
    },
    "executionInfo": {
     "elapsed": 329,
     "status": "ok",
     "timestamp": 1678291731650,
     "user": {
      "displayName": "mahmoud h Hammouri",
      "userId": "00357087390749530798"
     },
     "user_tz": -180
    },
    "id": "gt2DSIdGI2XY",
    "outputId": "f7cee3f9-7c30-41be-d29d-d33d2b999a8a"
   },
   "outputs": [],
   "source": [
    "# access to [[ 0,  1,  2],\n",
    "#           [ 3,  4,  5]]\n",
    "\n",
    "arr[0, :2]"
   ]
  },
  {
   "cell_type": "code",
   "execution_count": null,
   "metadata": {
    "colab": {
     "base_uri": "https://localhost:8080/"
    },
    "executionInfo": {
     "elapsed": 420,
     "status": "ok",
     "timestamp": 1678291747062,
     "user": {
      "displayName": "mahmoud h Hammouri",
      "userId": "00357087390749530798"
     },
     "user_tz": -180
    },
    "id": "EKb8b1G1-7cM",
    "outputId": "3c0fc916-8030-45ea-fe98-a31ecdb53dc3"
   },
   "outputs": [],
   "source": [
    "arr"
   ]
  },
  {
   "cell_type": "code",
   "execution_count": null,
   "metadata": {
    "colab": {
     "base_uri": "https://localhost:8080/"
    },
    "executionInfo": {
     "elapsed": 353,
     "status": "ok",
     "timestamp": 1678291806275,
     "user": {
      "displayName": "mahmoud h Hammouri",
      "userId": "00357087390749530798"
     },
     "user_tz": -180
    },
    "id": "XcWJe8xUJWYt",
    "outputId": "3b2c31aa-d69d-4d98-a363-edcdfbba707a"
   },
   "outputs": [],
   "source": [
    "# access to [[15, 16]] list\n",
    "\n",
    "arr[1, 2, :2]"
   ]
  },
  {
   "cell_type": "code",
   "execution_count": null,
   "metadata": {
    "colab": {
     "base_uri": "https://localhost:8080/"
    },
    "executionInfo": {
     "elapsed": 18,
     "status": "ok",
     "timestamp": 1678291816241,
     "user": {
      "displayName": "mahmoud h Hammouri",
      "userId": "00357087390749530798"
     },
     "user_tz": -180
    },
    "id": "O7jeb1f1_MJs",
    "outputId": "9a72e110-9af1-4476-aeb2-9af312a67467"
   },
   "outputs": [],
   "source": [
    "arr"
   ]
  },
  {
   "cell_type": "code",
   "execution_count": null,
   "metadata": {
    "colab": {
     "base_uri": "https://localhost:8080/"
    },
    "executionInfo": {
     "elapsed": 662,
     "status": "ok",
     "timestamp": 1678291923669,
     "user": {
      "displayName": "mahmoud h Hammouri",
      "userId": "00357087390749530798"
     },
     "user_tz": -180
    },
    "id": "ZUgKviw1KdY1",
    "outputId": "22244e3c-a146-41fc-9601-c1caddbc0ba3"
   },
   "outputs": [],
   "source": [
    "# access to [[18, 19, 20],\n",
    "#           [21, 22, 23]]\n",
    "\n",
    "arr[2, 0:2]"
   ]
  },
  {
   "cell_type": "code",
   "execution_count": null,
   "metadata": {
    "colab": {
     "base_uri": "https://localhost:8080/"
    },
    "executionInfo": {
     "elapsed": 321,
     "status": "ok",
     "timestamp": 1678291935237,
     "user": {
      "displayName": "mahmoud h Hammouri",
      "userId": "00357087390749530798"
     },
     "user_tz": -180
    },
    "id": "8oTfgaFj3Kzy",
    "outputId": "1472e953-5b1a-4189-b195-f61e6886da73"
   },
   "outputs": [],
   "source": [
    "arr"
   ]
  },
  {
   "cell_type": "code",
   "execution_count": null,
   "metadata": {
    "colab": {
     "base_uri": "https://localhost:8080/"
    },
    "executionInfo": {
     "elapsed": 9,
     "status": "ok",
     "timestamp": 1678291970256,
     "user": {
      "displayName": "mahmoud h Hammouri",
      "userId": "00357087390749530798"
     },
     "user_tz": -180
    },
    "id": "cxtFDy7_D-5T",
    "outputId": "ca7721cd-e31e-46d3-99cf-6408399b6acb"
   },
   "outputs": [],
   "source": [
    "# acces to [18, 21]\n",
    "\n",
    "arr[-1, 0:2, 0]"
   ]
  },
  {
   "cell_type": "code",
   "execution_count": null,
   "metadata": {
    "id": "ZXzYqKudF52U"
   },
   "outputs": [],
   "source": []
  },
  {
   "cell_type": "code",
   "execution_count": null,
   "metadata": {
    "colab": {
     "base_uri": "https://localhost:8080/"
    },
    "executionInfo": {
     "elapsed": 343,
     "status": "ok",
     "timestamp": 1678292044360,
     "user": {
      "displayName": "mahmoud h Hammouri",
      "userId": "00357087390749530798"
     },
     "user_tz": -180
    },
    "id": "IOmK23W3Fyxu",
    "outputId": "cf01e5b9-f4ef-45ac-ae26-a4d77a7b374b"
   },
   "outputs": [],
   "source": [
    "# access to first two columns in all rows\n",
    "\n",
    "arr[:, : , 0:2]"
   ]
  },
  {
   "cell_type": "code",
   "execution_count": null,
   "metadata": {
    "executionInfo": {
     "elapsed": 302,
     "status": "ok",
     "timestamp": 1678292052037,
     "user": {
      "displayName": "mahmoud h Hammouri",
      "userId": "00357087390749530798"
     },
     "user_tz": -180
    },
    "id": "scnxyOs4GZ-I"
   },
   "outputs": [],
   "source": [
    "arr = np.arange(125)\n",
    "arr.shape = (25,5)"
   ]
  },
  {
   "cell_type": "code",
   "execution_count": null,
   "metadata": {
    "colab": {
     "base_uri": "https://localhost:8080/"
    },
    "executionInfo": {
     "elapsed": 7,
     "status": "ok",
     "timestamp": 1678292054163,
     "user": {
      "displayName": "mahmoud h Hammouri",
      "userId": "00357087390749530798"
     },
     "user_tz": -180
    },
    "id": "sWsTvrEkLfpT",
    "outputId": "15e915a5-f2c0-4b3c-e4ee-ab013ed071e1"
   },
   "outputs": [],
   "source": [
    "arr"
   ]
  },
  {
   "cell_type": "code",
   "execution_count": null,
   "metadata": {
    "colab": {
     "base_uri": "https://localhost:8080/"
    },
    "executionInfo": {
     "elapsed": 394,
     "status": "ok",
     "timestamp": 1678292106582,
     "user": {
      "displayName": "mahmoud h Hammouri",
      "userId": "00357087390749530798"
     },
     "user_tz": -180
    },
    "id": "Bl86lY9OLoCq",
    "outputId": "37042789-4600-4ac5-f563-08f4089fa27c"
   },
   "outputs": [],
   "source": [
    "# access to all items in first column\n",
    "arr[:, 0]"
   ]
  },
  {
   "cell_type": "code",
   "execution_count": null,
   "metadata": {
    "colab": {
     "base_uri": "https://localhost:8080/"
    },
    "executionInfo": {
     "elapsed": 727,
     "status": "ok",
     "timestamp": 1678292200637,
     "user": {
      "displayName": "mahmoud h Hammouri",
      "userId": "00357087390749530798"
     },
     "user_tz": -180
    },
    "id": "m1mUvBkHLyPQ",
    "outputId": "2256b92c-a890-411d-e37f-f8a249cab09c"
   },
   "outputs": [],
   "source": [
    "\n",
    "# access to all items in first column with step 3\n",
    "\n",
    "arr[::3, 0]"
   ]
  },
  {
   "cell_type": "code",
   "execution_count": null,
   "metadata": {
    "colab": {
     "base_uri": "https://localhost:8080/"
    },
    "executionInfo": {
     "elapsed": 12,
     "status": "ok",
     "timestamp": 1678292234336,
     "user": {
      "displayName": "mahmoud h Hammouri",
      "userId": "00357087390749530798"
     },
     "user_tz": -180
    },
    "id": "hsnUTNcA5ODb",
    "outputId": "9a1a7782-61f8-49de-8d8c-b9699eafdabd"
   },
   "outputs": [],
   "source": [
    "arr"
   ]
  },
  {
   "cell_type": "code",
   "execution_count": null,
   "metadata": {
    "id": "MOFqdHrmMRsG"
   },
   "outputs": [],
   "source": [
    "# Task\n",
    "# write python to access to the following list : [ 4, 14, 24, 34, 44, 54, 64, 74]\n",
    "# "
   ]
  },
  {
   "cell_type": "code",
   "execution_count": null,
   "metadata": {
    "colab": {
     "base_uri": "https://localhost:8080/"
    },
    "executionInfo": {
     "elapsed": 329,
     "status": "ok",
     "timestamp": 1678292309319,
     "user": {
      "displayName": "mahmoud h Hammouri",
      "userId": "00357087390749530798"
     },
     "user_tz": -180
    },
    "id": "KBWHexfAwjCg",
    "outputId": "e21cd5bd-3939-42de-f8e3-e7e80a3eda80"
   },
   "outputs": [],
   "source": [
    "arr[:16:2, -1]"
   ]
  },
  {
   "cell_type": "code",
   "execution_count": null,
   "metadata": {
    "id": "l9ODy0gdSE1T"
   },
   "outputs": [],
   "source": []
  },
  {
   "cell_type": "markdown",
   "metadata": {
    "id": "3zg8ZtSwYbBI"
   },
   "source": [
    "Boolean Array Indexing"
   ]
  },
  {
   "cell_type": "code",
   "execution_count": null,
   "metadata": {
    "colab": {
     "base_uri": "https://localhost:8080/"
    },
    "executionInfo": {
     "elapsed": 355,
     "status": "ok",
     "timestamp": 1678293157183,
     "user": {
      "displayName": "mahmoud h Hammouri",
      "userId": "00357087390749530798"
     },
     "user_tz": -180
    },
    "id": "-40MilrYYcwQ",
    "outputId": "78cf4c0a-2453-429d-dbf2-f1e482a5d1c0"
   },
   "outputs": [],
   "source": [
    "arr = np.arange(100)\n",
    "arr = arr.reshape(10,10)\n",
    "print(arr)"
   ]
  },
  {
   "cell_type": "code",
   "execution_count": null,
   "metadata": {
    "colab": {
     "base_uri": "https://localhost:8080/"
    },
    "executionInfo": {
     "elapsed": 345,
     "status": "ok",
     "timestamp": 1678293193274,
     "user": {
      "displayName": "mahmoud h Hammouri",
      "userId": "00357087390749530798"
     },
     "user_tz": -180
    },
    "id": "E9l9hrMAZgY4",
    "outputId": "4c4e7003-688e-4d6e-f793-d2c887e3e8c3"
   },
   "outputs": [],
   "source": [
    "# check all values in array if greater than 50 \n",
    "# return array of boolean values\n",
    "\n",
    "arr > 50 "
   ]
  },
  {
   "cell_type": "code",
   "execution_count": null,
   "metadata": {
    "colab": {
     "base_uri": "https://localhost:8080/"
    },
    "executionInfo": {
     "elapsed": 505,
     "status": "ok",
     "timestamp": 1678293256187,
     "user": {
      "displayName": "mahmoud h Hammouri",
      "userId": "00357087390749530798"
     },
     "user_tz": -180
    },
    "id": "4pDRNCr3Ycod",
    "outputId": "b13f3d55-4005-4e39-c4a0-b5342a602ce6"
   },
   "outputs": [],
   "source": [
    "# return values that have True value \n",
    "arr[arr > 50]"
   ]
  },
  {
   "cell_type": "code",
   "execution_count": null,
   "metadata": {
    "executionInfo": {
     "elapsed": 16,
     "status": "ok",
     "timestamp": 1678293340800,
     "user": {
      "displayName": "mahmoud h Hammouri",
      "userId": "00357087390749530798"
     },
     "user_tz": -180
    },
    "id": "H5LoT4o5Ycis"
   },
   "outputs": [],
   "source": [
    "# Create array with nan value \n",
    "arr = np.array([np.nan , 1 , 2, np.nan , 3 , 4 , 5 , np.nan,])"
   ]
  },
  {
   "cell_type": "code",
   "execution_count": null,
   "metadata": {
    "colab": {
     "base_uri": "https://localhost:8080/"
    },
    "executionInfo": {
     "elapsed": 9,
     "status": "ok",
     "timestamp": 1678293401241,
     "user": {
      "displayName": "mahmoud h Hammouri",
      "userId": "00357087390749530798"
     },
     "user_tz": -180
    },
    "id": "ZEyYBqbSFOxQ",
    "outputId": "d861c3d4-7bc6-4adb-95a6-a64194d138a7"
   },
   "outputs": [],
   "source": [
    "type(np.nan)"
   ]
  },
  {
   "cell_type": "code",
   "execution_count": null,
   "metadata": {
    "colab": {
     "base_uri": "https://localhost:8080/"
    },
    "executionInfo": {
     "elapsed": 366,
     "status": "ok",
     "timestamp": 1678293347980,
     "user": {
      "displayName": "mahmoud h Hammouri",
      "userId": "00357087390749530798"
     },
     "user_tz": -180
    },
    "id": "wKy5RfZRFB8Q",
    "outputId": "e9f079f5-4eb5-49a4-e93f-e2b20687f6d4"
   },
   "outputs": [],
   "source": [
    "arr"
   ]
  },
  {
   "cell_type": "code",
   "execution_count": null,
   "metadata": {
    "colab": {
     "base_uri": "https://localhost:8080/"
    },
    "executionInfo": {
     "elapsed": 309,
     "status": "ok",
     "timestamp": 1678293431309,
     "user": {
      "displayName": "mahmoud h Hammouri",
      "userId": "00357087390749530798"
     },
     "user_tz": -180
    },
    "id": "-oiRGiaZY_mA",
    "outputId": "68dc6ce1-22a1-4cd3-83f1-627d50868a86"
   },
   "outputs": [],
   "source": [
    "# Check nan values in array \n",
    "# return boolean array\n",
    "\n",
    "np.isnan(arr)"
   ]
  },
  {
   "cell_type": "code",
   "execution_count": null,
   "metadata": {
    "colab": {
     "base_uri": "https://localhost:8080/"
    },
    "executionInfo": {
     "elapsed": 326,
     "status": "ok",
     "timestamp": 1678293443945,
     "user": {
      "displayName": "mahmoud h Hammouri",
      "userId": "00357087390749530798"
     },
     "user_tz": -180
    },
    "id": "ioPe6u3vZCnZ",
    "outputId": "25b99321-da96-46bd-afa2-edf5b0b948a7"
   },
   "outputs": [],
   "source": [
    "# return nan values\n",
    "arr[np.isnan(arr)]"
   ]
  },
  {
   "cell_type": "code",
   "execution_count": null,
   "metadata": {
    "colab": {
     "base_uri": "https://localhost:8080/"
    },
    "executionInfo": {
     "elapsed": 302,
     "status": "ok",
     "timestamp": 1678293461733,
     "user": {
      "displayName": "mahmoud h Hammouri",
      "userId": "00357087390749530798"
     },
     "user_tz": -180
    },
    "id": "C5YmWol5Zdwt",
    "outputId": "c7865b15-d629-415b-e288-c535960d65ee"
   },
   "outputs": [],
   "source": [
    "# return not nan values\n",
    "\n",
    "~ np.isnan(arr)"
   ]
  },
  {
   "cell_type": "code",
   "execution_count": null,
   "metadata": {
    "colab": {
     "base_uri": "https://localhost:8080/"
    },
    "executionInfo": {
     "elapsed": 357,
     "status": "ok",
     "timestamp": 1678293469484,
     "user": {
      "displayName": "mahmoud h Hammouri",
      "userId": "00357087390749530798"
     },
     "user_tz": -180
    },
    "id": "J6aKhHsLbL0Y",
    "outputId": "516e2883-03c8-4071-f635-e96909077dd4"
   },
   "outputs": [],
   "source": [
    "arr[~np.isnan(arr)]"
   ]
  },
  {
   "cell_type": "code",
   "execution_count": null,
   "metadata": {
    "id": "_rOcTAzhbSjE"
   },
   "outputs": [],
   "source": []
  },
  {
   "cell_type": "markdown",
   "metadata": {
    "id": "dQn1-beYdlvo"
   },
   "source": [
    "# NumPy - Broadcasting"
   ]
  },
  {
   "cell_type": "code",
   "execution_count": null,
   "metadata": {
    "executionInfo": {
     "elapsed": 343,
     "status": "ok",
     "timestamp": 1678293720079,
     "user": {
      "displayName": "mahmoud h Hammouri",
      "userId": "00357087390749530798"
     },
     "user_tz": -180
    },
    "id": "Ntfn5ARDdl_U"
   },
   "outputs": [],
   "source": [
    "arr1 = np.array([[0.0,0.0,0.0],[10.0,10.0,10.0],[20.0,20.0,20.0],[30.0,30.0,30.0]]) \n",
    "arr2 = np.array([1.0,2.0,3.0])  "
   ]
  },
  {
   "cell_type": "code",
   "execution_count": null,
   "metadata": {
    "colab": {
     "base_uri": "https://localhost:8080/"
    },
    "executionInfo": {
     "elapsed": 5,
     "status": "ok",
     "timestamp": 1678293721968,
     "user": {
      "displayName": "mahmoud h Hammouri",
      "userId": "00357087390749530798"
     },
     "user_tz": -180
    },
    "id": "y17BYWwAdmfl",
    "outputId": "a5e12012-5128-445a-db22-2432b1cd3937"
   },
   "outputs": [],
   "source": [
    "arr1"
   ]
  },
  {
   "cell_type": "code",
   "execution_count": null,
   "metadata": {
    "colab": {
     "base_uri": "https://localhost:8080/"
    },
    "executionInfo": {
     "elapsed": 9,
     "status": "ok",
     "timestamp": 1678293722409,
     "user": {
      "displayName": "mahmoud h Hammouri",
      "userId": "00357087390749530798"
     },
     "user_tz": -180
    },
    "id": "qaW5RmBydmdD",
    "outputId": "2203d5c2-3e58-4900-a6cb-2b4222b6699b"
   },
   "outputs": [],
   "source": [
    "arr2"
   ]
  },
  {
   "cell_type": "code",
   "execution_count": null,
   "metadata": {
    "colab": {
     "base_uri": "https://localhost:8080/"
    },
    "executionInfo": {
     "elapsed": 349,
     "status": "ok",
     "timestamp": 1678293726596,
     "user": {
      "displayName": "mahmoud h Hammouri",
      "userId": "00357087390749530798"
     },
     "user_tz": -180
    },
    "id": "kKYkM-YOeBXX",
    "outputId": "a15a5b4f-b718-402c-d165-44992f90fc46"
   },
   "outputs": [],
   "source": [
    "arr1 + arr2"
   ]
  },
  {
   "cell_type": "code",
   "execution_count": null,
   "metadata": {
    "id": "rJ5Xo15keXwe"
   },
   "outputs": [],
   "source": []
  },
  {
   "cell_type": "markdown",
   "metadata": {
    "id": "eBfmKNFFUQCO"
   },
   "source": [
    "# NumPy – Array Manipulation"
   ]
  },
  {
   "cell_type": "markdown",
   "metadata": {
    "id": "eVKWSVojtd94"
   },
   "source": [
    "**1- Resahpe arrays**"
   ]
  },
  {
   "cell_type": "markdown",
   "metadata": {
    "id": "FDLA7HmvUkIE"
   },
   "source": [
    "ndarrray.reshape"
   ]
  },
  {
   "cell_type": "code",
   "execution_count": null,
   "metadata": {
    "executionInfo": {
     "elapsed": 11,
     "status": "ok",
     "timestamp": 1678294071956,
     "user": {
      "displayName": "mahmoud h Hammouri",
      "userId": "00357087390749530798"
     },
     "user_tz": -180
    },
    "id": "SspXoqkWUcEW"
   },
   "outputs": [],
   "source": [
    "arr = np.arange(100)"
   ]
  },
  {
   "cell_type": "code",
   "execution_count": null,
   "metadata": {
    "colab": {
     "base_uri": "https://localhost:8080/"
    },
    "executionInfo": {
     "elapsed": 344,
     "status": "ok",
     "timestamp": 1678294159797,
     "user": {
      "displayName": "mahmoud h Hammouri",
      "userId": "00357087390749530798"
     },
     "user_tz": -180
    },
    "id": "u3yok26AU1lZ",
    "outputId": "faa11166-2a21-4cca-9d1e-ba903c9974ae"
   },
   "outputs": [],
   "source": [
    "arr.reshape(5,2,10)"
   ]
  },
  {
   "cell_type": "code",
   "execution_count": null,
   "metadata": {
    "colab": {
     "base_uri": "https://localhost:8080/"
    },
    "executionInfo": {
     "elapsed": 337,
     "status": "ok",
     "timestamp": 1678294163984,
     "user": {
      "displayName": "mahmoud h Hammouri",
      "userId": "00357087390749530798"
     },
     "user_tz": -180
    },
    "id": "LFmfdDkbU2Uy",
    "outputId": "beb57fa7-0697-4fe0-849e-aff869629934"
   },
   "outputs": [],
   "source": [
    "arr.shape"
   ]
  },
  {
   "cell_type": "code",
   "execution_count": null,
   "metadata": {
    "executionInfo": {
     "elapsed": 514,
     "status": "ok",
     "timestamp": 1678294252792,
     "user": {
      "displayName": "mahmoud h Hammouri",
      "userId": "00357087390749530798"
     },
     "user_tz": -180
    },
    "id": "HjttWXMhU2So"
   },
   "outputs": [],
   "source": [
    "arr.shape = (5,2,10)"
   ]
  },
  {
   "cell_type": "code",
   "execution_count": null,
   "metadata": {
    "colab": {
     "base_uri": "https://localhost:8080/"
    },
    "executionInfo": {
     "elapsed": 401,
     "status": "ok",
     "timestamp": 1678294257937,
     "user": {
      "displayName": "mahmoud h Hammouri",
      "userId": "00357087390749530798"
     },
     "user_tz": -180
    },
    "id": "6TQVgZ63IgSJ",
    "outputId": "780288e8-faac-4328-e685-e2a99cb35032"
   },
   "outputs": [],
   "source": [
    "arr"
   ]
  },
  {
   "cell_type": "code",
   "execution_count": null,
   "metadata": {
    "colab": {
     "base_uri": "https://localhost:8080/"
    },
    "executionInfo": {
     "elapsed": 6,
     "status": "ok",
     "timestamp": 1678294265693,
     "user": {
      "displayName": "mahmoud h Hammouri",
      "userId": "00357087390749530798"
     },
     "user_tz": -180
    },
    "id": "hD6bVaXiU2Qf",
    "outputId": "64a6b88a-e9a3-479b-8fc0-18271499a6e3"
   },
   "outputs": [],
   "source": [
    "arr.shape"
   ]
  },
  {
   "cell_type": "code",
   "execution_count": null,
   "metadata": {
    "executionInfo": {
     "elapsed": 4,
     "status": "ok",
     "timestamp": 1678294267442,
     "user": {
      "displayName": "mahmoud h Hammouri",
      "userId": "00357087390749530798"
     },
     "user_tz": -180
    },
    "id": "C9YagNt6XCma"
   },
   "outputs": [],
   "source": [
    "arr = arr.reshape(10, 10)"
   ]
  },
  {
   "cell_type": "code",
   "execution_count": null,
   "metadata": {
    "colab": {
     "base_uri": "https://localhost:8080/"
    },
    "executionInfo": {
     "elapsed": 5,
     "status": "ok",
     "timestamp": 1678294269160,
     "user": {
      "displayName": "mahmoud h Hammouri",
      "userId": "00357087390749530798"
     },
     "user_tz": -180
    },
    "id": "Mtv0Fg1kXDgo",
    "outputId": "fe68a07a-d41f-4f51-8ddf-3848de8aa39e"
   },
   "outputs": [],
   "source": [
    "arr.shape"
   ]
  },
  {
   "cell_type": "code",
   "execution_count": null,
   "metadata": {
    "colab": {
     "base_uri": "https://localhost:8080/"
    },
    "executionInfo": {
     "elapsed": 6,
     "status": "ok",
     "timestamp": 1678294270203,
     "user": {
      "displayName": "mahmoud h Hammouri",
      "userId": "00357087390749530798"
     },
     "user_tz": -180
    },
    "id": "9lI8VJUzIaHt",
    "outputId": "96037422-5c74-4939-a8a0-1b8a6cf922e5"
   },
   "outputs": [],
   "source": [
    "arr"
   ]
  },
  {
   "cell_type": "markdown",
   "metadata": {
    "id": "VZuEq3aCYbIj"
   },
   "source": [
    "ndarray.flatten"
   ]
  },
  {
   "cell_type": "code",
   "execution_count": null,
   "metadata": {
    "colab": {
     "base_uri": "https://localhost:8080/"
    },
    "executionInfo": {
     "elapsed": 367,
     "status": "ok",
     "timestamp": 1678294205632,
     "user": {
      "displayName": "mahmoud h Hammouri",
      "userId": "00357087390749530798"
     },
     "user_tz": -180
    },
    "id": "HJjflUp6aXnR",
    "outputId": "ee7761c6-16cd-4269-c12d-f58feb156b42"
   },
   "outputs": [],
   "source": [
    "arr"
   ]
  },
  {
   "cell_type": "code",
   "execution_count": null,
   "metadata": {
    "colab": {
     "base_uri": "https://localhost:8080/"
    },
    "executionInfo": {
     "elapsed": 344,
     "status": "ok",
     "timestamp": 1678294707830,
     "user": {
      "displayName": "mahmoud h Hammouri",
      "userId": "00357087390749530798"
     },
     "user_tz": -180
    },
    "id": "-beJ0Q14JvCb",
    "outputId": "a4866e57-a538-44c6-9619-7032fc12adb5"
   },
   "outputs": [],
   "source": [
    "arr[:, 0]"
   ]
  },
  {
   "cell_type": "code",
   "execution_count": null,
   "metadata": {
    "colab": {
     "base_uri": "https://localhost:8080/"
    },
    "executionInfo": {
     "elapsed": 23,
     "status": "ok",
     "timestamp": 1678294498714,
     "user": {
      "displayName": "mahmoud h Hammouri",
      "userId": "00357087390749530798"
     },
     "user_tz": -180
    },
    "id": "kGxt87OmJBr7",
    "outputId": "1ee071d5-59c7-4e59-bbe6-8c5f732a6587"
   },
   "outputs": [],
   "source": [
    "list_flatten = []\n",
    "for row in arr:\n",
    "  list_flatten.extend(row)\n",
    "\n",
    "print(list_flatten)"
   ]
  },
  {
   "cell_type": "code",
   "execution_count": null,
   "metadata": {
    "colab": {
     "base_uri": "https://localhost:8080/"
    },
    "executionInfo": {
     "elapsed": 8,
     "status": "ok",
     "timestamp": 1678294807142,
     "user": {
      "displayName": "mahmoud h Hammouri",
      "userId": "00357087390749530798"
     },
     "user_tz": -180
    },
    "id": "icnXbXp3Kcwv",
    "outputId": "2aed490f-24b9-4614-e8b8-12bbaa72ffde"
   },
   "outputs": [],
   "source": [
    "arr.shape[1]"
   ]
  },
  {
   "cell_type": "code",
   "execution_count": null,
   "metadata": {
    "colab": {
     "base_uri": "https://localhost:8080/"
    },
    "executionInfo": {
     "elapsed": 7,
     "status": "ok",
     "timestamp": 1678294872617,
     "user": {
      "displayName": "mahmoud h Hammouri",
      "userId": "00357087390749530798"
     },
     "user_tz": -180
    },
    "id": "9lpnWDjJK1qJ",
    "outputId": "3da3bda3-cb31-48d4-f3a6-00f5a7e7bcdb"
   },
   "outputs": [],
   "source": [
    "list(range(arr.shape[1]))"
   ]
  },
  {
   "cell_type": "code",
   "execution_count": null,
   "metadata": {
    "colab": {
     "base_uri": "https://localhost:8080/"
    },
    "executionInfo": {
     "elapsed": 7,
     "status": "ok",
     "timestamp": 1678294914037,
     "user": {
      "displayName": "mahmoud h Hammouri",
      "userId": "00357087390749530798"
     },
     "user_tz": -180
    },
    "id": "W7K8_CaHLAsx",
    "outputId": "7583d171-3200-4db8-bc70-8bd603e6fc18"
   },
   "outputs": [],
   "source": [
    "arr"
   ]
  },
  {
   "cell_type": "code",
   "execution_count": null,
   "metadata": {
    "colab": {
     "base_uri": "https://localhost:8080/"
    },
    "executionInfo": {
     "elapsed": 7,
     "status": "ok",
     "timestamp": 1678294907451,
     "user": {
      "displayName": "mahmoud h Hammouri",
      "userId": "00357087390749530798"
     },
     "user_tz": -180
    },
    "id": "0oWkl129JjSs",
    "outputId": "2b057dbb-4f8c-4c62-a9c1-f568097fe206"
   },
   "outputs": [],
   "source": [
    "list_flatten = []\n",
    "for column_idx in range(arr.shape[1]):\n",
    "  list_flatten.extend(arr[:, column_idx])\n",
    "\n",
    "print(list_flatten)"
   ]
  },
  {
   "cell_type": "code",
   "execution_count": null,
   "metadata": {
    "colab": {
     "base_uri": "https://localhost:8080/"
    },
    "executionInfo": {
     "elapsed": 347,
     "status": "ok",
     "timestamp": 1678294309667,
     "user": {
      "displayName": "mahmoud h Hammouri",
      "userId": "00357087390749530798"
     },
     "user_tz": -180
    },
    "id": "s3dv_XmjXDeT",
    "outputId": "7aa712a2-f4a9-4af2-9dde-ae9903c77c42"
   },
   "outputs": [],
   "source": [
    "arr.flatten(order=\"C\")  # C : C style (Default) , F : Fortan style"
   ]
  },
  {
   "cell_type": "code",
   "execution_count": null,
   "metadata": {},
   "outputs": [],
   "source": [
    "arr.flatten()"
   ]
  },
  {
   "cell_type": "code",
   "execution_count": null,
   "metadata": {
    "colab": {
     "base_uri": "https://localhost:8080/"
    },
    "executionInfo": {
     "elapsed": 3246,
     "status": "ok",
     "timestamp": 1678294950969,
     "user": {
      "displayName": "mahmoud h Hammouri",
      "userId": "00357087390749530798"
     },
     "user_tz": -180
    },
    "id": "O1NwwcazLInA",
    "outputId": "fef9abf4-9ec3-4818-a000-1832f5998143"
   },
   "outputs": [],
   "source": [
    "arr.flatten(order=\"F\")"
   ]
  },
  {
   "cell_type": "code",
   "execution_count": null,
   "metadata": {
    "colab": {
     "base_uri": "https://localhost:8080/"
    },
    "executionInfo": {
     "elapsed": 913,
     "status": "ok",
     "timestamp": 1678294977073,
     "user": {
      "displayName": "mahmoud h Hammouri",
      "userId": "00357087390749530798"
     },
     "user_tz": -180
    },
    "id": "bFOhFaxYXDcM",
    "outputId": "afdabf9b-c6bc-4245-e91b-cff886b9f4f9"
   },
   "outputs": [],
   "source": [
    "arr.shape"
   ]
  },
  {
   "cell_type": "code",
   "execution_count": null,
   "metadata": {
    "colab": {
     "base_uri": "https://localhost:8080/"
    },
    "executionInfo": {
     "elapsed": 5,
     "status": "ok",
     "timestamp": 1678294979711,
     "user": {
      "displayName": "mahmoud h Hammouri",
      "userId": "00357087390749530798"
     },
     "user_tz": -180
    },
    "id": "NiBp607xYk2L",
    "outputId": "070bd5d4-475b-4559-8787-2738342a8fc6"
   },
   "outputs": [],
   "source": [
    "arr.ravel()"
   ]
  },
  {
   "cell_type": "code",
   "execution_count": null,
   "metadata": {
    "executionInfo": {
     "elapsed": 546,
     "status": "ok",
     "timestamp": 1678294991744,
     "user": {
      "displayName": "mahmoud h Hammouri",
      "userId": "00357087390749530798"
     },
     "user_tz": -180
    },
    "id": "VuzKagclbXFf"
   },
   "outputs": [],
   "source": [
    "arr1 = np.arange(25).reshape(5,5)"
   ]
  },
  {
   "cell_type": "code",
   "execution_count": null,
   "metadata": {
    "executionInfo": {
     "elapsed": 11,
     "status": "ok",
     "timestamp": 1678294993845,
     "user": {
      "displayName": "mahmoud h Hammouri",
      "userId": "00357087390749530798"
     },
     "user_tz": -180
    },
    "id": "v83mscq_bnfN"
   },
   "outputs": [],
   "source": [
    "arr2 = np.arange(25).reshape(5,5)"
   ]
  },
  {
   "cell_type": "code",
   "execution_count": null,
   "metadata": {
    "colab": {
     "base_uri": "https://localhost:8080/"
    },
    "executionInfo": {
     "elapsed": 812,
     "status": "ok",
     "timestamp": 1678294995966,
     "user": {
      "displayName": "mahmoud h Hammouri",
      "userId": "00357087390749530798"
     },
     "user_tz": -180
    },
    "id": "Pi2ZpMhMbs64",
    "outputId": "216876f6-dd8f-4226-c26e-7c6148da98b8"
   },
   "outputs": [],
   "source": [
    "arr1.flatten()"
   ]
  },
  {
   "cell_type": "code",
   "execution_count": null,
   "metadata": {
    "colab": {
     "base_uri": "https://localhost:8080/"
    },
    "executionInfo": {
     "elapsed": 327,
     "status": "ok",
     "timestamp": 1678294998949,
     "user": {
      "displayName": "mahmoud h Hammouri",
      "userId": "00357087390749530798"
     },
     "user_tz": -180
    },
    "id": "yyQOxA5IbtsB",
    "outputId": "dc6212c3-89ee-4469-c7d7-6f9d9599c4f0"
   },
   "outputs": [],
   "source": [
    "arr1.shape"
   ]
  },
  {
   "cell_type": "code",
   "execution_count": null,
   "metadata": {
    "colab": {
     "base_uri": "https://localhost:8080/"
    },
    "executionInfo": {
     "elapsed": 3,
     "status": "ok",
     "timestamp": 1678295000774,
     "user": {
      "displayName": "mahmoud h Hammouri",
      "userId": "00357087390749530798"
     },
     "user_tz": -180
    },
    "id": "PVpcKi9Dbtp0",
    "outputId": "1e86d588-078e-4a5c-de36-4966c1943751"
   },
   "outputs": [],
   "source": [
    "arr2.ravel(order = 'F')"
   ]
  },
  {
   "cell_type": "code",
   "execution_count": null,
   "metadata": {
    "colab": {
     "base_uri": "https://localhost:8080/"
    },
    "executionInfo": {
     "elapsed": 978,
     "status": "ok",
     "timestamp": 1678295012019,
     "user": {
      "displayName": "mahmoud h Hammouri",
      "userId": "00357087390749530798"
     },
     "user_tz": -180
    },
    "id": "DCm2Kx69b3nH",
    "outputId": "7d85d6c2-29fb-4ea1-8032-58c484b82618"
   },
   "outputs": [],
   "source": [
    "arr2.shape"
   ]
  },
  {
   "cell_type": "code",
   "execution_count": null,
   "metadata": {
    "colab": {
     "base_uri": "https://localhost:8080/"
    },
    "executionInfo": {
     "elapsed": 10,
     "status": "ok",
     "timestamp": 1678295012912,
     "user": {
      "displayName": "mahmoud h Hammouri",
      "userId": "00357087390749530798"
     },
     "user_tz": -180
    },
    "id": "x_uJmuD9b4gM",
    "outputId": "631f2a21-f148-4c9f-dcb4-1a8689179a73"
   },
   "outputs": [],
   "source": [
    "arr1.reshape(-1,)"
   ]
  },
  {
   "cell_type": "code",
   "execution_count": null,
   "metadata": {
    "id": "_xASTfc7dUz-"
   },
   "outputs": [],
   "source": [
    "# flatten always returns a copy.\n",
    "# reval returns a view of the original array whenever possible\n"
   ]
  },
  {
   "cell_type": "markdown",
   "metadata": {
    "id": "ALbkxHkATTUb"
   },
   "source": [
    "ndarray.T | ndarray.transpose"
   ]
  },
  {
   "cell_type": "code",
   "execution_count": null,
   "metadata": {
    "executionInfo": {
     "elapsed": 507,
     "status": "ok",
     "timestamp": 1678295038099,
     "user": {
      "displayName": "mahmoud h Hammouri",
      "userId": "00357087390749530798"
     },
     "user_tz": -180
    },
    "id": "8TjrX2eiTYJ7"
   },
   "outputs": [],
   "source": [
    "arr = np.arange(10).reshape(5,2)"
   ]
  },
  {
   "cell_type": "code",
   "execution_count": null,
   "metadata": {
    "colab": {
     "base_uri": "https://localhost:8080/"
    },
    "executionInfo": {
     "elapsed": 3,
     "status": "ok",
     "timestamp": 1678295039447,
     "user": {
      "displayName": "mahmoud h Hammouri",
      "userId": "00357087390749530798"
     },
     "user_tz": -180
    },
    "id": "soaVhWE7TYGV",
    "outputId": "d91fb87a-04f3-4019-ac74-e0e4b7fdcd07"
   },
   "outputs": [],
   "source": [
    "arr"
   ]
  },
  {
   "cell_type": "code",
   "execution_count": null,
   "metadata": {
    "colab": {
     "base_uri": "https://localhost:8080/"
    },
    "executionInfo": {
     "elapsed": 320,
     "status": "ok",
     "timestamp": 1678295045705,
     "user": {
      "displayName": "mahmoud h Hammouri",
      "userId": "00357087390749530798"
     },
     "user_tz": -180
    },
    "id": "fYFaeCoyTYE6",
    "outputId": "c0484b5a-6f48-4153-dc4c-610b926c0d8b"
   },
   "outputs": [],
   "source": [
    "arr.T"
   ]
  },
  {
   "cell_type": "code",
   "execution_count": null,
   "metadata": {
    "colab": {
     "base_uri": "https://localhost:8080/"
    },
    "executionInfo": {
     "elapsed": 761,
     "status": "ok",
     "timestamp": 1678295064552,
     "user": {
      "displayName": "mahmoud h Hammouri",
      "userId": "00357087390749530798"
     },
     "user_tz": -180
    },
    "id": "wBus2cONTrf9",
    "outputId": "f06b5ae7-0f77-412b-e1d9-e45807c0f94a"
   },
   "outputs": [],
   "source": [
    "arr.transpose()"
   ]
  },
  {
   "cell_type": "code",
   "execution_count": null,
   "metadata": {
    "colab": {
     "base_uri": "https://localhost:8080/"
    },
    "executionInfo": {
     "elapsed": 332,
     "status": "ok",
     "timestamp": 1678295074177,
     "user": {
      "displayName": "mahmoud h Hammouri",
      "userId": "00357087390749530798"
     },
     "user_tz": -180
    },
    "id": "-q8haj7BTscT",
    "outputId": "120ddfe7-a7e4-421c-8550-c2391159d43d"
   },
   "outputs": [],
   "source": [
    "arr "
   ]
  },
  {
   "cell_type": "code",
   "execution_count": null,
   "metadata": {
    "executionInfo": {
     "elapsed": 354,
     "status": "ok",
     "timestamp": 1678295083704,
     "user": {
      "displayName": "mahmoud h Hammouri",
      "userId": "00357087390749530798"
     },
     "user_tz": -180
    },
    "id": "6pwa47d1Ty4E"
   },
   "outputs": [],
   "source": [
    "arr = arr.T"
   ]
  },
  {
   "cell_type": "code",
   "execution_count": null,
   "metadata": {
    "colab": {
     "base_uri": "https://localhost:8080/"
    },
    "executionInfo": {
     "elapsed": 10,
     "status": "ok",
     "timestamp": 1678295085904,
     "user": {
      "displayName": "mahmoud h Hammouri",
      "userId": "00357087390749530798"
     },
     "user_tz": -180
    },
    "id": "K6gQEYu_T34b",
    "outputId": "4eaec6c3-606d-4a6f-bcb9-231a22522160",
    "scrolled": true
   },
   "outputs": [],
   "source": [
    "arr"
   ]
  },
  {
   "cell_type": "code",
   "execution_count": null,
   "metadata": {},
   "outputs": [],
   "source": [
    "arr.T"
   ]
  },
  {
   "cell_type": "markdown",
   "metadata": {
    "id": "2S_11lmDT9EU"
   },
   "source": [
    "**2- Joining arrays**"
   ]
  },
  {
   "cell_type": "markdown",
   "metadata": {
    "id": "iA7kkb78VeVC"
   },
   "source": [
    "**2.1** Concatenate "
   ]
  },
  {
   "cell_type": "code",
   "execution_count": null,
   "metadata": {
    "id": "HTI2PPapT4bO"
   },
   "outputs": [],
   "source": [
    "arr1 = np.arange(6).reshape(2,3)\n",
    "arr2 = np.arange(6,12).reshape(2,3)\n",
    "\n",
    "print(arr1)\n",
    "print(arr2)"
   ]
  },
  {
   "cell_type": "code",
   "execution_count": null,
   "metadata": {
    "id": "AU7OAryjyjZZ"
   },
   "outputs": [],
   "source": [
    "arr1.shape"
   ]
  },
  {
   "cell_type": "code",
   "execution_count": null,
   "metadata": {
    "id": "qyckPwapVkZf"
   },
   "outputs": [],
   "source": [
    "# concate on axis 1\n",
    "arr_conc = np.concatenate((arr1, arr2), axis=1)\n",
    "\n",
    "print(arr_conc)\n",
    "print(arr_conc.shape)"
   ]
  },
  {
   "cell_type": "code",
   "execution_count": null,
   "metadata": {
    "id": "JpFkpatcVkNd"
   },
   "outputs": [],
   "source": [
    "# concate on axis 0\n",
    "arr_conc = np.concatenate((arr1, arr2), axis=0)\n",
    "\n",
    "print(arr_conc)\n",
    "print(arr_conc.shape)"
   ]
  },
  {
   "cell_type": "code",
   "execution_count": null,
   "metadata": {
    "id": "rrz_1w8NVkKF"
   },
   "outputs": [],
   "source": [
    "arr_t1 = np.array([[1, 2, 3, 4], [5, 6, 7, 8]])\n",
    "print(arr_t1)\n",
    "print(arr_t1.shape)\n",
    "\n",
    "arr_t2 = np.array([[9, 10, 11, 12, 13], [13, 14, 15, 16, 17]])\n",
    "print(arr_t2)\n",
    "print(arr_t2.shape)"
   ]
  },
  {
   "cell_type": "code",
   "execution_count": null,
   "metadata": {
    "id": "7BE16PHEXCSP"
   },
   "outputs": [],
   "source": [
    "# concate tow arrays on axis 0  with different shape\n",
    "# np.concatenate([arr_t1, arr_t2], axis=0)"
   ]
  },
  {
   "cell_type": "code",
   "execution_count": null,
   "metadata": {
    "id": "eDuwHkNraV4K"
   },
   "outputs": [],
   "source": [
    "# concate tow arrays on axis 1  with different shape\n",
    "np.concatenate([arr_t1, arr_t2], axis=1)"
   ]
  },
  {
   "cell_type": "code",
   "execution_count": null,
   "metadata": {
    "id": "Sfa45efEeXZP"
   },
   "outputs": [],
   "source": []
  },
  {
   "cell_type": "markdown",
   "metadata": {
    "id": "hot2iJE9eSSs"
   },
   "source": [
    "**2.2** stack"
   ]
  },
  {
   "cell_type": "code",
   "execution_count": null,
   "metadata": {
    "id": "NDCfzY6Xgmjl"
   },
   "outputs": [],
   "source": [
    "a1 = np.arange(5)\n",
    "a2 = np.arange(5,10)\n",
    "\n",
    "print(\"arr 1 : \\n\",a1)\n",
    "print(a1.shape)\n",
    "print()\n",
    "print(\"arr 2 : \\n\",a2)\n",
    "print(a2.shape)"
   ]
  },
  {
   "cell_type": "code",
   "execution_count": null,
   "metadata": {
    "id": "3zYwyCnehmk4"
   },
   "outputs": [],
   "source": [
    "stacked_arr_0 = np.stack([a1, a2], axis=0)\n",
    "print(\"stacked array on axis 0 : \\n\",stacked_arr_0 )\n",
    "print(stacked_arr_0.shape)"
   ]
  },
  {
   "cell_type": "code",
   "execution_count": null,
   "metadata": {
    "id": "sveMQBushi1D",
    "scrolled": true
   },
   "outputs": [],
   "source": [
    "stacked_arr_1 = np.stack([a1, a2], axis=1)\n",
    "print(\"stacked array on axis 1 : \\n\",stacked_arr_1 )\n",
    "print(stacked_arr_1.shape)"
   ]
  },
  {
   "cell_type": "code",
   "execution_count": null,
   "metadata": {},
   "outputs": [],
   "source": []
  },
  {
   "cell_type": "code",
   "execution_count": null,
   "metadata": {},
   "outputs": [],
   "source": [
    "a=np.array([0,1,2,3])\n",
    "b=np.array([4,5,6,7])\n",
    "np.stack([a,b],axis=0)"
   ]
  },
  {
   "cell_type": "code",
   "execution_count": null,
   "metadata": {},
   "outputs": [],
   "source": [
    "np.concatenate([a,b])"
   ]
  },
  {
   "cell_type": "code",
   "execution_count": null,
   "metadata": {},
   "outputs": [],
   "source": []
  },
  {
   "cell_type": "markdown",
   "metadata": {
    "id": "dLPZvBFAk_q0"
   },
   "source": [
    "**2.3** horizontal stack"
   ]
  },
  {
   "cell_type": "code",
   "execution_count": null,
   "metadata": {
    "id": "dxsaLNZrjlAN"
   },
   "outputs": [],
   "source": [
    "np.hstack([a1,a2])"
   ]
  },
  {
   "cell_type": "code",
   "execution_count": null,
   "metadata": {
    "id": "IFFJTHM1j25m"
   },
   "outputs": [],
   "source": [
    "np.concatenate([a1, a2], axis=0)"
   ]
  },
  {
   "cell_type": "markdown",
   "metadata": {
    "id": "bB0Fj-EmlDE3"
   },
   "source": [
    "**2.4** vertical stack"
   ]
  },
  {
   "cell_type": "code",
   "execution_count": null,
   "metadata": {
    "id": "fykNsbdmjw-1"
   },
   "outputs": [],
   "source": [
    "np.vstack([a1,a2])"
   ]
  },
  {
   "cell_type": "code",
   "execution_count": null,
   "metadata": {
    "id": "LNqQfJC0qc3z"
   },
   "outputs": [],
   "source": [
    "print(a1)\n",
    "print(a2)"
   ]
  },
  {
   "cell_type": "code",
   "execution_count": null,
   "metadata": {
    "id": "aDuec0v3j_hN"
   },
   "outputs": [],
   "source": [
    "# np.concatenate([a1, a2], axis=1)"
   ]
  },
  {
   "cell_type": "markdown",
   "metadata": {
    "id": "PSY4yKaAlRXd"
   },
   "source": [
    "stack 2D arrays"
   ]
  },
  {
   "cell_type": "code",
   "execution_count": null,
   "metadata": {
    "id": "8dZLfgrylVDM"
   },
   "outputs": [],
   "source": [
    "print(\"arr 1 : \\n\",arr1)\n",
    "print(arr1.shape)\n",
    "print()\n",
    "print(\"arr 2 : \\n\",arr2)\n",
    "print(arr2.shape)"
   ]
  },
  {
   "cell_type": "code",
   "execution_count": null,
   "metadata": {
    "id": "-6unnK2zlXHS"
   },
   "outputs": [],
   "source": [
    "\n",
    "# stack 2D arrays\n",
    "stacked_arr_0 = np.stack([arr1, arr2], axis=0)\n",
    "print(\"stacked array on axis 0 : \\n\",stacked_arr_0 )\n",
    "print(stacked_arr_0.shape)"
   ]
  },
  {
   "cell_type": "code",
   "execution_count": null,
   "metadata": {
    "id": "3_6iNYZqa_Qh"
   },
   "outputs": [],
   "source": [
    "# stack 2D arrays\n",
    "\n",
    "stacked_arr_1 = np.stack([arr1, arr2], axis=1)\n",
    "print(\"stacked array on axis 1 : \\n\",stacked_arr_1 )\n",
    "print(stacked_arr_1.shape)"
   ]
  },
  {
   "cell_type": "code",
   "execution_count": null,
   "metadata": {
    "id": "SX3IEG02ncjd"
   },
   "outputs": [],
   "source": [
    "# Define a new array\n",
    "arr3 = np.arange(12,18).reshape(2,3)\n",
    "print(arr3)"
   ]
  },
  {
   "cell_type": "code",
   "execution_count": null,
   "metadata": {
    "id": "695h_3vPoWP1"
   },
   "outputs": [],
   "source": [
    "print(\"arr 1 : \\n\" , arr1)\n",
    "print(\"arr 2 : \\n\" , arr2)\n",
    "print(\"arr 3 : \\n\" , arr3)"
   ]
  },
  {
   "cell_type": "code",
   "execution_count": null,
   "metadata": {
    "id": "GMVHwM0ZbApF"
   },
   "outputs": [],
   "source": [
    "# vertical stack on 2D arrays \n",
    "a = np.vstack([arr1, arr2, arr3])\n",
    "print(a)\n",
    "print(a.shape)"
   ]
  },
  {
   "cell_type": "code",
   "execution_count": null,
   "metadata": {
    "id": "Qkrp5-88mj45"
   },
   "outputs": [],
   "source": [
    "# concatenate 2D arrays on axis 0\n",
    "a = np.concatenate([arr1, arr2, arr3], axis=0)\n",
    "print(a)\n",
    "print(a.shape)"
   ]
  },
  {
   "cell_type": "code",
   "execution_count": null,
   "metadata": {
    "id": "oqdZGZNRoBUQ"
   },
   "outputs": [],
   "source": [
    "print(\"arr 1 : \\n\" ,arr1)\n",
    "print(\"arr 2 : \\n\" , arr2)\n",
    "print(\"arr 3 : \\n\" , arr3)"
   ]
  },
  {
   "cell_type": "code",
   "execution_count": null,
   "metadata": {
    "id": "6m8FBqPVbAlk"
   },
   "outputs": [],
   "source": [
    "# horizontal stack n 2D arrays\n",
    "a = np.hstack([arr1, arr2, arr3])\n",
    "print(a)\n",
    "print(a.shape)"
   ]
  },
  {
   "cell_type": "code",
   "execution_count": null,
   "metadata": {
    "id": "AbwjN8PJmoyn"
   },
   "outputs": [],
   "source": [
    "# concatenate on axis 1\n",
    "a = np.concatenate([arr1, arr2, arr3], axis=1)\n",
    "print(a)\n",
    "print(a.shape)"
   ]
  },
  {
   "cell_type": "code",
   "execution_count": null,
   "metadata": {
    "id": "WlWntCcvoduO"
   },
   "outputs": [],
   "source": [
    "# Define a new array\n",
    "arr4 = np.arange(18, 24).reshape(2,3)\n",
    "print(arr4)"
   ]
  },
  {
   "cell_type": "code",
   "execution_count": null,
   "metadata": {
    "id": "LMirdmrho8CX"
   },
   "outputs": [],
   "source": [
    "print(\"arr 1 : \\n\" , arr1)\n",
    "print(arr1.shape)\n",
    "\n",
    "print()\n",
    "\n",
    "print(\"arr 2 : \\n\" , arr2)\n",
    "print(arr2.shape)\n",
    "print()\n",
    "\n",
    "print(\"arr 3 : \\n\" , arr3)\n",
    "print(arr3.shape)\n",
    "print()\n",
    "\n",
    "print(\"arr 4 : \\n\" , arr4)\n",
    "print(arr4.shape)"
   ]
  },
  {
   "cell_type": "code",
   "execution_count": null,
   "metadata": {
    "id": "SqDiVCTXmrZp"
   },
   "outputs": [],
   "source": [
    "# stack 2 of 2D arrays\n",
    "a = np.stack([arr1, arr2])\n",
    "print(a)\n",
    "print(a.shape)"
   ]
  },
  {
   "cell_type": "code",
   "execution_count": null,
   "metadata": {
    "id": "lQNxkV_FooiI"
   },
   "outputs": [],
   "source": [
    "# stack 3 of 2D arrays\n",
    "\n",
    "a = np.stack([arr1, arr2, arr3])\n",
    "print(a)\n",
    "print(a.shape)"
   ]
  },
  {
   "cell_type": "code",
   "execution_count": null,
   "metadata": {
    "id": "4m-ngDiRpXwM"
   },
   "outputs": [],
   "source": [
    "# stack 4 of 2D arrays\n",
    "\n",
    "a = np.stack([arr1, arr2, arr3, arr4])\n",
    "print(a)\n",
    "print(a.shape)"
   ]
  },
  {
   "cell_type": "markdown",
   "metadata": {
    "id": "HefGpgqelxin"
   },
   "source": [
    "![image.png](data:image/png;base64,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)"
   ]
  },
  {
   "cell_type": "markdown",
   "metadata": {
    "id": "fwCsB5KVus05"
   },
   "source": [
    "**3- Splitting arrays**"
   ]
  },
  {
   "cell_type": "markdown",
   "metadata": {
    "id": "7f_2zVaou1Xo"
   },
   "source": [
    "**3.1** split 1D array"
   ]
  },
  {
   "cell_type": "code",
   "execution_count": 24,
   "metadata": {
    "id": "6lY_WS20EqBE"
   },
   "outputs": [],
   "source": [
    "import numpy as np"
   ]
  },
  {
   "cell_type": "code",
   "execution_count": 25,
   "metadata": {
    "id": "Im7A1wuTpe1N"
   },
   "outputs": [
    {
     "name": "stdout",
     "output_type": "stream",
     "text": [
      "[ 0  1  2  3  4  5  6  7  8  9 10 11]\n",
      "(12,)\n"
     ]
    }
   ],
   "source": [
    "arr = np.arange(12)\n",
    "print(arr)\n",
    "print(arr.shape)"
   ]
  },
  {
   "cell_type": "code",
   "execution_count": null,
   "metadata": {},
   "outputs": [],
   "source": []
  },
  {
   "cell_type": "code",
   "execution_count": 27,
   "metadata": {},
   "outputs": [
    {
     "data": {
      "text/plain": [
       "[array([0, 1]),\n",
       " array([2, 3]),\n",
       " array([4, 5]),\n",
       " array([6, 7]),\n",
       " array([8, 9]),\n",
       " array([10, 11]),\n",
       " array([12, 13]),\n",
       " array([14, 15]),\n",
       " array([16, 17]),\n",
       " array([18, 19]),\n",
       " array([20, 21]),\n",
       " array([22, 23])]"
      ]
     },
     "execution_count": 27,
     "metadata": {},
     "output_type": "execute_result"
    }
   ],
   "source": [
    "#ex\n",
    "arr2=np.arange(24)\n",
    "np.split(arr2 , 12)"
   ]
  },
  {
   "cell_type": "code",
   "execution_count": 28,
   "metadata": {},
   "outputs": [
    {
     "data": {
      "text/plain": [
       "[array([ 0,  1,  2,  3,  4,  5,  6,  7,  8,  9, 10, 11]),\n",
       " array([12, 13, 14, 15, 16, 17, 18, 19, 20, 21, 22, 23])]"
      ]
     },
     "execution_count": 28,
     "metadata": {},
     "output_type": "execute_result"
    }
   ],
   "source": [
    "np.split(arr2 , 2)"
   ]
  },
  {
   "cell_type": "code",
   "execution_count": 29,
   "metadata": {},
   "outputs": [
    {
     "data": {
      "text/plain": [
       "[array([0, 1, 2, 3, 4, 5]),\n",
       " array([ 6,  7,  8,  9, 10, 11]),\n",
       " array([12, 13, 14, 15, 16, 17]),\n",
       " array([18, 19, 20, 21, 22, 23])]"
      ]
     },
     "execution_count": 29,
     "metadata": {},
     "output_type": "execute_result"
    }
   ],
   "source": [
    "np.split(arr2 , 4)"
   ]
  },
  {
   "cell_type": "code",
   "execution_count": null,
   "metadata": {},
   "outputs": [],
   "source": []
  },
  {
   "cell_type": "code",
   "execution_count": null,
   "metadata": {},
   "outputs": [],
   "source": []
  },
  {
   "cell_type": "code",
   "execution_count": 30,
   "metadata": {
    "id": "0XknQdEEwhw9"
   },
   "outputs": [
    {
     "data": {
      "text/plain": [
       "[array([0, 1, 2, 3, 4, 5]), array([ 6,  7,  8,  9, 10, 11])]"
      ]
     },
     "execution_count": 30,
     "metadata": {},
     "output_type": "execute_result"
    }
   ],
   "source": [
    "# Split the array in 2 equal-sized subarrays\n",
    "np.split(arr, 2, axis=0)"
   ]
  },
  {
   "cell_type": "code",
   "execution_count": 31,
   "metadata": {
    "id": "3LL20YCjwjYo"
   },
   "outputs": [
    {
     "data": {
      "text/plain": [
       "[array([0, 1, 2, 3]), array([4, 5, 6, 7]), array([ 8,  9, 10, 11])]"
      ]
     },
     "execution_count": 31,
     "metadata": {},
     "output_type": "execute_result"
    }
   ],
   "source": [
    "# Split the array in 3 equal-sized subarrays\n",
    "np.split(arr, 3, axis=0)"
   ]
  },
  {
   "cell_type": "code",
   "execution_count": 32,
   "metadata": {
    "id": "jLag1skgw1cB"
   },
   "outputs": [
    {
     "data": {
      "text/plain": [
       "[array([0, 1, 2]), array([3, 4, 5]), array([6, 7, 8]), array([ 9, 10, 11])]"
      ]
     },
     "execution_count": 32,
     "metadata": {},
     "output_type": "execute_result"
    }
   ],
   "source": [
    "# Split the array in 4 equal-sized subarrays\n",
    "np.split(arr, 4, axis=0)"
   ]
  },
  {
   "cell_type": "code",
   "execution_count": 33,
   "metadata": {
    "id": "-aQEdm9yxq4T"
   },
   "outputs": [],
   "source": [
    "#np.split(arr, 4, axis=1)"
   ]
  },
  {
   "cell_type": "code",
   "execution_count": 34,
   "metadata": {
    "id": "ZvlfqoNvw2Im"
   },
   "outputs": [],
   "source": [
    "# np.split(arr, 5)"
   ]
  },
  {
   "cell_type": "code",
   "execution_count": 35,
   "metadata": {
    "id": "7gJd_NmKxgGJ"
   },
   "outputs": [
    {
     "data": {
      "text/plain": [
       "[array([0, 1, 2, 3]), array([4, 5, 6]), array([7, 8]), array([ 9, 10, 11])]"
      ]
     },
     "execution_count": 35,
     "metadata": {},
     "output_type": "execute_result"
    }
   ],
   "source": [
    "# Split the array at positions\n",
    "np.split(arr,[4,7,9])"
   ]
  },
  {
   "cell_type": "code",
   "execution_count": 36,
   "metadata": {
    "id": "zBdRkQqUxXoo"
   },
   "outputs": [
    {
     "data": {
      "text/plain": [
       "[array([0, 1, 2, 3, 4, 5]), array([ 6,  7,  8,  9, 10, 11])]"
      ]
     },
     "execution_count": 36,
     "metadata": {},
     "output_type": "execute_result"
    }
   ],
   "source": [
    "np.hsplit(arr, 2)"
   ]
  },
  {
   "cell_type": "code",
   "execution_count": 37,
   "metadata": {
    "id": "2GPujQbmyjYj"
   },
   "outputs": [],
   "source": [
    "# np.vsplit(arr, 2)"
   ]
  },
  {
   "cell_type": "markdown",
   "metadata": {
    "id": "oUaRTSQmxOSW"
   },
   "source": [
    "**3.2** split 2D arrays"
   ]
  },
  {
   "cell_type": "code",
   "execution_count": 38,
   "metadata": {
    "id": "JNEHp9M-xC4O"
   },
   "outputs": [],
   "source": [
    "a = np.arange(100).reshape(10,10)"
   ]
  },
  {
   "cell_type": "code",
   "execution_count": 39,
   "metadata": {
    "id": "vUA9qDpeBUyk"
   },
   "outputs": [
    {
     "name": "stdout",
     "output_type": "stream",
     "text": [
      "[[ 0  1  2  3  4  5  6  7  8  9]\n",
      " [10 11 12 13 14 15 16 17 18 19]\n",
      " [20 21 22 23 24 25 26 27 28 29]\n",
      " [30 31 32 33 34 35 36 37 38 39]\n",
      " [40 41 42 43 44 45 46 47 48 49]\n",
      " [50 51 52 53 54 55 56 57 58 59]\n",
      " [60 61 62 63 64 65 66 67 68 69]\n",
      " [70 71 72 73 74 75 76 77 78 79]\n",
      " [80 81 82 83 84 85 86 87 88 89]\n",
      " [90 91 92 93 94 95 96 97 98 99]]\n"
     ]
    },
    {
     "data": {
      "text/plain": [
       "(10, 10)"
      ]
     },
     "execution_count": 39,
     "metadata": {},
     "output_type": "execute_result"
    }
   ],
   "source": [
    "print(a)\n",
    "a.shape"
   ]
  },
  {
   "cell_type": "code",
   "execution_count": 40,
   "metadata": {
    "id": "sXkm-i9MxN97"
   },
   "outputs": [
    {
     "data": {
      "text/plain": [
       "[array([[ 0,  1,  2,  3,  4,  5,  6,  7,  8,  9],\n",
       "        [10, 11, 12, 13, 14, 15, 16, 17, 18, 19],\n",
       "        [20, 21, 22, 23, 24, 25, 26, 27, 28, 29],\n",
       "        [30, 31, 32, 33, 34, 35, 36, 37, 38, 39],\n",
       "        [40, 41, 42, 43, 44, 45, 46, 47, 48, 49]]),\n",
       " array([[50, 51, 52, 53, 54, 55, 56, 57, 58, 59],\n",
       "        [60, 61, 62, 63, 64, 65, 66, 67, 68, 69],\n",
       "        [70, 71, 72, 73, 74, 75, 76, 77, 78, 79],\n",
       "        [80, 81, 82, 83, 84, 85, 86, 87, 88, 89],\n",
       "        [90, 91, 92, 93, 94, 95, 96, 97, 98, 99]])]"
      ]
     },
     "execution_count": 40,
     "metadata": {},
     "output_type": "execute_result"
    }
   ],
   "source": [
    "np.split(a, 2, axis=0)"
   ]
  },
  {
   "cell_type": "code",
   "execution_count": null,
   "metadata": {
    "id": "y1sQFNV5GHFh"
   },
   "outputs": [],
   "source": [
    "print(np.split(a, 2, axis=0)[0])\n",
    "\n",
    "print(\"\\n\", \"=\"*20, \"\\n\")\n",
    "\n",
    "print(np.split(a, 2, axis=0)[1])\n"
   ]
  },
  {
   "cell_type": "code",
   "execution_count": null,
   "metadata": {},
   "outputs": [],
   "source": [
    "a"
   ]
  },
  {
   "cell_type": "code",
   "execution_count": null,
   "metadata": {
    "id": "bxdL1mPPxN6a"
   },
   "outputs": [],
   "source": [
    "# Split array vertically\n",
    "np.vsplit(a, 2)"
   ]
  },
  {
   "cell_type": "code",
   "execution_count": null,
   "metadata": {
    "id": "tsSAKHk0xN4U"
   },
   "outputs": [],
   "source": [
    "# Split array horizontally\n",
    "np.hsplit(a, 2)"
   ]
  },
  {
   "cell_type": "code",
   "execution_count": null,
   "metadata": {
    "id": "GQsrVGWgEVUY"
   },
   "outputs": [],
   "source": [
    "np.split(a, 2, axis=1)"
   ]
  },
  {
   "cell_type": "code",
   "execution_count": null,
   "metadata": {
    "id": "00oe7JcVGUnl"
   },
   "outputs": [],
   "source": [
    "print(np.hsplit(a, 2)[0])\n",
    "\n",
    "print(\"\\n\", \"=\" *20 ,\"\\n\")\n",
    "\n",
    "print(np.hsplit(a, 2)[1])"
   ]
  },
  {
   "cell_type": "code",
   "execution_count": null,
   "metadata": {},
   "outputs": [],
   "source": []
  },
  {
   "cell_type": "code",
   "execution_count": null,
   "metadata": {},
   "outputs": [],
   "source": [
    "#ex\n",
    "arr2\n",
    "np.hsplit(arr2, 4)"
   ]
  },
  {
   "cell_type": "code",
   "execution_count": null,
   "metadata": {},
   "outputs": [],
   "source": [
    "np.split(arr2, 4)"
   ]
  },
  {
   "cell_type": "code",
   "execution_count": null,
   "metadata": {},
   "outputs": [],
   "source": [
    "arr3=np.arange(100)\n",
    "arr3"
   ]
  },
  {
   "cell_type": "code",
   "execution_count": null,
   "metadata": {},
   "outputs": [],
   "source": [
    "a"
   ]
  },
  {
   "cell_type": "code",
   "execution_count": null,
   "metadata": {},
   "outputs": [],
   "source": [
    "arr3.shape=(10,10)\n",
    "np.vsplit(arr3,2)"
   ]
  },
  {
   "cell_type": "code",
   "execution_count": null,
   "metadata": {},
   "outputs": [],
   "source": []
  },
  {
   "cell_type": "markdown",
   "metadata": {
    "id": "qSHtQt1pEwnF"
   },
   "source": [
    "**4- Adding \\ Removig Elements**"
   ]
  },
  {
   "cell_type": "markdown",
   "metadata": {
    "id": "b-sBgr-AFg6v"
   },
   "source": [
    "**4.1**- resize"
   ]
  },
  {
   "cell_type": "code",
   "execution_count": null,
   "metadata": {
    "id": "8WPiNRKiE4LS"
   },
   "outputs": [],
   "source": [
    "a = np.array([[1,2,3],[4,5,6]]) "
   ]
  },
  {
   "cell_type": "code",
   "execution_count": null,
   "metadata": {
    "id": "3KdYeX-LG-Ca"
   },
   "outputs": [],
   "source": [
    "a.shape "
   ]
  },
  {
   "cell_type": "code",
   "execution_count": null,
   "metadata": {
    "id": "j1k-Fx41HG9p"
   },
   "outputs": [],
   "source": [
    "a"
   ]
  },
  {
   "cell_type": "code",
   "execution_count": null,
   "metadata": {
    "id": "ULcz_GUWfWFN"
   },
   "outputs": [],
   "source": [
    "np.resize(a,(3,4))"
   ]
  },
  {
   "cell_type": "code",
   "execution_count": null,
   "metadata": {
    "id": "9D2ZarmUfiKN"
   },
   "outputs": [],
   "source": [
    "np.resize(a,(3,8))"
   ]
  },
  {
   "cell_type": "code",
   "execution_count": null,
   "metadata": {
    "id": "8l1kzr8vHCQZ"
   },
   "outputs": [],
   "source": [
    "np.resize(a,(2,2)) "
   ]
  },
  {
   "cell_type": "code",
   "execution_count": null,
   "metadata": {
    "id": "n8Dfr5GhHFW8"
   },
   "outputs": [],
   "source": [
    "res = np.resize(a,(6,5)) \n",
    "print(res)\n",
    "print(res.shape)"
   ]
  },
  {
   "cell_type": "code",
   "execution_count": null,
   "metadata": {
    "id": "v5VnRYGiHO9A"
   },
   "outputs": [],
   "source": []
  },
  {
   "cell_type": "markdown",
   "metadata": {
    "id": "3wSo02DJHYyO"
   },
   "source": [
    "4.2- Append"
   ]
  },
  {
   "cell_type": "code",
   "execution_count": null,
   "metadata": {
    "id": "OqnkpnvTIFcR"
   },
   "outputs": [],
   "source": [
    "a"
   ]
  },
  {
   "cell_type": "code",
   "execution_count": null,
   "metadata": {
    "id": "86j3rOIxFars"
   },
   "outputs": [],
   "source": [
    "np.append(a, [7,8,9])"
   ]
  },
  {
   "cell_type": "code",
   "execution_count": null,
   "metadata": {
    "id": "dQT3H7wsHpNv"
   },
   "outputs": [],
   "source": [
    "np.append(a, [[7,8,9]], axis=0)"
   ]
  },
  {
   "cell_type": "code",
   "execution_count": null,
   "metadata": {
    "id": "XsdgC4oOHp0Z"
   },
   "outputs": [],
   "source": [
    "np.append(a, [[1,1,1], [2,2,2]], axis = 1)"
   ]
  },
  {
   "cell_type": "markdown",
   "metadata": {
    "id": "ATJ-2h6II1iN"
   },
   "source": [
    "**4.3**- Insert"
   ]
  },
  {
   "cell_type": "code",
   "execution_count": null,
   "metadata": {
    "id": "ak4F-0d0IXJ3"
   },
   "outputs": [],
   "source": [
    "a"
   ]
  },
  {
   "cell_type": "code",
   "execution_count": null,
   "metadata": {
    "id": "1p7xOi11IaD9"
   },
   "outputs": [],
   "source": [
    "# # Array flattened before insert operation as axis not used\n",
    "\n",
    "np.insert(a , 2 , [1,1,1])"
   ]
  },
  {
   "cell_type": "code",
   "execution_count": null,
   "metadata": {
    "id": "iRWsIv73H2Ou"
   },
   "outputs": [],
   "source": [
    "np.insert(a , 2 , [1,1,1], axis = 0)"
   ]
  },
  {
   "cell_type": "code",
   "execution_count": null,
   "metadata": {
    "id": "ZK-98O27JXxO"
   },
   "outputs": [],
   "source": [
    "np.insert(a , 2 ,[[1,1]], axis = 1)"
   ]
  },
  {
   "cell_type": "code",
   "execution_count": null,
   "metadata": {},
   "outputs": [],
   "source": []
  },
  {
   "cell_type": "code",
   "execution_count": null,
   "metadata": {},
   "outputs": [],
   "source": [
    "b=np.array([[1,2,3 ], [4,5,6]  ])\n",
    "b"
   ]
  },
  {
   "cell_type": "code",
   "execution_count": null,
   "metadata": {},
   "outputs": [],
   "source": [
    "np.insert(b,0, [7,8,9] , axis=0)"
   ]
  },
  {
   "cell_type": "code",
   "execution_count": null,
   "metadata": {},
   "outputs": [],
   "source": []
  },
  {
   "cell_type": "code",
   "execution_count": null,
   "metadata": {},
   "outputs": [],
   "source": []
  },
  {
   "cell_type": "markdown",
   "metadata": {
    "id": "cvIsT-PyKFww"
   },
   "source": [
    "**4.4**- Delete"
   ]
  },
  {
   "cell_type": "code",
   "execution_count": null,
   "metadata": {
    "id": "bZzAfxNNJgFe"
   },
   "outputs": [],
   "source": [
    "a = np.arange(12).reshape(3,4)\n",
    "print(a)"
   ]
  },
  {
   "cell_type": "code",
   "execution_count": null,
   "metadata": {
    "id": "iSSmGZhRKb45"
   },
   "outputs": [],
   "source": [
    "# Array flattened before delete operation as axis not used\n",
    "np.delete(a,5) "
   ]
  },
  {
   "cell_type": "code",
   "execution_count": null,
   "metadata": {
    "id": "o9A0WOS9KnoT"
   },
   "outputs": [],
   "source": [
    "a"
   ]
  },
  {
   "cell_type": "code",
   "execution_count": null,
   "metadata": {
    "id": "TxOpazeRKj-I"
   },
   "outputs": [],
   "source": [
    "np.delete(a , 2 ,axis = 1) "
   ]
  },
  {
   "cell_type": "code",
   "execution_count": null,
   "metadata": {
    "id": "zf4BJV4dH949"
   },
   "outputs": [],
   "source": [
    "a"
   ]
  },
  {
   "cell_type": "code",
   "execution_count": null,
   "metadata": {
    "id": "eTwGLZRzKpEe"
   },
   "outputs": [],
   "source": [
    "np.delete(a,2, axis=0)"
   ]
  },
  {
   "cell_type": "code",
   "execution_count": null,
   "metadata": {},
   "outputs": [],
   "source": []
  },
  {
   "cell_type": "code",
   "execution_count": null,
   "metadata": {},
   "outputs": [],
   "source": [
    "b=np.array([ [0,1,2,3],[4,5,6,7] ,[8,9,10,11]      ]   )\n",
    "b"
   ]
  },
  {
   "cell_type": "code",
   "execution_count": null,
   "metadata": {},
   "outputs": [],
   "source": [
    "np.delete(b,2,axis=1)"
   ]
  },
  {
   "cell_type": "code",
   "execution_count": null,
   "metadata": {},
   "outputs": [],
   "source": [
    "np.delete(b,1,axis=0)"
   ]
  },
  {
   "cell_type": "code",
   "execution_count": null,
   "metadata": {},
   "outputs": [],
   "source": []
  },
  {
   "cell_type": "code",
   "execution_count": null,
   "metadata": {},
   "outputs": [],
   "source": []
  },
  {
   "cell_type": "code",
   "execution_count": null,
   "metadata": {
    "id": "raQVFwzBJ4yr"
   },
   "outputs": [],
   "source": [
    "a = np.arange(27).reshape(3,3,3)"
   ]
  },
  {
   "cell_type": "code",
   "execution_count": null,
   "metadata": {
    "id": "5QTxslS6J8my"
   },
   "outputs": [],
   "source": [
    "print(a)\n",
    "print(a.shape)"
   ]
  },
  {
   "cell_type": "code",
   "execution_count": null,
   "metadata": {
    "id": "w8taJisuLI9_"
   },
   "outputs": [],
   "source": [
    "# Delete from axis 0 will remove array with specified index\n",
    "outputArr = np.delete(a, 1 ,  axis=0)\n",
    "print(outputArr)\n",
    "print(outputArr.shape)"
   ]
  },
  {
   "cell_type": "code",
   "execution_count": null,
   "metadata": {
    "id": "gvDSYcJfLYnN"
   },
   "outputs": [],
   "source": [
    "# Delete from axis 1 will remove row with specified index \n",
    "outputArr = np.delete(a, 1 ,  axis=1)\n",
    "print(outputArr)\n",
    "print(outputArr.shape)"
   ]
  },
  {
   "cell_type": "code",
   "execution_count": null,
   "metadata": {
    "id": "m1E5GEZoLYe3"
   },
   "outputs": [],
   "source": [
    "# Delete from axis 2 will remove column with specified index \n",
    "outputArr = np.delete(a, 1 ,  axis=2)\n",
    "print(outputArr)\n",
    "print(outputArr.shape)"
   ]
  },
  {
   "cell_type": "code",
   "execution_count": null,
   "metadata": {
    "id": "ovAvv8naLxjW"
   },
   "outputs": [],
   "source": [
    "a = np.arange(125).reshape(5,5,5)\n",
    "print(a)\n",
    "print(a.shape)"
   ]
  },
  {
   "cell_type": "code",
   "execution_count": null,
   "metadata": {
    "id": "8tyFnjL8MEP2"
   },
   "outputs": [],
   "source": [
    "# When don't use axis paramaet input and output is a flattened array\n",
    "# Delete sub-array using slicing without detect axis\n",
    "outputArr = np.delete(a, np.s_[30:90:3])\n",
    "print(outputArr)\n",
    "print(outputArr.shape)"
   ]
  },
  {
   "cell_type": "code",
   "execution_count": null,
   "metadata": {
    "id": "7LhieUE0Mi5U"
   },
   "outputs": [],
   "source": [
    "# Delete sub-arrays using slicing with  axis 0 \n",
    "outputArr = np.delete(a, np.s_[1::2] , axis=0)\n",
    "print(outputArr)\n",
    "print(outputArr.shape)"
   ]
  },
  {
   "cell_type": "code",
   "execution_count": null,
   "metadata": {
    "id": "dq9ndERuLeyi"
   },
   "outputs": [],
   "source": [
    "# Delete rows from all arrays \n",
    "outputArr = np.delete(a, np.s_[1::2] , axis=1)\n",
    "print(outputArr)\n",
    "print(outputArr.shape)"
   ]
  },
  {
   "cell_type": "code",
   "execution_count": null,
   "metadata": {
    "id": "aB-H9GNgNmry"
   },
   "outputs": [],
   "source": [
    "# Delete columns from all arrays \n",
    "outputArr = np.delete(a, np.s_[1::2] , axis=2)\n",
    "print(outputArr)\n",
    "print(outputArr.shape)"
   ]
  },
  {
   "cell_type": "markdown",
   "metadata": {
    "id": "0HifA94cMWdE"
   },
   "source": [
    "**4.5**- Unique"
   ]
  },
  {
   "cell_type": "code",
   "execution_count": null,
   "metadata": {
    "id": "QFFYb7F_Mc2j"
   },
   "outputs": [],
   "source": [
    "a = np.array([5,2,6,2,7,5,6,8,2,9,9,8,9]) \n",
    "print(a)"
   ]
  },
  {
   "cell_type": "code",
   "execution_count": null,
   "metadata": {
    "id": "RqdMp82EQObS"
   },
   "outputs": [],
   "source": [
    "# Return list of unique values in an array\n",
    "# Will be flattened if not 1-D array\n",
    "np.unique(a) "
   ]
  },
  {
   "cell_type": "code",
   "execution_count": null,
   "metadata": {
    "id": "PUMScD5HMcz-"
   },
   "outputs": [],
   "source": [
    "# if return_index = True\n",
    "# Return unique values in an array and Indices array\n",
    "# returns the indices of elements in the input array\n",
    "np.unique(a, return_index = True) "
   ]
  },
  {
   "cell_type": "code",
   "execution_count": null,
   "metadata": {
    "id": "Xd2H50S0Q0Wl"
   },
   "outputs": [],
   "source": [
    "# if return_inverse = True\n",
    "# Return unique values in an array\n",
    "# returns the indices of unique array, which can be used to reconstruct the input array\n",
    "newArr, indecies = np.unique(a,return_inverse = True) "
   ]
  },
  {
   "cell_type": "code",
   "execution_count": null,
   "metadata": {
    "id": "DKyQClNNSEYM"
   },
   "outputs": [],
   "source": [
    "print(a)\n",
    "print()\n",
    "print(newArr)\n",
    "print()\n",
    "print(indecies)"
   ]
  },
  {
   "cell_type": "code",
   "execution_count": null,
   "metadata": {
    "id": "REdcHwFWR0jT"
   },
   "outputs": [],
   "source": [
    "# Reconstruct the original array using indices\n",
    "newArr[indecies]"
   ]
  },
  {
   "cell_type": "code",
   "execution_count": null,
   "metadata": {
    "id": "3k8pjLnFSTvB"
   },
   "outputs": [],
   "source": [
    "# if return_counts = True\n",
    "# Return the count of repetitions of unique element\n",
    "# Rturns the number of times the element in unique array appears in the original array\n",
    "np.unique(a,return_counts = True) "
   ]
  },
  {
   "cell_type": "code",
   "execution_count": null,
   "metadata": {
    "id": "6TEtDdxaMsIN"
   },
   "outputs": [],
   "source": [
    "uniArr, uniArrIndecies, revIndecies, uniCounter =  np.unique(a, return_index = True,return_inverse = True,return_counts = True) "
   ]
  },
  {
   "cell_type": "code",
   "execution_count": null,
   "metadata": {
    "id": "9BpdoKa1S-Sr"
   },
   "outputs": [],
   "source": [
    "print(\"original array :                           \", a )\n",
    "print(\"unique values :                            \" , uniArr)\n",
    "print(\"indeces for unique values :                \", uniArrIndecies)\n",
    "print(\"indecies for reconstruct original array :  \", revIndecies)\n",
    "print(\"number of repetitions for each values :    \", uniCounter)"
   ]
  },
  {
   "cell_type": "code",
   "execution_count": null,
   "metadata": {
    "id": "czpuIIenVc40"
   },
   "outputs": [],
   "source": [
    "# Explain\n",
    "\n",
    "# original array :\n",
    "#   0   1   2   3   4   5   6   7   8   9  10   11  12\n",
    "# [ 5 , 2 , 6 , 2 , 7 , 5 , 6 , 8 , 2 , 9 , 9 ,  8 ,  9  ]\n",
    "\n",
    "\n",
    "# unique array\n",
    "#   0   1   2   3   4   5\n",
    "# [ 2 , 5 , 6 , 7 , 8 , 9 ]\n",
    "\n",
    "\n",
    "# indecies for unique values :\n",
    "#   0   1   2   3   4   5\n",
    "# [ 1 , 0 , 2 , 4 , 7 , 9 ]\n",
    "\n",
    "\n",
    "# indecies for reconstruct original array\n",
    "#   0   1   2   3   4   5   6   7   8   9  10   11  12\n",
    "# [ 1 , 0 , 2 , 0 , 3 , 1 , 2 , 4 , 0 , 5 , 5 , 4 , 5 ]\n",
    "\n",
    "\n",
    "# number of repetitions for each values : \n",
    "# unique array : [2 5 6 7 8 9]\n",
    "# repititions  : [3 2 2 1 2 3]\n"
   ]
  },
  {
   "cell_type": "markdown",
   "metadata": {
    "id": "Miv_rzV_NfRa"
   },
   "source": [
    "# Arithmetic Operations"
   ]
  },
  {
   "cell_type": "code",
   "execution_count": null,
   "metadata": {
    "id": "tFC7MnKhNnt1"
   },
   "outputs": [],
   "source": [
    "a = np.arange(9, dtype = np.float_).reshape(3,3) \n",
    "b = np.array([10,10,10]) "
   ]
  },
  {
   "cell_type": "code",
   "execution_count": null,
   "metadata": {
    "id": "kySnnoc5YQxH"
   },
   "outputs": [],
   "source": [
    "print(a)\n",
    "print()\n",
    "print(\"=\" *30)\n",
    "print()\n",
    "print(b)"
   ]
  },
  {
   "cell_type": "code",
   "execution_count": null,
   "metadata": {
    "id": "DukvHQ4zX2Sk"
   },
   "outputs": [],
   "source": [
    "print(\"Add the two arrays\")\n",
    "print(np.add(a,b) )\n",
    "print()\n",
    "\n",
    "print(\"Subtract the two arrays\")\n",
    "print(np.subtract(a,b))\n",
    "print()\n",
    "\n",
    "print(\"Multiply the two arrays\")\n",
    "print( np.multiply(a,b))\n",
    "print()\n",
    "\n",
    "print(\"Divide the two arrays\")\n",
    "print(np.divide(a,b))"
   ]
  },
  {
   "cell_type": "code",
   "execution_count": null,
   "metadata": {
    "id": "gkclVFdsYPK8"
   },
   "outputs": [],
   "source": []
  },
  {
   "cell_type": "markdown",
   "metadata": {
    "id": "C7jfXYEreqSY"
   },
   "source": [
    "# Statistical Functions"
   ]
  },
  {
   "cell_type": "markdown",
   "metadata": {
    "id": "26ri6LAWlRDg"
   },
   "source": [
    "Min & Max "
   ]
  },
  {
   "cell_type": "code",
   "execution_count": null,
   "metadata": {
    "id": "jaFV8C5Eer3I"
   },
   "outputs": [],
   "source": [
    "a = np.array([[3,40,5],[8,4,39],[-2,4,99]]) \n",
    "print(a)\n",
    "print(a.shape)"
   ]
  },
  {
   "cell_type": "code",
   "execution_count": null,
   "metadata": {
    "id": "DtLbIj31er1J"
   },
   "outputs": [],
   "source": [
    "# Get maximum value in array\n",
    "np.amax(a)"
   ]
  },
  {
   "cell_type": "code",
   "execution_count": null,
   "metadata": {
    "id": "8h9SzyOeerzA"
   },
   "outputs": [],
   "source": [
    "# Get maximum value in axis 0\n",
    "# Return maximum value in each column\n",
    "np.amax(a, axis=0)"
   ]
  },
  {
   "cell_type": "code",
   "execution_count": null,
   "metadata": {
    "id": "F0ZyDAr-kOvz"
   },
   "outputs": [],
   "source": [
    "# Get maximum value in axis 1\n",
    "# Return maximum value in each row\n",
    "np.amax(a, axis=1)"
   ]
  },
  {
   "cell_type": "code",
   "execution_count": null,
   "metadata": {
    "id": "zbZCYj4KjVOp"
   },
   "outputs": [],
   "source": [
    "# Get minimum value in array\n",
    "print(\"minimum value in all array \", np.amin(a))\n",
    "\n",
    "# Get minimum value in axis 0\n",
    "# Return minimum value in each column\n",
    "print(\"minimum value in each column\", np.amin(a, axis=0))\n",
    "\n",
    "# Get minimum value in axis 1\n",
    "# Return minimum value in each row\n",
    "print(\"minimum value in each row\", np.amin(a, axis=1))"
   ]
  },
  {
   "cell_type": "code",
   "execution_count": null,
   "metadata": {
    "id": "zGoim762jT00"
   },
   "outputs": [],
   "source": [
    "l = [[3,40,5],[8,4,39],[-2,4,99]]\n",
    "\n",
    "# 'list' object has no attribute 'max'\n",
    "#  if we use max() bulit-in function to try to get maximum value in the list \n",
    "max(l)\n",
    "\n",
    "# max() will return list that have max value in first index"
   ]
  },
  {
   "cell_type": "code",
   "execution_count": null,
   "metadata": {
    "id": "5j7arz12kF07"
   },
   "outputs": [],
   "source": []
  },
  {
   "cell_type": "markdown",
   "metadata": {
    "id": "6uQtaFkXlmCe"
   },
   "source": [
    "Median"
   ]
  },
  {
   "cell_type": "code",
   "execution_count": null,
   "metadata": {
    "id": "_ndf6Vwbl6Wo"
   },
   "outputs": [],
   "source": [
    "print(\"Original array : \\n\",a)\n",
    "print()\n",
    "# Get median value\n",
    "print(\"Meadian value : \", np.median(a))\n",
    "print()\n",
    "\n",
    "# Get median value along axis 0\n",
    "print(\"Median value along axis 0 : \", np.median(a, axis = 0))\n",
    "print()\n",
    "\n",
    "# Get median value along axis 1\n",
    "print(\"Median value along axis 1 : \", np.median(a, axis = 1))"
   ]
  },
  {
   "cell_type": "code",
   "execution_count": null,
   "metadata": {
    "id": "wblXv3JqmABw"
   },
   "outputs": [],
   "source": [
    "np.sort(a.flatten())"
   ]
  },
  {
   "cell_type": "markdown",
   "metadata": {
    "id": "1-T1alvGmpVR"
   },
   "source": [
    "Mean"
   ]
  },
  {
   "cell_type": "code",
   "execution_count": null,
   "metadata": {
    "id": "K88v6p4jmb18"
   },
   "outputs": [],
   "source": [
    "print(\"mean value for all values in array : \", np.mean(a))\n",
    "print(\"mean value for values along axis 0 : \", np.mean(a, axis = 0))\n",
    "print(\"mean value for values along axis 1 : \", np.mean(a, axis = 1))"
   ]
  },
  {
   "cell_type": "code",
   "execution_count": null,
   "metadata": {
    "id": "SliAIQS-oAOF"
   },
   "outputs": [],
   "source": []
  },
  {
   "cell_type": "markdown",
   "metadata": {
    "id": "2x2YIZMupZJu"
   },
   "source": [
    "Average"
   ]
  },
  {
   "cell_type": "code",
   "execution_count": null,
   "metadata": {
    "id": "-Y6XsHhNpawA"
   },
   "outputs": [],
   "source": [
    "a = np.array([5,9,3,4,6,7]) "
   ]
  },
  {
   "cell_type": "code",
   "execution_count": null,
   "metadata": {
    "id": "pzfjOslWq-TH"
   },
   "outputs": [],
   "source": [
    "# Get average for values in array\n",
    "np.average(a)\n",
    "\n",
    "# (5 + 9 + 3 + 4 + 6 + 7)/ 6"
   ]
  },
  {
   "cell_type": "code",
   "execution_count": null,
   "metadata": {
    "id": "ck66Y7Gspatz"
   },
   "outputs": [],
   "source": [
    "# Average function has weights attribute\n",
    "# where the weight for each value will be computed as the following\n",
    "\n",
    "np.average(a, weights=[1, 5, 3 ,7, 5, 9])\n",
    "\n",
    "# ( ( 5 * 1) + ( 9 * 5 ) + ( 3 * 3 ) + ( 4 * 7) + ( 6 * 5 ) + ( 7 * 9 ) ) / (1 + 5 + 3 + 7 + 5 + 9)"
   ]
  },
  {
   "cell_type": "code",
   "execution_count": null,
   "metadata": {
    "id": "xxKwousxq9ci"
   },
   "outputs": [],
   "source": [
    "# In a multi-dimensional array, the axis for computation can be specified\n",
    "\n",
    "a = np.arange(9).reshape(3,3) \n",
    "print(\"array : \\n\", a)\n",
    "print()\n",
    "\n",
    "w = [10, 5, 9]\n",
    "print(\"wigths : \", w)\n",
    "print() \n",
    "\n",
    "\n",
    "print(\"Weighted average along axis 0 : \", np.average(a, weights=w, axis = 0))\n",
    "print()\n",
    "\n",
    "\n",
    "print(\"Weighted average along axis 1 : \", np.average(a, weights=w, axis = 1))\n"
   ]
  },
  {
   "cell_type": "code",
   "execution_count": null,
   "metadata": {
    "id": "_vG79GbGuNCN"
   },
   "outputs": [],
   "source": [
    "np.average( np.array([0, 1 ,2]), weights=[10, 5, 9])"
   ]
  },
  {
   "cell_type": "code",
   "execution_count": null,
   "metadata": {
    "id": "h4c_HQd8swbg"
   },
   "outputs": [],
   "source": [
    "( ( 2 * 10 ) + ( 5 * 5 ) + ( 8 * 9 ) )/ ( 10 + 5 + 9)"
   ]
  },
  {
   "cell_type": "markdown",
   "metadata": {
    "id": "huWKXGbCtgUT"
   },
   "source": [
    "Variance & Standard Deviation"
   ]
  },
  {
   "cell_type": "code",
   "execution_count": null,
   "metadata": {
    "id": "1cT-QH3CvFf4"
   },
   "outputs": [],
   "source": [
    "print(\"array : \", a)\n",
    "print()\n",
    "\n",
    "\n",
    "# Variance formula \n",
    "# mean(abs(x - x.mean())**2)\n",
    "print(\"Variance value for \", np.var(a))\n",
    "\n",
    "# Standard deviation formula \n",
    "# std = sqrt(mean(abs(x - x.mean())**2))\n",
    "print(\"Standard deviation value : \", np.std(a))\n"
   ]
  },
  {
   "cell_type": "markdown",
   "metadata": {
    "id": "npydgntFw3lg"
   },
   "source": [
    "# NumPy I/O"
   ]
  },
  {
   "cell_type": "markdown",
   "metadata": {
    "id": "TG0zmyXVxA7e"
   },
   "source": [
    "Save array as npy file"
   ]
  },
  {
   "cell_type": "code",
   "execution_count": null,
   "metadata": {
    "id": "XUjIY6yCthOr"
   },
   "outputs": [],
   "source": [
    "# Save array in a disk file with npy extension\n",
    "np.save(\"output_array\", a)"
   ]
  },
  {
   "cell_type": "code",
   "execution_count": null,
   "metadata": {
    "id": "6cJUKah3wEgw"
   },
   "outputs": [],
   "source": [
    "# Load array from npy file\n",
    "arr = np.load(\"output_array.npy\")"
   ]
  },
  {
   "cell_type": "code",
   "execution_count": null,
   "metadata": {
    "id": "So0veTHXxrcm"
   },
   "outputs": [],
   "source": [
    "arr"
   ]
  },
  {
   "cell_type": "code",
   "execution_count": null,
   "metadata": {
    "id": "8gCWdIvvWFjZ"
   },
   "outputs": [],
   "source": []
  }
 ],
 "metadata": {
  "colab": {
   "authorship_tag": "ABX9TyP/+o10bGocFch4Luj2Jul5",
   "collapsed_sections": [
    "qEy-n8jzJpsb",
    "kTBHDPI0SALv",
    "s-yaKlbfVv-D",
    "BGhE9a-_6tix",
    "dQn1-beYdlvo",
    "eBfmKNFFUQCO",
    "Miv_rzV_NfRa",
    "C7jfXYEreqSY",
    "npydgntFw3lg"
   ],
   "provenance": []
  },
  "kernelspec": {
   "display_name": "Python 3 (ipykernel)",
   "language": "python",
   "name": "python3"
  },
  "language_info": {
   "codemirror_mode": {
    "name": "ipython",
    "version": 3
   },
   "file_extension": ".py",
   "mimetype": "text/x-python",
   "name": "python",
   "nbconvert_exporter": "python",
   "pygments_lexer": "ipython3",
   "version": "3.9.13"
  }
 },
 "nbformat": 4,
 "nbformat_minor": 1
}

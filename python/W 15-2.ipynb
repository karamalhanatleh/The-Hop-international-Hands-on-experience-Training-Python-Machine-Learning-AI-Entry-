{
 "cells": [
  {
   "cell_type": "markdown",
   "id": "50d38f3e",
   "metadata": {},
   "source": [
    "# function"
   ]
  },
  {
   "cell_type": "code",
   "execution_count": 2,
   "id": "262edc1e",
   "metadata": {},
   "outputs": [],
   "source": [
    "# Create function with 1 argument\n",
    "def getStudentAge(sName):\n",
    "  \n",
    "  studentsAges = {\n",
    "   \"mahmoud\" : 25,\n",
    "   \"ahmad\" : 22,\n",
    "   \"khaled\" : 28,\n",
    "   \"rula\" : 25,\n",
    "   }\n",
    "   \n",
    "  if sName in studentsAges.keys():\n",
    "     return studentsAges[sName]\n",
    "  \n",
    "  return \"student is not exist\"\n",
    "  \n"
   ]
  },
  {
   "cell_type": "code",
   "execution_count": 3,
   "id": "af6a4afb",
   "metadata": {},
   "outputs": [
    {
     "name": "stdout",
     "output_type": "stream",
     "text": [
      "25\n"
     ]
    }
   ],
   "source": [
    "print(getStudentAge(sName = 'mahmoud'))"
   ]
  },
  {
   "cell_type": "code",
   "execution_count": 4,
   "id": "d9a6c214",
   "metadata": {},
   "outputs": [],
   "source": [
    "# Crate function with variable-length argument \n",
    "def getAverage(*values):\n",
    "  sum = 0\n",
    "  count = 0\n",
    "  for v in values:\n",
    "    sum+=v\n",
    "    count+=1\n",
    "\n",
    "  return sum/count\n"
   ]
  },
  {
   "cell_type": "code",
   "execution_count": null,
   "id": "8a65bf6b",
   "metadata": {},
   "outputs": [],
   "source": []
  },
  {
   "cell_type": "code",
   "execution_count": 8,
   "id": "adf9a4f4",
   "metadata": {},
   "outputs": [
    {
     "data": {
      "text/plain": [
       "11"
      ]
     },
     "execution_count": 8,
     "metadata": {},
     "output_type": "execute_result"
    }
   ],
   "source": [
    "lfun= lambda n1,n2 :n1+n2\n",
    "lfun(5,6)"
   ]
  },
  {
   "cell_type": "code",
   "execution_count": null,
   "id": "ea6a76ce",
   "metadata": {},
   "outputs": [],
   "source": []
  },
  {
   "cell_type": "code",
   "execution_count": 9,
   "id": "2be323f1",
   "metadata": {},
   "outputs": [],
   "source": [
    "# Nested function\n",
    "def outerFun():\n",
    "  \n",
    "  def innerFun():\n",
    "    return \"inner function\"\n",
    "\n",
    "  return innerFun()\n"
   ]
  },
  {
   "cell_type": "code",
   "execution_count": 10,
   "id": "20ce260c",
   "metadata": {},
   "outputs": [
    {
     "data": {
      "text/plain": [
       "'inner function'"
      ]
     },
     "execution_count": 10,
     "metadata": {},
     "output_type": "execute_result"
    }
   ],
   "source": [
    "outerFun()"
   ]
  },
  {
   "cell_type": "code",
   "execution_count": null,
   "id": "d9727113",
   "metadata": {},
   "outputs": [],
   "source": []
  },
  {
   "cell_type": "code",
   "execution_count": 11,
   "id": "7901a6e8",
   "metadata": {},
   "outputs": [
    {
     "name": "stdout",
     "output_type": "stream",
     "text": [
      "50\n"
     ]
    }
   ],
   "source": [
    "def num1(x):\n",
    "   def num2(y):\n",
    "      return x * y\n",
    "   return num2\n",
    "\n",
    "res = num1(10)\n",
    "\n",
    "print(res(5))\n"
   ]
  },
  {
   "cell_type": "code",
   "execution_count": 12,
   "id": "44d5951f",
   "metadata": {},
   "outputs": [
    {
     "name": "stdout",
     "output_type": "stream",
     "text": [
      "24 36\n"
     ]
    }
   ],
   "source": [
    "def operationals(x):\n",
    "    def sum(y):\n",
    "      return x+y\n",
    "    def mul(y):\n",
    "       return x*y\n",
    "    return sum , mul\n",
    "\n",
    "s, res=operationals(12)\n",
    "print(s(12),res(3))"
   ]
  },
  {
   "cell_type": "code",
   "execution_count": null,
   "id": "af68c49b",
   "metadata": {},
   "outputs": [],
   "source": []
  }
 ],
 "metadata": {
  "kernelspec": {
   "display_name": "Python 3 (ipykernel)",
   "language": "python",
   "name": "python3"
  },
  "language_info": {
   "codemirror_mode": {
    "name": "ipython",
    "version": 3
   },
   "file_extension": ".py",
   "mimetype": "text/x-python",
   "name": "python",
   "nbconvert_exporter": "python",
   "pygments_lexer": "ipython3",
   "version": "3.9.13"
  }
 },
 "nbformat": 4,
 "nbformat_minor": 5
}

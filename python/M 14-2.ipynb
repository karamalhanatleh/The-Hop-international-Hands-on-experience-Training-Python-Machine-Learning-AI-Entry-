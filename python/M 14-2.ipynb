{
 "cells": [
  {
   "cell_type": "code",
   "execution_count": 10,
   "id": "7d69350f",
   "metadata": {},
   "outputs": [],
   "source": [
    "colors = (\"Red\", \"Orange\", \"Black\", \"White\", \"Blue\", \"Green\", \"Green\")"
   ]
  },
  {
   "cell_type": "code",
   "execution_count": 11,
   "id": "b41b8ade",
   "metadata": {},
   "outputs": [
    {
     "data": {
      "text/plain": [
       "1"
      ]
     },
     "execution_count": 11,
     "metadata": {},
     "output_type": "execute_result"
    }
   ],
   "source": [
    "colors.count('Red')"
   ]
  },
  {
   "cell_type": "code",
   "execution_count": 12,
   "id": "d67b2b72",
   "metadata": {},
   "outputs": [
    {
     "data": {
      "text/plain": [
       "0"
      ]
     },
     "execution_count": 12,
     "metadata": {},
     "output_type": "execute_result"
    }
   ],
   "source": [
    "colors.count(\"R\")"
   ]
  },
  {
   "cell_type": "code",
   "execution_count": 14,
   "id": "eed861c9",
   "metadata": {},
   "outputs": [
    {
     "data": {
      "text/plain": [
       "tuple"
      ]
     },
     "execution_count": 14,
     "metadata": {},
     "output_type": "execute_result"
    }
   ],
   "source": [
    "type(colors)"
   ]
  },
  {
   "cell_type": "code",
   "execution_count": 13,
   "id": "aa572309",
   "metadata": {},
   "outputs": [],
   "source": [
    "a=(1,2,3,4,5,\"5\")"
   ]
  },
  {
   "cell_type": "code",
   "execution_count": 9,
   "id": "1f31cde1",
   "metadata": {},
   "outputs": [
    {
     "ename": "TypeError",
     "evalue": "'tuple' object does not support item assignment",
     "output_type": "error",
     "traceback": [
      "\u001b[1;31m---------------------------------------------------------------------------\u001b[0m",
      "\u001b[1;31mTypeError\u001b[0m                                 Traceback (most recent call last)",
      "\u001b[1;32m~\\AppData\\Local\\Temp\\ipykernel_14788\\1854459989.py\u001b[0m in \u001b[0;36m<module>\u001b[1;34m\u001b[0m\n\u001b[1;32m----> 1\u001b[1;33m \u001b[0ma\u001b[0m\u001b[1;33m[\u001b[0m\u001b[1;36m1\u001b[0m\u001b[1;33m]\u001b[0m\u001b[1;33m=\u001b[0m\u001b[1;36m55\u001b[0m \u001b[1;31m# error output\u001b[0m\u001b[1;33m\u001b[0m\u001b[1;33m\u001b[0m\u001b[0m\n\u001b[0m",
      "\u001b[1;31mTypeError\u001b[0m: 'tuple' object does not support item assignment"
     ]
    }
   ],
   "source": [
    "a[1]=55 # error output"
   ]
  },
  {
   "cell_type": "code",
   "execution_count": null,
   "id": "949395e2",
   "metadata": {},
   "outputs": [],
   "source": []
  },
  {
   "cell_type": "code",
   "execution_count": 27,
   "id": "c451565c",
   "metadata": {},
   "outputs": [],
   "source": [
    "colors=tuple(['Red', 'Orange' ,'Black','White','Blue','Green','Green'])"
   ]
  },
  {
   "cell_type": "code",
   "execution_count": 28,
   "id": "a2240005",
   "metadata": {},
   "outputs": [
    {
     "data": {
      "text/plain": [
       "('Red', 'Orange', 'Black', 'White', 'Blue', 'Green', 'Green')"
      ]
     },
     "execution_count": 28,
     "metadata": {},
     "output_type": "execute_result"
    }
   ],
   "source": [
    "colors"
   ]
  },
  {
   "cell_type": "code",
   "execution_count": 29,
   "id": "204ba012",
   "metadata": {},
   "outputs": [
    {
     "data": {
      "text/plain": [
       "'Red'"
      ]
     },
     "execution_count": 29,
     "metadata": {},
     "output_type": "execute_result"
    }
   ],
   "source": [
    "colors[0]"
   ]
  },
  {
   "cell_type": "code",
   "execution_count": 30,
   "id": "34371e8c",
   "metadata": {},
   "outputs": [
    {
     "data": {
      "text/plain": [
       "('Red', 'Orange', 'Black')"
      ]
     },
     "execution_count": 30,
     "metadata": {},
     "output_type": "execute_result"
    }
   ],
   "source": [
    "colors[:3]"
   ]
  },
  {
   "cell_type": "code",
   "execution_count": 31,
   "id": "5dc5f077",
   "metadata": {},
   "outputs": [
    {
     "data": {
      "text/plain": [
       "7"
      ]
     },
     "execution_count": 31,
     "metadata": {},
     "output_type": "execute_result"
    }
   ],
   "source": [
    "len(colors)"
   ]
  },
  {
   "cell_type": "code",
   "execution_count": null,
   "id": "95d876f3",
   "metadata": {},
   "outputs": [],
   "source": []
  },
  {
   "cell_type": "code",
   "execution_count": 32,
   "id": "2f01fbba",
   "metadata": {},
   "outputs": [
    {
     "data": {
      "text/plain": [
       "(1, 2, 3, 4, 5, 6)"
      ]
     },
     "execution_count": 32,
     "metadata": {},
     "output_type": "execute_result"
    }
   ],
   "source": [
    "(1,2,3) +(4,5,6)"
   ]
  },
  {
   "cell_type": "code",
   "execution_count": null,
   "id": "ccfed717",
   "metadata": {},
   "outputs": [],
   "source": []
  },
  {
   "cell_type": "code",
   "execution_count": 33,
   "id": "39ad2670",
   "metadata": {},
   "outputs": [
    {
     "data": {
      "text/plain": [
       "(1, 2, 3, 1, 2, 3, 1, 2, 3)"
      ]
     },
     "execution_count": 33,
     "metadata": {},
     "output_type": "execute_result"
    }
   ],
   "source": [
    "(1,2,3)*3"
   ]
  },
  {
   "cell_type": "code",
   "execution_count": null,
   "id": "bf1489a2",
   "metadata": {},
   "outputs": [],
   "source": []
  },
  {
   "cell_type": "code",
   "execution_count": 34,
   "id": "39153522",
   "metadata": {},
   "outputs": [
    {
     "data": {
      "text/plain": [
       "('Red', 'Orange', 'Black', 'White', 'Blue', 'Green', 'Green')"
      ]
     },
     "execution_count": 34,
     "metadata": {},
     "output_type": "execute_result"
    }
   ],
   "source": [
    "colors"
   ]
  },
  {
   "cell_type": "code",
   "execution_count": 35,
   "id": "15207553",
   "metadata": {},
   "outputs": [
    {
     "data": {
      "text/plain": [
       "'Black'"
      ]
     },
     "execution_count": 35,
     "metadata": {},
     "output_type": "execute_result"
    }
   ],
   "source": [
    "min(colors)"
   ]
  },
  {
   "cell_type": "code",
   "execution_count": 36,
   "id": "22c6deb2",
   "metadata": {},
   "outputs": [
    {
     "data": {
      "text/plain": [
       "'White'"
      ]
     },
     "execution_count": 36,
     "metadata": {},
     "output_type": "execute_result"
    }
   ],
   "source": [
    "max(colors)"
   ]
  },
  {
   "cell_type": "code",
   "execution_count": null,
   "id": "5259074f",
   "metadata": {},
   "outputs": [],
   "source": []
  },
  {
   "cell_type": "code",
   "execution_count": 37,
   "id": "4e5da534",
   "metadata": {},
   "outputs": [
    {
     "data": {
      "text/plain": [
       "4"
      ]
     },
     "execution_count": 37,
     "metadata": {},
     "output_type": "execute_result"
    }
   ],
   "source": [
    "min(9,4)"
   ]
  },
  {
   "cell_type": "code",
   "execution_count": 38,
   "id": "9a624bbe",
   "metadata": {},
   "outputs": [
    {
     "data": {
      "text/plain": [
       "'Z'"
      ]
     },
     "execution_count": 38,
     "metadata": {},
     "output_type": "execute_result"
    }
   ],
   "source": [
    "min(\"Z\",'a')"
   ]
  },
  {
   "cell_type": "code",
   "execution_count": 39,
   "id": "9e5b2a46",
   "metadata": {},
   "outputs": [
    {
     "data": {
      "text/plain": [
       "'A'"
      ]
     },
     "execution_count": 39,
     "metadata": {},
     "output_type": "execute_result"
    }
   ],
   "source": [
    "min(\"A\",'a')"
   ]
  },
  {
   "cell_type": "code",
   "execution_count": 40,
   "id": "00891fbd",
   "metadata": {},
   "outputs": [
    {
     "data": {
      "text/plain": [
       "65"
      ]
     },
     "execution_count": 40,
     "metadata": {},
     "output_type": "execute_result"
    }
   ],
   "source": [
    "ord(\"A\")"
   ]
  },
  {
   "cell_type": "code",
   "execution_count": 41,
   "id": "d7a0a91b",
   "metadata": {},
   "outputs": [
    {
     "data": {
      "text/plain": [
       "97"
      ]
     },
     "execution_count": 41,
     "metadata": {},
     "output_type": "execute_result"
    }
   ],
   "source": [
    "ord(\"a\")"
   ]
  },
  {
   "cell_type": "code",
   "execution_count": null,
   "id": "51211f8e",
   "metadata": {},
   "outputs": [],
   "source": []
  },
  {
   "cell_type": "markdown",
   "id": "5626258a",
   "metadata": {},
   "source": [
    "# set"
   ]
  },
  {
   "cell_type": "code",
   "execution_count": 42,
   "id": "d4552b70",
   "metadata": {},
   "outputs": [],
   "source": [
    "setColors1 =  set([\"Red\", \"Orange\", \"Black\", \"White\", \"Blue\", \"Green\", \"Green\"]) # Create by pass 1 itterable argument "
   ]
  },
  {
   "cell_type": "code",
   "execution_count": 43,
   "id": "c4f7b8e2",
   "metadata": {},
   "outputs": [
    {
     "data": {
      "text/plain": [
       "{'Black', 'Blue', 'Green', 'Orange', 'Red', 'White'}"
      ]
     },
     "execution_count": 43,
     "metadata": {},
     "output_type": "execute_result"
    }
   ],
   "source": [
    "setColors1"
   ]
  },
  {
   "cell_type": "code",
   "execution_count": 44,
   "id": "c8e8ce1c",
   "metadata": {},
   "outputs": [],
   "source": [
    "setColors2 = {\"Red\", \"Orange\", \"Black\", \"White\", \"Blue\", \"Green\"}"
   ]
  },
  {
   "cell_type": "code",
   "execution_count": null,
   "id": "3a1b222c",
   "metadata": {},
   "outputs": [],
   "source": []
  },
  {
   "cell_type": "code",
   "execution_count": 45,
   "id": "781d79d5",
   "metadata": {},
   "outputs": [
    {
     "name": "stdout",
     "output_type": "stream",
     "text": [
      "[1, 1, 2, 3, 4, 7, 7, 5, 6, 6, 6]  length :  11\n",
      "{1, 2, 3, 4, 5, 6, 7}  length :  7\n"
     ]
    }
   ],
   "source": [
    "print([1,1,2,3,4,7,7,5,6,6,6], \" length : \", len([1,1,2,3,4,7,7,5,6,6,6]))\n",
    "print(set([1,1,2,3,4,7,7,5,6,6,6]), \" length : \",len(set([1,1,2,3,4,7,7,5,6,6,6])))"
   ]
  },
  {
   "cell_type": "code",
   "execution_count": 46,
   "id": "bb39a3b0",
   "metadata": {},
   "outputs": [
    {
     "data": {
      "text/plain": [
       "{1, 2, 3, 4, 5, 6, 7}"
      ]
     },
     "execution_count": 46,
     "metadata": {},
     "output_type": "execute_result"
    }
   ],
   "source": [
    "set([1,1,2,3,4,7,7,5,6,6,6])"
   ]
  },
  {
   "cell_type": "code",
   "execution_count": 48,
   "id": "bc2ca404",
   "metadata": {},
   "outputs": [
    {
     "data": {
      "text/plain": [
       "{'Black', 'Blue', 'Green', 'Orange', 'Red', 'White'}"
      ]
     },
     "execution_count": 48,
     "metadata": {},
     "output_type": "execute_result"
    }
   ],
   "source": [
    "setColors1"
   ]
  },
  {
   "cell_type": "code",
   "execution_count": 49,
   "id": "98e7c730",
   "metadata": {},
   "outputs": [],
   "source": [
    "setColors1.add(\"Gray\")"
   ]
  },
  {
   "cell_type": "code",
   "execution_count": 50,
   "id": "9f49b29f",
   "metadata": {},
   "outputs": [
    {
     "data": {
      "text/plain": [
       "{'Black', 'Blue', 'Gray', 'Green', 'Orange', 'Red', 'White'}"
      ]
     },
     "execution_count": 50,
     "metadata": {},
     "output_type": "execute_result"
    }
   ],
   "source": [
    "setColors1"
   ]
  },
  {
   "cell_type": "code",
   "execution_count": 51,
   "id": "759035c4",
   "metadata": {},
   "outputs": [],
   "source": [
    "num={6,7,8,4,21,1}"
   ]
  },
  {
   "cell_type": "code",
   "execution_count": 52,
   "id": "cd17ffa7",
   "metadata": {},
   "outputs": [
    {
     "data": {
      "text/plain": [
       "{1, 4, 6, 7, 8, 21}"
      ]
     },
     "execution_count": 52,
     "metadata": {},
     "output_type": "execute_result"
    }
   ],
   "source": [
    "num"
   ]
  },
  {
   "cell_type": "code",
   "execution_count": 53,
   "id": "85822011",
   "metadata": {},
   "outputs": [
    {
     "data": {
      "text/plain": [
       "{1, 3, 4, 6, 7, 8, 21}"
      ]
     },
     "execution_count": 53,
     "metadata": {},
     "output_type": "execute_result"
    }
   ],
   "source": [
    "num.add(3)\n",
    "num"
   ]
  },
  {
   "cell_type": "code",
   "execution_count": 54,
   "id": "ad7a0806",
   "metadata": {},
   "outputs": [],
   "source": [
    "set_1 = setColors1.copy()"
   ]
  },
  {
   "cell_type": "code",
   "execution_count": 55,
   "id": "4018e724",
   "metadata": {},
   "outputs": [
    {
     "name": "stdout",
     "output_type": "stream",
     "text": [
      "{'Blue', 'White', 'Gray', 'Green', 'Orange', 'Red'}\n",
      "Black\n"
     ]
    }
   ],
   "source": [
    "s = set_1.pop()\n",
    "print(set_1)\n",
    "print(s)"
   ]
  },
  {
   "cell_type": "code",
   "execution_count": 57,
   "id": "4058862e",
   "metadata": {},
   "outputs": [
    {
     "name": "stdout",
     "output_type": "stream",
     "text": [
      "{'Gray', 'Green', 'Orange', 'Red'}\n",
      "White\n"
     ]
    }
   ],
   "source": [
    "s = set_1.pop()\n",
    "print(set_1)\n",
    "print(s)"
   ]
  },
  {
   "cell_type": "code",
   "execution_count": 58,
   "id": "c13bec6f",
   "metadata": {},
   "outputs": [
    {
     "data": {
      "text/plain": [
       "set()"
      ]
     },
     "execution_count": 58,
     "metadata": {},
     "output_type": "execute_result"
    }
   ],
   "source": [
    "set_1.clear()\n",
    "set_1"
   ]
  },
  {
   "cell_type": "code",
   "execution_count": null,
   "id": "bda78152",
   "metadata": {},
   "outputs": [],
   "source": []
  },
  {
   "cell_type": "markdown",
   "id": "f9c9122b",
   "metadata": {},
   "source": [
    "# **Dictionary**"
   ]
  },
  {
   "cell_type": "code",
   "execution_count": 60,
   "id": "d7a46e44",
   "metadata": {},
   "outputs": [],
   "source": [
    "d1 = dict()\n",
    "\n",
    "d1[\"1\"] = 1\n",
    "d1[\"2\"] = 2\n",
    "d1[\"3\"] = 3\n"
   ]
  },
  {
   "cell_type": "code",
   "execution_count": 61,
   "id": "73b48856",
   "metadata": {},
   "outputs": [
    {
     "data": {
      "text/plain": [
       "{'1': 1, '2': 2, '3': 3}"
      ]
     },
     "execution_count": 61,
     "metadata": {},
     "output_type": "execute_result"
    }
   ],
   "source": [
    "d1"
   ]
  },
  {
   "cell_type": "code",
   "execution_count": null,
   "id": "9a8c41c9",
   "metadata": {},
   "outputs": [],
   "source": []
  },
  {
   "cell_type": "code",
   "execution_count": 65,
   "id": "02976a10",
   "metadata": {},
   "outputs": [
    {
     "data": {
      "text/plain": [
       "{1: 'one', 2: 'two'}"
      ]
     },
     "execution_count": 65,
     "metadata": {},
     "output_type": "execute_result"
    }
   ],
   "source": [
    "d3 = {  1: \"one\", 2 : \"two\" }\n",
    "d3"
   ]
  },
  {
   "cell_type": "code",
   "execution_count": 66,
   "id": "224bb2a8",
   "metadata": {},
   "outputs": [
    {
     "data": {
      "text/plain": [
       "'one'"
      ]
     },
     "execution_count": 66,
     "metadata": {},
     "output_type": "execute_result"
    }
   ],
   "source": [
    "d3[1]"
   ]
  },
  {
   "cell_type": "code",
   "execution_count": 68,
   "id": "d06b4e24",
   "metadata": {},
   "outputs": [
    {
     "data": {
      "text/plain": [
       "'one'"
      ]
     },
     "execution_count": 68,
     "metadata": {},
     "output_type": "execute_result"
    }
   ],
   "source": [
    "d3.get(1)"
   ]
  },
  {
   "cell_type": "code",
   "execution_count": 69,
   "id": "8931bab0",
   "metadata": {},
   "outputs": [],
   "source": [
    "d1[\"1\"], d1[\"2\"], d1[\"3\"] = 4,5,6"
   ]
  },
  {
   "cell_type": "code",
   "execution_count": 70,
   "id": "a423a0fa",
   "metadata": {},
   "outputs": [
    {
     "data": {
      "text/plain": [
       "{'1': 4, '2': 5, '3': 6}"
      ]
     },
     "execution_count": 70,
     "metadata": {},
     "output_type": "execute_result"
    }
   ],
   "source": [
    "d1"
   ]
  },
  {
   "cell_type": "code",
   "execution_count": 71,
   "id": "b771379a",
   "metadata": {},
   "outputs": [],
   "source": [
    "d2 = { \"3\" : 3.0, \"4\": 4, \"5\":5 }"
   ]
  },
  {
   "cell_type": "code",
   "execution_count": 72,
   "id": "3f66c7ce",
   "metadata": {},
   "outputs": [
    {
     "data": {
      "text/plain": [
       "{'3': 3.0, '4': 4, '5': 5}"
      ]
     },
     "execution_count": 72,
     "metadata": {},
     "output_type": "execute_result"
    }
   ],
   "source": [
    "d2"
   ]
  },
  {
   "cell_type": "code",
   "execution_count": 73,
   "id": "ecced5eb",
   "metadata": {},
   "outputs": [
    {
     "data": {
      "text/plain": [
       "dict"
      ]
     },
     "execution_count": 73,
     "metadata": {},
     "output_type": "execute_result"
    }
   ],
   "source": [
    "type(d3)"
   ]
  },
  {
   "cell_type": "code",
   "execution_count": 74,
   "id": "e031c96e",
   "metadata": {},
   "outputs": [],
   "source": [
    "sData = {\n",
    "         \"name\" : \"Mahmoud\",\n",
    "         \"age\": 25,\n",
    "         \"gpa\":83.1,\n",
    "         \"marks\": [100, 89, 79, 95, 99]\n",
    "         }"
   ]
  },
  {
   "cell_type": "code",
   "execution_count": 75,
   "id": "85218e44",
   "metadata": {},
   "outputs": [
    {
     "data": {
      "text/plain": [
       "{'name': 'Mahmoud', 'age': 25, 'gpa': 83.1, 'marks': [100, 89, 79, 95, 99]}"
      ]
     },
     "execution_count": 75,
     "metadata": {},
     "output_type": "execute_result"
    }
   ],
   "source": [
    "sData"
   ]
  },
  {
   "cell_type": "code",
   "execution_count": 76,
   "id": "a1cedd2c",
   "metadata": {},
   "outputs": [
    {
     "data": {
      "text/plain": [
       "[100, 89, 79, 95, 99]"
      ]
     },
     "execution_count": 76,
     "metadata": {},
     "output_type": "execute_result"
    }
   ],
   "source": [
    "sData['marks']"
   ]
  },
  {
   "cell_type": "code",
   "execution_count": 77,
   "id": "6320d5e6",
   "metadata": {},
   "outputs": [
    {
     "data": {
      "text/plain": [
       "[100, 89, 79, 95, 99]"
      ]
     },
     "execution_count": 77,
     "metadata": {},
     "output_type": "execute_result"
    }
   ],
   "source": [
    "sData.get(\"marks\")"
   ]
  },
  {
   "cell_type": "code",
   "execution_count": 78,
   "id": "3920792a",
   "metadata": {},
   "outputs": [
    {
     "name": "stdout",
     "output_type": "stream",
     "text": [
      "Mahmoud\n",
      "[100, 89, 79, 95, 99]\n"
     ]
    }
   ],
   "source": [
    "print(sData[\"name\"])\n",
    "print(sData[\"marks\"])"
   ]
  },
  {
   "cell_type": "code",
   "execution_count": 79,
   "id": "11a007ae",
   "metadata": {},
   "outputs": [
    {
     "data": {
      "text/plain": [
       "[('name', 'Mahmoud'),\n",
       " ('age', 25),\n",
       " ('gpa', 83.1),\n",
       " ('marks', [100, 89, 79, 95, 99])]"
      ]
     },
     "execution_count": 79,
     "metadata": {},
     "output_type": "execute_result"
    }
   ],
   "source": [
    "list(sData.items())"
   ]
  },
  {
   "cell_type": "code",
   "execution_count": 82,
   "id": "a09673cd",
   "metadata": {},
   "outputs": [
    {
     "data": {
      "text/plain": [
       "('name', 'Mahmoud')"
      ]
     },
     "execution_count": 82,
     "metadata": {},
     "output_type": "execute_result"
    }
   ],
   "source": [
    "list(sData.items())[0]"
   ]
  },
  {
   "cell_type": "code",
   "execution_count": 83,
   "id": "37c2c40b",
   "metadata": {},
   "outputs": [
    {
     "data": {
      "text/plain": [
       "'Mahmoud'"
      ]
     },
     "execution_count": 83,
     "metadata": {},
     "output_type": "execute_result"
    }
   ],
   "source": [
    "list(sData.items())[0][1]"
   ]
  },
  {
   "cell_type": "code",
   "execution_count": 84,
   "id": "c99fff16",
   "metadata": {},
   "outputs": [
    {
     "name": "stdout",
     "output_type": "stream",
     "text": [
      "Dictionary key and values in tuple as pairs :  dict_items([('name', 'Mahmoud'), ('age', 25), ('gpa', 83.1), ('marks', [100, 89, 79, 95, 99])])\n",
      "\n"
     ]
    }
   ],
   "source": [
    "print(\"Dictionary key and values in tuple as pairs : \", sData.items(), end=\"\\n\\n\")"
   ]
  },
  {
   "cell_type": "code",
   "execution_count": 85,
   "id": "e4fe4e8b",
   "metadata": {},
   "outputs": [
    {
     "name": "stdout",
     "output_type": "stream",
     "text": [
      "Dictionary values :  dict_values(['Mahmoud', 25, 83.1, [100, 89, 79, 95, 99]])\n",
      "\n"
     ]
    }
   ],
   "source": [
    "print(\"Dictionary values : \" , sData.values(), end=\"\\n\\n\")"
   ]
  },
  {
   "cell_type": "code",
   "execution_count": 86,
   "id": "2593cef1",
   "metadata": {},
   "outputs": [
    {
     "data": {
      "text/plain": [
       "dict_keys(['name', 'age', 'gpa', 'marks'])"
      ]
     },
     "execution_count": 86,
     "metadata": {},
     "output_type": "execute_result"
    }
   ],
   "source": [
    "sData.keys()"
   ]
  },
  {
   "cell_type": "code",
   "execution_count": 87,
   "id": "2c0d03b0",
   "metadata": {},
   "outputs": [
    {
     "data": {
      "text/plain": [
       "True"
      ]
     },
     "execution_count": 87,
     "metadata": {},
     "output_type": "execute_result"
    }
   ],
   "source": [
    "'name' in sData.keys()"
   ]
  },
  {
   "cell_type": "code",
   "execution_count": 88,
   "id": "49461789",
   "metadata": {},
   "outputs": [
    {
     "data": {
      "text/plain": [
       "False"
      ]
     },
     "execution_count": 88,
     "metadata": {},
     "output_type": "execute_result"
    }
   ],
   "source": [
    "'Name' in sData.keys()"
   ]
  },
  {
   "cell_type": "code",
   "execution_count": 89,
   "id": "8a04cc2b",
   "metadata": {},
   "outputs": [
    {
     "data": {
      "text/plain": [
       "'Mahmoud'"
      ]
     },
     "execution_count": 89,
     "metadata": {},
     "output_type": "execute_result"
    }
   ],
   "source": [
    "sData[\"name\"]"
   ]
  },
  {
   "cell_type": "code",
   "execution_count": 90,
   "id": "35aac813",
   "metadata": {},
   "outputs": [
    {
     "data": {
      "text/plain": [
       "'Mahmoud'"
      ]
     },
     "execution_count": 90,
     "metadata": {},
     "output_type": "execute_result"
    }
   ],
   "source": [
    "sData.get(\"name\")"
   ]
  },
  {
   "cell_type": "code",
   "execution_count": 92,
   "id": "161629fe",
   "metadata": {},
   "outputs": [
    {
     "data": {
      "text/plain": [
       "False"
      ]
     },
     "execution_count": 92,
     "metadata": {},
     "output_type": "execute_result"
    }
   ],
   "source": [
    "\"weight\" in sData.keys() #false"
   ]
  },
  {
   "cell_type": "code",
   "execution_count": 93,
   "id": "fee79a33",
   "metadata": {},
   "outputs": [
    {
     "ename": "KeyError",
     "evalue": "'weight'",
     "output_type": "error",
     "traceback": [
      "\u001b[1;31m---------------------------------------------------------------------------\u001b[0m",
      "\u001b[1;31mKeyError\u001b[0m                                  Traceback (most recent call last)",
      "\u001b[1;32m~\\AppData\\Local\\Temp\\ipykernel_14788\\241080136.py\u001b[0m in \u001b[0;36m<module>\u001b[1;34m\u001b[0m\n\u001b[1;32m----> 1\u001b[1;33m \u001b[0msData\u001b[0m\u001b[1;33m[\u001b[0m\u001b[1;34m\"weight\"\u001b[0m\u001b[1;33m]\u001b[0m \u001b[1;31m# error\u001b[0m\u001b[1;33m\u001b[0m\u001b[1;33m\u001b[0m\u001b[0m\n\u001b[0m",
      "\u001b[1;31mKeyError\u001b[0m: 'weight'"
     ]
    }
   ],
   "source": [
    "sData[\"weight\"] # error "
   ]
  },
  {
   "cell_type": "code",
   "execution_count": 95,
   "id": "736cf1d2",
   "metadata": {},
   "outputs": [
    {
     "name": "stdout",
     "output_type": "stream",
     "text": [
      "Not exist\n"
     ]
    }
   ],
   "source": [
    "if \"weight\" in sData.keys():\n",
    "    print(sData[\"weight\"])\n",
    "else :\n",
    "    print(\"Not exist\")"
   ]
  },
  {
   "cell_type": "code",
   "execution_count": 96,
   "id": "c58d2ea0",
   "metadata": {},
   "outputs": [
    {
     "name": "stdout",
     "output_type": "stream",
     "text": [
      "None\n"
     ]
    }
   ],
   "source": [
    "print(sData.get(\"weight\"))"
   ]
  },
  {
   "cell_type": "code",
   "execution_count": 97,
   "id": "83609fcb",
   "metadata": {},
   "outputs": [
    {
     "data": {
      "text/plain": [
       "80"
      ]
     },
     "execution_count": 97,
     "metadata": {},
     "output_type": "execute_result"
    }
   ],
   "source": [
    "sData.get(\"weight\", 80)"
   ]
  },
  {
   "cell_type": "code",
   "execution_count": 98,
   "id": "a1d543eb",
   "metadata": {},
   "outputs": [
    {
     "name": "stdout",
     "output_type": "stream",
     "text": [
      "Mahmoud\n",
      "None\n",
      "90.5\n"
     ]
    }
   ],
   "source": [
    "print(sData.get(\"name\"))\n",
    "print(sData.get(\"weight\"))\n",
    "print(sData.get(\"weight\", 90.5))"
   ]
  },
  {
   "cell_type": "code",
   "execution_count": null,
   "id": "cf42e310",
   "metadata": {},
   "outputs": [],
   "source": []
  },
  {
   "cell_type": "code",
   "execution_count": 99,
   "id": "b86ae127",
   "metadata": {},
   "outputs": [],
   "source": [
    "d1 = {\"1\": 1, \"2\" : 2}\n",
    "dCopy1 = d1.copy()\n",
    "dCopy1 = {\"1\": 1, \"2\" : 2}\n",
    "\n",
    "dCopy2 = d1 = {\"1\": 1, \"2\" : 2}"
   ]
  },
  {
   "cell_type": "code",
   "execution_count": null,
   "id": "e062ddc6",
   "metadata": {},
   "outputs": [],
   "source": []
  },
  {
   "cell_type": "code",
   "execution_count": 104,
   "id": "b380e236",
   "metadata": {},
   "outputs": [
    {
     "data": {
      "text/plain": [
       "{'1': 1, '2': 2, '3': 3}"
      ]
     },
     "execution_count": 104,
     "metadata": {},
     "output_type": "execute_result"
    }
   ],
   "source": [
    "a={'1': 1, '2': 2, '3': 3} \n",
    "a"
   ]
  },
  {
   "cell_type": "code",
   "execution_count": 116,
   "id": "06b31f0b",
   "metadata": {},
   "outputs": [
    {
     "data": {
      "text/plain": [
       "{'1': 1, '2': 2, '3': 3.0, '4': 4, '5': 5}"
      ]
     },
     "execution_count": 116,
     "metadata": {},
     "output_type": "execute_result"
    }
   ],
   "source": [
    "a.update({'3': 3.0, '4': 4, '5': 5})\n",
    "a"
   ]
  },
  {
   "cell_type": "code",
   "execution_count": null,
   "id": "5b323081",
   "metadata": {},
   "outputs": [],
   "source": []
  },
  {
   "cell_type": "code",
   "execution_count": 117,
   "id": "8c16e33b",
   "metadata": {},
   "outputs": [
    {
     "name": "stdout",
     "output_type": "stream",
     "text": [
      "{'1': 1, '2': 2, '3': 3}\n",
      "{'3': 3.0, '4': 4, '5': 5}\n"
     ]
    }
   ],
   "source": [
    "d1={'1':1,\"2\":2,'3':3}\n",
    "d2={'3':3.0,'4':4,'5':5}\n",
    "print(d1)\n",
    "print(d2)"
   ]
  },
  {
   "cell_type": "code",
   "execution_count": 112,
   "id": "3f816fb0",
   "metadata": {},
   "outputs": [
    {
     "data": {
      "text/plain": [
       "{'1': 1, '2': 2, '3': 3.0, '4': 4, '5': 5}"
      ]
     },
     "execution_count": 112,
     "metadata": {},
     "output_type": "execute_result"
    }
   ],
   "source": [
    "d1.update(d2)\n",
    "d1"
   ]
  },
  {
   "cell_type": "code",
   "execution_count": 118,
   "id": "736f9674",
   "metadata": {},
   "outputs": [],
   "source": [
    "d1.update({\"6\" : 6 , \"7\" : 7})"
   ]
  },
  {
   "cell_type": "code",
   "execution_count": 119,
   "id": "c080ee83",
   "metadata": {},
   "outputs": [
    {
     "data": {
      "text/plain": [
       "{'1': 1, '2': 2, '3': 3, '6': 6, '7': 7}"
      ]
     },
     "execution_count": 119,
     "metadata": {},
     "output_type": "execute_result"
    }
   ],
   "source": [
    "d1"
   ]
  },
  {
   "cell_type": "code",
   "execution_count": 120,
   "id": "67b36871",
   "metadata": {},
   "outputs": [
    {
     "name": "stdout",
     "output_type": "stream",
     "text": [
      "{'1': 1, '2': 'two', '3': 3, '6': 6.5, '7': 7, '8': 8}\n"
     ]
    }
   ],
   "source": [
    "d1.update({\"2\" : \"two\", \"6\":6.5, \"8\":8})\n",
    "print(d1)"
   ]
  },
  {
   "cell_type": "code",
   "execution_count": 121,
   "id": "c0987510",
   "metadata": {},
   "outputs": [
    {
     "name": "stdout",
     "output_type": "stream",
     "text": [
      "{'1': 1, '2': 'two', '3': 3, '6': 6.5, '7': 7, '8': 8, 2: 'three'}\n"
     ]
    }
   ],
   "source": [
    "d1.update({ 2 : \"three\"})\n",
    "print(d1)"
   ]
  },
  {
   "cell_type": "code",
   "execution_count": 122,
   "id": "406af9df",
   "metadata": {},
   "outputs": [
    {
     "name": "stdout",
     "output_type": "stream",
     "text": [
      "{'1': 1, '2': 'two', '3': 3, '6': 6.5, '7': 7, '8': 8, 2: 'three', 'two': 2, 'Two': 2}\n"
     ]
    }
   ],
   "source": [
    "d1.update({\"two\" : 2 , \"Two\" : 2})\n",
    "print(d1)"
   ]
  },
  {
   "cell_type": "code",
   "execution_count": 123,
   "id": "ca210fb0",
   "metadata": {},
   "outputs": [
    {
     "name": "stdout",
     "output_type": "stream",
     "text": [
      "{'1': 1, '2': 'two', '3': 3, '6': 6.5, '7': 7, '8': 8, 2: 'three', 'two': 3, 'Two': 2}\n"
     ]
    }
   ],
   "source": [
    "d1.update({\"two\" : 2 , \"two\" : 3})\n",
    "print(d1)"
   ]
  },
  {
   "cell_type": "code",
   "execution_count": 124,
   "id": "83d721a9",
   "metadata": {},
   "outputs": [],
   "source": [
    "dict_ = {\n",
    "         (1,2) : [\"Mahmoud\", \"Ahmad\", \"Hamza\"], \n",
    "         (3,4) : [\"Muna\", \"Rama\"]\n",
    "         }"
   ]
  },
  {
   "cell_type": "code",
   "execution_count": 126,
   "id": "d9f073d9",
   "metadata": {},
   "outputs": [
    {
     "data": {
      "text/plain": [
       "{(1, 2): ['Mahmoud', 'Ahmad', 'Hamza'], (3, 4): ['Muna', 'Rama']}"
      ]
     },
     "execution_count": 126,
     "metadata": {},
     "output_type": "execute_result"
    }
   ],
   "source": [
    "dict_"
   ]
  },
  {
   "cell_type": "code",
   "execution_count": 127,
   "id": "36a96705",
   "metadata": {},
   "outputs": [
    {
     "data": {
      "text/plain": [
       "['Mahmoud', 'Ahmad', 'Hamza']"
      ]
     },
     "execution_count": 127,
     "metadata": {},
     "output_type": "execute_result"
    }
   ],
   "source": [
    "dict_[(1,2)]"
   ]
  },
  {
   "cell_type": "code",
   "execution_count": null,
   "id": "df87de90",
   "metadata": {},
   "outputs": [],
   "source": []
  },
  {
   "cell_type": "code",
   "execution_count": 128,
   "id": "982d54bd",
   "metadata": {},
   "outputs": [],
   "source": [
    "studentData =    [\n",
    "    \n",
    "     {\"name\" : \"Mahmoud\",\n",
    "      \"age\": 25,\n",
    "      \"gpa\":83.1,\n",
    "      \"marks\": [100, 89, 79, 95, 99] } \n",
    "      \n",
    "      ,\n",
    "      \n",
    "     {\"name\" : \"Ahmad\",\n",
    "      \"age\": 30,\n",
    "      \"gpa\":93.3,\n",
    "      \"marks\": [99, 89, 79, 95, 77]}\n",
    "      \n",
    "      ,\n",
    "      \n",
    "     {\"name\" : \"Susu\",\n",
    "      \"age\": 20,\n",
    "      \"gpa\":87.0,\n",
    "      \"marks\": [80, 89, 79, 75, 99]} \n",
    "     \n",
    "    ]"
   ]
  },
  {
   "cell_type": "code",
   "execution_count": 130,
   "id": "27c68f29",
   "metadata": {},
   "outputs": [
    {
     "data": {
      "text/plain": [
       "[{'name': 'Mahmoud', 'age': 25, 'gpa': 83.1, 'marks': [100, 89, 79, 95, 99]},\n",
       " {'name': 'Ahmad', 'age': 30, 'gpa': 93.3, 'marks': [99, 89, 79, 95, 77]},\n",
       " {'name': 'Susu', 'age': 20, 'gpa': 87.0, 'marks': [80, 89, 79, 75, 99]}]"
      ]
     },
     "execution_count": 130,
     "metadata": {},
     "output_type": "execute_result"
    }
   ],
   "source": [
    "studentData"
   ]
  },
  {
   "cell_type": "code",
   "execution_count": 131,
   "id": "3d07e8a3",
   "metadata": {},
   "outputs": [
    {
     "data": {
      "text/plain": [
       "{'name': 'Mahmoud', 'age': 25, 'gpa': 83.1, 'marks': [100, 89, 79, 95, 99]}"
      ]
     },
     "execution_count": 131,
     "metadata": {},
     "output_type": "execute_result"
    }
   ],
   "source": [
    "studentData[0]"
   ]
  },
  {
   "cell_type": "code",
   "execution_count": 132,
   "id": "cde97545",
   "metadata": {},
   "outputs": [
    {
     "data": {
      "text/plain": [
       "'Mahmoud'"
      ]
     },
     "execution_count": 132,
     "metadata": {},
     "output_type": "execute_result"
    }
   ],
   "source": [
    "studentData[0]['name']"
   ]
  },
  {
   "cell_type": "code",
   "execution_count": 133,
   "id": "eadc40af",
   "metadata": {},
   "outputs": [
    {
     "data": {
      "text/plain": [
       "'Ahmad'"
      ]
     },
     "execution_count": 133,
     "metadata": {},
     "output_type": "execute_result"
    }
   ],
   "source": [
    "studentData[1]['name']"
   ]
  },
  {
   "cell_type": "code",
   "execution_count": 134,
   "id": "cc08f621",
   "metadata": {},
   "outputs": [
    {
     "name": "stdout",
     "output_type": "stream",
     "text": [
      "Mahmoud\n",
      "Ahmad\n",
      "Susu\n"
     ]
    }
   ],
   "source": [
    "for d in studentData:\n",
    "  print(d.get(\"name\"))"
   ]
  },
  {
   "cell_type": "code",
   "execution_count": null,
   "id": "aea668a7",
   "metadata": {},
   "outputs": [],
   "source": []
  },
  {
   "cell_type": "code",
   "execution_count": 135,
   "id": "88e7c380",
   "metadata": {},
   "outputs": [
    {
     "name": "stdout",
     "output_type": "stream",
     "text": [
      "1 -  Mahmoud\n",
      "2 -  Ahmad\n",
      "3 -  Susu\n"
     ]
    }
   ],
   "source": [
    "for i in range(1, len(studentData) + 1):\n",
    "  print(i, \"- \", studentData[i-1][\"name\"])"
   ]
  },
  {
   "cell_type": "code",
   "execution_count": null,
   "id": "8984a231",
   "metadata": {},
   "outputs": [],
   "source": []
  },
  {
   "cell_type": "code",
   "execution_count": null,
   "id": "93ec7139",
   "metadata": {},
   "outputs": [],
   "source": []
  },
  {
   "cell_type": "code",
   "execution_count": 138,
   "id": "fcf24984",
   "metadata": {},
   "outputs": [
    {
     "data": {
      "text/plain": [
       "{'name': 'Mahmoud', 'age': 25, 'gpa': 83.1, 'marks': [100, 89, 79, 95, 99]}"
      ]
     },
     "execution_count": 138,
     "metadata": {},
     "output_type": "execute_result"
    }
   ],
   "source": [
    "# Access to keys in the dictionary by index\n",
    "# 1- Access to any dictionary in the list.  e.g. first dictionary\n",
    "\n",
    "studentData[0]\n",
    "\n"
   ]
  },
  {
   "cell_type": "code",
   "execution_count": 139,
   "id": "b2f7f4d3",
   "metadata": {},
   "outputs": [
    {
     "data": {
      "text/plain": [
       "dict_keys(['name', 'age', 'gpa', 'marks'])"
      ]
     },
     "execution_count": 139,
     "metadata": {},
     "output_type": "execute_result"
    }
   ],
   "source": [
    "# 2- Access to the keys in the dictionary\n",
    "studentData[0].keys()\n",
    "\n"
   ]
  },
  {
   "cell_type": "code",
   "execution_count": 141,
   "id": "686b8b13",
   "metadata": {},
   "outputs": [
    {
     "data": {
      "text/plain": [
       "['name', 'age', 'gpa', 'marks']"
      ]
     },
     "execution_count": 141,
     "metadata": {},
     "output_type": "execute_result"
    }
   ],
   "source": [
    "# 3- Casting return value to the list\n",
    "list(studentData[0].keys())\n",
    "\n"
   ]
  },
  {
   "cell_type": "code",
   "execution_count": 142,
   "id": "a19239d2",
   "metadata": {},
   "outputs": [
    {
     "data": {
      "text/plain": [
       "'gpa'"
      ]
     },
     "execution_count": 142,
     "metadata": {},
     "output_type": "execute_result"
    }
   ],
   "source": [
    "# Access to element of the list of keys by index\n",
    "list(studentData[0].keys())[-2]"
   ]
  },
  {
   "cell_type": "code",
   "execution_count": 143,
   "id": "b7daf728",
   "metadata": {},
   "outputs": [
    {
     "name": "stdout",
     "output_type": "stream",
     "text": [
      "name    Mahmoud\n",
      "age    25\n",
      "gpa    83.1\n",
      "marks    [100, 89, 79, 95, 99]\n",
      "===============\n",
      "name    Ahmad\n",
      "age    30\n",
      "gpa    93.3\n",
      "marks    [99, 89, 79, 95, 77]\n",
      "===============\n",
      "name    Susu\n",
      "age    20\n",
      "gpa    87.0\n",
      "marks    [80, 89, 79, 75, 99]\n",
      "===============\n"
     ]
    }
   ],
   "source": [
    "# Print keys and values for all dictionaries in the list\n",
    "# Use dict.items() \n",
    "\n",
    "for d in studentData:\n",
    "  for k, v in d.items():\n",
    "    print(k, \"  \", v)\n",
    "  \n",
    "  print(\"=\" * 15)"
   ]
  },
  {
   "cell_type": "code",
   "execution_count": null,
   "id": "4f491d2e",
   "metadata": {},
   "outputs": [],
   "source": []
  },
  {
   "cell_type": "code",
   "execution_count": 144,
   "id": "e0087089",
   "metadata": {},
   "outputs": [
    {
     "name": "stdout",
     "output_type": "stream",
     "text": [
      "[83.1, 93.3, 87.0]\n"
     ]
    }
   ],
   "source": [
    "# Create and print list of all gpa values\n",
    "\n",
    "list_gpa = []\n",
    "\n",
    "for d in studentData:\n",
    "  list_gpa.append(d[\"gpa\"])\n",
    "\n",
    "print(list_gpa)"
   ]
  },
  {
   "cell_type": "code",
   "execution_count": 147,
   "id": "7a66bb01",
   "metadata": {},
   "outputs": [
    {
     "name": "stdout",
     "output_type": "stream",
     "text": [
      "[]\n"
     ]
    }
   ],
   "source": [
    "list_all_marks = []\n",
    "\n",
    "for d in studentData:\n",
    "    list_all_marks + d[\"marks\"]\n",
    "  # list_all_marks.append(d[\"marks\"])\n",
    "print(list_all_marks)"
   ]
  },
  {
   "cell_type": "code",
   "execution_count": null,
   "id": "f6026c08",
   "metadata": {},
   "outputs": [],
   "source": []
  },
  {
   "cell_type": "code",
   "execution_count": null,
   "id": "97b97e1d",
   "metadata": {},
   "outputs": [],
   "source": []
  }
 ],
 "metadata": {
  "kernelspec": {
   "display_name": "Python 3 (ipykernel)",
   "language": "python",
   "name": "python3"
  },
  "language_info": {
   "codemirror_mode": {
    "name": "ipython",
    "version": 3
   },
   "file_extension": ".py",
   "mimetype": "text/x-python",
   "name": "python",
   "nbconvert_exporter": "python",
   "pygments_lexer": "ipython3",
   "version": "3.9.13"
  }
 },
 "nbformat": 4,
 "nbformat_minor": 5
}

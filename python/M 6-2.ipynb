{
 "cells": [
  {
   "cell_type": "code",
   "execution_count": 18,
   "id": "848647fe",
   "metadata": {},
   "outputs": [],
   "source": [
    "import numpy as np"
   ]
  },
  {
   "cell_type": "code",
   "execution_count": 19,
   "id": "7f8e7d2b",
   "metadata": {},
   "outputs": [],
   "source": [
    "listcolors1=\"Red,Green,Blue,\""
   ]
  },
  {
   "cell_type": "code",
   "execution_count": 20,
   "id": "f5a882aa",
   "metadata": {},
   "outputs": [
    {
     "name": "stdout",
     "output_type": "stream",
     "text": [
      "['Red,Green,Blue,']\n"
     ]
    }
   ],
   "source": [
    "print(listcolors1.split())"
   ]
  },
  {
   "cell_type": "code",
   "execution_count": 21,
   "id": "1c83acc6",
   "metadata": {},
   "outputs": [
    {
     "name": "stdout",
     "output_type": "stream",
     "text": [
      "['Red', 'Green', 'Blue', '']\n"
     ]
    }
   ],
   "source": [
    "print(listcolors1.split(\",\"))"
   ]
  },
  {
   "cell_type": "code",
   "execution_count": null,
   "id": "14d4df83",
   "metadata": {},
   "outputs": [],
   "source": []
  },
  {
   "cell_type": "code",
   "execution_count": 22,
   "id": "bd185b0c",
   "metadata": {},
   "outputs": [],
   "source": [
    "day=\"sun$day,mon$day,tuse$day,\""
   ]
  },
  {
   "cell_type": "code",
   "execution_count": 23,
   "id": "8b41f2e2",
   "metadata": {},
   "outputs": [
    {
     "data": {
      "text/plain": [
       "['sun', 'day,mon', 'day,tuse', 'day,']"
      ]
     },
     "execution_count": 23,
     "metadata": {},
     "output_type": "execute_result"
    }
   ],
   "source": [
    "day.split(\"$\")"
   ]
  },
  {
   "cell_type": "code",
   "execution_count": null,
   "id": "c1188928",
   "metadata": {},
   "outputs": [],
   "source": []
  },
  {
   "cell_type": "code",
   "execution_count": null,
   "id": "cae4d5a1",
   "metadata": {},
   "outputs": [],
   "source": []
  },
  {
   "cell_type": "code",
   "execution_count": 24,
   "id": "fe049cd3",
   "metadata": {},
   "outputs": [
    {
     "data": {
      "text/plain": [
       "'_'"
      ]
     },
     "execution_count": 24,
     "metadata": {},
     "output_type": "execute_result"
    }
   ],
   "source": [
    "listcolors1.join(\"_\")"
   ]
  },
  {
   "cell_type": "code",
   "execution_count": null,
   "id": "ddb28e37",
   "metadata": {},
   "outputs": [],
   "source": []
  },
  {
   "cell_type": "code",
   "execution_count": null,
   "id": "71b3b8b4",
   "metadata": {},
   "outputs": [],
   "source": []
  },
  {
   "cell_type": "markdown",
   "id": "b5323783",
   "metadata": {},
   "source": [
    "## list"
   ]
  },
  {
   "cell_type": "code",
   "execution_count": 27,
   "id": "e324dc2f",
   "metadata": {},
   "outputs": [],
   "source": [
    "nums=[1,2,3,4,5,6,7,8,9,10]\n",
    "f=['App','Ora','Bana','Blu']\n",
    "data=['Mahmoud',25,'CIS',83.1]"
   ]
  },
  {
   "cell_type": "code",
   "execution_count": 29,
   "id": "e47f4791",
   "metadata": {},
   "outputs": [
    {
     "data": {
      "text/plain": [
       "[8, 9]"
      ]
     },
     "execution_count": 29,
     "metadata": {},
     "output_type": "execute_result"
    }
   ],
   "source": [
    "nums[-3:-1]"
   ]
  },
  {
   "cell_type": "code",
   "execution_count": 30,
   "id": "d4c20629",
   "metadata": {},
   "outputs": [],
   "source": [
    "q=[1,4,6,7]\n",
    "q.append([7,7,8])"
   ]
  },
  {
   "cell_type": "code",
   "execution_count": 31,
   "id": "de222dc5",
   "metadata": {},
   "outputs": [
    {
     "data": {
      "text/plain": [
       "[1, 4, 6, 7, [7, 7, 8]]"
      ]
     },
     "execution_count": 31,
     "metadata": {},
     "output_type": "execute_result"
    }
   ],
   "source": [
    "q"
   ]
  },
  {
   "cell_type": "code",
   "execution_count": null,
   "id": "6faf543f",
   "metadata": {},
   "outputs": [],
   "source": []
  }
 ],
 "metadata": {
  "kernelspec": {
   "display_name": "Python 3 (ipykernel)",
   "language": "python",
   "name": "python3"
  },
  "language_info": {
   "codemirror_mode": {
    "name": "ipython",
    "version": 3
   },
   "file_extension": ".py",
   "mimetype": "text/x-python",
   "name": "python",
   "nbconvert_exporter": "python",
   "pygments_lexer": "ipython3",
   "version": "3.9.13"
  }
 },
 "nbformat": 4,
 "nbformat_minor": 5
}

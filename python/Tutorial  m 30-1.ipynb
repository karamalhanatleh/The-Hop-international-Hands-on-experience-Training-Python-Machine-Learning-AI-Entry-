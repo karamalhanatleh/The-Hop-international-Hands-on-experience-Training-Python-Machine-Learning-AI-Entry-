{
 "cells": [
  {
   "cell_type": "markdown",
   "id": "a76647b2",
   "metadata": {},
   "source": [
    "# Monday 30/01/2023"
   ]
  },
  {
   "cell_type": "markdown",
   "id": "13c0de8b",
   "metadata": {},
   "source": [
    "## Basic Syntax"
   ]
  },
  {
   "cell_type": "code",
   "execution_count": 24,
   "id": "367ca8a8",
   "metadata": {},
   "outputs": [
    {
     "name": "stdout",
     "output_type": "stream",
     "text": [
      "AA 'b' \n"
     ]
    }
   ],
   "source": [
    "print(\"AA 'b' \")"
   ]
  },
  {
   "cell_type": "code",
   "execution_count": 25,
   "id": "5c2bc210",
   "metadata": {},
   "outputs": [
    {
     "name": "stdout",
     "output_type": "stream",
     "text": [
      "welcome to Machine Learning Course\n"
     ]
    }
   ],
   "source": [
    "print(\"welcome to Machine Learning Course\")"
   ]
  },
  {
   "cell_type": "code",
   "execution_count": 26,
   "id": "f5167a12",
   "metadata": {},
   "outputs": [
    {
     "name": "stdout",
     "output_type": "stream",
     "text": [
      "welcome to Machine Learning Course\n"
     ]
    }
   ],
   "source": [
    "print(\"welcome\", 'to' , 'Machine', 'Learning', 'Course' )"
   ]
  },
  {
   "cell_type": "code",
   "execution_count": 27,
   "id": "6a7d0c4c",
   "metadata": {},
   "outputs": [
    {
     "name": "stdout",
     "output_type": "stream",
     "text": [
      "welcome   to   Machine   Learning   Course\n"
     ]
    }
   ],
   "source": [
    "print(\"welcome\", 'to' , 'Machine', 'Learning', 'Course' ,sep=\"   \")"
   ]
  },
  {
   "cell_type": "code",
   "execution_count": 28,
   "id": "09d453f8",
   "metadata": {},
   "outputs": [
    {
     "name": "stdout",
     "output_type": "stream",
     "text": [
      "welcome#to#Machine#Learning#Course\n"
     ]
    }
   ],
   "source": [
    "print(\"welcome\", 'to' , 'Machine', 'Learning', 'Course'  ,sep=\"#\")"
   ]
  },
  {
   "cell_type": "code",
   "execution_count": 29,
   "id": "bdc100c7",
   "metadata": {},
   "outputs": [
    {
     "name": "stdout",
     "output_type": "stream",
     "text": [
      "welcometoMachineLearningCourse\n"
     ]
    }
   ],
   "source": [
    "print(\"welcome\"+ 'to' + 'Machine'+ 'Learning'+ 'Course' )"
   ]
  },
  {
   "cell_type": "code",
   "execution_count": 30,
   "id": "b23a69e3",
   "metadata": {},
   "outputs": [
    {
     "name": "stdout",
     "output_type": "stream",
     "text": [
      "welcometoMachineLearningCourse-TEST\n"
     ]
    }
   ],
   "source": [
    "print(\"welcome\"+ 'to' + 'Machine'+ 'Learning'+ 'Course',\"TEST\" , sep=\"-\" )"
   ]
  },
  {
   "cell_type": "code",
   "execution_count": 31,
   "id": "4e480ade",
   "metadata": {},
   "outputs": [
    {
     "name": "stdout",
     "output_type": "stream",
     "text": [
      "welcometoMachineLearningCourse\n",
      "welcometoMachineLearningCourse\n",
      "welcometoMachineLearningCourse\n"
     ]
    }
   ],
   "source": [
    "print(\"welcome\"+ 'to' + 'Machine'+ 'Learning'+ 'Course' ,end=\"\\n\" )\n",
    "print(\"welcome\"+ 'to' + 'Machine'+ 'Learning'+ 'Course' ,end=\"\\n\")\n",
    "print(\"welcome\"+ 'to' + 'Machine'+ 'Learning'+ 'Course', end=\"\\n\")"
   ]
  },
  {
   "cell_type": "code",
   "execution_count": 32,
   "id": "ae3f0aaa",
   "metadata": {},
   "outputs": [
    {
     "name": "stdout",
     "output_type": "stream",
     "text": [
      "welcometoMachineLearningCourse    welcometoMachineLearningCourse\n",
      "welcometoMachineLearningCourse\n"
     ]
    }
   ],
   "source": [
    "print(\"welcome\"+ 'to' + 'Machine'+ 'Learning'+ 'Course' ,end=\"    \" )\n",
    "print(\"welcome\"+ 'to' + 'Machine'+ 'Learning'+ 'Course' ,end=\"\\n\")\n",
    "print(\"welcome\"+ 'to' + 'Machine'+ 'Learning'+ 'Course', end=\"\\n\")"
   ]
  },
  {
   "cell_type": "code",
   "execution_count": 33,
   "id": "eb7ea392",
   "metadata": {},
   "outputs": [
    {
     "name": "stdout",
     "output_type": "stream",
     "text": [
      "welcometoMachineLearningCourse    welcometoMachineLearningCourse\n",
      "welcometoMachineLearningCourse\n"
     ]
    }
   ],
   "source": [
    "print(\"welcome\"+ 'to' + 'Machine'+ 'Learning'+ 'Course' ,end=\"    \" )\n",
    "print(\"welcome\"+ 'to' + 'Machine'+ 'Learning'+ 'Course' ,end=\"\\n\")\n",
    "print(\"welcome\"+ 'to' + 'Machine'+ 'Learning'+ 'Course', end=\"\\n\")"
   ]
  },
  {
   "cell_type": "code",
   "execution_count": 34,
   "id": "f1a8a0c3",
   "metadata": {},
   "outputs": [
    {
     "name": "stdout",
     "output_type": "stream",
     "text": [
      "welcometoMachineLearningCourse    welcometoMachineLearningCourse\n",
      "nwelcometoMachineLearningCourse\n"
     ]
    }
   ],
   "source": [
    "print(\"welcome\"+ 'to' + 'Machine'+ 'Learning'+ 'Course' ,end=\"    \" )\n",
    "print(\"welcome\"+ 'to' + 'Machine'+ 'Learning'+ 'Course' ,end=\"\\nn\")\n",
    "print(\"welcome\"+ 'to' + 'Machine'+ 'Learning'+ 'Course', end=\"\\n\")"
   ]
  },
  {
   "cell_type": "code",
   "execution_count": 35,
   "id": "1e806606",
   "metadata": {},
   "outputs": [
    {
     "name": "stdout",
     "output_type": "stream",
     "text": [
      "44\n"
     ]
    },
    {
     "data": {
      "text/plain": [
       "'44'"
      ]
     },
     "execution_count": 35,
     "metadata": {},
     "output_type": "execute_result"
    }
   ],
   "source": [
    "input()"
   ]
  },
  {
   "cell_type": "code",
   "execution_count": 36,
   "id": "7e1d8f01",
   "metadata": {},
   "outputs": [
    {
     "name": "stdout",
     "output_type": "stream",
     "text": [
      "enter you name44\n"
     ]
    },
    {
     "data": {
      "text/plain": [
       "'44'"
      ]
     },
     "execution_count": 36,
     "metadata": {},
     "output_type": "execute_result"
    }
   ],
   "source": [
    "input(\"enter you name\")"
   ]
  },
  {
   "cell_type": "code",
   "execution_count": 37,
   "id": "b7aced05",
   "metadata": {},
   "outputs": [
    {
     "name": "stdout",
     "output_type": "stream",
     "text": [
      "enter you age\n"
     ]
    },
    {
     "data": {
      "text/plain": [
       "''"
      ]
     },
     "execution_count": 37,
     "metadata": {},
     "output_type": "execute_result"
    }
   ],
   "source": [
    "input(\"enter you age\")"
   ]
  },
  {
   "cell_type": "code",
   "execution_count": null,
   "id": "7159dc90",
   "metadata": {},
   "outputs": [],
   "source": []
  },
  {
   "cell_type": "markdown",
   "id": "406ea732",
   "metadata": {},
   "source": [
    "## Comment"
   ]
  },
  {
   "cell_type": "code",
   "execution_count": 39,
   "id": "6f12a2ef",
   "metadata": {},
   "outputs": [
    {
     "name": "stdout",
     "output_type": "stream",
     "text": [
      "76\n"
     ]
    },
    {
     "data": {
      "text/plain": [
       "'76'"
      ]
     },
     "execution_count": 39,
     "metadata": {},
     "output_type": "execute_result"
    }
   ],
   "source": [
    "#input for age\n",
    "input()"
   ]
  },
  {
   "cell_type": "code",
   "execution_count": 40,
   "id": "258f2d79",
   "metadata": {},
   "outputs": [],
   "source": [
    "#print(\"hi\")"
   ]
  },
  {
   "cell_type": "code",
   "execution_count": null,
   "id": "9ebe9aa2",
   "metadata": {},
   "outputs": [],
   "source": []
  },
  {
   "cell_type": "code",
   "execution_count": null,
   "id": "f66cffec",
   "metadata": {},
   "outputs": [],
   "source": []
  },
  {
   "cell_type": "markdown",
   "id": "57b30b9d",
   "metadata": {},
   "source": [
    "## Variables"
   ]
  },
  {
   "cell_type": "code",
   "execution_count": 41,
   "id": "e926fcc4",
   "metadata": {},
   "outputs": [],
   "source": [
    "x=5"
   ]
  },
  {
   "cell_type": "code",
   "execution_count": 42,
   "id": "a3565c3d",
   "metadata": {},
   "outputs": [],
   "source": [
    "X=Y=5"
   ]
  },
  {
   "cell_type": "code",
   "execution_count": 43,
   "id": "d765937e",
   "metadata": {},
   "outputs": [
    {
     "data": {
      "text/plain": [
       "5"
      ]
     },
     "execution_count": 43,
     "metadata": {},
     "output_type": "execute_result"
    }
   ],
   "source": [
    "Y"
   ]
  },
  {
   "cell_type": "code",
   "execution_count": 50,
   "id": "37476ffb",
   "metadata": {},
   "outputs": [],
   "source": [
    "a,b,c=70,'76',55.5"
   ]
  },
  {
   "cell_type": "code",
   "execution_count": 49,
   "id": "ecd9e40c",
   "metadata": {},
   "outputs": [
    {
     "data": {
      "text/plain": [
       "70"
      ]
     },
     "execution_count": 49,
     "metadata": {},
     "output_type": "execute_result"
    }
   ],
   "source": [
    "a"
   ]
  },
  {
   "cell_type": "code",
   "execution_count": 51,
   "id": "7c54d376",
   "metadata": {},
   "outputs": [
    {
     "data": {
      "text/plain": [
       "76"
      ]
     },
     "execution_count": 51,
     "metadata": {},
     "output_type": "execute_result"
    }
   ],
   "source": [
    "int(b)"
   ]
  },
  {
   "cell_type": "code",
   "execution_count": null,
   "id": "d14729b9",
   "metadata": {},
   "outputs": [],
   "source": []
  },
  {
   "cell_type": "code",
   "execution_count": null,
   "id": "4ffda277",
   "metadata": {},
   "outputs": [],
   "source": []
  },
  {
   "cell_type": "markdown",
   "id": "423f5839",
   "metadata": {},
   "source": [
    "## Data Types"
   ]
  },
  {
   "cell_type": "code",
   "execution_count": 47,
   "id": "a3579d89",
   "metadata": {},
   "outputs": [
    {
     "data": {
      "text/plain": [
       "str"
      ]
     },
     "execution_count": 47,
     "metadata": {},
     "output_type": "execute_result"
    }
   ],
   "source": [
    "type(\"ASD\")"
   ]
  },
  {
   "cell_type": "code",
   "execution_count": 55,
   "id": "7cf1f644",
   "metadata": {},
   "outputs": [],
   "source": [
    "a,b=32,'215'"
   ]
  },
  {
   "cell_type": "code",
   "execution_count": 56,
   "id": "c791507f",
   "metadata": {},
   "outputs": [
    {
     "data": {
      "text/plain": [
       "str"
      ]
     },
     "execution_count": 56,
     "metadata": {},
     "output_type": "execute_result"
    }
   ],
   "source": [
    "type(b)"
   ]
  },
  {
   "cell_type": "code",
   "execution_count": 57,
   "id": "bf5e987d",
   "metadata": {},
   "outputs": [
    {
     "ename": "ValueError",
     "evalue": "invalid literal for int() with base 10: '21.5'",
     "output_type": "error",
     "traceback": [
      "\u001b[1;31m---------------------------------------------------------------------------\u001b[0m",
      "\u001b[1;31mValueError\u001b[0m                                Traceback (most recent call last)",
      "\u001b[1;32m~\\AppData\\Local\\Temp\\ipykernel_13204\\3956108814.py\u001b[0m in \u001b[0;36m<module>\u001b[1;34m\u001b[0m\n\u001b[1;32m----> 1\u001b[1;33m \u001b[0mint\u001b[0m\u001b[1;33m(\u001b[0m\u001b[0mb\u001b[0m\u001b[1;33m)\u001b[0m\u001b[1;33m\u001b[0m\u001b[1;33m\u001b[0m\u001b[0m\n\u001b[0m",
      "\u001b[1;31mValueError\u001b[0m: invalid literal for int() with base 10: '21.5'"
     ]
    }
   ],
   "source": [
    "int(b)"
   ]
  },
  {
   "cell_type": "code",
   "execution_count": 58,
   "id": "71ab5d50",
   "metadata": {},
   "outputs": [
    {
     "ename": "ValueError",
     "evalue": "invalid literal for int() with base 10: '50.0'",
     "output_type": "error",
     "traceback": [
      "\u001b[1;31m---------------------------------------------------------------------------\u001b[0m",
      "\u001b[1;31mValueError\u001b[0m                                Traceback (most recent call last)",
      "\u001b[1;32m~\\AppData\\Local\\Temp\\ipykernel_13204\\2276726499.py\u001b[0m in \u001b[0;36m<module>\u001b[1;34m\u001b[0m\n\u001b[1;32m----> 1\u001b[1;33m \u001b[0mint\u001b[0m\u001b[1;33m(\u001b[0m\u001b[1;34m\"50.0\"\u001b[0m\u001b[1;33m)\u001b[0m\u001b[1;33m\u001b[0m\u001b[1;33m\u001b[0m\u001b[0m\n\u001b[0m",
      "\u001b[1;31mValueError\u001b[0m: invalid literal for int() with base 10: '50.0'"
     ]
    }
   ],
   "source": [
    "int(\"50.0\")"
   ]
  },
  {
   "cell_type": "code",
   "execution_count": 59,
   "id": "2e195e5d",
   "metadata": {},
   "outputs": [
    {
     "data": {
      "text/plain": [
       "60"
      ]
     },
     "execution_count": 59,
     "metadata": {},
     "output_type": "execute_result"
    }
   ],
   "source": [
    "int(float(\"60.4\"))"
   ]
  },
  {
   "cell_type": "code",
   "execution_count": 60,
   "id": "a1996675",
   "metadata": {},
   "outputs": [
    {
     "data": {
      "text/plain": [
       "60.9"
      ]
     },
     "execution_count": 60,
     "metadata": {},
     "output_type": "execute_result"
    }
   ],
   "source": [
    "d='60.9'\n",
    "float(d)"
   ]
  },
  {
   "cell_type": "code",
   "execution_count": null,
   "id": "3cc9fe52",
   "metadata": {},
   "outputs": [],
   "source": []
  },
  {
   "cell_type": "code",
   "execution_count": null,
   "id": "21adb117",
   "metadata": {},
   "outputs": [],
   "source": []
  }
 ],
 "metadata": {
  "kernelspec": {
   "display_name": "Python 3 (ipykernel)",
   "language": "python",
   "name": "python3"
  },
  "language_info": {
   "codemirror_mode": {
    "name": "ipython",
    "version": 3
   },
   "file_extension": ".py",
   "mimetype": "text/x-python",
   "name": "python",
   "nbconvert_exporter": "python",
   "pygments_lexer": "ipython3",
   "version": "3.9.13"
  }
 },
 "nbformat": 4,
 "nbformat_minor": 5
}
